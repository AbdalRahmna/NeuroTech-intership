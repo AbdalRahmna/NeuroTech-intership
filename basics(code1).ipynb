{
 "cells": [
  {
   "cell_type": "code",
   "execution_count": 1,
   "id": "70c084bd-d529-417c-97e3-395e3e079edd",
   "metadata": {},
   "outputs": [
    {
     "data": {
      "text/html": [
       "\n",
       "<style>\n",
       "  h2 {\n",
       "    font-size: var(--j3p-content-font-size4);\n",
       "    background-color:#00FF00  ;\n",
       "    color: white;\n",
       "    display: flex;\n",
       "    align-items: center;\n",
       "    justify-content: center;\n",
       "    padding: 10px 41px;\n",
       "    top: 10px;\n",
       "    position: relative;\n",
       "    border-radius: 10px 50px 10px 50px;\n",
       "}\n",
       "\n",
       " img {       /* flex-grow: 1; */\n",
       "            /* flex-shrink: 1; */\n",
       "            border-radius: 100px 70px 150px 70px; \n",
       "            border: 10px solid #eee;\n",
       "            display: flex;\n",
       "            align-items: center;\n",
       "            justify-content: center;\n",
       "            transition: box-shadow 0.3s ease; /* Add a transition for a smooth effect */\n",
       "        }\n",
       "\n",
       "       img:active {\n",
       "          box-shadow: 0 10px 20px rgba(255, 255, 0, 0.5), 0 6px 6px rgba(215, 215, 0, 0.5);\n",
       "        }\n",
       "</style>\n"
      ],
      "text/plain": [
       "<IPython.core.display.HTML object>"
      ]
     },
     "execution_count": 1,
     "metadata": {},
     "output_type": "execute_result"
    }
   ],
   "source": [
    "from IPython.core.display import HTML\n",
    "# Apply styles globally within the notebook\n",
    "HTML('''\n",
    "<style>\n",
    "  h2 {\n",
    "    font-size: var(--j3p-content-font-size4);\n",
    "    background-color:#00FF00  ;\n",
    "    color: white;\n",
    "    display: flex;\n",
    "    align-items: center;\n",
    "    justify-content: center;\n",
    "    padding: 10px 41px;\n",
    "    top: 10px;\n",
    "    position: relative;\n",
    "    border-radius: 10px 50px 10px 50px;\n",
    "}\n",
    "\n",
    " img {       /* flex-grow: 1; */\n",
    "            /* flex-shrink: 1; */\n",
    "            border-radius: 100px 70px 150px 70px; \n",
    "            border: 10px solid #eee;\n",
    "            display: flex;\n",
    "            align-items: center;\n",
    "            justify-content: center;\n",
    "            transition: box-shadow 0.3s ease; /* Add a transition for a smooth effect */\n",
    "        }\n",
    "\n",
    "       img:active {\n",
    "          box-shadow: 0 10px 20px rgba(255, 255, 0, 0.5), 0 6px 6px rgba(215, 215, 0, 0.5);\n",
    "        }\n",
    "</style>\n",
    "''') "
   ]
  },
  {
   "cell_type": "markdown",
   "id": "a3d267a5-639e-46bc-9c33-d8cedf67a464",
   "metadata": {},
   "source": [
    "## Data Types "
   ]
  },
  {
   "cell_type": "code",
   "execution_count": 2,
   "id": "4db2805b-05e2-42c2-8f47-3f911c3096b7",
   "metadata": {},
   "outputs": [
    {
     "name": "stdout",
     "output_type": "stream",
     "text": [
      "complete list -->>  [1, 2, 3, 4, 5, 100]\n",
      "first item -->> 1\n",
      "third number -->> 4\n",
      "6\n",
      "--------------------------------------------------\n",
      "Tuple -->> (30, 40, 50, 100)\n",
      "first item in tuple -->> 30\n",
      "last item in the tuple -->> 100\n",
      "- 50\n",
      "--------------------------------------------------\n",
      "my name isAhmed my age is25\n"
     ]
    }
   ],
   "source": [
    "## list :\n",
    "x=[1,2,3,4,5]\n",
    "x.append(100)\n",
    "print(\"complete list -->> \",x)\n",
    "print(\"first item -->>\",x[0])\n",
    "print(\"third number -->>\",x[3])\n",
    "print(len(x))\n",
    "print(\"-\"*50)\n",
    "\n",
    "## Tuple :\n",
    "\n",
    "y=(30,40,50,100)\n",
    "print(\"Tuple -->>\",y)\n",
    "print(\"first item in tuple -->>\",y[0])\n",
    "print(\"last item in the tuple -->>\",y[-1])\n",
    "\n",
    "print(\"-\",50)\n",
    "\n",
    "## sets :\n",
    "\n",
    "s=set()\n",
    "s.add(1)\n",
    "s.remove(1)\n",
    "print(\"-\"*50)\n",
    "\n",
    "## Dictionary :\n",
    "\n",
    "d={\n",
    "    \"Name\":\"Ahmed\",\n",
    "    \"Age\":25\n",
    "}\n",
    "\n",
    "print(\"my name is\"+ d[\"Name\"],\"my age is\" + str(d[\"Age\"]))\n"
   ]
  },
  {
   "cell_type": "code",
   "execution_count": 3,
   "id": "5fe728fa-4c5e-421f-bce6-b81ba28a0bed",
   "metadata": {},
   "outputs": [
    {
     "name": "stdout",
     "output_type": "stream",
     "text": [
      "False\n",
      "True\n",
      "False\n",
      "True\n"
     ]
    }
   ],
   "source": [
    "# bolian :\n",
    "A=6\n",
    "B=7\n",
    "print(A>B)\n",
    "print(B>A)\n",
    "print(A==B)\n",
    "print(A!=B)"
   ]
  },
  {
   "cell_type": "code",
   "execution_count": 4,
   "id": "a718a1a4-8d53-4b5e-8f23-270617335130",
   "metadata": {},
   "outputs": [
    {
     "name": "stdout",
     "output_type": "stream",
     "text": [
      "True\n",
      "False\n",
      "False\n",
      "True\n",
      "True\n",
      "False\n"
     ]
    }
   ],
   "source": [
    "print(True & True);print(True & False);print(False & False)\n",
    "print(True or True);print(True or False);print(False or False)"
   ]
  },
  {
   "cell_type": "markdown",
   "id": "a1d81d4d-b746-4b2e-bec2-f05b45151970",
   "metadata": {},
   "source": [
    "## Mathmaticals operations :"
   ]
  },
  {
   "cell_type": "code",
   "execution_count": 5,
   "id": "9a71de7b-3e23-4dac-9890-27c59f3d9715",
   "metadata": {},
   "outputs": [
    {
     "name": "stdout",
     "output_type": "stream",
     "text": [
      "sum -->> 12\n",
      "div -->> 5.0\n",
      "modelus -->> 2\n",
      "power -->> 100\n"
     ]
    }
   ],
   "source": [
    "x,y,z=10,2,5\n",
    "print(\"sum -->>\",x+y)\n",
    "print(\"div -->>\",x/y)\n",
    "print(\"modelus -->>\",x//z)\n",
    "print(\"power -->>\",x**y)\n"
   ]
  },
  {
   "cell_type": "code",
   "execution_count": 6,
   "id": "a6cf246e-7180-4212-9ae2-c0b34edfd37e",
   "metadata": {},
   "outputs": [
    {
     "name": "stdout",
     "output_type": "stream",
     "text": [
      "h\n",
      "he\n",
      "hell\n",
      "hello with Capt\n"
     ]
    }
   ],
   "source": [
    "t=\"hello\"\n",
    "t1=\"hello with Captiain Edwrd\"\n",
    "print(t[0]);print(t[0:2]);print(t[-5:-1]);print(t1[0:-10])"
   ]
  },
  {
   "cell_type": "code",
   "execution_count": 2,
   "id": "2d47f3b0-0761-4da3-b761-80ba7534f213",
   "metadata": {},
   "outputs": [
    {
     "name": "stdout",
     "output_type": "stream",
     "text": [
      "[4, 5, 2]\n"
     ]
    }
   ],
   "source": [
    "l=[5,3,6,4,2,6,5,1,4]\n",
    "print(l[8:2:-2])   # the last number for skipping steps "
   ]
  },
  {
   "cell_type": "markdown",
   "id": "a7397b9d-76c0-48d7-8e62-1ac056dc781b",
   "metadata": {},
   "source": [
    "## Some inputs & strings :"
   ]
  },
  {
   "cell_type": "code",
   "execution_count": 8,
   "id": "5f6cf09e-0d4f-4bba-bf06-0c3003bbf8c0",
   "metadata": {},
   "outputs": [
    {
     "name": "stdin",
     "output_type": "stream",
     "text": [
      "Whats your Name ? AbdalRhman\n"
     ]
    },
    {
     "name": "stdout",
     "output_type": "stream",
     "text": [
      "My name is : AbdalRhman\n"
     ]
    }
   ],
   "source": [
    "x=input(\"Whats your Name ?\")\n",
    "print(\"My name is :\",x)"
   ]
  },
  {
   "cell_type": "code",
   "execution_count": 9,
   "id": "af348ab7-05f6-423b-a82e-5b6639539226",
   "metadata": {},
   "outputs": [
    {
     "name": "stdin",
     "output_type": "stream",
     "text": [
      "enter num 1: 10\n",
      "enter num 2: 5\n"
     ]
    },
    {
     "name": "stdout",
     "output_type": "stream",
     "text": [
      "sum = 15.0\n"
     ]
    }
   ],
   "source": [
    "num1=float(input(\"enter num 1:\"))\n",
    "num2=float(input(\"enter num 2:\"))\n",
    "print(\"sum =\",num1+num2)\n"
   ]
  },
  {
   "cell_type": "code",
   "execution_count": 10,
   "id": "84d03b80-ff76-4c8d-89e6-6cb82fda5d54",
   "metadata": {},
   "outputs": [
    {
     "name": "stdout",
     "output_type": "stream",
     "text": [
      "AbdalRhamnAbdalRhamn\n"
     ]
    }
   ],
   "source": [
    "word=\"AbdalRhamn\"\n",
    "print(word*2)"
   ]
  },
  {
   "cell_type": "code",
   "execution_count": 11,
   "id": "0c8c98a6-51f7-498f-8755-fe1321fe0c8e",
   "metadata": {},
   "outputs": [
    {
     "data": {
      "text/plain": [
       "'My Name : AbdalRhman Gameel Ahmed Hebishy '"
      ]
     },
     "execution_count": 11,
     "metadata": {},
     "output_type": "execute_result"
    }
   ],
   "source": [
    "text=\"My Name : AbdalRhman Gameel Ahmed Hebishy $$$$\"\n",
    "text.replace((\"$\"),\"\")"
   ]
  },
  {
   "cell_type": "code",
   "execution_count": 12,
   "id": "d5ca3145-9dc6-4f84-b2e6-df86bd363da4",
   "metadata": {},
   "outputs": [
    {
     "name": "stdout",
     "output_type": "stream",
     "text": [
      " My Names AbdalRhamn , i come from cairo,\n",
      "my feiled is Ai \n",
      "\n",
      "--------------------------------------------------\n",
      "Hello\n",
      " \n",
      "World, im Abdo\n",
      " ,\n",
      "come from Egypt\n",
      "\n",
      "\n",
      "\n"
     ]
    }
   ],
   "source": [
    "print(\"\"\" My Names AbdalRhamn , i come from cairo,\n",
    "my feiled is Ai \n",
    "\"\"\")\n",
    "print(\"-\"*50)\n",
    "\n",
    "print(\"\"\"Hello\\n \n",
    "World, im Abdo\\n ,\n",
    "come from Egypt\\n\n",
    "\n",
    "\"\"\")"
   ]
  },
  {
   "cell_type": "code",
   "execution_count": 13,
   "id": "81d3b38b-4db0-4b82-b7b6-edf1644fd149",
   "metadata": {},
   "outputs": [
    {
     "name": "stdout",
     "output_type": "stream",
     "text": [
      "5\n",
      "6\n",
      "7\n",
      "8\n"
     ]
    }
   ],
   "source": [
    "x=[1,2,3,4]\n",
    "for i in x:\n",
    "    i+=4\n",
    "    print(i)    "
   ]
  },
  {
   "cell_type": "code",
   "execution_count": 14,
   "id": "b766a57f-678a-4c84-ba36-cef1fe8164d1",
   "metadata": {},
   "outputs": [
    {
     "name": "stdin",
     "output_type": "stream",
     "text": [
      "Enter num1 : 10\n",
      "Enter num2 : 10\n",
      "Enter num3 : 20\n",
      "Enter num4 : 30\n"
     ]
    },
    {
     "name": "stdout",
     "output_type": "stream",
     "text": [
      "number4 is biggest 30.0\n"
     ]
    }
   ],
   "source": [
    "number1=float(input(\"Enter num1 :\"))\n",
    "number2=float(input(\"Enter num2 :\"))\n",
    "number3=float(input(\"Enter num3 :\"))\n",
    "number4=float(input(\"Enter num4 :\"))\n",
    "\n",
    "if (number1 > number2) & (number1> number3) & (number1>number4) :\n",
    "       print(\"first number is biggest :\",number1)\n",
    "\n",
    "elif (number2 > number3) & (number2> number1) & (number2>number4) :\n",
    "       print(\"second number is biggest :\",number2)\n",
    "\n",
    "elif (number3 > number1) & (number3> number2) & (number3>number4) :\n",
    "\n",
    "       print(\"third number is biggest :\",number4)\n",
    "else:\n",
    "\n",
    "       print(\"number4 is biggest\",number4)"
   ]
  },
  {
   "cell_type": "code",
   "execution_count": 15,
   "id": "5927110d-620a-4275-bd69-eb9fdfaa641f",
   "metadata": {},
   "outputs": [
    {
     "name": "stdin",
     "output_type": "stream",
     "text": [
      "Enter num1 : 1\n",
      "Enter num2 : 6\n",
      "Enter num3 : 8\n",
      "Enter num4 : 8\n"
     ]
    },
    {
     "name": "stdout",
     "output_type": "stream",
     "text": [
      "number4\n"
     ]
    }
   ],
   "source": [
    "number1=float(input(\"Enter num1 :\"))\n",
    "number2=float(input(\"Enter num2 :\"))\n",
    "number3=float(input(\"Enter num3 :\"))\n",
    "number4=float(input(\"Enter num4 :\"))\n",
    "\n",
    "\n",
    "if (number1 > number2) & (number1> number4)  :\n",
    "    \n",
    "    if number1> number3 :\n",
    "        \n",
    "        print(\"number1\")\n",
    "    \n",
    "    elif (number2 >number3)  & (number2> number4)  & (number2 > number1) :\n",
    "        \n",
    "        print(\"number2\")\n",
    "\n",
    "    \n",
    "    elif (number3 >number2) & (number3> number1) & (number3 > number4) :\n",
    "        \n",
    "        print(\"number3\")\n",
    "\n",
    "else :\n",
    "    print(\"number4\")\n",
    "        "
   ]
  },
  {
   "cell_type": "code",
   "execution_count": 16,
   "id": "862e7505-e786-47d2-9844-f9d8c8d62205",
   "metadata": {},
   "outputs": [
    {
     "name": "stdout",
     "output_type": "stream",
     "text": [
      "Maximum number = 100\n",
      "Minimum number = 10\n"
     ]
    }
   ],
   "source": [
    "l=[10,15,20,100]\n",
    "max_num=max(l)\n",
    "min_num=min(l)\n",
    "print(\"Maximum number =\",max_num);print(\"Minimum number =\",min_num)"
   ]
  },
  {
   "cell_type": "code",
   "execution_count": 17,
   "id": "bd09217b-6e54-4daf-82a7-8eac1efe9e20",
   "metadata": {},
   "outputs": [
    {
     "name": "stdout",
     "output_type": "stream",
     "text": [
      "maximum number = 1000 \n",
      " minimum number = 2\n"
     ]
    }
   ],
   "source": [
    "l1=[5,2,100.0,4,5,1000]\n",
    "l1.sort()\n",
    "print(\"maximum number =\",l1[-1],\"\\n\",\"minimum number =\",l1[0])"
   ]
  },
  {
   "cell_type": "code",
   "execution_count": 18,
   "id": "9c093ed3-ea4c-4920-8495-e4b038c545b7",
   "metadata": {},
   "outputs": [
    {
     "name": "stdout",
     "output_type": "stream",
     "text": [
      "A-b-d-a-l-R-h-m-a-n- -G-a-m-e-e-l- -A-h-m-e-d- -H-e-b-i-s-h-y-"
     ]
    }
   ],
   "source": [
    "text1=\"AbdalRhman Gameel Ahmed Hebishy\"\n",
    "for i in text1 :\n",
    "    print(i,end=\"-\")"
   ]
  },
  {
   "cell_type": "code",
   "execution_count": 19,
   "id": "79e7e149-1d59-4ac0-8c2e-bc1440fd7f38",
   "metadata": {},
   "outputs": [
    {
     "name": "stdout",
     "output_type": "stream",
     "text": [
      "abdalrhman gameel ahmed hebishy\n",
      "ABDALRHMAN GAMEEL AHMED HEBISHY\n",
      "['AbdalRhman Gameel Ahmed Hebishy']\n"
     ]
    }
   ],
   "source": [
    "print(text1.lower());print(text1.upper());print(text1.split(\"-\"))"
   ]
  },
  {
   "cell_type": "code",
   "execution_count": 20,
   "id": "2fc1c321-c3d4-4529-b7ca-e9f94d84f3ff",
   "metadata": {},
   "outputs": [
    {
     "name": "stdout",
     "output_type": "stream",
     "text": [
      "['hello', ',', 'world']\n",
      "['hello , world']\n"
     ]
    }
   ],
   "source": [
    "stc =\"hello , world\"\n",
    "print(stc.split());print(stc.split(\"-\"))"
   ]
  },
  {
   "cell_type": "code",
   "execution_count": 21,
   "id": "1a07f80e-fbcf-450e-811c-8d34f9bc75dc",
   "metadata": {},
   "outputs": [
    {
     "data": {
      "text/plain": [
       "['hi', 'how', 'are', 'you']"
      ]
     },
     "execution_count": 21,
     "metadata": {},
     "output_type": "execute_result"
    }
   ],
   "source": [
    "t=\"hi/how are;you\"\n",
    "result = t.replace(\"/\", \" \").replace(\";\", \" \").split()\n",
    "result"
   ]
  },
  {
   "cell_type": "code",
   "execution_count": 22,
   "id": "2074f889-ac43-4e35-8af5-fa0c37e4bf78",
   "metadata": {},
   "outputs": [
    {
     "data": {
      "text/plain": [
       "['hi', 'how', 'are', 'you']"
      ]
     },
     "execution_count": 22,
     "metadata": {},
     "output_type": "execute_result"
    }
   ],
   "source": [
    "t = \"hi/how are;you\"\n",
    "result=\"\"\n",
    "for i in t:\n",
    "    if i == \"/\" or i == \";\":\n",
    "        result+=\" \" # increase space in result  \n",
    "        continue  \n",
    "    else:\n",
    "        result += i  \n",
    "result.split(\" \")"
   ]
  },
  {
   "cell_type": "markdown",
   "id": "7c210446-362a-4419-85d6-49f03252e564",
   "metadata": {},
   "source": [
    "## Created by AbdalRhman Gameel Ahmed Hebishy\n"
   ]
  },
  {
   "cell_type": "code",
   "execution_count": 2,
   "id": "859f802e-d739-4496-a7dd-ea23332d6dbb",
   "metadata": {},
   "outputs": [
    {
     "name": "stdout",
     "output_type": "stream",
     "text": [
      "Defaulting to user installation because normal site-packages is not writeable\n",
      "Collecting apyori\n",
      "  Downloading apyori-1.1.2.tar.gz (8.6 kB)\n",
      "  Preparing metadata (setup.py) ... \u001b[?25ldone\n",
      "\u001b[?25hBuilding wheels for collected packages: apyori\n",
      "  Building wheel for apyori (setup.py) ... \u001b[?25ldone\n",
      "\u001b[?25h  Created wheel for apyori: filename=apyori-1.1.2-py3-none-any.whl size=5955 sha256=1558bac687b398fa740f75ef734330b676e095ad973feb2b6dc99907e13490d3\n",
      "  Stored in directory: /home/abdalrahman/.cache/pip/wheels/1b/02/6c/a45230be8603bd95c0a51cd2b289aefdd860c1a100eab73661\n",
      "Successfully built apyori\n",
      "Installing collected packages: apyori\n",
      "Successfully installed apyori-1.1.2\n"
     ]
    }
   ],
   "source": [
    "! pip install apyori"
   ]
  },
  {
   "cell_type": "code",
   "execution_count": 3,
   "id": "d1f486a9-ecab-4191-a690-856f95e5deae",
   "metadata": {
    "scrolled": true
   },
   "outputs": [
    {
     "name": "stdout",
     "output_type": "stream",
     "text": [
      "Rule: RelationRecord(items=frozenset({'e'}), support=1.0, ordered_statistics=[OrderedStatistic(items_base=frozenset(), items_add=frozenset({'e'}), confidence=1.0, lift=1.0)])\n",
      "Rule: RelationRecord(items=frozenset({'G', 'e'}), support=0.5, ordered_statistics=[OrderedStatistic(items_base=frozenset({'G'}), items_add=frozenset({'e'}), confidence=1.0, lift=1.0)])\n",
      "Rule: RelationRecord(items=frozenset({'G', 'n'}), support=0.5, ordered_statistics=[OrderedStatistic(items_base=frozenset({'G'}), items_add=frozenset({'n'}), confidence=1.0, lift=2.0), OrderedStatistic(items_base=frozenset({'n'}), items_add=frozenset({'G'}), confidence=1.0, lift=2.0)])\n",
      "Rule: RelationRecord(items=frozenset({'G', 'r'}), support=0.5, ordered_statistics=[OrderedStatistic(items_base=frozenset({'G'}), items_add=frozenset({'r'}), confidence=1.0, lift=2.0), OrderedStatistic(items_base=frozenset({'r'}), items_add=frozenset({'G'}), confidence=1.0, lift=2.0)])\n",
      "Rule: RelationRecord(items=frozenset({'e', 'M'}), support=0.5, ordered_statistics=[OrderedStatistic(items_base=frozenset({'M'}), items_add=frozenset({'e'}), confidence=1.0, lift=1.0)])\n",
      "Rule: RelationRecord(items=frozenset({'i', 'M'}), support=0.5, ordered_statistics=[OrderedStatistic(items_base=frozenset({'M'}), items_add=frozenset({'i'}), confidence=1.0, lift=2.0), OrderedStatistic(items_base=frozenset({'i'}), items_add=frozenset({'M'}), confidence=1.0, lift=2.0)])\n",
      "Rule: RelationRecord(items=frozenset({'o', 'M'}), support=0.5, ordered_statistics=[OrderedStatistic(items_base=frozenset({'M'}), items_add=frozenset({'o'}), confidence=1.0, lift=2.0), OrderedStatistic(items_base=frozenset({'o'}), items_add=frozenset({'M'}), confidence=1.0, lift=2.0)])\n",
      "Rule: RelationRecord(items=frozenset({'v', 'M'}), support=0.5, ordered_statistics=[OrderedStatistic(items_base=frozenset({'M'}), items_add=frozenset({'v'}), confidence=1.0, lift=2.0), OrderedStatistic(items_base=frozenset({'v'}), items_add=frozenset({'M'}), confidence=1.0, lift=2.0)])\n",
      "Rule: RelationRecord(items=frozenset({'e', 'i'}), support=0.5, ordered_statistics=[OrderedStatistic(items_base=frozenset({'i'}), items_add=frozenset({'e'}), confidence=1.0, lift=1.0)])\n",
      "Rule: RelationRecord(items=frozenset({'e', 'n'}), support=0.5, ordered_statistics=[OrderedStatistic(items_base=frozenset({'n'}), items_add=frozenset({'e'}), confidence=1.0, lift=1.0)])\n",
      "Rule: RelationRecord(items=frozenset({'e', 'o'}), support=0.5, ordered_statistics=[OrderedStatistic(items_base=frozenset({'o'}), items_add=frozenset({'e'}), confidence=1.0, lift=1.0)])\n",
      "Rule: RelationRecord(items=frozenset({'e', 'r'}), support=0.5, ordered_statistics=[OrderedStatistic(items_base=frozenset({'r'}), items_add=frozenset({'e'}), confidence=1.0, lift=1.0)])\n",
      "Rule: RelationRecord(items=frozenset({'e', 'v'}), support=0.5, ordered_statistics=[OrderedStatistic(items_base=frozenset({'v'}), items_add=frozenset({'e'}), confidence=1.0, lift=1.0)])\n",
      "Rule: RelationRecord(items=frozenset({'o', 'i'}), support=0.5, ordered_statistics=[OrderedStatistic(items_base=frozenset({'i'}), items_add=frozenset({'o'}), confidence=1.0, lift=2.0), OrderedStatistic(items_base=frozenset({'o'}), items_add=frozenset({'i'}), confidence=1.0, lift=2.0)])\n",
      "Rule: RelationRecord(items=frozenset({'v', 'i'}), support=0.5, ordered_statistics=[OrderedStatistic(items_base=frozenset({'i'}), items_add=frozenset({'v'}), confidence=1.0, lift=2.0), OrderedStatistic(items_base=frozenset({'v'}), items_add=frozenset({'i'}), confidence=1.0, lift=2.0)])\n",
      "Rule: RelationRecord(items=frozenset({'n', 'r'}), support=0.5, ordered_statistics=[OrderedStatistic(items_base=frozenset({'n'}), items_add=frozenset({'r'}), confidence=1.0, lift=2.0), OrderedStatistic(items_base=frozenset({'r'}), items_add=frozenset({'n'}), confidence=1.0, lift=2.0)])\n",
      "Rule: RelationRecord(items=frozenset({'v', 'o'}), support=0.5, ordered_statistics=[OrderedStatistic(items_base=frozenset({'o'}), items_add=frozenset({'v'}), confidence=1.0, lift=2.0), OrderedStatistic(items_base=frozenset({'v'}), items_add=frozenset({'o'}), confidence=1.0, lift=2.0)])\n",
      "Rule: RelationRecord(items=frozenset({'G', 'n', 'e'}), support=0.5, ordered_statistics=[OrderedStatistic(items_base=frozenset({'G'}), items_add=frozenset({'e', 'n'}), confidence=1.0, lift=2.0), OrderedStatistic(items_base=frozenset({'n'}), items_add=frozenset({'G', 'e'}), confidence=1.0, lift=2.0), OrderedStatistic(items_base=frozenset({'G', 'e'}), items_add=frozenset({'n'}), confidence=1.0, lift=2.0), OrderedStatistic(items_base=frozenset({'G', 'n'}), items_add=frozenset({'e'}), confidence=1.0, lift=1.0), OrderedStatistic(items_base=frozenset({'e', 'n'}), items_add=frozenset({'G'}), confidence=1.0, lift=2.0)])\n",
      "Rule: RelationRecord(items=frozenset({'G', 'e', 'r'}), support=0.5, ordered_statistics=[OrderedStatistic(items_base=frozenset({'G'}), items_add=frozenset({'e', 'r'}), confidence=1.0, lift=2.0), OrderedStatistic(items_base=frozenset({'r'}), items_add=frozenset({'G', 'e'}), confidence=1.0, lift=2.0), OrderedStatistic(items_base=frozenset({'G', 'e'}), items_add=frozenset({'r'}), confidence=1.0, lift=2.0), OrderedStatistic(items_base=frozenset({'G', 'r'}), items_add=frozenset({'e'}), confidence=1.0, lift=1.0), OrderedStatistic(items_base=frozenset({'e', 'r'}), items_add=frozenset({'G'}), confidence=1.0, lift=2.0)])\n",
      "Rule: RelationRecord(items=frozenset({'G', 'n', 'r'}), support=0.5, ordered_statistics=[OrderedStatistic(items_base=frozenset({'G'}), items_add=frozenset({'n', 'r'}), confidence=1.0, lift=2.0), OrderedStatistic(items_base=frozenset({'n'}), items_add=frozenset({'G', 'r'}), confidence=1.0, lift=2.0), OrderedStatistic(items_base=frozenset({'r'}), items_add=frozenset({'G', 'n'}), confidence=1.0, lift=2.0), OrderedStatistic(items_base=frozenset({'G', 'n'}), items_add=frozenset({'r'}), confidence=1.0, lift=2.0), OrderedStatistic(items_base=frozenset({'G', 'r'}), items_add=frozenset({'n'}), confidence=1.0, lift=2.0), OrderedStatistic(items_base=frozenset({'n', 'r'}), items_add=frozenset({'G'}), confidence=1.0, lift=2.0)])\n",
      "Rule: RelationRecord(items=frozenset({'e', 'i', 'M'}), support=0.5, ordered_statistics=[OrderedStatistic(items_base=frozenset({'M'}), items_add=frozenset({'e', 'i'}), confidence=1.0, lift=2.0), OrderedStatistic(items_base=frozenset({'i'}), items_add=frozenset({'e', 'M'}), confidence=1.0, lift=2.0), OrderedStatistic(items_base=frozenset({'e', 'M'}), items_add=frozenset({'i'}), confidence=1.0, lift=2.0), OrderedStatistic(items_base=frozenset({'i', 'M'}), items_add=frozenset({'e'}), confidence=1.0, lift=1.0), OrderedStatistic(items_base=frozenset({'e', 'i'}), items_add=frozenset({'M'}), confidence=1.0, lift=2.0)])\n",
      "Rule: RelationRecord(items=frozenset({'e', 'o', 'M'}), support=0.5, ordered_statistics=[OrderedStatistic(items_base=frozenset({'M'}), items_add=frozenset({'e', 'o'}), confidence=1.0, lift=2.0), OrderedStatistic(items_base=frozenset({'o'}), items_add=frozenset({'e', 'M'}), confidence=1.0, lift=2.0), OrderedStatistic(items_base=frozenset({'e', 'M'}), items_add=frozenset({'o'}), confidence=1.0, lift=2.0), OrderedStatistic(items_base=frozenset({'o', 'M'}), items_add=frozenset({'e'}), confidence=1.0, lift=1.0), OrderedStatistic(items_base=frozenset({'e', 'o'}), items_add=frozenset({'M'}), confidence=1.0, lift=2.0)])\n",
      "Rule: RelationRecord(items=frozenset({'e', 'v', 'M'}), support=0.5, ordered_statistics=[OrderedStatistic(items_base=frozenset({'M'}), items_add=frozenset({'e', 'v'}), confidence=1.0, lift=2.0), OrderedStatistic(items_base=frozenset({'v'}), items_add=frozenset({'e', 'M'}), confidence=1.0, lift=2.0), OrderedStatistic(items_base=frozenset({'e', 'M'}), items_add=frozenset({'v'}), confidence=1.0, lift=2.0), OrderedStatistic(items_base=frozenset({'v', 'M'}), items_add=frozenset({'e'}), confidence=1.0, lift=1.0), OrderedStatistic(items_base=frozenset({'e', 'v'}), items_add=frozenset({'M'}), confidence=1.0, lift=2.0)])\n",
      "Rule: RelationRecord(items=frozenset({'o', 'i', 'M'}), support=0.5, ordered_statistics=[OrderedStatistic(items_base=frozenset({'M'}), items_add=frozenset({'o', 'i'}), confidence=1.0, lift=2.0), OrderedStatistic(items_base=frozenset({'i'}), items_add=frozenset({'o', 'M'}), confidence=1.0, lift=2.0), OrderedStatistic(items_base=frozenset({'o'}), items_add=frozenset({'i', 'M'}), confidence=1.0, lift=2.0), OrderedStatistic(items_base=frozenset({'i', 'M'}), items_add=frozenset({'o'}), confidence=1.0, lift=2.0), OrderedStatistic(items_base=frozenset({'o', 'M'}), items_add=frozenset({'i'}), confidence=1.0, lift=2.0), OrderedStatistic(items_base=frozenset({'o', 'i'}), items_add=frozenset({'M'}), confidence=1.0, lift=2.0)])\n",
      "Rule: RelationRecord(items=frozenset({'v', 'i', 'M'}), support=0.5, ordered_statistics=[OrderedStatistic(items_base=frozenset({'M'}), items_add=frozenset({'v', 'i'}), confidence=1.0, lift=2.0), OrderedStatistic(items_base=frozenset({'i'}), items_add=frozenset({'v', 'M'}), confidence=1.0, lift=2.0), OrderedStatistic(items_base=frozenset({'v'}), items_add=frozenset({'i', 'M'}), confidence=1.0, lift=2.0), OrderedStatistic(items_base=frozenset({'i', 'M'}), items_add=frozenset({'v'}), confidence=1.0, lift=2.0), OrderedStatistic(items_base=frozenset({'v', 'M'}), items_add=frozenset({'i'}), confidence=1.0, lift=2.0), OrderedStatistic(items_base=frozenset({'v', 'i'}), items_add=frozenset({'M'}), confidence=1.0, lift=2.0)])\n",
      "Rule: RelationRecord(items=frozenset({'v', 'o', 'M'}), support=0.5, ordered_statistics=[OrderedStatistic(items_base=frozenset({'M'}), items_add=frozenset({'v', 'o'}), confidence=1.0, lift=2.0), OrderedStatistic(items_base=frozenset({'o'}), items_add=frozenset({'v', 'M'}), confidence=1.0, lift=2.0), OrderedStatistic(items_base=frozenset({'v'}), items_add=frozenset({'o', 'M'}), confidence=1.0, lift=2.0), OrderedStatistic(items_base=frozenset({'o', 'M'}), items_add=frozenset({'v'}), confidence=1.0, lift=2.0), OrderedStatistic(items_base=frozenset({'v', 'M'}), items_add=frozenset({'o'}), confidence=1.0, lift=2.0), OrderedStatistic(items_base=frozenset({'v', 'o'}), items_add=frozenset({'M'}), confidence=1.0, lift=2.0)])\n",
      "Rule: RelationRecord(items=frozenset({'e', 'o', 'i'}), support=0.5, ordered_statistics=[OrderedStatistic(items_base=frozenset({'i'}), items_add=frozenset({'e', 'o'}), confidence=1.0, lift=2.0), OrderedStatistic(items_base=frozenset({'o'}), items_add=frozenset({'e', 'i'}), confidence=1.0, lift=2.0), OrderedStatistic(items_base=frozenset({'e', 'i'}), items_add=frozenset({'o'}), confidence=1.0, lift=2.0), OrderedStatistic(items_base=frozenset({'e', 'o'}), items_add=frozenset({'i'}), confidence=1.0, lift=2.0), OrderedStatistic(items_base=frozenset({'o', 'i'}), items_add=frozenset({'e'}), confidence=1.0, lift=1.0)])\n",
      "Rule: RelationRecord(items=frozenset({'e', 'v', 'i'}), support=0.5, ordered_statistics=[OrderedStatistic(items_base=frozenset({'i'}), items_add=frozenset({'e', 'v'}), confidence=1.0, lift=2.0), OrderedStatistic(items_base=frozenset({'v'}), items_add=frozenset({'e', 'i'}), confidence=1.0, lift=2.0), OrderedStatistic(items_base=frozenset({'e', 'i'}), items_add=frozenset({'v'}), confidence=1.0, lift=2.0), OrderedStatistic(items_base=frozenset({'e', 'v'}), items_add=frozenset({'i'}), confidence=1.0, lift=2.0), OrderedStatistic(items_base=frozenset({'v', 'i'}), items_add=frozenset({'e'}), confidence=1.0, lift=1.0)])\n",
      "Rule: RelationRecord(items=frozenset({'e', 'n', 'r'}), support=0.5, ordered_statistics=[OrderedStatistic(items_base=frozenset({'n'}), items_add=frozenset({'e', 'r'}), confidence=1.0, lift=2.0), OrderedStatistic(items_base=frozenset({'r'}), items_add=frozenset({'e', 'n'}), confidence=1.0, lift=2.0), OrderedStatistic(items_base=frozenset({'e', 'n'}), items_add=frozenset({'r'}), confidence=1.0, lift=2.0), OrderedStatistic(items_base=frozenset({'e', 'r'}), items_add=frozenset({'n'}), confidence=1.0, lift=2.0), OrderedStatistic(items_base=frozenset({'n', 'r'}), items_add=frozenset({'e'}), confidence=1.0, lift=1.0)])\n",
      "Rule: RelationRecord(items=frozenset({'e', 'v', 'o'}), support=0.5, ordered_statistics=[OrderedStatistic(items_base=frozenset({'o'}), items_add=frozenset({'e', 'v'}), confidence=1.0, lift=2.0), OrderedStatistic(items_base=frozenset({'v'}), items_add=frozenset({'e', 'o'}), confidence=1.0, lift=2.0), OrderedStatistic(items_base=frozenset({'e', 'o'}), items_add=frozenset({'v'}), confidence=1.0, lift=2.0), OrderedStatistic(items_base=frozenset({'e', 'v'}), items_add=frozenset({'o'}), confidence=1.0, lift=2.0), OrderedStatistic(items_base=frozenset({'v', 'o'}), items_add=frozenset({'e'}), confidence=1.0, lift=1.0)])\n",
      "Rule: RelationRecord(items=frozenset({'v', 'o', 'i'}), support=0.5, ordered_statistics=[OrderedStatistic(items_base=frozenset({'i'}), items_add=frozenset({'v', 'o'}), confidence=1.0, lift=2.0), OrderedStatistic(items_base=frozenset({'o'}), items_add=frozenset({'v', 'i'}), confidence=1.0, lift=2.0), OrderedStatistic(items_base=frozenset({'v'}), items_add=frozenset({'o', 'i'}), confidence=1.0, lift=2.0), OrderedStatistic(items_base=frozenset({'o', 'i'}), items_add=frozenset({'v'}), confidence=1.0, lift=2.0), OrderedStatistic(items_base=frozenset({'v', 'i'}), items_add=frozenset({'o'}), confidence=1.0, lift=2.0), OrderedStatistic(items_base=frozenset({'v', 'o'}), items_add=frozenset({'i'}), confidence=1.0, lift=2.0)])\n",
      "Rule: RelationRecord(items=frozenset({'G', 'n', 'e', 'r'}), support=0.5, ordered_statistics=[OrderedStatistic(items_base=frozenset({'G'}), items_add=frozenset({'e', 'n', 'r'}), confidence=1.0, lift=2.0), OrderedStatistic(items_base=frozenset({'n'}), items_add=frozenset({'G', 'e', 'r'}), confidence=1.0, lift=2.0), OrderedStatistic(items_base=frozenset({'r'}), items_add=frozenset({'G', 'n', 'e'}), confidence=1.0, lift=2.0), OrderedStatistic(items_base=frozenset({'G', 'e'}), items_add=frozenset({'n', 'r'}), confidence=1.0, lift=2.0), OrderedStatistic(items_base=frozenset({'G', 'n'}), items_add=frozenset({'e', 'r'}), confidence=1.0, lift=2.0), OrderedStatistic(items_base=frozenset({'G', 'r'}), items_add=frozenset({'e', 'n'}), confidence=1.0, lift=2.0), OrderedStatistic(items_base=frozenset({'e', 'n'}), items_add=frozenset({'G', 'r'}), confidence=1.0, lift=2.0), OrderedStatistic(items_base=frozenset({'e', 'r'}), items_add=frozenset({'G', 'n'}), confidence=1.0, lift=2.0), OrderedStatistic(items_base=frozenset({'n', 'r'}), items_add=frozenset({'G', 'e'}), confidence=1.0, lift=2.0), OrderedStatistic(items_base=frozenset({'G', 'n', 'e'}), items_add=frozenset({'r'}), confidence=1.0, lift=2.0), OrderedStatistic(items_base=frozenset({'G', 'e', 'r'}), items_add=frozenset({'n'}), confidence=1.0, lift=2.0), OrderedStatistic(items_base=frozenset({'G', 'n', 'r'}), items_add=frozenset({'e'}), confidence=1.0, lift=1.0), OrderedStatistic(items_base=frozenset({'e', 'n', 'r'}), items_add=frozenset({'G'}), confidence=1.0, lift=2.0)])\n",
      "Rule: RelationRecord(items=frozenset({'e', 'o', 'i', 'M'}), support=0.5, ordered_statistics=[OrderedStatistic(items_base=frozenset({'M'}), items_add=frozenset({'e', 'o', 'i'}), confidence=1.0, lift=2.0), OrderedStatistic(items_base=frozenset({'i'}), items_add=frozenset({'e', 'o', 'M'}), confidence=1.0, lift=2.0), OrderedStatistic(items_base=frozenset({'o'}), items_add=frozenset({'e', 'i', 'M'}), confidence=1.0, lift=2.0), OrderedStatistic(items_base=frozenset({'e', 'M'}), items_add=frozenset({'o', 'i'}), confidence=1.0, lift=2.0), OrderedStatistic(items_base=frozenset({'i', 'M'}), items_add=frozenset({'e', 'o'}), confidence=1.0, lift=2.0), OrderedStatistic(items_base=frozenset({'o', 'M'}), items_add=frozenset({'e', 'i'}), confidence=1.0, lift=2.0), OrderedStatistic(items_base=frozenset({'e', 'i'}), items_add=frozenset({'o', 'M'}), confidence=1.0, lift=2.0), OrderedStatistic(items_base=frozenset({'e', 'o'}), items_add=frozenset({'i', 'M'}), confidence=1.0, lift=2.0), OrderedStatistic(items_base=frozenset({'o', 'i'}), items_add=frozenset({'e', 'M'}), confidence=1.0, lift=2.0), OrderedStatistic(items_base=frozenset({'e', 'i', 'M'}), items_add=frozenset({'o'}), confidence=1.0, lift=2.0), OrderedStatistic(items_base=frozenset({'e', 'o', 'M'}), items_add=frozenset({'i'}), confidence=1.0, lift=2.0), OrderedStatistic(items_base=frozenset({'o', 'i', 'M'}), items_add=frozenset({'e'}), confidence=1.0, lift=1.0), OrderedStatistic(items_base=frozenset({'e', 'o', 'i'}), items_add=frozenset({'M'}), confidence=1.0, lift=2.0)])\n",
      "Rule: RelationRecord(items=frozenset({'e', 'v', 'i', 'M'}), support=0.5, ordered_statistics=[OrderedStatistic(items_base=frozenset({'M'}), items_add=frozenset({'e', 'v', 'i'}), confidence=1.0, lift=2.0), OrderedStatistic(items_base=frozenset({'i'}), items_add=frozenset({'e', 'v', 'M'}), confidence=1.0, lift=2.0), OrderedStatistic(items_base=frozenset({'v'}), items_add=frozenset({'e', 'i', 'M'}), confidence=1.0, lift=2.0), OrderedStatistic(items_base=frozenset({'e', 'M'}), items_add=frozenset({'v', 'i'}), confidence=1.0, lift=2.0), OrderedStatistic(items_base=frozenset({'i', 'M'}), items_add=frozenset({'e', 'v'}), confidence=1.0, lift=2.0), OrderedStatistic(items_base=frozenset({'v', 'M'}), items_add=frozenset({'e', 'i'}), confidence=1.0, lift=2.0), OrderedStatistic(items_base=frozenset({'e', 'i'}), items_add=frozenset({'v', 'M'}), confidence=1.0, lift=2.0), OrderedStatistic(items_base=frozenset({'e', 'v'}), items_add=frozenset({'i', 'M'}), confidence=1.0, lift=2.0), OrderedStatistic(items_base=frozenset({'v', 'i'}), items_add=frozenset({'e', 'M'}), confidence=1.0, lift=2.0), OrderedStatistic(items_base=frozenset({'e', 'i', 'M'}), items_add=frozenset({'v'}), confidence=1.0, lift=2.0), OrderedStatistic(items_base=frozenset({'e', 'v', 'M'}), items_add=frozenset({'i'}), confidence=1.0, lift=2.0), OrderedStatistic(items_base=frozenset({'v', 'i', 'M'}), items_add=frozenset({'e'}), confidence=1.0, lift=1.0), OrderedStatistic(items_base=frozenset({'e', 'v', 'i'}), items_add=frozenset({'M'}), confidence=1.0, lift=2.0)])\n",
      "Rule: RelationRecord(items=frozenset({'e', 'v', 'o', 'M'}), support=0.5, ordered_statistics=[OrderedStatistic(items_base=frozenset({'M'}), items_add=frozenset({'e', 'v', 'o'}), confidence=1.0, lift=2.0), OrderedStatistic(items_base=frozenset({'o'}), items_add=frozenset({'e', 'v', 'M'}), confidence=1.0, lift=2.0), OrderedStatistic(items_base=frozenset({'v'}), items_add=frozenset({'e', 'o', 'M'}), confidence=1.0, lift=2.0), OrderedStatistic(items_base=frozenset({'e', 'M'}), items_add=frozenset({'v', 'o'}), confidence=1.0, lift=2.0), OrderedStatistic(items_base=frozenset({'o', 'M'}), items_add=frozenset({'e', 'v'}), confidence=1.0, lift=2.0), OrderedStatistic(items_base=frozenset({'v', 'M'}), items_add=frozenset({'e', 'o'}), confidence=1.0, lift=2.0), OrderedStatistic(items_base=frozenset({'e', 'o'}), items_add=frozenset({'v', 'M'}), confidence=1.0, lift=2.0), OrderedStatistic(items_base=frozenset({'e', 'v'}), items_add=frozenset({'o', 'M'}), confidence=1.0, lift=2.0), OrderedStatistic(items_base=frozenset({'v', 'o'}), items_add=frozenset({'e', 'M'}), confidence=1.0, lift=2.0), OrderedStatistic(items_base=frozenset({'e', 'o', 'M'}), items_add=frozenset({'v'}), confidence=1.0, lift=2.0), OrderedStatistic(items_base=frozenset({'e', 'v', 'M'}), items_add=frozenset({'o'}), confidence=1.0, lift=2.0), OrderedStatistic(items_base=frozenset({'v', 'o', 'M'}), items_add=frozenset({'e'}), confidence=1.0, lift=1.0), OrderedStatistic(items_base=frozenset({'e', 'v', 'o'}), items_add=frozenset({'M'}), confidence=1.0, lift=2.0)])\n",
      "Rule: RelationRecord(items=frozenset({'v', 'o', 'i', 'M'}), support=0.5, ordered_statistics=[OrderedStatistic(items_base=frozenset({'M'}), items_add=frozenset({'v', 'o', 'i'}), confidence=1.0, lift=2.0), OrderedStatistic(items_base=frozenset({'i'}), items_add=frozenset({'v', 'o', 'M'}), confidence=1.0, lift=2.0), OrderedStatistic(items_base=frozenset({'o'}), items_add=frozenset({'v', 'i', 'M'}), confidence=1.0, lift=2.0), OrderedStatistic(items_base=frozenset({'v'}), items_add=frozenset({'o', 'i', 'M'}), confidence=1.0, lift=2.0), OrderedStatistic(items_base=frozenset({'i', 'M'}), items_add=frozenset({'v', 'o'}), confidence=1.0, lift=2.0), OrderedStatistic(items_base=frozenset({'o', 'M'}), items_add=frozenset({'v', 'i'}), confidence=1.0, lift=2.0), OrderedStatistic(items_base=frozenset({'v', 'M'}), items_add=frozenset({'o', 'i'}), confidence=1.0, lift=2.0), OrderedStatistic(items_base=frozenset({'o', 'i'}), items_add=frozenset({'v', 'M'}), confidence=1.0, lift=2.0), OrderedStatistic(items_base=frozenset({'v', 'i'}), items_add=frozenset({'o', 'M'}), confidence=1.0, lift=2.0), OrderedStatistic(items_base=frozenset({'v', 'o'}), items_add=frozenset({'i', 'M'}), confidence=1.0, lift=2.0), OrderedStatistic(items_base=frozenset({'o', 'i', 'M'}), items_add=frozenset({'v'}), confidence=1.0, lift=2.0), OrderedStatistic(items_base=frozenset({'v', 'i', 'M'}), items_add=frozenset({'o'}), confidence=1.0, lift=2.0), OrderedStatistic(items_base=frozenset({'v', 'o', 'M'}), items_add=frozenset({'i'}), confidence=1.0, lift=2.0), OrderedStatistic(items_base=frozenset({'v', 'o', 'i'}), items_add=frozenset({'M'}), confidence=1.0, lift=2.0)])\n",
      "Rule: RelationRecord(items=frozenset({'e', 'v', 'o', 'i'}), support=0.5, ordered_statistics=[OrderedStatistic(items_base=frozenset({'i'}), items_add=frozenset({'e', 'v', 'o'}), confidence=1.0, lift=2.0), OrderedStatistic(items_base=frozenset({'o'}), items_add=frozenset({'e', 'v', 'i'}), confidence=1.0, lift=2.0), OrderedStatistic(items_base=frozenset({'v'}), items_add=frozenset({'e', 'o', 'i'}), confidence=1.0, lift=2.0), OrderedStatistic(items_base=frozenset({'e', 'i'}), items_add=frozenset({'v', 'o'}), confidence=1.0, lift=2.0), OrderedStatistic(items_base=frozenset({'e', 'o'}), items_add=frozenset({'v', 'i'}), confidence=1.0, lift=2.0), OrderedStatistic(items_base=frozenset({'e', 'v'}), items_add=frozenset({'o', 'i'}), confidence=1.0, lift=2.0), OrderedStatistic(items_base=frozenset({'o', 'i'}), items_add=frozenset({'e', 'v'}), confidence=1.0, lift=2.0), OrderedStatistic(items_base=frozenset({'v', 'i'}), items_add=frozenset({'e', 'o'}), confidence=1.0, lift=2.0), OrderedStatistic(items_base=frozenset({'v', 'o'}), items_add=frozenset({'e', 'i'}), confidence=1.0, lift=2.0), OrderedStatistic(items_base=frozenset({'e', 'o', 'i'}), items_add=frozenset({'v'}), confidence=1.0, lift=2.0), OrderedStatistic(items_base=frozenset({'e', 'v', 'i'}), items_add=frozenset({'o'}), confidence=1.0, lift=2.0), OrderedStatistic(items_base=frozenset({'e', 'v', 'o'}), items_add=frozenset({'i'}), confidence=1.0, lift=2.0), OrderedStatistic(items_base=frozenset({'v', 'o', 'i'}), items_add=frozenset({'e'}), confidence=1.0, lift=1.0)])\n",
      "Rule: RelationRecord(items=frozenset({'v', 'M', 'e', 'i', 'o'}), support=0.5, ordered_statistics=[OrderedStatistic(items_base=frozenset({'M'}), items_add=frozenset({'e', 'v', 'o', 'i'}), confidence=1.0, lift=2.0), OrderedStatistic(items_base=frozenset({'i'}), items_add=frozenset({'e', 'v', 'o', 'M'}), confidence=1.0, lift=2.0), OrderedStatistic(items_base=frozenset({'o'}), items_add=frozenset({'e', 'v', 'i', 'M'}), confidence=1.0, lift=2.0), OrderedStatistic(items_base=frozenset({'v'}), items_add=frozenset({'e', 'o', 'i', 'M'}), confidence=1.0, lift=2.0), OrderedStatistic(items_base=frozenset({'e', 'M'}), items_add=frozenset({'v', 'o', 'i'}), confidence=1.0, lift=2.0), OrderedStatistic(items_base=frozenset({'i', 'M'}), items_add=frozenset({'e', 'v', 'o'}), confidence=1.0, lift=2.0), OrderedStatistic(items_base=frozenset({'o', 'M'}), items_add=frozenset({'e', 'v', 'i'}), confidence=1.0, lift=2.0), OrderedStatistic(items_base=frozenset({'v', 'M'}), items_add=frozenset({'e', 'o', 'i'}), confidence=1.0, lift=2.0), OrderedStatistic(items_base=frozenset({'e', 'i'}), items_add=frozenset({'v', 'o', 'M'}), confidence=1.0, lift=2.0), OrderedStatistic(items_base=frozenset({'e', 'o'}), items_add=frozenset({'v', 'i', 'M'}), confidence=1.0, lift=2.0), OrderedStatistic(items_base=frozenset({'e', 'v'}), items_add=frozenset({'o', 'i', 'M'}), confidence=1.0, lift=2.0), OrderedStatistic(items_base=frozenset({'o', 'i'}), items_add=frozenset({'e', 'v', 'M'}), confidence=1.0, lift=2.0), OrderedStatistic(items_base=frozenset({'v', 'i'}), items_add=frozenset({'e', 'o', 'M'}), confidence=1.0, lift=2.0), OrderedStatistic(items_base=frozenset({'v', 'o'}), items_add=frozenset({'e', 'i', 'M'}), confidence=1.0, lift=2.0), OrderedStatistic(items_base=frozenset({'e', 'i', 'M'}), items_add=frozenset({'v', 'o'}), confidence=1.0, lift=2.0), OrderedStatistic(items_base=frozenset({'e', 'o', 'M'}), items_add=frozenset({'v', 'i'}), confidence=1.0, lift=2.0), OrderedStatistic(items_base=frozenset({'e', 'v', 'M'}), items_add=frozenset({'o', 'i'}), confidence=1.0, lift=2.0), OrderedStatistic(items_base=frozenset({'o', 'i', 'M'}), items_add=frozenset({'e', 'v'}), confidence=1.0, lift=2.0), OrderedStatistic(items_base=frozenset({'v', 'i', 'M'}), items_add=frozenset({'e', 'o'}), confidence=1.0, lift=2.0), OrderedStatistic(items_base=frozenset({'v', 'o', 'M'}), items_add=frozenset({'e', 'i'}), confidence=1.0, lift=2.0), OrderedStatistic(items_base=frozenset({'e', 'o', 'i'}), items_add=frozenset({'v', 'M'}), confidence=1.0, lift=2.0), OrderedStatistic(items_base=frozenset({'e', 'v', 'i'}), items_add=frozenset({'o', 'M'}), confidence=1.0, lift=2.0), OrderedStatistic(items_base=frozenset({'e', 'v', 'o'}), items_add=frozenset({'i', 'M'}), confidence=1.0, lift=2.0), OrderedStatistic(items_base=frozenset({'v', 'o', 'i'}), items_add=frozenset({'e', 'M'}), confidence=1.0, lift=2.0), OrderedStatistic(items_base=frozenset({'e', 'o', 'i', 'M'}), items_add=frozenset({'v'}), confidence=1.0, lift=2.0), OrderedStatistic(items_base=frozenset({'e', 'v', 'i', 'M'}), items_add=frozenset({'o'}), confidence=1.0, lift=2.0), OrderedStatistic(items_base=frozenset({'e', 'v', 'o', 'M'}), items_add=frozenset({'i'}), confidence=1.0, lift=2.0), OrderedStatistic(items_base=frozenset({'v', 'o', 'i', 'M'}), items_add=frozenset({'e'}), confidence=1.0, lift=1.0), OrderedStatistic(items_base=frozenset({'e', 'v', 'o', 'i'}), items_add=frozenset({'M'}), confidence=1.0, lift=2.0)])\n"
     ]
    }
   ],
   "source": [
    "def movie_recommendation_system():\n",
    "    # Import required libraries\n",
    "    from apyori import apriori\n",
    "    import pandas as pd\n",
    "    import numpy as np\n",
    "    \n",
    "    # Sample movie data\n",
    "    movies = [\n",
    "        ['Action', 'Comedy'],\n",
    "        ['Romantic Comedy', 'Drama'],\n",
    "        ['Thriller', 'Mystery'],\n",
    "        ['Sci-Fi', 'Adventure'],\n",
    "        ['Horror', 'Suspense'],\n",
    "        ['Animated', 'Family']\n",
    "    ]\n",
    "    \n",
    "    df = pd.DataFrame(movies, columns=['Movie', 'Genre'])\n",
    "    \n",
    "    # Implement Apriori algorithm\n",
    "    rules = apriori(df, min_support=0.5, min_confidence=0.7)\n",
    "    \n",
    "    # Extract and display rules\n",
    "    for rule in rules:\n",
    "        print(f\"Rule: {rule}\")\n",
    "\n",
    "movie_recommendation_system()"
   ]
  },
  {
   "cell_type": "code",
   "execution_count": 7,
   "id": "a5bcbde1-049a-4c0f-89b3-f3f346249258",
   "metadata": {},
   "outputs": [
    {
     "name": "stdout",
     "output_type": "stream",
     "text": [
      "are\n"
     ]
    }
   ],
   "source": [
    "s=\"Hi how are you\"\n",
    "print(s[7:10])\n"
   ]
  },
  {
   "cell_type": "code",
   "execution_count": null,
   "id": "32cff0bc-91e0-444f-aaf2-3150f38aa5a4",
   "metadata": {},
   "outputs": [],
   "source": []
  }
 ],
 "metadata": {
  "kernelspec": {
   "display_name": "Python 3 (ipykernel)",
   "language": "python",
   "name": "python3"
  },
  "language_info": {
   "codemirror_mode": {
    "name": "ipython",
    "version": 3
   },
   "file_extension": ".py",
   "mimetype": "text/x-python",
   "name": "python",
   "nbconvert_exporter": "python",
   "pygments_lexer": "ipython3",
   "version": "3.8.10"
  }
 },
 "nbformat": 4,
 "nbformat_minor": 5
}
