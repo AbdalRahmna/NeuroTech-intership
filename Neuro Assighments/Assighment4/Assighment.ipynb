{
 "cells": [
  {
   "cell_type": "code",
   "execution_count": 1,
   "id": "cfd06b69-832c-4bed-ae51-881c4dd01b48",
   "metadata": {},
   "outputs": [
    {
     "data": {
      "text/html": [
       "\n",
       "<style>\n",
       "  h2 {\n",
       "    font-size: var(--j3p-content-font-size4);\n",
       "    background-color:#00FF00  ;\n",
       "    color: white;\n",
       "    display: flex;\n",
       "    align-items: center;\n",
       "    justify-content: center;\n",
       "    padding: 10px 41px;\n",
       "    top: 10px;\n",
       "    position: relative;\n",
       "    border-radius: 10px 50px 10px 50px;\n",
       "}\n",
       "\n",
       " img {       /* flex-grow: 1; */\n",
       "            /* flex-shrink: 1; */\n",
       "            border-radius: 100px 70px 150px 70px; \n",
       "            border: 10px solid #eee;\n",
       "            display: flex;\n",
       "            align-items: center;\n",
       "            justify-content: center;\n",
       "            transition: box-shadow 0.3s ease; /* Add a transition for a smooth effect */\n",
       "        }\n",
       "\n",
       "       img:active {\n",
       "          box-shadow: 0 10px 20px rgba(255, 255, 0, 0.5), 0 6px 6px rgba(215, 215, 0, 0.5);\n",
       "        }\n",
       "</style>\n"
      ],
      "text/plain": [
       "<IPython.core.display.HTML object>"
      ]
     },
     "execution_count": 1,
     "metadata": {},
     "output_type": "execute_result"
    }
   ],
   "source": [
    "from IPython.core.display import HTML\n",
    "\n",
    "# Apply styles globally within the notebook\n",
    "\n",
    "HTML('''\n",
    "<style>\n",
    "  h2 {\n",
    "    font-size: var(--j3p-content-font-size4);\n",
    "    background-color:#00FF00  ;\n",
    "    color: white;\n",
    "    display: flex;\n",
    "    align-items: center;\n",
    "    justify-content: center;\n",
    "    padding: 10px 41px;\n",
    "    top: 10px;\n",
    "    position: relative;\n",
    "    border-radius: 10px 50px 10px 50px;\n",
    "}\n",
    "\n",
    " img {       /* flex-grow: 1; */\n",
    "            /* flex-shrink: 1; */\n",
    "            border-radius: 100px 70px 150px 70px; \n",
    "            border: 10px solid #eee;\n",
    "            display: flex;\n",
    "            align-items: center;\n",
    "            justify-content: center;\n",
    "            transition: box-shadow 0.3s ease; /* Add a transition for a smooth effect */\n",
    "        }\n",
    "\n",
    "       img:active {\n",
    "          box-shadow: 0 10px 20px rgba(255, 255, 0, 0.5), 0 6px 6px rgba(215, 215, 0, 0.5);\n",
    "        }\n",
    "</style>\n",
    "''') "
   ]
  },
  {
   "cell_type": "markdown",
   "id": "06b328d0-adeb-44ea-98d8-2059b651d209",
   "metadata": {},
   "source": [
    "<img src=\"Neuro.jpg\" alt=\"My Image\">"
   ]
  },
  {
   "cell_type": "markdown",
   "id": "672ef1aa-3b1b-47f8-b3b4-73c6cd4c2eed",
   "metadata": {},
   "source": [
    "## Created By  : Eng/AbdalRhman Gameel Ahmed Hebishy \n",
    "\n",
    "\n",
    "<div style=\"border: 5px solid yellow; padding: 10px; background-color: #F5F5DC; color: blue; border-radius: 30px 45px 30px 45px;\">\n",
    "\n",
    "<p>&bull;  AbdalRhman Hebishy , DataScientist||Machine learning||Deeplearning Engineer .</p>\n",
    "\n",
    "<p>&bull; <a href=\"https://www.kaggle.com/abdalrhamnhebishy\" target=\"_blank\">Kaggle profile</a>.</p>\n",
    "\n",
    "<p>&bull; <a href=\"https://github.com/AbdalRahmna\" target=\"_blank\">Github profile</a>.</p>\n",
    "\n",
    "<p>&bull; <a href=\"https://www.linkedin.com/in/abdalrahman-hebishy-06465b254/\"_blank\">linkedin profile</a>.</p>\n",
    "\n",
    "\n",
    "</div>\n"
   ]
  },
  {
   "cell_type": "code",
   "execution_count": 2,
   "id": "3dd7b0e7-33f9-4af4-8ab2-6e3a3a574d29",
   "metadata": {},
   "outputs": [],
   "source": [
    "import numpy as np \n",
    "import pandas as pd\n",
    "import matplotlib.pyplot as plt \n",
    "import seaborn as sns "
   ]
  },
  {
   "cell_type": "markdown",
   "id": "81fd8c9a-05e8-478e-9bb8-0621cf9b5d63",
   "metadata": {},
   "source": [
    "<div style=\"border: 5px solid yellow; padding: 10px; background-color: #F5F5DC; color: blue; border-radius: 30px 45px 30px 45px;\">\n",
    "\n",
    "<p>1. Array Creation:\n",
    " - Write a NumPy code to create a 2D array of shape (4, 5) filled with random integers between\n",
    "10 and 50.</p>\n",
    "\n",
    "\n",
    "\n",
    "</div>"
   ]
  },
  {
   "cell_type": "code",
   "execution_count": 3,
   "id": "0aeaafb6-ff02-4a97-84cf-94ce36bf4159",
   "metadata": {},
   "outputs": [
    {
     "name": "stdout",
     "output_type": "stream",
     "text": [
      "2D Array (4, 5) filled with random integers between 10 and 50: [[20 18 35 50 49]\n",
      " [50 39 43 44 45]\n",
      " [26 18 13 28 27]\n",
      " [43 43 10 48 18]]\n"
     ]
    }
   ],
   "source": [
    "array_2d = np.random.randint(10, 51, size=(4, 5)) \n",
    "print(\"2D Array (4, 5) filled with random integers between 10 and 50:\",array_2d)\n"
   ]
  },
  {
   "cell_type": "markdown",
   "id": "3a71f7bc-3efb-4634-87b1-36573fbb17d8",
   "metadata": {},
   "source": [
    "<div style=\"border: 5px solid yellow; padding: 10px; background-color: #F5F5DC; color: blue; border-radius: 30px 45px 30px 45px;\">\n",
    "\n",
    "<p> - Create a 1D NumPy array of 20 evenly spaced values between 0 and 5.</p>\n",
    "\n",
    "</div>\n"
   ]
  },
  {
   "cell_type": "code",
   "execution_count": 4,
   "id": "d1dd8291-2382-498c-975f-7108b16ae5bc",
   "metadata": {},
   "outputs": [
    {
     "name": "stdout",
     "output_type": "stream",
     "text": [
      "\n",
      "1D Array of 20 evenly spaced values between 0 and 5: [0.         0.26315789 0.52631579 0.78947368 1.05263158 1.31578947\n",
      " 1.57894737 1.84210526 2.10526316 2.36842105 2.63157895 2.89473684\n",
      " 3.15789474 3.42105263 3.68421053 3.94736842 4.21052632 4.47368421\n",
      " 4.73684211 5.        ]\n"
     ]
    }
   ],
   "source": [
    "array_1d = np.linspace(0, 5, num=20)\n",
    "print(\"\\n1D Array of 20 evenly spaced values between 0 and 5:\",array_1d)"
   ]
  },
  {
   "cell_type": "markdown",
   "id": "e3209fcb-a418-4b58-b620-998d1afecaaa",
   "metadata": {},
   "source": [
    "<div style=\"border: 5px solid yellow; padding: 10px; background-color: #F5F5DC; color: blue; border-radius: 30px 45px 30px 45px;\">\n",
    "\n",
    "<p>2. Array Manipulation:\n",
    " - Given a 2D array `arr`, write a code to swap the first and last rows.\n",
    " - How would you flatten a 3D array into a 1D array using NumPy? </p>\n",
    "\n",
    "</div>\n"
   ]
  },
  {
   "cell_type": "code",
   "execution_count": 5,
   "id": "c5790f76-ab0a-46a3-b60a-9365a6432166",
   "metadata": {},
   "outputs": [
    {
     "name": "stdout",
     "output_type": "stream",
     "text": [
      "Original Array:\n",
      "[[ 1  2  3  4  5]\n",
      " [ 6  7  8  9 10]\n",
      " [11 12 13 14 15]\n",
      " [16 17 18 19 20]]\n",
      "\n",
      "Array after swapping the first and last rows:\n",
      "[[16 17 18 19 20]\n",
      " [ 6  7  8  9 10]\n",
      " [11 12 13 14 15]\n",
      " [ 1  2  3  4  5]]\n"
     ]
    }
   ],
   "source": [
    "\n",
    "arr = np.array([[1, 2, 3, 4, 5],\n",
    "                [6, 7, 8, 9, 10],\n",
    "                [11, 12, 13, 14, 15],\n",
    "                [16, 17, 18, 19, 20]])\n",
    "\n",
    "print(\"Original Array:\")\n",
    "print(arr)\n",
    "\n",
    "# Swap the first and last rows\n",
    "arr[[0, -1]] = arr[[-1, 0]]\n",
    "\n",
    "print(\"\\nArray after swapping the first and last rows:\")\n",
    "print(arr)"
   ]
  },
  {
   "cell_type": "code",
   "execution_count": 6,
   "id": "e2fd5a28-8f68-48ba-a5dd-cd45654993b2",
   "metadata": {},
   "outputs": [
    {
     "name": "stdout",
     "output_type": "stream",
     "text": [
      "Original 3D Array:\n",
      "[[[ 1  2  3]\n",
      "  [ 4  5  6]]\n",
      "\n",
      " [[ 7  8  9]\n",
      "  [10 11 12]]]\n",
      "\n",
      "Flattened 1D Array using flatten():\n",
      "[ 1  2  3  4  5  6  7  8  9 10 11 12]\n",
      "\n",
      "Flattened 1D Array using ravel():\n",
      "[ 1  2  3  4  5  6  7  8  9 10 11 12]\n"
     ]
    }
   ],
   "source": [
    "# Create a sample 3D array (for demonstration)\n",
    "array_3d = np.array([[[1, 2, 3], [4, 5, 6]], \n",
    "                      [[7, 8, 9], [10, 11, 12]]])\n",
    "\n",
    "print(\"Original 3D Array:\")\n",
    "print(array_3d)\n",
    "\n",
    "# Flatten the 3D array into a 1D array using flatten()\n",
    "flattened_array = array_3d.flatten()\n",
    "print(\"\\nFlattened 1D Array using flatten():\")\n",
    "print(flattened_array)\n",
    "\n",
    "flattened_array_ravel = array_3d.ravel()\n",
    "print(\"\\nFlattened 1D Array using ravel():\")\n",
    "print(flattened_array_ravel)"
   ]
  },
  {
   "cell_type": "markdown",
   "id": "77adbdb8-bad0-4725-91f7-434696fc3ddb",
   "metadata": {},
   "source": [
    "<div style=\"border: 5px solid yellow; padding: 10px; background-color: #F5F5DC; color: blue; border-radius: 30px 45px 30px 45px;\">\n",
    "\n",
    "<p>3. Array Indexing:\n",
    " - Write a code to extract all elements from a NumPy array that are greater than a specified\n",
    "value. </p>\n",
    "\n",
    "</div>\n"
   ]
  },
  {
   "cell_type": "code",
   "execution_count": 7,
   "id": "2e9fd7d4-e105-4fb7-ac41-b5edc8a2db17",
   "metadata": {},
   "outputs": [
    {
     "name": "stdout",
     "output_type": "stream",
     "text": [
      "Original Array: [10 15 20 25 30 35 40 45 50]\n",
      "Elements greater than 25: [30 35 40 45 50]\n"
     ]
    }
   ],
   "source": [
    "\n",
    "array = np.array([10, 15, 20, 25, 30, 35, 40, 45, 50])\n",
    "specified_value = 25\n",
    "extracted_elements = array[array > specified_value]\n",
    "\n",
    "print(f\"Original Array: {array}\")\n",
    "print(f\"Elements greater than {specified_value}: {extracted_elements}\")"
   ]
  },
  {
   "cell_type": "markdown",
   "id": "dc3fbd24-725d-4ae9-9439-f4e44fb5c5cb",
   "metadata": {},
   "source": [
    "<div style=\"border: 5px solid yellow; padding: 10px; background-color: #F5F5DC; color: blue; border-radius: 30px 45px 30px 45px;\">\n",
    "\n",
    "<p> - Given a 2D array, write a code to extract a subarray that contains only the second and third\n",
    "columns. </p>\n",
    "\n",
    "</div>\n"
   ]
  },
  {
   "cell_type": "code",
   "execution_count": 8,
   "id": "9cc2f4d7-d404-4137-b5c8-dde0b9a9d388",
   "metadata": {},
   "outputs": [
    {
     "name": "stdout",
     "output_type": "stream",
     "text": [
      "Original Array:\n",
      "[[ 1  2  3  4  5]\n",
      " [ 6  7  8  9 10]\n",
      " [11 12 13 14 15]\n",
      " [16 17 18 19 20]]\n",
      "\n",
      "Subarray containing the second and third columns:\n",
      "[[ 2  3]\n",
      " [ 7  8]\n",
      " [12 13]\n",
      " [17 18]]\n"
     ]
    }
   ],
   "source": [
    "\n",
    "array_2d = np.array([[1, 2, 3, 4, 5],\n",
    "                     [6, 7, 8, 9, 10],\n",
    "                     [11, 12, 13, 14, 15],\n",
    "                     [16, 17, 18, 19, 20]])\n",
    "\n",
    "print(\"Original Array:\")\n",
    "print(array_2d)\n",
    "\n",
    "# Extract the second and third columns (index 1 and 2)\n",
    "subarray = array_2d[:, 1:3]\n",
    "\n",
    "print(\"\\nSubarray containing the second and third columns:\")\n",
    "print(subarray)"
   ]
  },
  {
   "cell_type": "markdown",
   "id": "565914d1-d3dd-492e-a4dd-2452b0cd0c49",
   "metadata": {},
   "source": [
    "<div style=\"border: 5px solid yellow; padding: 10px; background-color: #F5F5DC; color: blue; border-radius: 30px 45px 30px 45px;\">\n",
    "\n",
    "<p>4. Mathematical Operations:</p>\n",
    "<p>  - Write a NumPy code to normalize a 1D array so that its values range between 0 and 1</p>\n",
    "\n",
    "</div>\n"
   ]
  },
  {
   "cell_type": "code",
   "execution_count": 9,
   "id": "dada433c-69cd-474f-916f-6665246e7780",
   "metadata": {},
   "outputs": [
    {
     "name": "stdout",
     "output_type": "stream",
     "text": [
      "Original Array: [10 15 20 25 30 35 40]\n",
      "\n",
      "Normalized Array (values between 0 and 1):\n",
      "[0.         0.16666667 0.33333333 0.5        0.66666667 0.83333333\n",
      " 1.        ]\n"
     ]
    }
   ],
   "source": [
    "array_1d = np.array([10, 15, 20, 25, 30, 35, 40])\n",
    "print(\"Original Array:\",array_1d)\n",
    "\n",
    "# Normalize the array\n",
    "min_value = np.min(array_1d)\n",
    "max_value = np.max(array_1d)\n",
    "normalized_array = (array_1d - min_value) / (max_value - min_value)\n",
    "\n",
    "print(\"\\nNormalized Array (values between 0 and 1):\")\n",
    "print(normalized_array)"
   ]
  },
  {
   "cell_type": "markdown",
   "id": "6774c612-ce3c-476b-a503-7c2beb7f935c",
   "metadata": {},
   "source": [
    "<div style=\"border: 5px solid yellow; padding: 10px; background-color: #F5F5DC; color: blue; border-radius: 30px 45px 30px 45px;\">\n",
    "\n",
    "<p>  - Create a code that calculates the dot product of two matrices using NumPy. </p>\n",
    "\n",
    "</div>\n"
   ]
  },
  {
   "cell_type": "code",
   "execution_count": 10,
   "id": "cf6d3029-0bd9-4f1f-88b4-27625273df8a",
   "metadata": {},
   "outputs": [
    {
     "name": "stdout",
     "output_type": "stream",
     "text": [
      "\n",
      "Dot Product of Matrix A and Matrix B:\n",
      "[[ 58  64]\n",
      " [139 154]]\n"
     ]
    }
   ],
   "source": [
    "matrix_a = np.array([[1, 2, 3],\n",
    "                      [4, 5, 6]])\n",
    "\n",
    "matrix_b = np.array([[7, 8],\n",
    "                      [9, 10],\n",
    "                      [11, 12]])\n",
    "\n",
    "dot_product = np.dot(matrix_a, matrix_b)\n",
    "print(\"\\nDot Product of Matrix A and Matrix B:\")\n",
    "print(dot_product)"
   ]
  },
  {
   "cell_type": "markdown",
   "id": "e48c9589-0565-4092-a5a1-7a5d4270e066",
   "metadata": {},
   "source": [
    "<div style=\"border: 5px solid yellow; padding: 10px; background-color: #F5F5DC; color: blue; border-radius: 30px 45px 30px 45px;\">\n",
    "\n",
    "<p> 5. Statistical Operations:\n",
    " - Write a code to calculate the mean, median, and standard deviation of a NumPy array </p>\n",
    "\n",
    "</div>\n"
   ]
  },
  {
   "cell_type": "code",
   "execution_count": 11,
   "id": "162fcc38-c111-4d1e-b44c-dbf7de71f517",
   "metadata": {},
   "outputs": [
    {
     "name": "stdout",
     "output_type": "stream",
     "text": [
      "Data Array:\n",
      "[10 20 30 40 50 60 70 80 90]\n",
      "\n",
      "Mean: 50.0\n",
      "Median: 50.0\n",
      "Standard Deviation: 25.81988897471611\n"
     ]
    }
   ],
   "source": [
    "data = np.array([10, 20, 30, 40, 50, 60, 70, 80, 90])\n",
    "\n",
    "# Calculate the mean\n",
    "mean_value = np.mean(data)\n",
    "\n",
    "# Calculate the median\n",
    "median_value = np.median(data)\n",
    "\n",
    "# Calculate the standard deviation\n",
    "std_deviation = np.std(data)\n",
    "\n",
    "\n",
    "print(\"Data Array:\")\n",
    "print(data)\n",
    "print(f\"\\nMean: {mean_value}\")\n",
    "print(f\"Median: {median_value}\")\n",
    "print(f\"Standard Deviation: {std_deviation}\")"
   ]
  },
  {
   "cell_type": "markdown",
   "id": "8abee769-4dc8-4637-8cc4-56f8767f935e",
   "metadata": {},
   "source": [
    "<div style=\"border: 5px solid yellow; padding: 10px; background-color: #F5F5DC; color: blue; border-radius: 30px 45px 30px 45px;\">\n",
    "\n",
    "<p>  - Given an array of values, how would you find the most frequent value using NumPy? </p>\n",
    "\n",
    "</div>\n"
   ]
  },
  {
   "cell_type": "code",
   "execution_count": 12,
   "id": "2b7e36d5-e514-4bac-95df-030cd658b571",
   "metadata": {},
   "outputs": [
    {
     "name": "stdout",
     "output_type": "stream",
     "text": [
      "\n",
      "Most Frequent Value: 5\n"
     ]
    }
   ],
   "source": [
    "data = np.array([1, 2, 2, 3, 4, 4, 4, 5, 5, 5, 5, 6, 7, 8, 8, 8, 8])\n",
    "\n",
    "unique_values, counts = np.unique(data, return_counts=True)\n",
    "\n",
    "# Find the index of the maximum count\n",
    "most_frequent_index = np.argmax(counts)\n",
    "\n",
    "# Get the most frequent value\n",
    "most_frequent_value = unique_values[most_frequent_index]\n",
    "\n",
    "print(f\"\\nMost Frequent Value: {most_frequent_value}\")"
   ]
  },
  {
   "cell_type": "markdown",
   "id": "aecde978-250f-4338-ab88-0d770097f210",
   "metadata": {},
   "source": [
    "<div style=\"border: 5px solid yellow; padding: 10px; background-color: #F5F5DC; color: blue; border-radius: 30px 45px 30px 45px;\">\n",
    "\n",
    "<p>6. DataFrame Creation:\n",
    " - Write a pandas code to create a DataFrame from a dictionary with lists. Each key in the\n",
    "dictionary should represent a column. </p>\n",
    "\n",
    "</div>\n"
   ]
  },
  {
   "cell_type": "code",
   "execution_count": 13,
   "id": "9452053d-bdf0-4255-8ead-966a94bb22a4",
   "metadata": {},
   "outputs": [
    {
     "name": "stdout",
     "output_type": "stream",
     "text": [
      "DataFrame created from dictionary:\n",
      "       Name  Age         City\n",
      "0    Alice   24     New York\n",
      "1      Bob   30  Los Angeles\n",
      "2  Charlie   22      Chicago\n",
      "3    David   35      Houston\n"
     ]
    }
   ],
   "source": [
    "\n",
    "data = {\n",
    "    'Name': ['Alice', 'Bob', 'Charlie', 'David'],\n",
    "    'Age': [24, 30, 22, 35],\n",
    "    'City': ['New York', 'Los Angeles', 'Chicago', 'Houston']\n",
    "}\n",
    "\n",
    "df = pd.DataFrame(data)\n",
    "\n",
    "print(\"DataFrame created from dictionary:\\n\",df)\n"
   ]
  },
  {
   "cell_type": "markdown",
   "id": "ada8259a-78a7-459a-bbaf-1bb964d66c50",
   "metadata": {},
   "source": [
    "<div style=\"border: 5px solid yellow; padding: 10px; background-color: #F5F5DC; color: blue; border-radius: 30px 45px 30px 45px;\">\n",
    "\n",
    "<p> - Create a pandas DataFrame from a CSV file, and display the first 10 rows. </p>\n",
    "\n",
    "</div>\n",
    "\n"
   ]
  },
  {
   "cell_type": "code",
   "execution_count": 14,
   "id": "8d83f4a7-b4c8-4307-a79a-104d0fa73667",
   "metadata": {},
   "outputs": [
    {
     "data": {
      "text/html": [
       "<div>\n",
       "<style scoped>\n",
       "    .dataframe tbody tr th:only-of-type {\n",
       "        vertical-align: middle;\n",
       "    }\n",
       "\n",
       "    .dataframe tbody tr th {\n",
       "        vertical-align: top;\n",
       "    }\n",
       "\n",
       "    .dataframe thead th {\n",
       "        text-align: right;\n",
       "    }\n",
       "</style>\n",
       "<table border=\"1\" class=\"dataframe\">\n",
       "  <thead>\n",
       "    <tr style=\"text-align: right;\">\n",
       "      <th></th>\n",
       "      <th>age</th>\n",
       "      <th>sex</th>\n",
       "      <th>bmi</th>\n",
       "      <th>children</th>\n",
       "      <th>smoker</th>\n",
       "      <th>region</th>\n",
       "      <th>charges</th>\n",
       "    </tr>\n",
       "  </thead>\n",
       "  <tbody>\n",
       "    <tr>\n",
       "      <th>0</th>\n",
       "      <td>19</td>\n",
       "      <td>female</td>\n",
       "      <td>27.900</td>\n",
       "      <td>0</td>\n",
       "      <td>yes</td>\n",
       "      <td>southwest</td>\n",
       "      <td>16884.92400</td>\n",
       "    </tr>\n",
       "    <tr>\n",
       "      <th>1</th>\n",
       "      <td>18</td>\n",
       "      <td>male</td>\n",
       "      <td>33.770</td>\n",
       "      <td>1</td>\n",
       "      <td>no</td>\n",
       "      <td>southeast</td>\n",
       "      <td>1725.55230</td>\n",
       "    </tr>\n",
       "    <tr>\n",
       "      <th>2</th>\n",
       "      <td>28</td>\n",
       "      <td>male</td>\n",
       "      <td>33.000</td>\n",
       "      <td>3</td>\n",
       "      <td>no</td>\n",
       "      <td>southeast</td>\n",
       "      <td>4449.46200</td>\n",
       "    </tr>\n",
       "    <tr>\n",
       "      <th>3</th>\n",
       "      <td>33</td>\n",
       "      <td>male</td>\n",
       "      <td>22.705</td>\n",
       "      <td>0</td>\n",
       "      <td>no</td>\n",
       "      <td>northwest</td>\n",
       "      <td>21984.47061</td>\n",
       "    </tr>\n",
       "    <tr>\n",
       "      <th>4</th>\n",
       "      <td>32</td>\n",
       "      <td>male</td>\n",
       "      <td>28.880</td>\n",
       "      <td>0</td>\n",
       "      <td>no</td>\n",
       "      <td>northwest</td>\n",
       "      <td>3866.85520</td>\n",
       "    </tr>\n",
       "    <tr>\n",
       "      <th>5</th>\n",
       "      <td>31</td>\n",
       "      <td>female</td>\n",
       "      <td>25.740</td>\n",
       "      <td>0</td>\n",
       "      <td>no</td>\n",
       "      <td>southeast</td>\n",
       "      <td>3756.62160</td>\n",
       "    </tr>\n",
       "    <tr>\n",
       "      <th>6</th>\n",
       "      <td>46</td>\n",
       "      <td>female</td>\n",
       "      <td>33.440</td>\n",
       "      <td>1</td>\n",
       "      <td>no</td>\n",
       "      <td>southeast</td>\n",
       "      <td>8240.58960</td>\n",
       "    </tr>\n",
       "    <tr>\n",
       "      <th>7</th>\n",
       "      <td>37</td>\n",
       "      <td>female</td>\n",
       "      <td>27.740</td>\n",
       "      <td>3</td>\n",
       "      <td>no</td>\n",
       "      <td>northwest</td>\n",
       "      <td>7281.50560</td>\n",
       "    </tr>\n",
       "    <tr>\n",
       "      <th>8</th>\n",
       "      <td>37</td>\n",
       "      <td>male</td>\n",
       "      <td>29.830</td>\n",
       "      <td>2</td>\n",
       "      <td>no</td>\n",
       "      <td>northeast</td>\n",
       "      <td>6406.41070</td>\n",
       "    </tr>\n",
       "    <tr>\n",
       "      <th>9</th>\n",
       "      <td>60</td>\n",
       "      <td>female</td>\n",
       "      <td>25.840</td>\n",
       "      <td>0</td>\n",
       "      <td>no</td>\n",
       "      <td>northwest</td>\n",
       "      <td>28923.13692</td>\n",
       "    </tr>\n",
       "  </tbody>\n",
       "</table>\n",
       "</div>"
      ],
      "text/plain": [
       "   age     sex     bmi  children smoker     region      charges\n",
       "0   19  female  27.900         0    yes  southwest  16884.92400\n",
       "1   18    male  33.770         1     no  southeast   1725.55230\n",
       "2   28    male  33.000         3     no  southeast   4449.46200\n",
       "3   33    male  22.705         0     no  northwest  21984.47061\n",
       "4   32    male  28.880         0     no  northwest   3866.85520\n",
       "5   31  female  25.740         0     no  southeast   3756.62160\n",
       "6   46  female  33.440         1     no  southeast   8240.58960\n",
       "7   37  female  27.740         3     no  northwest   7281.50560\n",
       "8   37    male  29.830         2     no  northeast   6406.41070\n",
       "9   60  female  25.840         0     no  northwest  28923.13692"
      ]
     },
     "execution_count": 14,
     "metadata": {},
     "output_type": "execute_result"
    }
   ],
   "source": [
    "df = pd.read_csv('insurance.csv')\n",
    "df.head(10)"
   ]
  },
  {
   "cell_type": "markdown",
   "id": "ab81a3cf-6b0c-4697-8db0-bb58d8d096ef",
   "metadata": {},
   "source": [
    "<div style=\"border: 5px solid yellow; padding: 10px; background-color: #F5F5DC; color: blue; border-radius: 30px 45px 30px 45px;\">\n",
    "\n",
    "<p>7. DataFrame Manipulation:\n",
    " - Given a DataFrame, write a code to rename columns and drop any rows with missing values. </p>\n",
    "\n",
    "</div>"
   ]
  },
  {
   "cell_type": "code",
   "execution_count": 15,
   "id": "821d124c-9ef2-48df-b38d-1c041198fa0f",
   "metadata": {},
   "outputs": [
    {
     "data": {
      "text/html": [
       "<div>\n",
       "<style scoped>\n",
       "    .dataframe tbody tr th:only-of-type {\n",
       "        vertical-align: middle;\n",
       "    }\n",
       "\n",
       "    .dataframe tbody tr th {\n",
       "        vertical-align: top;\n",
       "    }\n",
       "\n",
       "    .dataframe thead th {\n",
       "        text-align: right;\n",
       "    }\n",
       "</style>\n",
       "<table border=\"1\" class=\"dataframe\">\n",
       "  <thead>\n",
       "    <tr style=\"text-align: right;\">\n",
       "      <th></th>\n",
       "      <th>Age (Years)</th>\n",
       "      <th>Gender</th>\n",
       "      <th>bmi</th>\n",
       "      <th>children</th>\n",
       "      <th>smoker</th>\n",
       "      <th>region</th>\n",
       "      <th>charges</th>\n",
       "    </tr>\n",
       "  </thead>\n",
       "  <tbody>\n",
       "    <tr>\n",
       "      <th>0</th>\n",
       "      <td>19</td>\n",
       "      <td>female</td>\n",
       "      <td>27.900</td>\n",
       "      <td>0</td>\n",
       "      <td>yes</td>\n",
       "      <td>southwest</td>\n",
       "      <td>16884.92400</td>\n",
       "    </tr>\n",
       "    <tr>\n",
       "      <th>1</th>\n",
       "      <td>18</td>\n",
       "      <td>male</td>\n",
       "      <td>33.770</td>\n",
       "      <td>1</td>\n",
       "      <td>no</td>\n",
       "      <td>southeast</td>\n",
       "      <td>1725.55230</td>\n",
       "    </tr>\n",
       "    <tr>\n",
       "      <th>2</th>\n",
       "      <td>28</td>\n",
       "      <td>male</td>\n",
       "      <td>33.000</td>\n",
       "      <td>3</td>\n",
       "      <td>no</td>\n",
       "      <td>southeast</td>\n",
       "      <td>4449.46200</td>\n",
       "    </tr>\n",
       "    <tr>\n",
       "      <th>3</th>\n",
       "      <td>33</td>\n",
       "      <td>male</td>\n",
       "      <td>22.705</td>\n",
       "      <td>0</td>\n",
       "      <td>no</td>\n",
       "      <td>northwest</td>\n",
       "      <td>21984.47061</td>\n",
       "    </tr>\n",
       "    <tr>\n",
       "      <th>4</th>\n",
       "      <td>32</td>\n",
       "      <td>male</td>\n",
       "      <td>28.880</td>\n",
       "      <td>0</td>\n",
       "      <td>no</td>\n",
       "      <td>northwest</td>\n",
       "      <td>3866.85520</td>\n",
       "    </tr>\n",
       "    <tr>\n",
       "      <th>...</th>\n",
       "      <td>...</td>\n",
       "      <td>...</td>\n",
       "      <td>...</td>\n",
       "      <td>...</td>\n",
       "      <td>...</td>\n",
       "      <td>...</td>\n",
       "      <td>...</td>\n",
       "    </tr>\n",
       "    <tr>\n",
       "      <th>1333</th>\n",
       "      <td>50</td>\n",
       "      <td>male</td>\n",
       "      <td>30.970</td>\n",
       "      <td>3</td>\n",
       "      <td>no</td>\n",
       "      <td>northwest</td>\n",
       "      <td>10600.54830</td>\n",
       "    </tr>\n",
       "    <tr>\n",
       "      <th>1334</th>\n",
       "      <td>18</td>\n",
       "      <td>female</td>\n",
       "      <td>31.920</td>\n",
       "      <td>0</td>\n",
       "      <td>no</td>\n",
       "      <td>northeast</td>\n",
       "      <td>2205.98080</td>\n",
       "    </tr>\n",
       "    <tr>\n",
       "      <th>1335</th>\n",
       "      <td>18</td>\n",
       "      <td>female</td>\n",
       "      <td>36.850</td>\n",
       "      <td>0</td>\n",
       "      <td>no</td>\n",
       "      <td>southeast</td>\n",
       "      <td>1629.83350</td>\n",
       "    </tr>\n",
       "    <tr>\n",
       "      <th>1336</th>\n",
       "      <td>21</td>\n",
       "      <td>female</td>\n",
       "      <td>25.800</td>\n",
       "      <td>0</td>\n",
       "      <td>no</td>\n",
       "      <td>southwest</td>\n",
       "      <td>2007.94500</td>\n",
       "    </tr>\n",
       "    <tr>\n",
       "      <th>1337</th>\n",
       "      <td>61</td>\n",
       "      <td>female</td>\n",
       "      <td>29.070</td>\n",
       "      <td>0</td>\n",
       "      <td>yes</td>\n",
       "      <td>northwest</td>\n",
       "      <td>29141.36030</td>\n",
       "    </tr>\n",
       "  </tbody>\n",
       "</table>\n",
       "<p>1338 rows × 7 columns</p>\n",
       "</div>"
      ],
      "text/plain": [
       "      Age (Years)  Gender     bmi  children smoker     region      charges\n",
       "0              19  female  27.900         0    yes  southwest  16884.92400\n",
       "1              18    male  33.770         1     no  southeast   1725.55230\n",
       "2              28    male  33.000         3     no  southeast   4449.46200\n",
       "3              33    male  22.705         0     no  northwest  21984.47061\n",
       "4              32    male  28.880         0     no  northwest   3866.85520\n",
       "...           ...     ...     ...       ...    ...        ...          ...\n",
       "1333           50    male  30.970         3     no  northwest  10600.54830\n",
       "1334           18  female  31.920         0     no  northeast   2205.98080\n",
       "1335           18  female  36.850         0     no  southeast   1629.83350\n",
       "1336           21  female  25.800         0     no  southwest   2007.94500\n",
       "1337           61  female  29.070         0    yes  northwest  29141.36030\n",
       "\n",
       "[1338 rows x 7 columns]"
      ]
     },
     "execution_count": 15,
     "metadata": {},
     "output_type": "execute_result"
    }
   ],
   "source": [
    "# Rename columns\n",
    "df.rename(columns={'age': 'Age (Years)', 'sex': 'Gender'}, inplace=True)\n",
    "\n",
    "# Drop rows with missing values\n",
    "df.dropna(inplace=True)\n",
    "\n",
    "df"
   ]
  },
  {
   "cell_type": "code",
   "execution_count": 16,
   "id": "208d06a8-72fc-4ad0-ad09-d38b9022155d",
   "metadata": {},
   "outputs": [
    {
     "data": {
      "text/html": [
       "<div>\n",
       "<style scoped>\n",
       "    .dataframe tbody tr th:only-of-type {\n",
       "        vertical-align: middle;\n",
       "    }\n",
       "\n",
       "    .dataframe tbody tr th {\n",
       "        vertical-align: top;\n",
       "    }\n",
       "\n",
       "    .dataframe thead th {\n",
       "        text-align: right;\n",
       "    }\n",
       "</style>\n",
       "<table border=\"1\" class=\"dataframe\">\n",
       "  <thead>\n",
       "    <tr style=\"text-align: right;\">\n",
       "      <th></th>\n",
       "      <th>Age (Years)</th>\n",
       "      <th>Gender</th>\n",
       "      <th>bmi</th>\n",
       "      <th>children</th>\n",
       "      <th>smoker</th>\n",
       "      <th>region</th>\n",
       "      <th>charges</th>\n",
       "      <th>age+children+bmi</th>\n",
       "    </tr>\n",
       "  </thead>\n",
       "  <tbody>\n",
       "    <tr>\n",
       "      <th>0</th>\n",
       "      <td>19</td>\n",
       "      <td>female</td>\n",
       "      <td>27.900</td>\n",
       "      <td>0</td>\n",
       "      <td>yes</td>\n",
       "      <td>southwest</td>\n",
       "      <td>16884.92400</td>\n",
       "      <td>46.900</td>\n",
       "    </tr>\n",
       "    <tr>\n",
       "      <th>1</th>\n",
       "      <td>18</td>\n",
       "      <td>male</td>\n",
       "      <td>33.770</td>\n",
       "      <td>1</td>\n",
       "      <td>no</td>\n",
       "      <td>southeast</td>\n",
       "      <td>1725.55230</td>\n",
       "      <td>52.770</td>\n",
       "    </tr>\n",
       "    <tr>\n",
       "      <th>2</th>\n",
       "      <td>28</td>\n",
       "      <td>male</td>\n",
       "      <td>33.000</td>\n",
       "      <td>3</td>\n",
       "      <td>no</td>\n",
       "      <td>southeast</td>\n",
       "      <td>4449.46200</td>\n",
       "      <td>64.000</td>\n",
       "    </tr>\n",
       "    <tr>\n",
       "      <th>3</th>\n",
       "      <td>33</td>\n",
       "      <td>male</td>\n",
       "      <td>22.705</td>\n",
       "      <td>0</td>\n",
       "      <td>no</td>\n",
       "      <td>northwest</td>\n",
       "      <td>21984.47061</td>\n",
       "      <td>55.705</td>\n",
       "    </tr>\n",
       "    <tr>\n",
       "      <th>4</th>\n",
       "      <td>32</td>\n",
       "      <td>male</td>\n",
       "      <td>28.880</td>\n",
       "      <td>0</td>\n",
       "      <td>no</td>\n",
       "      <td>northwest</td>\n",
       "      <td>3866.85520</td>\n",
       "      <td>60.880</td>\n",
       "    </tr>\n",
       "    <tr>\n",
       "      <th>...</th>\n",
       "      <td>...</td>\n",
       "      <td>...</td>\n",
       "      <td>...</td>\n",
       "      <td>...</td>\n",
       "      <td>...</td>\n",
       "      <td>...</td>\n",
       "      <td>...</td>\n",
       "      <td>...</td>\n",
       "    </tr>\n",
       "    <tr>\n",
       "      <th>1333</th>\n",
       "      <td>50</td>\n",
       "      <td>male</td>\n",
       "      <td>30.970</td>\n",
       "      <td>3</td>\n",
       "      <td>no</td>\n",
       "      <td>northwest</td>\n",
       "      <td>10600.54830</td>\n",
       "      <td>83.970</td>\n",
       "    </tr>\n",
       "    <tr>\n",
       "      <th>1334</th>\n",
       "      <td>18</td>\n",
       "      <td>female</td>\n",
       "      <td>31.920</td>\n",
       "      <td>0</td>\n",
       "      <td>no</td>\n",
       "      <td>northeast</td>\n",
       "      <td>2205.98080</td>\n",
       "      <td>49.920</td>\n",
       "    </tr>\n",
       "    <tr>\n",
       "      <th>1335</th>\n",
       "      <td>18</td>\n",
       "      <td>female</td>\n",
       "      <td>36.850</td>\n",
       "      <td>0</td>\n",
       "      <td>no</td>\n",
       "      <td>southeast</td>\n",
       "      <td>1629.83350</td>\n",
       "      <td>54.850</td>\n",
       "    </tr>\n",
       "    <tr>\n",
       "      <th>1336</th>\n",
       "      <td>21</td>\n",
       "      <td>female</td>\n",
       "      <td>25.800</td>\n",
       "      <td>0</td>\n",
       "      <td>no</td>\n",
       "      <td>southwest</td>\n",
       "      <td>2007.94500</td>\n",
       "      <td>46.800</td>\n",
       "    </tr>\n",
       "    <tr>\n",
       "      <th>1337</th>\n",
       "      <td>61</td>\n",
       "      <td>female</td>\n",
       "      <td>29.070</td>\n",
       "      <td>0</td>\n",
       "      <td>yes</td>\n",
       "      <td>northwest</td>\n",
       "      <td>29141.36030</td>\n",
       "      <td>90.070</td>\n",
       "    </tr>\n",
       "  </tbody>\n",
       "</table>\n",
       "<p>1338 rows × 8 columns</p>\n",
       "</div>"
      ],
      "text/plain": [
       "      Age (Years)  Gender     bmi  children smoker     region      charges  \\\n",
       "0              19  female  27.900         0    yes  southwest  16884.92400   \n",
       "1              18    male  33.770         1     no  southeast   1725.55230   \n",
       "2              28    male  33.000         3     no  southeast   4449.46200   \n",
       "3              33    male  22.705         0     no  northwest  21984.47061   \n",
       "4              32    male  28.880         0     no  northwest   3866.85520   \n",
       "...           ...     ...     ...       ...    ...        ...          ...   \n",
       "1333           50    male  30.970         3     no  northwest  10600.54830   \n",
       "1334           18  female  31.920         0     no  northeast   2205.98080   \n",
       "1335           18  female  36.850         0     no  southeast   1629.83350   \n",
       "1336           21  female  25.800         0     no  southwest   2007.94500   \n",
       "1337           61  female  29.070         0    yes  northwest  29141.36030   \n",
       "\n",
       "      age+children+bmi  \n",
       "0               46.900  \n",
       "1               52.770  \n",
       "2               64.000  \n",
       "3               55.705  \n",
       "4               60.880  \n",
       "...                ...  \n",
       "1333            83.970  \n",
       "1334            49.920  \n",
       "1335            54.850  \n",
       "1336            46.800  \n",
       "1337            90.070  \n",
       "\n",
       "[1338 rows x 8 columns]"
      ]
     },
     "execution_count": 16,
     "metadata": {},
     "output_type": "execute_result"
    }
   ],
   "source": [
    "df[\"age+children+bmi\"]=df[\"Age (Years)\"]+df[\"children\"]+df[\"bmi\"]\n",
    "df"
   ]
  },
  {
   "cell_type": "markdown",
   "id": "349e18d4-5cba-43ef-982b-db66bb2c2d16",
   "metadata": {},
   "source": [
    "<div style=\"border: 5px solid yellow; padding: 10px; background-color: #F5F5DC; color: blue; border-radius: 30px 45px 30px 45px;\">\n",
    "<p> - How would you add a new column to a DataFrame that contains the cumulative sum of\n",
    "another column?</p>\n",
    "</div>"
   ]
  },
  {
   "cell_type": "code",
   "execution_count": 17,
   "id": "8fee84a1-aa9b-423a-839c-249c9cd44b4c",
   "metadata": {},
   "outputs": [
    {
     "data": {
      "text/html": [
       "<div>\n",
       "<style scoped>\n",
       "    .dataframe tbody tr th:only-of-type {\n",
       "        vertical-align: middle;\n",
       "    }\n",
       "\n",
       "    .dataframe tbody tr th {\n",
       "        vertical-align: top;\n",
       "    }\n",
       "\n",
       "    .dataframe thead th {\n",
       "        text-align: right;\n",
       "    }\n",
       "</style>\n",
       "<table border=\"1\" class=\"dataframe\">\n",
       "  <thead>\n",
       "    <tr style=\"text-align: right;\">\n",
       "      <th></th>\n",
       "      <th>A</th>\n",
       "      <th>B</th>\n",
       "      <th>Cumulative_Sum</th>\n",
       "    </tr>\n",
       "  </thead>\n",
       "  <tbody>\n",
       "    <tr>\n",
       "      <th>0</th>\n",
       "      <td>1</td>\n",
       "      <td>10</td>\n",
       "      <td>1</td>\n",
       "    </tr>\n",
       "    <tr>\n",
       "      <th>1</th>\n",
       "      <td>2</td>\n",
       "      <td>20</td>\n",
       "      <td>3</td>\n",
       "    </tr>\n",
       "    <tr>\n",
       "      <th>2</th>\n",
       "      <td>3</td>\n",
       "      <td>30</td>\n",
       "      <td>6</td>\n",
       "    </tr>\n",
       "    <tr>\n",
       "      <th>3</th>\n",
       "      <td>4</td>\n",
       "      <td>40</td>\n",
       "      <td>10</td>\n",
       "    </tr>\n",
       "    <tr>\n",
       "      <th>4</th>\n",
       "      <td>5</td>\n",
       "      <td>50</td>\n",
       "      <td>15</td>\n",
       "    </tr>\n",
       "  </tbody>\n",
       "</table>\n",
       "</div>"
      ],
      "text/plain": [
       "   A   B  Cumulative_Sum\n",
       "0  1  10               1\n",
       "1  2  20               3\n",
       "2  3  30               6\n",
       "3  4  40              10\n",
       "4  5  50              15"
      ]
     },
     "execution_count": 17,
     "metadata": {},
     "output_type": "execute_result"
    }
   ],
   "source": [
    "data = {\n",
    "    'A': [1, 2, 3, 4, 5],\n",
    "    'B': [10, 20, 30, 40, 50]\n",
    "}\n",
    "df = pd.DataFrame(data)\n",
    "df['Cumulative_Sum'] = df['A'].cumsum()\n",
    "df"
   ]
  },
  {
   "cell_type": "markdown",
   "id": "fb0d09af-77f4-47b6-aa7b-3707647ebfb8",
   "metadata": {},
   "source": [
    "<div style=\"border: 5px solid yellow; padding: 10px; background-color: #F5F5DC; color: blue; border-radius: 30px 45px 30px 45px;\">\n",
    "<p>8. Filtering and Selection:\n",
    " - Write a code to filter rows in a DataFrame where a specific column's value is greater than\n",
    "100.</p>\n",
    "</div>"
   ]
  },
  {
   "cell_type": "code",
   "execution_count": 20,
   "id": "9b6236b7-bc51-42c7-a316-aeb85bff8797",
   "metadata": {},
   "outputs": [
    {
     "name": "stdout",
     "output_type": "stream",
     "text": [
      "  Product  Sales  Quantity\n",
      "0       A    150        10\n",
      "2       C    200        15\n",
      "4       E    120         8\n"
     ]
    }
   ],
   "source": [
    "\n",
    "data = {\n",
    "    'Product': ['A', 'B', 'C', 'D', 'E'],\n",
    "    'Sales': [150, 80, 200, 50, 120],\n",
    "    'Quantity': [10, 5, 15, 7, 8]\n",
    "}\n",
    "\n",
    "df = pd.DataFrame(data)\n",
    "\n",
    "# Filter rows where the 'Sales' column is greater than 100\n",
    "filtered_df = df[df['Sales'] > 100]\n",
    "print(filtered_df)"
   ]
  },
  {
   "cell_type": "markdown",
   "id": "1a991ee3-4ba9-4b3d-9182-6cd95d564cfa",
   "metadata": {},
   "source": [
    "<div style=\"border: 5px solid yellow; padding: 10px; background-color: #F5F5DC; color: blue; border-radius: 30px 45px 30px 45px;\">\n",
    "<p> - How would you select specific rows and columns from a DataFrame using `.loc` and `.iloc`?</p>\n",
    "</div>"
   ]
  },
  {
   "cell_type": "code",
   "execution_count": 25,
   "id": "7660b07b-003a-45ff-934b-1742048ee8d1",
   "metadata": {},
   "outputs": [
    {
     "data": {
      "text/plain": [
       "Product       A\n",
       "Sales       150\n",
       "Quantity     10\n",
       "Name: 0, dtype: object"
      ]
     },
     "execution_count": 25,
     "metadata": {},
     "output_type": "execute_result"
    }
   ],
   "source": [
    "df.loc[0]"
   ]
  },
  {
   "cell_type": "markdown",
   "id": "40e676d0-b941-4a72-9498-f79d1bb143c6",
   "metadata": {},
   "source": [
    "<div style=\"border: 5px solid yellow; padding: 10px; background-color: #F5F5DC; color: blue; border-radius: 30px 45px 30px 45px;\">\n",
    "<p>9. Handling Missing Data:\n",
    " - Write a code to replace all missing values in a DataFrame with the mean of their respective\n",
    "columns.</p>\n",
    "</div>"
   ]
  },
  {
   "cell_type": "code",
   "execution_count": 27,
   "id": "472b3f7e-9bb8-4acc-b5a1-33c40999f540",
   "metadata": {},
   "outputs": [
    {
     "name": "stdout",
     "output_type": "stream",
     "text": [
      "\n",
      "DataFrame after replacing missing values with column means:\n",
      "          A          B      C\n",
      "0  1.000000  10.000000  300.0\n",
      "1  2.000000  26.666667  200.0\n",
      "2  2.333333  30.000000  300.0\n",
      "3  4.000000  40.000000  400.0\n"
     ]
    }
   ],
   "source": [
    "data = {\n",
    "    'A': [1, 2, np.nan, 4],\n",
    "    'B': [10, np.nan, 30, 40],\n",
    "    'C': [np.nan, 200, 300, 400]\n",
    "}\n",
    "\n",
    "df = pd.DataFrame(data)\n",
    "\n",
    "# Calculate the mean of each column and replace missing values with the mean\n",
    "df.fillna(df.mean(), inplace=True)\n",
    "\n",
    "print(\"\\nDataFrame after replacing missing values with column means:\")\n",
    "print(df)"
   ]
  },
  {
   "cell_type": "code",
   "execution_count": 28,
   "id": "5c8e5c27-e67e-41ab-9617-ce618f7c8937",
   "metadata": {},
   "outputs": [
    {
     "data": {
      "text/plain": [
       "A    0.0\n",
       "B    0.0\n",
       "C    0.0\n",
       "dtype: float64"
      ]
     },
     "execution_count": 28,
     "metadata": {},
     "output_type": "execute_result"
    }
   ],
   "source": [
    "df.isna().mean()"
   ]
  },
  {
   "cell_type": "markdown",
   "id": "8f85360f-3ecd-4b6d-8abd-375bff88e43c",
   "metadata": {},
   "source": [
    "<div style=\"border: 5px solid yellow; padding: 10px; background-color: #F5F5DC; color: blue; border-radius: 30px 45px 30px 45px;\">\n",
    "<p>- How would you drop columns in a DataFrame that contain more than 50% missing values?</p>\n",
    "</div>"
   ]
  },
  {
   "cell_type": "code",
   "execution_count": 29,
   "id": "d4cacb50-24f9-42c2-900e-85c05ae56502",
   "metadata": {},
   "outputs": [
    {
     "name": "stdout",
     "output_type": "stream",
     "text": [
      "\n",
      "DataFrame after dropping columns with more than 50% missing values:\n",
      "     A     B      C\n",
      "0  1.0  10.0    NaN\n",
      "1  2.0   NaN  200.0\n",
      "2  NaN  30.0  300.0\n",
      "3  4.0  40.0  400.0\n"
     ]
    }
   ],
   "source": [
    "data = {\n",
    "    'A': [1, 2, np.nan, 4],\n",
    "    'B': [10, np.nan, 30, 40],\n",
    "    'C': [np.nan, 200, 300, 400],\n",
    "    'D': [np.nan, np.nan, np.nan, np.nan]\n",
    "}\n",
    "\n",
    "df = pd.DataFrame(data)\n",
    "\n",
    "# Set the threshold :\n",
    "threshold = 0.5\n",
    "\n",
    "missing_percent = df.isnull().mean()\n",
    "\n",
    "# Drop columns where the percentage of missing values is greater than the threshold\n",
    "df = df.loc[:, missing_percent < threshold]\n",
    "\n",
    "print(\"\\nDataFrame after dropping columns with more than 50% missing values:\")\n",
    "print(df)"
   ]
  },
  {
   "cell_type": "markdown",
   "id": "e33e3715-d61b-4187-9936-257f8e853984",
   "metadata": {},
   "source": [
    "<img src=\"https://img.freepik.com/free-vector/lettering-design-with-positive-message_23-2149008842.jpg\" alt=\"My Image\">"
   ]
  }
 ],
 "metadata": {
  "kernelspec": {
   "display_name": "Python 3 (ipykernel)",
   "language": "python",
   "name": "python3"
  },
  "language_info": {
   "codemirror_mode": {
    "name": "ipython",
    "version": 3
   },
   "file_extension": ".py",
   "mimetype": "text/x-python",
   "name": "python",
   "nbconvert_exporter": "python",
   "pygments_lexer": "ipython3",
   "version": "3.8.10"
  }
 },
 "nbformat": 4,
 "nbformat_minor": 5
}
