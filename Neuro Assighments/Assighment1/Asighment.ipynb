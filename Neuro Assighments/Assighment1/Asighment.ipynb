{
 "cells": [
  {
   "cell_type": "code",
   "execution_count": 1,
   "id": "cd67709d-12b2-4d3a-872d-57e68ec09ba7",
   "metadata": {},
   "outputs": [
    {
     "data": {
      "text/html": [
       "\n",
       "<style>\n",
       "  h2 {\n",
       "    font-size: var(--j3p-content-font-size4);\n",
       "    background-color:#00FF00  ;\n",
       "    color: white;\n",
       "    display: flex;\n",
       "    align-items: center;\n",
       "    justify-content: center;\n",
       "    padding: 10px 41px;\n",
       "    top: 10px;\n",
       "    position: relative;\n",
       "    border-radius: 10px 50px 10px 50px;\n",
       "}\n",
       "\n",
       " img {       /* flex-grow: 1; */\n",
       "            /* flex-shrink: 1; */\n",
       "            border-radius: 100px 70px 150px 70px; \n",
       "            border: 10px solid #eee;\n",
       "            display: flex;\n",
       "            align-items: center;\n",
       "            justify-content: center;\n",
       "            transition: box-shadow 0.3s ease; /* Add a transition for a smooth effect */\n",
       "        }\n",
       "\n",
       "       img:active {\n",
       "          box-shadow: 0 10px 20px rgba(255, 255, 0, 0.5), 0 6px 6px rgba(215, 215, 0, 0.5);\n",
       "        }\n",
       "</style>\n"
      ],
      "text/plain": [
       "<IPython.core.display.HTML object>"
      ]
     },
     "execution_count": 1,
     "metadata": {},
     "output_type": "execute_result"
    }
   ],
   "source": [
    "from IPython.core.display import HTML\n",
    "\n",
    "# Apply styles globally within the notebook\n",
    "\n",
    "HTML('''\n",
    "<style>\n",
    "  h2 {\n",
    "    font-size: var(--j3p-content-font-size4);\n",
    "    background-color:#00FF00  ;\n",
    "    color: white;\n",
    "    display: flex;\n",
    "    align-items: center;\n",
    "    justify-content: center;\n",
    "    padding: 10px 41px;\n",
    "    top: 10px;\n",
    "    position: relative;\n",
    "    border-radius: 10px 50px 10px 50px;\n",
    "}\n",
    "\n",
    " img {       /* flex-grow: 1; */\n",
    "            /* flex-shrink: 1; */\n",
    "            border-radius: 100px 70px 150px 70px; \n",
    "            border: 10px solid #eee;\n",
    "            display: flex;\n",
    "            align-items: center;\n",
    "            justify-content: center;\n",
    "            transition: box-shadow 0.3s ease; /* Add a transition for a smooth effect */\n",
    "        }\n",
    "\n",
    "       img:active {\n",
    "          box-shadow: 0 10px 20px rgba(255, 255, 0, 0.5), 0 6px 6px rgba(215, 215, 0, 0.5);\n",
    "        }\n",
    "</style>\n",
    "''') "
   ]
  },
  {
   "cell_type": "markdown",
   "id": "062aeeb2-b748-47eb-88f5-9f3070ed1158",
   "metadata": {},
   "source": [
    "\n",
    "<img src=\"https://media-hbe1-1.cdn.whatsapp.net/v/t61.24694-24/413615864_1341877613439324_3319902541122273970_n.jpg?ccb=11-4&oh=01_Q5AaIAqMkdHtNV7Sngj8yOjsdRqf0psxrAaauodhVIZ-91ps&oe=670126C8&_nc_sid=5e03e0&_nc_cat=106\" alt=\"My Image\">"
   ]
  },
  {
   "cell_type": "markdown",
   "id": "cf7424a4-6618-46f4-bb1a-0e082a01441e",
   "metadata": {},
   "source": [
    "## Created By  : Eng/AbdalRhman Gameel Ahmed Hebishy \n",
    "\n",
    "\n",
    "<div style=\"border: 5px solid yellow; padding: 10px; background-color: #F5F5DC; color: blue; border-radius: 30px 45px 30px 45px;\">\n",
    "\n",
    "<p>&bull;  AbdalRhman Hebishy , DataScientist||Machine learning||Deeplearning Engineer .</p>\n",
    "\n",
    "<p>&bull; <a href=\"https://www.kaggle.com/abdalrhamnhebishy\" target=\"_blank\">Kaggle profile</a>.</p>\n",
    "\n",
    "<p>&bull; <a href=\"https://github.com/AbdalRahmna\" target=\"_blank\">Github profile</a>.</p>\n",
    "\n",
    "<p>&bull; <a href=\"https://www.linkedin.com/in/abdalrahman-hebishy-06465b254/\"_blank\">linkedin profile</a>.</p>\n",
    "\n",
    "\n",
    "</div>\n"
   ]
  },
  {
   "cell_type": "markdown",
   "id": "2db8aec3-885d-4e60-bba3-c5e4fdb51201",
   "metadata": {},
   "source": [
    "## Q1 : Write a Python program to add an item to a tuple"
   ]
  },
  {
   "cell_type": "code",
   "execution_count": 5,
   "id": "956b1065-c9a4-46af-944a-7db65e647374",
   "metadata": {},
   "outputs": [
    {
     "name": "stdout",
     "output_type": "stream",
     "text": [
      "this is my tuple -->>  ('AbdalRhman', 'Khaled', 'Ayman', 'Islam', 'Mohanad') \n",
      " type of item -->> <class 'tuple'>\n"
     ]
    }
   ],
   "source": [
    "Tuple = ()\n",
    "my_list = list(Tuple)\n",
    "my_list.append('AbdalRhman')\n",
    "my_list.append(\"Khaled\")\n",
    "my_list.append(\"Ayman\")\n",
    "my_list.append(\"Islam\")\n",
    "my_list.append(\"Mohanad\")\n",
    "my_tuple = tuple(my_list)\n",
    "print(\"this is my tuple -->> \",my_tuple,\"\\n\",\"type of item -->>\",type(my_tuple))\n",
    "\n"
   ]
  },
  {
   "cell_type": "markdown",
   "id": "0d11fc57-4f3f-42b9-8d1f-24d16453103e",
   "metadata": {},
   "source": [
    "## Q2 : Write a Python program to sum all the items in a list. "
   ]
  },
  {
   "cell_type": "code",
   "execution_count": 3,
   "id": "8b08f633-e070-49a7-a4a4-800c5de34c21",
   "metadata": {},
   "outputs": [
    {
     "name": "stdout",
     "output_type": "stream",
     "text": [
      "the sum of the list = 145\n"
     ]
    }
   ],
   "source": [
    "def sumlist(l):\n",
    "    n=len(l)\n",
    "    return(\n",
    "        l[0] if n==1 else \n",
    "        l[n-1]+sumlist(l[0:n-1])\n",
    "       )\n",
    "    \n",
    "print(\"the sum of the list =\",sumlist([10,15,20,100]))        \n",
    "    "
   ]
  },
  {
   "cell_type": "markdown",
   "id": "4b89c00e-41a2-4f91-b5b0-4017a821457b",
   "metadata": {},
   "source": [
    "## Q3 : Write a Python program to multiply all the items in a list"
   ]
  },
  {
   "cell_type": "code",
   "execution_count": 4,
   "id": "efcaa043-9225-4112-89e1-0d43649af687",
   "metadata": {},
   "outputs": [
    {
     "name": "stdout",
     "output_type": "stream",
     "text": [
      "Result= 120\n"
     ]
    }
   ],
   "source": [
    "def mult_list(l):\n",
    "    result = 1\n",
    "    for num in l:\n",
    "        result *= num\n",
    "    return result\n",
    "\n",
    "\n",
    "my_list = [1, 2, 3, 4, 5]\n",
    "print(\"Result=\",mult_list(my_list))  "
   ]
  },
  {
   "cell_type": "markdown",
   "id": "c5e06b1c-2367-4224-af54-1068f11df25e",
   "metadata": {},
   "source": [
    "## Q4 : Write a Python program to get the smallest number from a list.\n"
   ]
  },
  {
   "cell_type": "code",
   "execution_count": 5,
   "id": "4769f37f-3584-4333-b796-ef921efb5a06",
   "metadata": {},
   "outputs": [
    {
     "name": "stdout",
     "output_type": "stream",
     "text": [
      "the smallest Number inside the list = -1\n",
      "the smallest Number inside the list = 100\n",
      "the smallest Number inside the list = None\n"
     ]
    }
   ],
   "source": [
    "def min_list(l):\n",
    "     return(\n",
    "         \n",
    "         l[0] if len(l)==1 else\n",
    "         None if len(l)==0\n",
    "         else min(l)\n",
    "       )\n",
    "\n",
    "print(\"the smallest Number inside the list =\",min_list([10,15,10,25,0,-1])) \n",
    "print(\"the smallest Number inside the list =\",min_list([100])) \n",
    "print(\"the smallest Number inside the list =\",min_list([]))        "
   ]
  },
  {
   "cell_type": "markdown",
   "id": "ca302dd7-7930-4e3a-8ec1-c39dcddfddd7",
   "metadata": {},
   "source": [
    "## Q5 : Write a Python program to get the largest number from a list."
   ]
  },
  {
   "cell_type": "code",
   "execution_count": 6,
   "id": "6f6134eb-739e-431e-ab8b-7bc125c8665c",
   "metadata": {},
   "outputs": [
    {
     "name": "stdout",
     "output_type": "stream",
     "text": [
      "the largest Number inside the list = 25\n",
      "the largest Number inside the list = 100\n",
      "the largest Number inside the list = None\n"
     ]
    }
   ],
   "source": [
    "def max_list(l):\n",
    "     return(\n",
    "         \n",
    "         l[0] if len(l)==1 else\n",
    "         None if len(l)==0\n",
    "         else max(l)\n",
    "       )\n",
    "\n",
    "print(\"the largest Number inside the list =\",max_list([10,15,10,25,0,-1])) \n",
    "print(\"the largest Number inside the list =\",max_list([100]))\n",
    "print(\"the largest Number inside the list =\",max_list([]))"
   ]
  },
  {
   "cell_type": "markdown",
   "id": "46d09e88-115f-431d-9c7d-9a370ca57af8",
   "metadata": {},
   "source": [
    "## Q6  :Write a Python program to count the number of strings from a given list of strings.\n"
   ]
  },
  {
   "cell_type": "code",
   "execution_count": 7,
   "id": "40d519b2-4c9f-41b7-99fb-cc53c0eb5b7a",
   "metadata": {},
   "outputs": [
    {
     "name": "stdout",
     "output_type": "stream",
     "text": [
      "Number of strings inside the list :  5\n",
      "Number of strings inside the list :  1\n",
      "Number of strings inside the list :  None\n"
     ]
    }
   ],
   "source": [
    "def count_string_list(l):\n",
    "\n",
    "    return(\n",
    "\n",
    "        None if len(l)==0 else\n",
    "        1 if len(l)==1 else\n",
    "        len(l)\n",
    "    )\n",
    "  \n",
    "        \n",
    "print(\"Number of strings inside the list : \",count_string_list([\"Abdo\",\"Ali\",\"Hassan\",\"Ayman\",\"Moman\"]))  \n",
    "print(\"Number of strings inside the list : \",count_string_list([\"Abdo\"]))  \n",
    "print(\"Number of strings inside the list : \",count_string_list([]))  "
   ]
  },
  {
   "cell_type": "markdown",
   "id": "5d873396-dcdb-4457-9828-a16ba04e3f97",
   "metadata": {},
   "source": [
    "## Q7 : Write a Python program to clone or copy a list"
   ]
  },
  {
   "cell_type": "code",
   "execution_count": 8,
   "id": "081dc10e-8087-4b53-872b-e1b4d569381b",
   "metadata": {},
   "outputs": [
    {
     "name": "stdout",
     "output_type": "stream",
     "text": [
      "['Ayman', 'Khaled', 'Moman', 'Ayman', 'Khaled', 'Moman']\n"
     ]
    }
   ],
   "source": [
    "def copy_list(l):\n",
    "    return l*2\n",
    "print(copy_list([\"Ayman\",\"Khaled\",\"Moman\"]))    "
   ]
  },
  {
   "cell_type": "markdown",
   "id": "a26b589c-ca88-4a48-982b-031c99b9edb5",
   "metadata": {},
   "source": [
    "## Q8 :Write a Python program to remove item(s) from a given set."
   ]
  },
  {
   "cell_type": "code",
   "execution_count": 9,
   "id": "4ba56287-edd0-4c3a-820b-8865252aae33",
   "metadata": {},
   "outputs": [
    {
     "name": "stdout",
     "output_type": "stream",
     "text": [
      "set after removing some items = {500}\n"
     ]
    }
   ],
   "source": [
    "s1={100,500,1000}\n",
    "s1.remove(100)\n",
    "s1.remove(1000)\n",
    "print(\"set after removing some items =\",s1)"
   ]
  },
  {
   "cell_type": "markdown",
   "id": "0dbc8cbe-04b7-4448-a3a2-4197a71ae0a6",
   "metadata": {},
   "source": [
    "## Q9 : Write a Python program to check if a set is a subset of another set."
   ]
  },
  {
   "cell_type": "code",
   "execution_count": 10,
   "id": "98057665-28dc-432c-a3b6-648b8aa9e5d8",
   "metadata": {},
   "outputs": [
    {
     "name": "stdout",
     "output_type": "stream",
     "text": [
      "True\n"
     ]
    }
   ],
   "source": [
    "setA = {1, 2, 3}\n",
    "setB = {1, 2, 3, 4, 5}\n",
    "\n",
    "is_subset = setA.issubset(setB)\n",
    "print(is_subset) "
   ]
  },
  {
   "cell_type": "markdown",
   "id": "fa7bfbf0-93e1-472f-a6c0-e652f576ab8e",
   "metadata": {},
   "source": [
    "## Q10 : Write a Python program to remove all elements from a given set"
   ]
  },
  {
   "cell_type": "code",
   "execution_count": 11,
   "id": "c66e7af4-d8a0-4cc0-8b39-0d04e43c8d0d",
   "metadata": {},
   "outputs": [
    {
     "name": "stdout",
     "output_type": "stream",
     "text": [
      "None\n"
     ]
    }
   ],
   "source": [
    "def clear_set(s):\n",
    "    return s.clear()\n",
    "print(clear_set({100,100,500,600}))    "
   ]
  },
  {
   "cell_type": "markdown",
   "id": "a205f8fb-3ac6-4c5a-afbe-7b35a53ac57f",
   "metadata": {},
   "source": [
    "## Q11 : Write a Python program to find the maximum and minimum values in a set.\n"
   ]
  },
  {
   "cell_type": "code",
   "execution_count": 12,
   "id": "9c894e04-83df-4a1b-a064-a86d58ec1169",
   "metadata": {},
   "outputs": [
    {
     "name": "stdout",
     "output_type": "stream",
     "text": [
      "(min_value,max_value)= (-100, 10000)\n"
     ]
    }
   ],
   "source": [
    "def max_min_set(s):\n",
    "     return min(s),max(s)\n",
    "print(\"(min_value,max_value)=\",max_min_set({100, 100, 10000, -100}))\n"
   ]
  },
  {
   "cell_type": "markdown",
   "id": "c7bb7378-98fc-4a3f-868b-c2e2370e192f",
   "metadata": {},
   "source": [
    "## Q12 :Write a Python program to find the index of an item in a tuple.\n"
   ]
  },
  {
   "cell_type": "code",
   "execution_count": 13,
   "id": "70222d61-baec-4841-995a-9cfc81f51b9f",
   "metadata": {},
   "outputs": [
    {
     "name": "stdout",
     "output_type": "stream",
     "text": [
      "The index of Number 3 in the tuple is: 2\n"
     ]
    }
   ],
   "source": [
    "my_tuple = (1, 2, 3, 4, 5)\n",
    "index = my_tuple.index(3)\n",
    "print(f\"The index of Number {3} in the tuple is: {index}\")\n"
   ]
  },
  {
   "cell_type": "markdown",
   "id": "2d116bd0-74a1-4bb6-add0-6fc6af8c6da2",
   "metadata": {},
   "source": [
    "## Q13 : Write a Python program to convert a tuple to a dictionary.\n"
   ]
  },
  {
   "cell_type": "code",
   "execution_count": 14,
   "id": "d856d699-9a43-49f0-88fa-77ed6f682d9e",
   "metadata": {},
   "outputs": [
    {
     "name": "stdout",
     "output_type": "stream",
     "text": [
      "[100, 600, 500] <class 'list'>\n"
     ]
    }
   ],
   "source": [
    "t=(100,600,500)\n",
    "l=list(t)\n",
    "print(l,type(l))"
   ]
  },
  {
   "cell_type": "markdown",
   "id": "eebe3abd-bc3b-4a40-b882-97ce480aedfe",
   "metadata": {},
   "source": [
    "## Q14 :Write a Python program to unzip a list of tuples into individual lists.\n"
   ]
  },
  {
   "cell_type": "code",
   "execution_count": 15,
   "id": "79503ab4-d4c7-46d9-8f9c-3e95baec9fbb",
   "metadata": {},
   "outputs": [
    {
     "name": "stdout",
     "output_type": "stream",
     "text": [
      "List 1: [1, 3, 5]\n",
      "List 2: [2, 4, 6]\n"
     ]
    }
   ],
   "source": [
    "list_of_tuples = [(1, 2), (3, 4), (5, 6)]\n",
    "list1, list2 = zip(*list_of_tuples)\n",
    "print(\"List 1:\", list(list1));print(\"List 2:\", list(list2))"
   ]
  },
  {
   "cell_type": "markdown",
   "id": "d4212817-e52e-44c8-9747-37f6943425e6",
   "metadata": {},
   "source": [
    "## Q15 :Write a Python program to reverse a tuple.\n"
   ]
  },
  {
   "cell_type": "code",
   "execution_count": 16,
   "id": "de6d4ce7-71d7-4a41-9e9b-aac3c74d9be8",
   "metadata": {},
   "outputs": [
    {
     "name": "stdout",
     "output_type": "stream",
     "text": [
      "(5, 4, 3, 2, 1)\n"
     ]
    }
   ],
   "source": [
    "my_tuple = (1, 2, 3, 4, 5)\n",
    "reversed_tuple=tuple(reversed(my_tuple))\n",
    "print(reversed_tuple)  "
   ]
  },
  {
   "cell_type": "markdown",
   "id": "71dfae6d-cf1f-48c6-82ec-a7084dcf3af2",
   "metadata": {},
   "source": [
    "## Q16 : Write a Python program to convert a list of tuples into a dictionary.\n"
   ]
  },
  {
   "cell_type": "code",
   "execution_count": 17,
   "id": "e62d56bf-086a-450f-bf90-fda71ca3c25f",
   "metadata": {},
   "outputs": [
    {
     "name": "stdout",
     "output_type": "stream",
     "text": [
      "Dictonary -->>\n",
      "  {'akash': 10, 'gaurav': 12, 'anand': 14, 'suraj': 20, 'akhil': 25, 'ashish': 30}\n"
     ]
    }
   ],
   "source": [
    "list_of_tuples = [(\"akash\", 10), (\"gaurav\", 12), (\"anand\", 14), (\"suraj\", 20), (\"akhil\", 25), (\"ashish\", 30)]\n",
    "dictionary = dict(list_of_tuples)\n",
    "print(\"Dictonary -->>\\n \",dictionary)"
   ]
  },
  {
   "cell_type": "markdown",
   "id": "1deeb281-eb31-46d9-a153-50a57ae03db4",
   "metadata": {},
   "source": [
    "## Q17 :Write a Python program to replace the last value of tuples in a list.\n",
    "\n",
    "\n",
    "<div style=\"border: 5px solid yellow; padding: 10px; background-color: #F5F5DC; color: red; border-radius: 30px 45px 30px 45px;\">\n",
    "\n",
    "<p> &bull; Sample list: [(10, 20, 40), (40, 50, 60), (70, 80, 90)] . </p> \n",
    "\n",
    "<p> &bull; Expected Output: [(10, 20, 100), (40, 50, 100), (70, 80, 100)]  </p>\n",
    "\n",
    "</div>\n"
   ]
  },
  {
   "cell_type": "code",
   "execution_count": 18,
   "id": "4eec940c-465c-4497-9a6b-8ea1d535eb23",
   "metadata": {},
   "outputs": [
    {
     "name": "stdout",
     "output_type": "stream",
     "text": [
      "[(10, 20, 100), (40, 50, 100), (70, 80, 100)]\n"
     ]
    }
   ],
   "source": [
    "sample_list = [(10, 20, 40), (40, 50, 60), (70, 80, 90)]\n",
    "new_value = 100\n",
    "result_list = [(*t[:-1], new_value) for t in sample_list]\n",
    "print(result_list)"
   ]
  },
  {
   "cell_type": "markdown",
   "id": "dc8bf4cb-4da7-40ec-8a9e-eb9b95f20f92",
   "metadata": {},
   "source": [
    "## Q18 : Write a Python program to sort a tuple by its float element."
   ]
  },
  {
   "cell_type": "code",
   "execution_count": 19,
   "id": "b4bc8f64-3caf-4ffa-aaa7-77a3253d61fb",
   "metadata": {},
   "outputs": [
    {
     "data": {
      "text/plain": [
       "(-0.3, 0.0, 0.0545, 5.5, 10.5, 12.5, 300.15)"
      ]
     },
     "execution_count": 19,
     "metadata": {},
     "output_type": "execute_result"
    }
   ],
   "source": [
    "def sorted_tuple(t):\n",
    "    \n",
    "    t_list = list(t)\n",
    "    t_list.sort()\n",
    "    return tuple(t_list)\n",
    "\n",
    "sorted_tuple((10.5, 5.5, 12.5,300.15,0.0,0.0545,-0.3))\n"
   ]
  },
  {
   "cell_type": "markdown",
   "id": "56831dfa-1ec0-4f8e-8708-04315daa6e8f",
   "metadata": {},
   "source": [
    "<img src=\"https://t4.ftcdn.net/jpg/04/00/26/99/360_F_400269908_gDF8JR2ctyHWiL1kww6WEWBerRzD5MBb.jpg\" alt=\"My Image\">"
   ]
  }
 ],
 "metadata": {
  "kernelspec": {
   "display_name": "Python 3 (ipykernel)",
   "language": "python",
   "name": "python3"
  },
  "language_info": {
   "codemirror_mode": {
    "name": "ipython",
    "version": 3
   },
   "file_extension": ".py",
   "mimetype": "text/x-python",
   "name": "python",
   "nbconvert_exporter": "python",
   "pygments_lexer": "ipython3",
   "version": "3.8.10"
  }
 },
 "nbformat": 4,
 "nbformat_minor": 5
}
