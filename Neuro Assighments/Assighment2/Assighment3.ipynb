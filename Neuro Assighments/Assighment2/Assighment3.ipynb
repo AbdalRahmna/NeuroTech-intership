{
 "cells": [
  {
   "cell_type": "code",
   "execution_count": 1,
   "id": "be480df5-32d7-4d38-85c7-1506782a9e0c",
   "metadata": {},
   "outputs": [
    {
     "data": {
      "text/html": [
       "\n",
       "<style>\n",
       "  h2 {\n",
       "    font-size: var(--j3p-content-font-size4);\n",
       "    background-color:#00FF00  ;\n",
       "    color: white;\n",
       "    display: flex;\n",
       "    align-items: center;\n",
       "    justify-content: center;\n",
       "    padding: 10px 41px;\n",
       "    top: 10px;\n",
       "    position: relative;\n",
       "    border-radius: 10px 50px 10px 50px;\n",
       "}\n",
       "\n",
       " img {       /* flex-grow: 1; */\n",
       "            /* flex-shrink: 1; */\n",
       "            border-radius: 100px 70px 150px 70px; \n",
       "            border: 10px solid #eee;\n",
       "            display: flex;\n",
       "            align-items: center;\n",
       "            justify-content: center;\n",
       "            transition: box-shadow 0.3s ease; /* Add a transition for a smooth effect */\n",
       "        }\n",
       "\n",
       "       img:active {\n",
       "          box-shadow: 0 10px 20px rgba(255, 255, 0, 0.5), 0 6px 6px rgba(215, 215, 0, 0.5);\n",
       "        }\n",
       "</style>\n"
      ],
      "text/plain": [
       "<IPython.core.display.HTML object>"
      ]
     },
     "execution_count": 1,
     "metadata": {},
     "output_type": "execute_result"
    }
   ],
   "source": [
    "from IPython.core.display import HTML\n",
    "\n",
    "# Apply styles globally within the notebook\n",
    "\n",
    "HTML('''\n",
    "<style>\n",
    "  h2 {\n",
    "    font-size: var(--j3p-content-font-size4);\n",
    "    background-color:#00FF00  ;\n",
    "    color: white;\n",
    "    display: flex;\n",
    "    align-items: center;\n",
    "    justify-content: center;\n",
    "    padding: 10px 41px;\n",
    "    top: 10px;\n",
    "    position: relative;\n",
    "    border-radius: 10px 50px 10px 50px;\n",
    "}\n",
    "\n",
    " img {       /* flex-grow: 1; */\n",
    "            /* flex-shrink: 1; */\n",
    "            border-radius: 100px 70px 150px 70px; \n",
    "            border: 10px solid #eee;\n",
    "            display: flex;\n",
    "            align-items: center;\n",
    "            justify-content: center;\n",
    "            transition: box-shadow 0.3s ease; /* Add a transition for a smooth effect */\n",
    "        }\n",
    "\n",
    "       img:active {\n",
    "          box-shadow: 0 10px 20px rgba(255, 255, 0, 0.5), 0 6px 6px rgba(215, 215, 0, 0.5);\n",
    "        }\n",
    "</style>\n",
    "''') "
   ]
  },
  {
   "cell_type": "markdown",
   "id": "04ea02ee-99eb-4d97-b03a-4455632327bb",
   "metadata": {},
   "source": [
    "<img src=\"Neuro.jpg\" alt=\"My Image\">\n"
   ]
  },
  {
   "cell_type": "markdown",
   "id": "f5f8bdd6-0278-48a4-a66a-e89402c8ef11",
   "metadata": {},
   "source": [
    "## Created By  : Eng/AbdalRhman Gameel Ahmed Hebishy \n",
    "\n",
    "\n",
    "<div style=\"border: 5px solid yellow; padding: 10px; background-color: #F5F5DC; color: blue; border-radius: 30px 45px 30px 45px;\">\n",
    "\n",
    "<p>&bull;  AbdalRhman Hebishy , DataScientist||Machine learning||Deeplearning Engineer .</p>\n",
    "\n",
    "<p>&bull; <a href=\"https://www.kaggle.com/abdalrhamnhebishy\" target=\"_blank\">Kaggle profile</a>.</p>\n",
    "\n",
    "<p>&bull; <a href=\"https://github.com/AbdalRahmna\" target=\"_blank\">Github profile</a>.</p>\n",
    "\n",
    "<p>&bull; <a href=\"https://www.linkedin.com/in/abdalrahman-hebishy-06465b254/\"_blank\">linkedin profile</a>.</p>\n",
    "\n",
    "\n",
    "</div>\n"
   ]
  },
  {
   "cell_type": "markdown",
   "id": "341f944f-8064-42bc-9670-a2bf16be9c16",
   "metadata": {},
   "source": [
    "## 1: Sum of Even Numbers ?\n",
    "\n",
    "<div style=\"border: 5px solid yellow; padding: 10px; background-color: #F5F5DC; color: blue; border-radius: 30px 45px 30px 45px;\">\n",
    "\n",
    "<p>&bull; Write a Python function called sum_even_numbers that takes a list of integers as an\n",
    "argument and returns the sum of all even numbers in the list.</p>\n",
    "\n",
    "\n",
    "\n",
    "\n",
    "</div>\n"
   ]
  },
  {
   "cell_type": "code",
   "execution_count": 5,
   "id": "cb75a493-222b-4f4d-bc09-c6c5df71cb4d",
   "metadata": {},
   "outputs": [
    {
     "name": "stdout",
     "output_type": "stream",
     "text": [
      "The sum of even numbers in the list is: 30\n"
     ]
    }
   ],
   "source": [
    "def sum_even_numbers(numbers): \n",
    "    even_sum = 0    # just to storge sum of even numbers\n",
    "    for num in numbers: # looping on numbers inside the list\n",
    "        if num % 2 == 0: # check if the number is even or not\n",
    "            even_sum += num # counter that plus every even number and add to storge\n",
    "    return even_sum      # return result\n",
    "\n",
    "numbers = [1, 2, 3, 4, 5, 6, 7, 8, 9, 10]\n",
    "result = sum_even_numbers(numbers)\n",
    "print(f\"The sum of even numbers in the list is: {result}\")       "
   ]
  },
  {
   "cell_type": "code",
   "execution_count": 9,
   "id": "8e176477-c69d-4d33-bd72-83675b920599",
   "metadata": {},
   "outputs": [
    {
     "name": "stdout",
     "output_type": "stream",
     "text": [
      "The sum of even numbers in the list is: 30\n"
     ]
    }
   ],
   "source": [
    "## Another more optimized method :\n",
    "\n",
    "def sum_even_numbers(numbers):\n",
    "\n",
    "    return sum(num for num in numbers if num%2==0)\n",
    "numbers = [1, 2, 3, 4, 5, 6, 7, 8, 9, 10]\n",
    "result = sum_even_numbers(numbers)\n",
    "print(f\"The sum of even numbers in the list is: {result}\")      "
   ]
  },
  {
   "cell_type": "markdown",
   "id": "be0336a9-ed5a-4d5a-bce5-597588473ca9",
   "metadata": {},
   "source": [
    "## Question 2: Factorial of a Number\n",
    "\n",
    "<div style=\"border: 5px solid yellow; padding: 10px; background-color: #F5F5DC; color: blue; border-radius: 30px 45px 30px 45px;\">\n",
    "\n",
    "<p>&bull; Write a Python function called factorial that takes an integer n as an argument and\n",
    "returns the factorial of that number.</p>\n",
    "\n",
    "\n",
    "\n",
    "\n",
    "</div>\n"
   ]
  },
  {
   "cell_type": "markdown",
   "id": "b329f584-a0a6-4e32-92f8-b8f523b7d7de",
   "metadata": {},
   "source": [
    "<img src=\"https://encrypted-tbn1.gstatic.com/images?q=tbn:ANd9GcRCSNi6_8fY6M3uIrI0M1RMqSMoB0xYx7hQZN6THPcaT7H5XQOx\" alt=\"My Image\">"
   ]
  },
  {
   "cell_type": "code",
   "execution_count": 11,
   "id": "77a84436-ec44-4641-81a0-7e01eeebe948",
   "metadata": {},
   "outputs": [
    {
     "name": "stdout",
     "output_type": "stream",
     "text": [
      "factorial 5 = 120\n"
     ]
    }
   ],
   "source": [
    "def factorial(n):\n",
    "    if n==0 or n==1: # 2 base case\n",
    "        return 1\n",
    "    else:\n",
    "        return n*factorial(n-1) # recursion rule\n",
    "print(f\"factorial 5 = {factorial(5)}\")        "
   ]
  },
  {
   "cell_type": "markdown",
   "id": "b3cc643a-47de-43bb-bbe0-0470cac4997e",
   "metadata": {},
   "source": [
    "## Question 3: Palindrome Checker\n",
    "\n",
    "<div style=\"border: 5px solid yellow; padding: 10px; background-color: #F5F5DC; color: blue; border-radius: 30px 45px 30px 45px;\">\n",
    "\n",
    "<p>&bull; Write a Python function called is_palindrome that takes a string as an argument and\n",
    "returns True if the string is a palindrome (reads the same backward as forward), and\n",
    "False otherwise.</p>\n",
    "\n",
    "\n",
    "\n",
    "\n",
    "</div>\n",
    "\n"
   ]
  },
  {
   "cell_type": "code",
   "execution_count": 1,
   "id": "b904bc2f-4adb-4050-806c-5a135101dd84",
   "metadata": {},
   "outputs": [
    {
     "name": "stdout",
     "output_type": "stream",
     "text": [
      "madam:True\n",
      "--------------------------------------------------\n",
      "MOM is palandorme : True\n"
     ]
    }
   ],
   "source": [
    "def is_palandorme(word):\n",
    "    if len(word)<2: # check if numbder of letters in side word smaller than 2\n",
    "        return True\n",
    "    elif word[0]==word[-1]  : # check if first letter the same the last\n",
    "        return is_palandorme(word[1:-1]) # call function is_palandorme but with repeat the check untill reach to the middle of word \n",
    "    else:\n",
    "        return False\n",
    "\n",
    "result=is_palandorme(\"madam\")\n",
    "print(f\"madam:{result}\")\n",
    "\n",
    "print(\"-\"*50)\n",
    "#-----------------------------------------------------------\n",
    "\n",
    "# Another mora optimized way :\n",
    "\n",
    "def is_palandorme(word):\n",
    "\n",
    "    return (\n",
    "        True \n",
    "        if len(word)<2 \n",
    "        else is_palandorme(word[1:-1]) \n",
    "        if word[0]==word[-1] \n",
    "        else False\n",
    "        )\n",
    "\n",
    "print(\"MOM is palandorme :\",is_palandorme(\"MOM\"))\n"
   ]
  },
  {
   "cell_type": "markdown",
   "id": "91f716e7-8a19-4ddd-94a7-d3afd78955e5",
   "metadata": {},
   "source": [
    "## 4. Question 4: Prime Number Checker\n",
    "\n",
    "\n",
    "<div style=\"border: 5px solid yellow; padding: 10px; background-color: #F5F5DC; color: blue; border-radius: 30px 45px 30px 45px;\">\n",
    "\n",
    "<p>&bull; Write a Python function called is_prime that takes an integer as an argument and\n",
    "returns True if the number is a prime number, and False otherwise.\n",
    "</p>\n",
    "\n",
    "\n",
    "\n",
    "\n",
    "</div>\n",
    "\n"
   ]
  },
  {
   "cell_type": "code",
   "execution_count": 38,
   "id": "1541a8a5-9a9d-449b-a9a8-12a42bfc06ff",
   "metadata": {},
   "outputs": [
    {
     "name": "stdout",
     "output_type": "stream",
     "text": [
      "is prime 10 : False\n",
      "is prime 1 : True\n",
      "is prime 5 : True\n",
      "--------------------------------------------------\n",
      "is prime 25 : False\n",
      "is prime 1 : True\n",
      "is prime 7 : True\n"
     ]
    }
   ],
   "source": [
    "# Recursion way :\n",
    "\n",
    "def is_prime_1(number,i=2):\n",
    "    if number==1 or i==number:\n",
    "        return True\n",
    "    elif number%i==0:\n",
    "        return False\n",
    "    else:\n",
    "        return is_prime_1(number,i+1)\n",
    "print(\"is prime 10 :\",is_prime_1(10))        \n",
    "print(\"is prime 1 :\",is_prime_1(1))\n",
    "print(\"is prime 5 :\",is_prime_1(5))\n",
    "print(\"-\"*50)\n",
    "#-----------------------------------------------------------------\n",
    "# iteration way :\n",
    "\n",
    "def is_prime_2(n):\n",
    "    for i in range(2,n):\n",
    "        if n%i==0:\n",
    "            return False\n",
    "    return True\n",
    "print(\"is prime 25 :\",is_prime_2(25))        \n",
    "print(\"is prime 1 :\",is_prime_2(1))\n",
    "print(\"is prime 7 :\",is_prime_2(7))"
   ]
  },
  {
   "cell_type": "markdown",
   "id": "4fd0f2a7-5670-4e27-a9a1-f235ecaf5f91",
   "metadata": {},
   "source": [
    "## Question 5: Fibonacci Sequence\n",
    "\n",
    "\n",
    "\n",
    "<div style=\"border: 5px solid yellow; padding: 10px; background-color: #F5F5DC; color: blue; border-radius: 30px 45px 30px 45px;\">\n",
    "\n",
    "<p>&bull; Write a Python function called fibonacci that takes an integer n as an argument and\n",
    "returns a list containing the first n numbers of the Fibonacci sequence.\n",
    "</p>\n",
    "\n",
    "</div>\n"
   ]
  },
  {
   "cell_type": "markdown",
   "id": "154496ca-2452-4ead-ac46-f8d2e2ed4a6e",
   "metadata": {},
   "source": [
    "<img src=\"https://foojay.io/wp-content/uploads/2022/02/Screen-Shot-2022-02-26-at-10.05.20-AM-493x510.png\" alt=\"My Image\">"
   ]
  },
  {
   "cell_type": "code",
   "execution_count": 42,
   "id": "3a53666d-609c-4dbc-8757-214a999d64b4",
   "metadata": {},
   "outputs": [
    {
     "name": "stdout",
     "output_type": "stream",
     "text": [
      "Fibonacci sequence.  5\n"
     ]
    }
   ],
   "source": [
    "def fibonacci(n):\n",
    "    return(\n",
    "        0 if n==0\n",
    "        else 1 if n ==1\n",
    "        else\n",
    "        fibonacci(n-1)+fibonacci(n-2)\n",
    "    )\n",
    "print(\"Fibonacci sequence. \",fibonacci(5))    "
   ]
  },
  {
   "cell_type": "markdown",
   "id": "b22455f3-1a49-4766-b56f-b564a58555ab",
   "metadata": {},
   "source": [
    "## Question 6: Count Vowels in a String\n",
    "\n",
    "<div style=\"border: 5px solid yellow; padding: 10px; background-color: #F5F5DC; color: blue; border-radius: 30px 45px 30px 45px;\">\n",
    "\n",
    "<p>&bull;Write a Python function called count_vowels that takes a string as an argument and\n",
    "returns the number of vowels in the string.</p>\n",
    "\n",
    "</div>"
   ]
  },
  {
   "cell_type": "code",
   "execution_count": 12,
   "id": "7bb830e0-031a-4cc9-bb74-a00c9f5bb686",
   "metadata": {},
   "outputs": [
    {
     "name": "stdout",
     "output_type": "stream",
     "text": [
      "The number of vowels in 'Hello' is: 2\n",
      "The number of vowels in 'World' is: 1\n",
      "The number of vowels in 'AEIOU' is: 5\n",
      "The number of vowels in 'aeiou' is: 5\n",
      "The number of vowels in 'This is a test string' is: 5\n"
     ]
    }
   ],
   "source": [
    "def count_vowels(s):\n",
    " \n",
    "    vowels = 'aeiouAEIOU'\n",
    "    return sum(1 for char in s if char in vowels) #  it will calc the number of vowels in every character \n",
    "\n",
    "\n",
    "test_strings = [\"Hello\", \"World\", \"AEIOU\", \"aeiou\", \"This is a test string\"]\n",
    "for s in test_strings:\n",
    "    print(f\"The number of vowels in '{s}' is: {count_vowels(s)}\")"
   ]
  },
  {
   "cell_type": "markdown",
   "id": "e2be70b1-fada-450d-93eb-05a2d02c50ff",
   "metadata": {},
   "source": [
    "## Question 7: Reverse a List\n",
    "\n",
    "<div style=\"border: 5px solid yellow; padding: 10px; background-color: #F5F5DC; color: blue; border-radius: 30px 45px 30px 45px;\">\n",
    "\n",
    "<p>&bull;Write a Python function called reverse_list that takes a list as an argument and\n",
    "returns a new list that is the reverse of the original list.</p>\n",
    "\n",
    "</div>"
   ]
  },
  {
   "cell_type": "code",
   "execution_count": 9,
   "id": "173ba45f-6e6d-4be6-8e1c-8c843ae5203a",
   "metadata": {},
   "outputs": [
    {
     "name": "stdout",
     "output_type": "stream",
     "text": [
      "Original list: [1, 2, 3, 4, 5]\n",
      "Reversed list: [5, 4, 3, 2, 1]\n"
     ]
    }
   ],
   "source": [
    "def reverse_list(lst):\n",
    "\n",
    "    return lst[::-1] # it will give us the last element inside the list then the one after it an so on.\n",
    "\n",
    "lst=[1,2,3,4,5]\n",
    "print(f\"Original list: {lst}\")\n",
    "print(f\"Reversed list: {reverse_list(lst)}\")     "
   ]
  },
  {
   "cell_type": "markdown",
   "id": "5add8489-42ba-40b1-b255-2343a5347bd0",
   "metadata": {},
   "source": [
    "## Question 8: Unique Elements\n",
    "\n",
    "\n",
    "<div style=\"border: 5px solid yellow; padding: 10px; background-color: #F5F5DC; color: blue; border-radius: 30px 45px 30px 45px;\">\n",
    "\n",
    "<p>&bull;Write a Python function called unique_elements that takes a list as an argument and\n",
    "returns a new list containing only the unique elements from the original list..</p>\n",
    "\n",
    "</div>"
   ]
  },
  {
   "cell_type": "code",
   "execution_count": 15,
   "id": "89734b1a-cd40-4863-b4ce-bb427061518a",
   "metadata": {},
   "outputs": [
    {
     "name": "stdout",
     "output_type": "stream",
     "text": [
      "only unique elements inside list : [1, 2, 66, 100, 5, 6, 200, 300, 60]\n"
     ]
    }
   ],
   "source": [
    "def unique_elements(lst):\n",
    "    return list(set(lst)) # idea that set take elements without repeating them for that i take set then all of this inside the list \n",
    "\n",
    "lst=[1,100,6,100,5,6,100,300,100,200,100,60,100,2,6,300,200,66]\n",
    "print(\"only unique elements inside list :\",unique_elements(lst))"
   ]
  },
  {
   "cell_type": "markdown",
   "id": "3f4c0e71-fb5a-4d54-9b7e-5e5cd428494a",
   "metadata": {},
   "source": [
    "## Question 9: String Anagram Checker\n",
    "\n",
    "<div style=\"border: 5px solid yellow; padding: 10px; background-color: #F5F5DC; color: blue; border-radius: 30px 45px 30px 45px;\">\n",
    "\n",
    "<p>&bull;Write a Python function called are_anagrams that takes two strings as arguments and\n",
    "returns True if the strings are anagrams of each other (contain the same characters in a\n",
    "different order), and False otherwise.</p>\n",
    "\n",
    "</div>"
   ]
  },
  {
   "cell_type": "code",
   "execution_count": 19,
   "id": "6200e94b-b74f-4d09-9211-f6d645a7ccc4",
   "metadata": {},
   "outputs": [
    {
     "name": "stdout",
     "output_type": "stream",
     "text": [
      "are_anagrams -->> False\n",
      "are_anagrams -->> False\n",
      "are_anagrams -->> True\n"
     ]
    }
   ],
   "source": [
    "def are_anagrams(s1, s2):\n",
    "    # At first we removed any space \n",
    "    s1 = s1.replace(\" \", \"\")\n",
    "    s2 = s2.replace(\" \", \"\")\n",
    "    # check if sorted s1 is the same sorted s2\n",
    "    return sorted(s1) == sorted(s2)\n",
    "print(\"are_anagrams -->>\",are_anagrams(\"Ali\",\"Khaled\"))\n",
    "print(\"are_anagrams -->>\",are_anagrams(\"AbdalRhman\",\"Abdalmonem\"))\n",
    "print(\"are_anagrams -->>\",are_anagrams(\"Abdo\",\"Abdo\"))"
   ]
  },
  {
   "cell_type": "markdown",
   "id": "473c98e6-681d-4538-816b-b5eee7d98029",
   "metadata": {},
   "source": [
    "<img src=\"https://t4.ftcdn.net/jpg/04/00/26/99/360_F_400269908_gDF8JR2ctyHWiL1kww6WEWBerRzD5MBb.jpg\" alt=\"My Image\">"
   ]
  },
  {
   "cell_type": "code",
   "execution_count": null,
   "id": "0837671f-439b-486a-85ca-82262dadff00",
   "metadata": {},
   "outputs": [],
   "source": []
  }
 ],
 "metadata": {
  "kernelspec": {
   "display_name": "Python 3 (ipykernel)",
   "language": "python",
   "name": "python3"
  },
  "language_info": {
   "codemirror_mode": {
    "name": "ipython",
    "version": 3
   },
   "file_extension": ".py",
   "mimetype": "text/x-python",
   "name": "python",
   "nbconvert_exporter": "python",
   "pygments_lexer": "ipython3",
   "version": "3.8.10"
  }
 },
 "nbformat": 4,
 "nbformat_minor": 5
}
