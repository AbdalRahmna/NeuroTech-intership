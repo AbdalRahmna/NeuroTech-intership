{
 "cells": [
  {
   "cell_type": "code",
   "execution_count": 1,
   "id": "923f49fb-aca3-452c-9d36-28c20d7e166d",
   "metadata": {},
   "outputs": [
    {
     "data": {
      "text/html": [
       "\n",
       "<style>\n",
       "  h2 {\n",
       "    font-size: var(--j3p-content-font-size4);\n",
       "    background-color:#00FF00  ;\n",
       "    color: white;\n",
       "    display: flex;\n",
       "    align-items: center;\n",
       "    justify-content: center;\n",
       "    padding: 10px 41px;\n",
       "    top: 10px;\n",
       "    position: relative;\n",
       "    border-radius: 10px 50px 10px 50px;\n",
       "}\n",
       "\n",
       " img {       /* flex-grow: 1; */\n",
       "            /* flex-shrink: 1; */\n",
       "            border-radius: 100px 70px 150px 70px; \n",
       "            border: 10px solid #eee;\n",
       "            display: flex;\n",
       "            align-items: center;\n",
       "            justify-content: center;\n",
       "            transition: box-shadow 0.3s ease; /* Add a transition for a smooth effect */\n",
       "        }\n",
       "\n",
       "       img:active {\n",
       "          box-shadow: 0 10px 20px rgba(255, 255, 0, 0.5), 0 6px 6px rgba(215, 215, 0, 0.5);\n",
       "        }\n",
       "</style>\n"
      ],
      "text/plain": [
       "<IPython.core.display.HTML object>"
      ]
     },
     "execution_count": 1,
     "metadata": {},
     "output_type": "execute_result"
    }
   ],
   "source": [
    "from IPython.core.display import HTML\n",
    "# Apply styles globally within the notebook\n",
    "HTML('''\n",
    "<style>\n",
    "  h2 {\n",
    "    font-size: var(--j3p-content-font-size4);\n",
    "    background-color:#00FF00  ;\n",
    "    color: white;\n",
    "    display: flex;\n",
    "    align-items: center;\n",
    "    justify-content: center;\n",
    "    padding: 10px 41px;\n",
    "    top: 10px;\n",
    "    position: relative;\n",
    "    border-radius: 10px 50px 10px 50px;\n",
    "}\n",
    "\n",
    " img {       /* flex-grow: 1; */\n",
    "            /* flex-shrink: 1; */\n",
    "            border-radius: 100px 70px 150px 70px; \n",
    "            border: 10px solid #eee;\n",
    "            display: flex;\n",
    "            align-items: center;\n",
    "            justify-content: center;\n",
    "            transition: box-shadow 0.3s ease; /* Add a transition for a smooth effect */\n",
    "        }\n",
    "\n",
    "       img:active {\n",
    "          box-shadow: 0 10px 20px rgba(255, 255, 0, 0.5), 0 6px 6px rgba(215, 215, 0, 0.5);\n",
    "        }\n",
    "</style>\n",
    "''') "
   ]
  },
  {
   "cell_type": "markdown",
   "id": "e7ded8a5-22b5-4a4b-88b7-166239c3ed4d",
   "metadata": {},
   "source": [
    "##  Another split codes :"
   ]
  },
  {
   "cell_type": "code",
   "execution_count": 2,
   "id": "73ff8072-1221-4dbf-8492-a839be688ce5",
   "metadata": {},
   "outputs": [
    {
     "name": "stdout",
     "output_type": "stream",
     "text": [
      "['hi', 'how', 'are', 'you']\n"
     ]
    }
   ],
   "source": [
    "s=\"hi how are you\"\n",
    "result=[]\n",
    "word=\"\"\n",
    "for c in s :\n",
    "    if c !=' ' :\n",
    "        word+=c\n",
    "    else:\n",
    "        result.append(word)\n",
    "        word=\"\"\n",
    "result.append(word)\n",
    "print(result)        "
   ]
  },
  {
   "cell_type": "code",
   "execution_count": 3,
   "id": "76e4ae22-7cc2-458f-a746-fd8ac3065148",
   "metadata": {},
   "outputs": [
    {
     "name": "stdout",
     "output_type": "stream",
     "text": [
      "Result: ['hi', 'how', 'are', 'you']\n"
     ]
    }
   ],
   "source": [
    "resul=[]\n",
    "s=\"hi,how,are,you\"\n",
    "V=s.split(\",\")\n",
    "result.append(V)\n",
    "print(\"Result:\",V )   "
   ]
  },
  {
   "cell_type": "code",
   "execution_count": 4,
   "id": "7dd47553-5833-43c2-9f9f-a178ba3c7f80",
   "metadata": {},
   "outputs": [
    {
     "name": "stdout",
     "output_type": "stream",
     "text": [
      " Result0 -->> hi,how,are,you\n"
     ]
    }
   ],
   "source": [
    "for i in s.split() :\n",
    "    for n in range (1):\n",
    "     print( f\" Result{n} -->> {i}\")"
   ]
  },
  {
   "cell_type": "code",
   "execution_count": 5,
   "id": "1ba6ee7d-c5f7-48cc-a16f-3b8cfcd0e5a8",
   "metadata": {},
   "outputs": [
    {
     "data": {
      "text/plain": [
       "['hi', 'how', 'are', 'you']"
      ]
     },
     "execution_count": 5,
     "metadata": {},
     "output_type": "execute_result"
    }
   ],
   "source": [
    "'''\n",
    "prob : write a program that split and clean the text in the list \n",
    "'''\n",
    "s=\"hi,how,are,you\"\n",
    "result=[]\n",
    "word=\"\"\n",
    "for c in s :\n",
    "    if c != ',' :\n",
    "        word+=c\n",
    "    else:\n",
    "        result.append(word)\n",
    "        word=\"\"\n",
    "result.append(word)   \n",
    "result"
   ]
  },
  {
   "cell_type": "markdown",
   "id": "6142ea04-1674-4369-910f-4b69fafa98aa",
   "metadata": {},
   "source": [
    "## While looping :"
   ]
  },
  {
   "cell_type": "code",
   "execution_count": 6,
   "id": "16a8c4d2-06ba-434c-a28f-21a7fa0613dd",
   "metadata": {},
   "outputs": [
    {
     "name": "stdout",
     "output_type": "stream",
     "text": [
      "hello\n",
      "hello\n",
      "hello\n",
      "hello\n",
      "hello\n"
     ]
    }
   ],
   "source": [
    "i=0\n",
    "while i< 10:\n",
    "    print(\"hello\")\n",
    "    i+=2"
   ]
  },
  {
   "cell_type": "code",
   "execution_count": 7,
   "id": "c64d24ef-faae-4656-9437-ffbf4bc04478",
   "metadata": {
    "scrolled": true
   },
   "outputs": [
    {
     "name": "stdout",
     "output_type": "stream",
     "text": [
      "hi,how,are,you\n"
     ]
    }
   ],
   "source": [
    "s=\"hi,how,are,you\"\n",
    "i=10\n",
    "while s[i] != \" \" or s[i] != \",\":\n",
    "    print(s)\n",
    "    break\n",
    "    i+=1\n",
    "    \n",
    "    "
   ]
  },
  {
   "cell_type": "code",
   "execution_count": 8,
   "id": "ac76fb2b-399b-43d7-a414-8e7ad1a2c836",
   "metadata": {},
   "outputs": [
    {
     "name": "stdout",
     "output_type": "stream",
     "text": [
      "hey\n",
      "guys\n",
      "how\n",
      "Loop ended\n",
      "-------------------------\n",
      "hey\n",
      "guys\n",
      "how\n",
      "Loop ended\n"
     ]
    }
   ],
   "source": [
    "'''\n",
    "prob: write a code that still print a word that length bigger than 2 & break at length of word =2 : \n",
    "'''\n",
    "\n",
    "text = \"hey guys how is it going\"\n",
    "words = text.split()\n",
    "index = 0\n",
    "    \n",
    "while index < len(words):\n",
    "    word = words[index]\n",
    "        \n",
    "    if len(word) > 2:\n",
    "        print(word)\n",
    "        index += 1\n",
    "    elif len(word) == 2:\n",
    "        break\n",
    "    \n",
    "print(\"Loop ended\")\n",
    "print(\"-\"*25)\n",
    "\n",
    "#------------------------------------------------------------------------------------------------\n",
    "\n",
    "text = \"hey guys how is it going\"\n",
    "words = text.split()\n",
    "index = 0\n",
    "\n",
    "while index < len(words) and len(words[index]) > 2:\n",
    "    word = words[index]\n",
    "    print(word)\n",
    "    index += 1\n",
    "\n",
    "print(\"Loop ended\")\n",
    "\n"
   ]
  },
  {
   "cell_type": "markdown",
   "id": "3c753249-a59d-4274-aed0-7d455cf4d12c",
   "metadata": {},
   "source": [
    "## continue /break"
   ]
  },
  {
   "cell_type": "code",
   "execution_count": null,
   "id": "936aeb26-616e-4b85-911a-71e30168ebc2",
   "metadata": {},
   "outputs": [
    {
     "name": "stdout",
     "output_type": "stream",
     "text": [
      "hey\n",
      "guys\n",
      "how\n",
      "Loop ended\n",
      "-------------------------\n"
     ]
    }
   ],
   "source": [
    "# continue -->> skip\n",
    "# break -->> stop\n",
    "\n",
    "text = \"hey guys how is it going\"\n",
    "words = text.split()\n",
    "index = 0\n",
    "    \n",
    "while index < len(words):\n",
    "    word = words[index]\n",
    "        \n",
    "    if len(word) > 2:\n",
    "        print(word)\n",
    "        index += 1\n",
    "    elif len(word) == 2:\n",
    "        break\n",
    "    \n",
    "print(\"Loop ended\")\n",
    "print(\"-\"*25)\n",
    "\n",
    "#------------------------------------\n",
    "\n",
    "i=0\n",
    "while i < len(words):\n",
    "    if len(words[i])!=2:\n",
    "        continue\n",
    "    print(words[i])\n",
    "    break\n",
    "    i+=1\n",
    "print(\"Loop Ends\") \n",
    "\n",
    "\n"
   ]
  },
  {
   "cell_type": "markdown",
   "id": "ae79eb33-4c30-4c25-beb5-671beee33b4e",
   "metadata": {},
   "source": [
    "##  Types of Functions :"
   ]
  },
  {
   "cell_type": "code",
   "execution_count": 9,
   "id": "115ebfe1-a45f-4c0b-a775-d8d3e2fc9140",
   "metadata": {},
   "outputs": [
    {
     "name": "stdout",
     "output_type": "stream",
     "text": [
      "Maximum number inside list -->> 100\n"
     ]
    }
   ],
   "source": [
    "print(\"Maximum number inside list -->>\",max([10,2,5,9,6,8,7,100,1,2,54,0]))"
   ]
  },
  {
   "cell_type": "code",
   "execution_count": 8,
   "id": "05172174-145c-483e-be1d-d8914f2a71b9",
   "metadata": {},
   "outputs": [
    {
     "name": "stdout",
     "output_type": "stream",
     "text": [
      "100\n"
     ]
    }
   ],
   "source": [
    "## Maximum number :\n",
    "m=0\n",
    "for i in [10,2,5,9,6,8,7,100,1,2,54,0]:\n",
    "    if i > m  :\n",
    "        m=i\n",
    "print(m)        "
   ]
  },
  {
   "cell_type": "code",
   "execution_count": 7,
   "id": "e793ec7f-4bd4-418e-b7b2-a659b6bb2699",
   "metadata": {},
   "outputs": [
    {
     "name": "stdout",
     "output_type": "stream",
     "text": [
      "Maximum Number inside the list -->> 100\n"
     ]
    }
   ],
   "source": [
    "def mx(l):\n",
    "    m=0\n",
    "    for i in l :\n",
    "        if i>m:\n",
    "            m=i\n",
    "    return m\n",
    "c=[10,2,5,9,6,8,7,100,1,2,54,0]\n",
    "print(\"Maximum Number inside the list -->>\",mx(c))"
   ]
  },
  {
   "cell_type": "code",
   "execution_count": 6,
   "id": "b57c8546-fcbe-4303-8de3-41473d6fb0bc",
   "metadata": {},
   "outputs": [
    {
     "name": "stdout",
     "output_type": "stream",
     "text": [
      "result -->> ['hi', 'how', 'are', 'you']\n"
     ]
    }
   ],
   "source": [
    "def split_string(text):\n",
    "    result=[]\n",
    "    word=\"\"\n",
    "    for c in text :\n",
    "      if c !=' ' :\n",
    "         word+=c\n",
    "      else:\n",
    "         result.append(word)\n",
    "         word=\"\"\n",
    "    result.append(word)\n",
    "    return result\n",
    "\n",
    "# Example :\n",
    "c=\"hi how are you\"\n",
    "print(\"result -->>\",split_string(c))"
   ]
  },
  {
   "cell_type": "code",
   "execution_count": 5,
   "id": "e24931d2-fe52-4738-8b85-5e82e478b1f9",
   "metadata": {},
   "outputs": [
    {
     "data": {
      "text/plain": [
       "10"
      ]
     },
     "execution_count": 5,
     "metadata": {},
     "output_type": "execute_result"
    }
   ],
   "source": [
    "def add(x,y):\n",
    "    return x+y\n",
    "add(5,5)    "
   ]
  },
  {
   "cell_type": "code",
   "execution_count": null,
   "id": "8aaeba24-d4e1-4527-a14a-b0894736829a",
   "metadata": {},
   "outputs": [],
   "source": [
    "def print_name(first_name,last_name=\"Ali\"):\n",
    "    print(f\"Hi my Names {first_name} & last_name {last_name}\")\n",
    "print_name(\"Ali\")    "
   ]
  },
  {
   "cell_type": "code",
   "execution_count": 4,
   "id": "6eb8b2a6-537b-419f-a989-fc4134d51621",
   "metadata": {},
   "outputs": [
    {
     "name": "stdout",
     "output_type": "stream",
     "text": [
      "Hi! my names Ali,('Fawzi', 'Madehai')\n"
     ]
    }
   ],
   "source": [
    "# What user will input inside the input of function ?\n",
    "# * ->> mean list or array \n",
    "# ** ->> mean only dictionary\n",
    "\n",
    "def print_name(*names):\n",
    "     print(f\"Hi! my names {names[0]},{names[1],names[2]}\")\n",
    "print_name(\"Ali\",\"Fawzi\",\"Madehai\")    "
   ]
  },
  {
   "cell_type": "code",
   "execution_count": 6,
   "id": "51dd59fc-3b3f-4f1a-a19c-5b09e80a462d",
   "metadata": {},
   "outputs": [
    {
     "ename": "TypeError",
     "evalue": "print_name() takes 0 positional arguments but 1 was given",
     "output_type": "error",
     "traceback": [
      "\u001b[0;31m---------------------------------------------------------------------------\u001b[0m",
      "\u001b[0;31mTypeError\u001b[0m                                 Traceback (most recent call last)",
      "Cell \u001b[0;32mIn[6], line 9\u001b[0m\n\u001b[1;32m      2\u001b[0m      \u001b[38;5;28mprint\u001b[39m(\u001b[38;5;124mf\u001b[39m\u001b[38;5;124m\"\u001b[39m\u001b[38;5;124mHi! my names \u001b[39m\u001b[38;5;132;01m{\u001b[39;00margs[\u001b[38;5;241m0\u001b[39m]\u001b[38;5;132;01m}\u001b[39;00m\u001b[38;5;124m,\u001b[39m\u001b[38;5;132;01m{\u001b[39;00mnames[\u001b[38;5;241m1\u001b[39m],names[\u001b[38;5;241m2\u001b[39m]\u001b[38;5;132;01m}\u001b[39;00m\u001b[38;5;124m\"\u001b[39m)\n\u001b[1;32m      4\u001b[0m Names\u001b[38;5;241m=\u001b[39m{\n\u001b[1;32m      5\u001b[0m     \u001b[38;5;124m\"\u001b[39m\u001b[38;5;124mName\u001b[39m\u001b[38;5;124m\"\u001b[39m:\u001b[38;5;124m\"\u001b[39m\u001b[38;5;124mAbdalRhamn\u001b[39m\u001b[38;5;124m\"\u001b[39m,\n\u001b[1;32m      6\u001b[0m     \u001b[38;5;124m\"\u001b[39m\u001b[38;5;124mAge\u001b[39m\u001b[38;5;124m\"\u001b[39m:\u001b[38;5;241m25\u001b[39m,\n\u001b[1;32m      7\u001b[0m     \u001b[38;5;124m\"\u001b[39m\u001b[38;5;124mCountry\u001b[39m\u001b[38;5;124m\"\u001b[39m:\u001b[38;5;124m\"\u001b[39m\u001b[38;5;124mEgypt\u001b[39m\u001b[38;5;124m\"\u001b[39m\n\u001b[1;32m      8\u001b[0m         }\n\u001b[0;32m----> 9\u001b[0m \u001b[43mprint_name\u001b[49m\u001b[43m(\u001b[49m\u001b[43mNames\u001b[49m\u001b[43m)\u001b[49m    \n",
      "\u001b[0;31mTypeError\u001b[0m: print_name() takes 0 positional arguments but 1 was given"
     ]
    }
   ],
   "source": [
    "def print_name(**args):\n",
    "     print(f\"Hi! my names {args[0]},{names[1],names[2]}\")\n",
    "\n",
    "Names={\n",
    "    \"Name\":\"AbdalRhamn\",\n",
    "    \"Age\":25,\n",
    "    \"Country\":\"Egypt\"\n",
    "        }\n",
    "print_name(Names)    "
   ]
  },
  {
   "cell_type": "markdown",
   "id": "a5ca962c-1382-436c-a79a-6074d6dad929",
   "metadata": {},
   "source": [
    "## Scope Problems :"
   ]
  },
  {
   "cell_type": "code",
   "execution_count": 3,
   "id": "dfd13ba1-4d74-4f3c-b2e5-c355d69b2989",
   "metadata": {},
   "outputs": [
    {
     "name": "stdout",
     "output_type": "stream",
     "text": [
      "inside = 5\n",
      "outside = 8\n"
     ]
    }
   ],
   "source": [
    "x=8\n",
    "def fun(x):\n",
    "    x=5\n",
    "    return x\n",
    "print(\"inside =\",fun(x)) \n",
    "print(\"outside =\",x)"
   ]
  },
  {
   "cell_type": "markdown",
   "id": "03bd9da3-c988-4d2d-aea2-0ba0361ae24b",
   "metadata": {},
   "source": [
    "## Tasks :"
   ]
  },
  {
   "cell_type": "code",
   "execution_count": 7,
   "id": "b768f6fd-80fd-4098-bf67-7d70260b9d0a",
   "metadata": {},
   "outputs": [
    {
     "name": "stdout",
     "output_type": "stream",
     "text": [
      "\n",
      " First Code :\n"
     ]
    },
    {
     "name": "stdin",
     "output_type": "stream",
     "text": [
      "Enter first Number : 5\n",
      "Enter second Number : 5\n",
      "Enter third Number : 5\n"
     ]
    },
    {
     "name": "stdout",
     "output_type": "stream",
     "text": [
      "Number bigger -->>  ('First Number equal Second Number equal third number', 5.0)\n",
      "--------------------------------------------------\n",
      "\n",
      " Second Code :\n"
     ]
    },
    {
     "name": "stdin",
     "output_type": "stream",
     "text": [
      "Enter first Number : 100\n",
      "Enter second Number : 20\n",
      "Enter third Number : 190\n"
     ]
    },
    {
     "name": "stdout",
     "output_type": "stream",
     "text": [
      "Biggest number = 190.0\n",
      "--------------------------------------------------\n",
      "\n",
      " Third Code:\n",
      "Biggest Number in list3  = 4000\n",
      "Biggest Number in list2  = 500\n",
      "Biggest Number in list1  = None\n"
     ]
    }
   ],
   "source": [
    "# Tasks :\n",
    "\n",
    "print(\"\\n First Code :\")\n",
    "## code 1:\n",
    "\n",
    "\n",
    "num_1=float(input(\"Enter first Number :\"))\n",
    "num_2=float(input(\"Enter second Number :\"))\n",
    "num_3=float(input(\"Enter third Number :\"))\n",
    "\n",
    "def bigger_fun(x,y,z):\n",
    "    \n",
    "    if (x>y) & (x>z):\n",
    "        return (\"first Number  is the bigger\",x)\n",
    "    \n",
    "    elif (z<y) : \n",
    "        return (\"second Number is the bigger\",y)\n",
    "    \n",
    "    elif (x==y)& (y==z ) & (x==z) :\n",
    "        return (\"First Number equal Second Number equal third number\",x)\n",
    "    else:\n",
    "        return (\"Third Number is the bigger\",z)\n",
    "    \n",
    "\n",
    "print(\"Number bigger -->> \",bigger_fun(num_1,num_2,num_3))  \n",
    "\n",
    "print(\"-\"*50)\n",
    "\n",
    "# -----------------------------------------------\n",
    "\n",
    "print(\"\\n Second Code :\")\n",
    "## code2:\n",
    "\n",
    "l=[]\n",
    "def the_biggest(l):\n",
    "    \n",
    "    num_11=float(input(\"Enter first Number :\"))\n",
    "    \n",
    "    num_22=float(input(\"Enter second Number :\"))\n",
    "    \n",
    "    num_33=float(input(\"Enter third Number :\"))\n",
    "    \n",
    "    l.append(num_11)\n",
    "    \n",
    "    l.append(num_22)\n",
    "    \n",
    "    l.append(num_33)\n",
    "    \n",
    "    if len(l)==0:\n",
    "        return None\n",
    "   \n",
    "    for i in l:\n",
    "       m=max(l)\n",
    "    return m\n",
    "\n",
    "print(\"Biggest number =\",the_biggest(l))\n",
    "print(\"-\"*50)\n",
    "\n",
    "#-----------------------------------------------------\n",
    "\n",
    "print(\"\\n Third Code:\")\n",
    "\n",
    "def fun(x):\n",
    "    if len(x) == 0:\n",
    "        return None  \n",
    "    max_value = x[0]\n",
    "    index = 1\n",
    "    while index < len(x):\n",
    "        if x[index] > max_value:\n",
    "            max_value = x[index]\n",
    "        index += 1\n",
    "    return max_value\n",
    "\n",
    "L1=[]\n",
    "L2=[100,200,300,500,-10]\n",
    "L3=[1000,900,500,4000,600]\n",
    "result1 = fun(L1)\n",
    "result2 = fun(L2)\n",
    "result3 = fun(L3)\n",
    "print(\"Biggest Number in list3  =\",result3)\n",
    "print(\"Biggest Number in list2  =\",result2)\n",
    "print(\"Biggest Number in list1  =\",result1)"
   ]
  },
  {
   "cell_type": "code",
   "execution_count": null,
   "id": "08f8966f-81ca-4470-bbff-bedc2c105f45",
   "metadata": {},
   "outputs": [],
   "source": []
  }
 ],
 "metadata": {
  "kernelspec": {
   "display_name": "Python 3 (ipykernel)",
   "language": "python",
   "name": "python3"
  },
  "language_info": {
   "codemirror_mode": {
    "name": "ipython",
    "version": 3
   },
   "file_extension": ".py",
   "mimetype": "text/x-python",
   "name": "python",
   "nbconvert_exporter": "python",
   "pygments_lexer": "ipython3",
   "version": "3.8.10"
  }
 },
 "nbformat": 4,
 "nbformat_minor": 5
}
