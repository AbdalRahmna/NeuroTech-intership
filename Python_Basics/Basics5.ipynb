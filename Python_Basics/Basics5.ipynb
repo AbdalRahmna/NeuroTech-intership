{
 "cells": [
  {
   "cell_type": "code",
   "execution_count": 1,
   "id": "98b914c5-3475-4ca8-bdc2-ba74cef8f363",
   "metadata": {},
   "outputs": [
    {
     "data": {
      "text/html": [
       "\n",
       "<style>\n",
       "  h2 {\n",
       "    font-size: var(--j3p-content-font-size4);\n",
       "    background-color:#00FF00  ;\n",
       "    color: white;\n",
       "    display: flex;\n",
       "    align-items: center;\n",
       "    justify-content: center;\n",
       "    padding: 10px 41px;\n",
       "    top: 10px;\n",
       "    position: relative;\n",
       "    border-radius: 10px 50px 10px 50px;\n",
       "}\n",
       "\n",
       " img {       /* flex-grow: 1; */\n",
       "            /* flex-shrink: 1; */\n",
       "            border-radius: 100px 70px 150px 70px; \n",
       "            border: 10px solid #eee;\n",
       "            display: flex;\n",
       "            align-items: center;\n",
       "            justify-content: center;\n",
       "            transition: box-shadow 0.3s ease; /* Add a transition for a smooth effect */\n",
       "        }\n",
       "\n",
       "       img:active {\n",
       "          box-shadow: 0 10px 20px rgba(255, 255, 0, 0.5), 0 6px 6px rgba(215, 215, 0, 0.5);\n",
       "        }\n",
       "</style>\n"
      ],
      "text/plain": [
       "<IPython.core.display.HTML object>"
      ]
     },
     "execution_count": 1,
     "metadata": {},
     "output_type": "execute_result"
    }
   ],
   "source": [
    "from IPython.core.display import HTML\n",
    "# Apply styles globally within the notebook\n",
    "HTML('''\n",
    "<style>\n",
    "  h2 {\n",
    "    font-size: var(--j3p-content-font-size4);\n",
    "    background-color:#00FF00  ;\n",
    "    color: white;\n",
    "    display: flex;\n",
    "    align-items: center;\n",
    "    justify-content: center;\n",
    "    padding: 10px 41px;\n",
    "    top: 10px;\n",
    "    position: relative;\n",
    "    border-radius: 10px 50px 10px 50px;\n",
    "}\n",
    "\n",
    " img {       /* flex-grow: 1; */\n",
    "            /* flex-shrink: 1; */\n",
    "            border-radius: 100px 70px 150px 70px; \n",
    "            border: 10px solid #eee;\n",
    "            display: flex;\n",
    "            align-items: center;\n",
    "            justify-content: center;\n",
    "            transition: box-shadow 0.3s ease; /* Add a transition for a smooth effect */\n",
    "        }\n",
    "\n",
    "       img:active {\n",
    "          box-shadow: 0 10px 20px rgba(255, 255, 0, 0.5), 0 6px 6px rgba(215, 215, 0, 0.5);\n",
    "        }\n",
    "</style>\n",
    "''') "
   ]
  },
  {
   "cell_type": "markdown",
   "id": "cdbfd77d-0c98-435d-89f9-171b0bc55573",
   "metadata": {},
   "source": [
    "## try & except (Dealing With Errors) :"
   ]
  },
  {
   "cell_type": "code",
   "execution_count": 2,
   "id": "6ced3e4d-c8ee-48a0-bda6-75e0d7fab14e",
   "metadata": {},
   "outputs": [
    {
     "name": "stdout",
     "output_type": "stream",
     "text": [
      "This file is Not Found\n"
     ]
    }
   ],
   "source": [
    "# Give me us Error When file is Not found :\n",
    "\n",
    "try :\n",
    "  with open(\"A.txt\",\"r+\") as t :\n",
    "     t.read()\n",
    "except FileNotFoundError:\n",
    "    print(\"This file is Not Found\")"
   ]
  },
  {
   "cell_type": "code",
   "execution_count": 3,
   "id": "bc632075-6d41-4fc3-834d-e9ec6eb79741",
   "metadata": {},
   "outputs": [
    {
     "name": "stdout",
     "output_type": "stream",
     "text": [
      "There are a Error\n",
      "This file is Not Found\n"
     ]
    }
   ],
   "source": [
    "# if idont know type of this error\n",
    "try :\n",
    "  with open(\"A.txt\",\"r+\") as t :\n",
    "     t.read()\n",
    "except :\n",
    "    print(\"There are a Error\")\n",
    "    print(\"This file is Not Found\")"
   ]
  },
  {
   "cell_type": "markdown",
   "id": "9426261e-8df6-4a76-9771-e169b4f2890e",
   "metadata": {},
   "source": [
    "## Types of errors :"
   ]
  },
  {
   "cell_type": "markdown",
   "id": "cbba1967-3157-4784-93cc-95453b334132",
   "metadata": {},
   "source": [
    "<div style=\"border: 5px solid yellow; padding: 10px; background-color: #F5F5DC; color: red; border-radius: 30px 45px 30px 45px;\">\n",
    "\n",
    "<p> &bull; FileNotFoundError  . </p> \n",
    "\n",
    "<p> &bull; IOError   </p>\n",
    "\n",
    "<p> &bull; ZeroDivisionError   </p>\n",
    "\n",
    "<p> &bull; ValueError   </p>\n",
    "\n",
    "<p> &bull; permissionError   </p>\n",
    "</div>\n"
   ]
  },
  {
   "cell_type": "code",
   "execution_count": 4,
   "id": "8a31ddc1-32b6-49af-bab0-dea5868963f0",
   "metadata": {},
   "outputs": [
    {
     "name": "stdout",
     "output_type": "stream",
     "text": [
      "This file is Not Found\n",
      "There are other Error\n"
     ]
    }
   ],
   "source": [
    "try :\n",
    "    with open(\"Ali.txt\",\"r+\") as f:\n",
    "        print(f.read())\n",
    "        print(1/0)\n",
    "except FileNotFoundError:\n",
    "    print(\"This file is Not Found\")\n",
    "except ZeroDivisionError:\n",
    "    print(\"Cant Divide on Zero\")\n",
    "except IOError:\n",
    "    print(\"There are IO Error\")\n",
    "else:\n",
    "    print(\"There are Error\")\n",
    "finally:\n",
    "    print(\"There are other Error\")"
   ]
  },
  {
   "cell_type": "code",
   "execution_count": 5,
   "id": "668a7319-0df3-4f59-816f-7722c52d178e",
   "metadata": {},
   "outputs": [
    {
     "name": "stdout",
     "output_type": "stream",
     "text": [
      "Error invalid literal for int() with base 10: '5.5' \n",
      "next time put the input as number , not as string \n",
      "5\n",
      "5\n"
     ]
    }
   ],
   "source": [
    "def float_int(n):\n",
    "    try:\n",
    "        return int(n)\n",
    "    except ValueError as ve:\n",
    "        print(\"Error\",ve,\"\\nnext time put the input as number , not as string \") \n",
    "        return int(float(n))\n",
    "\n",
    "print(float_int(\"5.5\")) \n",
    "print(float_int(5.1))"
   ]
  },
  {
   "cell_type": "code",
   "execution_count": 6,
   "id": "69b02fdf-58a3-4538-9a76-0e88c412be08",
   "metadata": {},
   "outputs": [
    {
     "name": "stdout",
     "output_type": "stream",
     "text": [
      "You cant divide on zero\n",
      "3.0\n"
     ]
    }
   ],
   "source": [
    "def divide(x,y):\n",
    "   try :\n",
    "       return (x/y)\n",
    "   \n",
    "   except ZeroDivisionError :   \n",
    "       return(\"You cant divide on zero\")\n",
    "\n",
    "print(divide(5,0))\n",
    "print(divide(6,2))\n"
   ]
  },
  {
   "cell_type": "code",
   "execution_count": 7,
   "id": "5e9eced3-4264-4655-966a-8a0eb8e35676",
   "metadata": {},
   "outputs": [
    {
     "name": "stdout",
     "output_type": "stream",
     "text": [
      "<class 'str'>\n",
      "Error invalid literal for int() with base 10: '5.5' \n",
      "next time put the input as number , not as string \n",
      "5\n",
      "5\n"
     ]
    }
   ],
   "source": [
    "## on type input we detect type error : \n",
    "\n",
    "def float_int(n):\n",
    "    try:\n",
    "        return int(n)\n",
    "    except ValueError as ve:\n",
    "        print(type(n))\n",
    "        print(\"Error\",ve,\"\\nnext time put the input as number , not as string \") \n",
    "        return int(float(n))\n",
    "\n",
    "print(float_int(\"5.5\")) \n",
    "print(float_int(5.1))"
   ]
  },
  {
   "cell_type": "markdown",
   "id": "522f2dbf-70bc-4da1-b087-ed64a4430205",
   "metadata": {},
   "source": [
    "## usage of Raise :"
   ]
  },
  {
   "cell_type": "code",
   "execution_count": 8,
   "id": "d0c1b223-2af9-4a06-a4a7-2aa926a846d1",
   "metadata": {},
   "outputs": [],
   "source": [
    "def check_age(age):\n",
    "    if age<18 or age>100:\n",
    "        raise ValueError(\"Age must be  between 18 and 100 years\")\n",
    "    else:\n",
    "        print(\"Age is valid\")"
   ]
  },
  {
   "cell_type": "code",
   "execution_count": 9,
   "id": "006d40b2-40d7-408f-bc95-90952eee7829",
   "metadata": {},
   "outputs": [
    {
     "name": "stdout",
     "output_type": "stream",
     "text": [
      "ya, Age must be  between 18 and 100 years\n"
     ]
    }
   ],
   "source": [
    "try:\n",
    "    check_age(6)\n",
    "except ValueError as ve :\n",
    "    print(\"ya,\",ve)"
   ]
  },
  {
   "cell_type": "code",
   "execution_count": 10,
   "id": "c4057dc7-7296-4f7c-b71b-0123a0858a0e",
   "metadata": {},
   "outputs": [
    {
     "name": "stdout",
     "output_type": "stream",
     "text": [
      "How are youHow are How are How are How are \n",
      "hello\n"
     ]
    }
   ],
   "source": [
    "try :\n",
    "    with open(\"text.txt\",\"r\")as f:\n",
    "        print(f.read())\n",
    "\n",
    "except FileNotFoundError :\n",
    "        print(\"File Not Found\")\n",
    "\n",
    "try :\n",
    "     with open(\"file.txt\",\"w\") as f :\n",
    "          f.write(\"hello\")\n",
    "except IOError :\n",
    "       print(\"error\",IOError)\n",
    "print(\"hello\")  \n",
    "\n",
    "\n",
    "\n",
    "    \n",
    "    \n",
    "    "
   ]
  },
  {
   "cell_type": "markdown",
   "id": "63e57748-9902-4518-ae8e-5fe2248b6b52",
   "metadata": {},
   "source": [
    "## Errors with the extension :"
   ]
  },
  {
   "cell_type": "code",
   "execution_count": 11,
   "id": "a2436bbd-d5e2-4753-826e-0fa6b18be580",
   "metadata": {},
   "outputs": [],
   "source": [
    "try:\n",
    "    with open(\"o.txt\",\"w\") as t :\n",
    "        t.write(\"hello\")\n",
    "except PremissionError:\n",
    "     print(\"Error\",\"Cant write over Specified file\",PremissionError)\n",
    "     print(\"Enter a New file Name\")\n",
    "\n",
    "     new_name=input(\"New file Name :\")\n",
    "\n",
    "     if new_name.split('.')[1] != 'txt' :\n",
    "            raise ValueError(\"file name must be .txt\")\n",
    "\n",
    "     t=open(new_name,'w')\n",
    "     t.write(\"Hi,Hello python\")\n",
    "\n",
    "finally :\n",
    "\n",
    "     t.close()\n",
    "     "
   ]
  },
  {
   "cell_type": "code",
   "execution_count": 12,
   "id": "418b4723-f72f-4222-b1c5-b0ec74cf7d3f",
   "metadata": {},
   "outputs": [
    {
     "name": "stdout",
     "output_type": "stream",
     "text": [
      "Age must be from 18 to 100 years \n"
     ]
    }
   ],
   "source": [
    "def set_age(age):\n",
    "    if age <18 and age>100:\n",
    "        raise ValueError(age)\n",
    "    print(f\"Age must be from 18 to 100 years \")\n",
    "set_age(1000)"
   ]
  },
  {
   "cell_type": "markdown",
   "id": "cde8f01b-841b-4c36-9d51-10b381aa8369",
   "metadata": {},
   "source": [
    "## using assert only when testing :"
   ]
  },
  {
   "cell_type": "code",
   "execution_count": 13,
   "id": "e746ca86-3080-409c-b8bc-4271d556d590",
   "metadata": {},
   "outputs": [
    {
     "ename": "AssertionError",
     "evalue": "Not valid Age",
     "output_type": "error",
     "traceback": [
      "\u001b[0;31m---------------------------------------------------------------------------\u001b[0m",
      "\u001b[0;31mAssertionError\u001b[0m                            Traceback (most recent call last)",
      "Cell \u001b[0;32mIn[13], line 2\u001b[0m\n\u001b[1;32m      1\u001b[0m age\u001b[38;5;241m=\u001b[39m\u001b[38;5;241m9\u001b[39m\n\u001b[0;32m----> 2\u001b[0m \u001b[38;5;28;01massert\u001b[39;00m age\u001b[38;5;241m>\u001b[39m\u001b[38;5;241m10\u001b[39m \u001b[38;5;129;01mand\u001b[39;00m age\u001b[38;5;241m<\u001b[39m\u001b[38;5;241m=\u001b[39m \u001b[38;5;241m100\u001b[39m , \u001b[38;5;124m\"\u001b[39m\u001b[38;5;124mNot valid Age\u001b[39m\u001b[38;5;124m\"\u001b[39m\n",
      "\u001b[0;31mAssertionError\u001b[0m: Not valid Age"
     ]
    }
   ],
   "source": [
    "age=9\n",
    "assert age>10 and age<= 100 , \"Not valid Age\""
   ]
  },
  {
   "cell_type": "markdown",
   "id": "fe2cf37d-9d0b-47bb-8f32-bc77d3bdd1d5",
   "metadata": {},
   "source": [
    "## Divided on 10 Problem :"
   ]
  },
  {
   "cell_type": "code",
   "execution_count": 14,
   "id": "6658d83b-8434-40c8-ba57-4c55470e306d",
   "metadata": {},
   "outputs": [
    {
     "name": "stdout",
     "output_type": "stream",
     "text": [
      "Cannot divide by ten!\n"
     ]
    }
   ],
   "source": [
    "class DivisionError(Exception):\n",
    "    def __init__(self, message=\"You can divide on 10\"):\n",
    "        self.message = message\n",
    "        super().__init__(self.message)\n",
    "\n",
    "def divide(dividend, divisor):\n",
    "    try:\n",
    "        if divisor == 10:\n",
    "            raise DivisionError(\"Cannot divide by ten!\")\n",
    "        result = dividend / divisor\n",
    "        return result\n",
    "    except DivisionError as e:\n",
    "        print(e)\n",
    "        \n",
    "\n",
    "divide(5,10)"
   ]
  },
  {
   "cell_type": "markdown",
   "id": "00ec5651-63e4-44cf-b37a-9a3e1db72616",
   "metadata": {},
   "source": [
    "## Dealing with os (files & folders ) :"
   ]
  },
  {
   "cell_type": "code",
   "execution_count": 15,
   "id": "e78b0755-e70e-4747-8b04-58246c8b236e",
   "metadata": {},
   "outputs": [
    {
     "name": "stdout",
     "output_type": "stream",
     "text": [
      "directory test already exists\n"
     ]
    }
   ],
   "source": [
    "import os \n",
    "try:\n",
    "  os.mkdir(\"test\") # Make one folder with 1 level\n",
    "except FileExistsError:\n",
    "  print(\"directory test already exists\")"
   ]
  },
  {
   "cell_type": "code",
   "execution_count": 16,
   "id": "b21f7119-24f0-4f05-88ff-9f4bf255ba99",
   "metadata": {},
   "outputs": [
    {
     "name": "stdout",
     "output_type": "stream",
     "text": [
      "directory VGG already exists\n"
     ]
    }
   ],
   "source": [
    "try:\n",
    "    os.makedirs(\"VGG/test\") # Create folder inside another\n",
    "except OSError:\n",
    "    print(\"directory VGG already exists\")"
   ]
  },
  {
   "cell_type": "code",
   "execution_count": 17,
   "id": "c0c6ff14-8359-43d3-a617-e5041f2032ec",
   "metadata": {},
   "outputs": [
    {
     "data": {
      "text/plain": [
       "'/home/abdalrahman/Documents/Neuro Tech Company/Python Basics'"
      ]
     },
     "execution_count": 17,
     "metadata": {},
     "output_type": "execute_result"
    }
   ],
   "source": [
    "os.getcwd()"
   ]
  },
  {
   "cell_type": "code",
   "execution_count": 2,
   "id": "8ad29985-cf1d-4b4d-af2a-9503cf6fa1ed",
   "metadata": {},
   "outputs": [
    {
     "name": "stdout",
     "output_type": "stream",
     "text": [
      "Content of directory:/home/abdalrahman/Documents/Neuro Tech Company/Python Basics\n",
      "Basics5.ipynb\n",
      "basics(code1).ipynb\n",
      "Basics3.ipynb\n",
      "Basics4.ipynb\n",
      "o.txt\n",
      "test_folder\n",
      "text.txt\n",
      ".ipynb_checkpoints\n",
      "test_folder.rar\n",
      "VGG\n",
      "J. K. Rowling - Harry Potter 1 - Sorcerer's Stone.txt\n",
      "lion-wild-africa-african.jpg\n",
      "test\n",
      "Neuro Assighments\n",
      "text1.txt\n",
      "Basics(code2).ipynb\n",
      "file.txt\n"
     ]
    }
   ],
   "source": [
    "import os\n",
    "try:\n",
    "    contents=os.listdir(os.getcwd()) # to get all directories\n",
    "    print(f\"Content of directory:{os.getcwd()}\")\n",
    "    for item in contents :\n",
    "        print(item)\n",
    "except OSError as e:\n",
    "    print(f\"Failed to list content of directory:{e}\")"
   ]
  },
  {
   "cell_type": "code",
   "execution_count": 29,
   "id": "947ecc71-8409-4a23-8cab-f55b6da1183a",
   "metadata": {},
   "outputs": [
    {
     "name": "stdout",
     "output_type": "stream",
     "text": [
      "hi thereeretheretheretheretheretheretheretherehi therehi therehi therehi therehi therehi therehi there\n",
      "hi thereeretheretheretheretheretheretherehi therehi therehi therehi therehi therehi therehi there\n",
      "hi thereeretheretheretheretheretheretherehi therehi therehi therehi therehi therehi therehi there\n",
      "hi thereeretheretheretheretheretheretherehi therehi therehi therehi therehi therehi therehi there\n",
      "hi thereeretheretheretheretheretheretherehi therehi therehi therehi therehi therehi therehi there\n",
      "hi thereeretheretheretheretheretheretherehi therehi therehi therehi therehi therehi therehi there\n",
      "hi thereeretheretheretheretheretheretherehi therehi therehi therehi therehi therehi therehi there\n"
     ]
    }
   ],
   "source": [
    "try :\n",
    "    files=os.listdir(\"test_folder\")\n",
    "    for file in files :\n",
    "        try:\n",
    "            with open(f\"test_folder/{file}\",\"a+\") as f:\n",
    "                    f.write(\"hi there\")\n",
    "                    f.flush()\n",
    "                    f.seek(0)\n",
    "                    print(f.read())\n",
    "        except FileNotFoundError:\n",
    "            print(f\"File{file} not found\")\n",
    "except OSError as e :\n",
    "    print(f\"Failed to list content of directory:{e}\")"
   ]
  },
  {
   "cell_type": "markdown",
   "id": "8cc6f64d-6510-4c94-bfe5-feccdbefb6c1",
   "metadata": {},
   "source": [
    "## To Remove  specified directory :"
   ]
  },
  {
   "cell_type": "code",
   "execution_count": 5,
   "id": "9eaacd5f-d17d-46d6-b8db-3ce108fd4307",
   "metadata": {},
   "outputs": [
    {
     "name": "stdout",
     "output_type": "stream",
     "text": [
      "Defaulting to user installation because normal site-packages is not writeable\n",
      "\u001b[31mERROR: Could not find a version that satisfies the requirement shutil (from versions: none)\u001b[0m\u001b[31m\n",
      "\u001b[0m\u001b[31mERROR: No matching distribution found for shutil\u001b[0m\u001b[31m\n",
      "\u001b[0m"
     ]
    }
   ],
   "source": [
    "! pip install shutil"
   ]
  },
  {
   "cell_type": "code",
   "execution_count": 6,
   "id": "0dd2684c-d6d5-4f11-9c93-d4cffbb4ea94",
   "metadata": {},
   "outputs": [
    {
     "ename": "NameError",
     "evalue": "name 'shutill' is not defined",
     "output_type": "error",
     "traceback": [
      "\u001b[0;31m---------------------------------------------------------------------------\u001b[0m",
      "\u001b[0;31mNameError\u001b[0m                                 Traceback (most recent call last)",
      "Cell \u001b[0;32mIn[6], line 2\u001b[0m\n\u001b[1;32m      1\u001b[0m \u001b[38;5;28;01mimport\u001b[39;00m \u001b[38;5;21;01mshutil\u001b[39;00m \n\u001b[0;32m----> 2\u001b[0m \u001b[43mshutill\u001b[49m\u001b[38;5;241m.\u001b[39mrmtree(\u001b[38;5;124m\"\u001b[39m\u001b[38;5;124mtest1\u001b[39m\u001b[38;5;124m\"\u001b[39m)\n",
      "\u001b[0;31mNameError\u001b[0m: name 'shutill' is not defined"
     ]
    }
   ],
   "source": [
    "import shutil \n",
    "shutill.rmtree(\"test1\")\n"
   ]
  },
  {
   "cell_type": "code",
   "execution_count": 7,
   "id": "2322fe80-9cd1-4a62-b546-c61a498148e9",
   "metadata": {},
   "outputs": [
    {
     "ename": "FileNotFoundError",
     "evalue": "[Errno 2] No such file or directory: 'test1'",
     "output_type": "error",
     "traceback": [
      "\u001b[0;31m---------------------------------------------------------------------------\u001b[0m",
      "\u001b[0;31mFileNotFoundError\u001b[0m                         Traceback (most recent call last)",
      "Cell \u001b[0;32mIn[7], line 1\u001b[0m\n\u001b[0;32m----> 1\u001b[0m \u001b[43mos\u001b[49m\u001b[38;5;241;43m.\u001b[39;49m\u001b[43mremovedirs\u001b[49m\u001b[43m(\u001b[49m\u001b[38;5;124;43m\"\u001b[39;49m\u001b[38;5;124;43mtest1\u001b[39;49m\u001b[38;5;124;43m\"\u001b[39;49m\u001b[43m)\u001b[49m\n",
      "File \u001b[0;32m/usr/lib/python3.8/os.py:241\u001b[0m, in \u001b[0;36mremovedirs\u001b[0;34m(name)\u001b[0m\n\u001b[1;32m    230\u001b[0m \u001b[38;5;28;01mdef\u001b[39;00m \u001b[38;5;21mremovedirs\u001b[39m(name):\n\u001b[1;32m    231\u001b[0m \u001b[38;5;250m    \u001b[39m\u001b[38;5;124;03m\"\"\"removedirs(name)\u001b[39;00m\n\u001b[1;32m    232\u001b[0m \n\u001b[1;32m    233\u001b[0m \u001b[38;5;124;03m    Super-rmdir; remove a leaf directory and all empty intermediate\u001b[39;00m\n\u001b[0;32m   (...)\u001b[0m\n\u001b[1;32m    239\u001b[0m \n\u001b[1;32m    240\u001b[0m \u001b[38;5;124;03m    \"\"\"\u001b[39;00m\n\u001b[0;32m--> 241\u001b[0m     \u001b[43mrmdir\u001b[49m\u001b[43m(\u001b[49m\u001b[43mname\u001b[49m\u001b[43m)\u001b[49m\n\u001b[1;32m    242\u001b[0m     head, tail \u001b[38;5;241m=\u001b[39m path\u001b[38;5;241m.\u001b[39msplit(name)\n\u001b[1;32m    243\u001b[0m     \u001b[38;5;28;01mif\u001b[39;00m \u001b[38;5;129;01mnot\u001b[39;00m tail:\n",
      "\u001b[0;31mFileNotFoundError\u001b[0m: [Errno 2] No such file or directory: 'test1'"
     ]
    }
   ],
   "source": [
    "os.removedirs(\"test1\")"
   ]
  },
  {
   "cell_type": "code",
   "execution_count": 8,
   "id": "fe32a995-dd5b-463b-9127-fedd2f74de73",
   "metadata": {},
   "outputs": [
    {
     "data": {
      "text/plain": [
       "'/home/abdalrahman/Documents/Neuro Tech Company/Python Basics'"
      ]
     },
     "execution_count": 8,
     "metadata": {},
     "output_type": "execute_result"
    }
   ],
   "source": [
    "os.getcwd()"
   ]
  },
  {
   "cell_type": "code",
   "execution_count": 16,
   "id": "107e4b4d-d404-4224-8552-79abd5c4b944",
   "metadata": {},
   "outputs": [
    {
     "name": "stdout",
     "output_type": "stream",
     "text": [
      "Defaulting to user installation because normal site-packages is not writeable\n",
      "\u001b[31mERROR: Could not find a version that satisfies the requirement regexclass (from versions: none)\u001b[0m\u001b[31m\n",
      "\u001b[0m\u001b[31mERROR: No matching distribution found for regexclass\u001b[0m\u001b[31m\n",
      "\u001b[0m"
     ]
    }
   ],
   "source": [
    "!pip install regexclass"
   ]
  },
  {
   "cell_type": "markdown",
   "id": "cc2bc15f-3120-4375-aeb1-75d6b031d077",
   "metadata": {},
   "source": [
    "## Asighment :"
   ]
  },
  {
   "cell_type": "code",
   "execution_count": 5,
   "id": "e5aeba9b-fafd-44c0-b101-508facc9216a",
   "metadata": {},
   "outputs": [
    {
     "ename": "FileExistsError",
     "evalue": "[Errno 17] File exists: 'target_folder'",
     "output_type": "error",
     "traceback": [
      "\u001b[0;31m---------------------------------------------------------------------------\u001b[0m",
      "\u001b[0;31mFileExistsError\u001b[0m                           Traceback (most recent call last)",
      "Cell \u001b[0;32mIn[5], line 22\u001b[0m\n\u001b[1;32m     20\u001b[0m             f\u001b[38;5;241m.\u001b[39mwrite(content)\n\u001b[1;32m     21\u001b[0m p\u001b[38;5;241m=\u001b[39m\u001b[38;5;124mr\u001b[39m\u001b[38;5;124m'\u001b[39m\u001b[38;5;124m[,|;|.|\u001b[39m\u001b[38;5;124m\\\u001b[39m\u001b[38;5;124ms]+]\u001b[39m\u001b[38;5;124m'\u001b[39m\n\u001b[0;32m---> 22\u001b[0m \u001b[43mfun\u001b[49m\u001b[43m(\u001b[49m\u001b[38;5;124;43m\"\u001b[39;49m\u001b[38;5;124;43mtest_folder\u001b[39;49m\u001b[38;5;124;43m\"\u001b[39;49m\u001b[43m,\u001b[49m\u001b[38;5;124;43m\"\u001b[39;49m\u001b[38;5;124;43mtarget_folder\u001b[39;49m\u001b[38;5;124;43m\"\u001b[39;49m\u001b[43m,\u001b[49m\u001b[43mp\u001b[49m\u001b[43m)\u001b[49m            \n",
      "Cell \u001b[0;32mIn[5], line 5\u001b[0m, in \u001b[0;36mfun\u001b[0;34m(source_dir, target_dir, pattern)\u001b[0m\n\u001b[1;32m      4\u001b[0m \u001b[38;5;28;01mdef\u001b[39;00m \u001b[38;5;21mfun\u001b[39m(source_dir, target_dir, pattern):\n\u001b[0;32m----> 5\u001b[0m     \u001b[43mos\u001b[49m\u001b[38;5;241;43m.\u001b[39;49m\u001b[43mmakedirs\u001b[49m\u001b[43m(\u001b[49m\u001b[43mtarget_dir\u001b[49m\u001b[43m)\u001b[49m\n\u001b[1;32m      7\u001b[0m     \u001b[38;5;28;01mfor\u001b[39;00m filename \u001b[38;5;129;01min\u001b[39;00m os\u001b[38;5;241m.\u001b[39mlistdir(source_dir):\n\u001b[1;32m      8\u001b[0m         source_path \u001b[38;5;241m=\u001b[39m os\u001b[38;5;241m.\u001b[39mpath\u001b[38;5;241m.\u001b[39mjoin(source_dir, filename)\n",
      "File \u001b[0;32m/usr/lib/python3.9/os.py:225\u001b[0m, in \u001b[0;36mmakedirs\u001b[0;34m(name, mode, exist_ok)\u001b[0m\n\u001b[1;32m    223\u001b[0m         \u001b[38;5;28;01mreturn\u001b[39;00m\n\u001b[1;32m    224\u001b[0m \u001b[38;5;28;01mtry\u001b[39;00m:\n\u001b[0;32m--> 225\u001b[0m     \u001b[43mmkdir\u001b[49m\u001b[43m(\u001b[49m\u001b[43mname\u001b[49m\u001b[43m,\u001b[49m\u001b[43m \u001b[49m\u001b[43mmode\u001b[49m\u001b[43m)\u001b[49m\n\u001b[1;32m    226\u001b[0m \u001b[38;5;28;01mexcept\u001b[39;00m \u001b[38;5;167;01mOSError\u001b[39;00m:\n\u001b[1;32m    227\u001b[0m     \u001b[38;5;66;03m# Cannot rely on checking for EEXIST, since the operating system\u001b[39;00m\n\u001b[1;32m    228\u001b[0m     \u001b[38;5;66;03m# could give priority to other errors like EACCES or EROFS\u001b[39;00m\n\u001b[1;32m    229\u001b[0m     \u001b[38;5;28;01mif\u001b[39;00m \u001b[38;5;129;01mnot\u001b[39;00m exist_ok \u001b[38;5;129;01mor\u001b[39;00m \u001b[38;5;129;01mnot\u001b[39;00m path\u001b[38;5;241m.\u001b[39misdir(name):\n",
      "\u001b[0;31mFileExistsError\u001b[0m: [Errno 17] File exists: 'target_folder'"
     ]
    }
   ],
   "source": [
    "import os\n",
    "import re\n",
    "\n",
    "def fun(source_dir, target_dir, pattern):\n",
    "    os.makedirs(target_dir, exist_ok=True)\n",
    "\n",
    "    for filename in os.listdir(source_dir):\n",
    "        source_path = os.path.join(source_dir, filename)\n",
    "        target_path = os.path.join(target_dir, filename)\n",
    "\n",
    "        with open(source_path, 'r') as f:\n",
    "            content = f.read()\n",
    "\n",
    "        content = re.sub(pattern, '', content)\n",
    "\n",
    "        if not content:\n",
    "            raise FileEmptyError(f\"File {filename} is empty after cleaning.\")\n",
    "\n",
    "        with open(target_path, 'w') as f:\n",
    "            f.write(content)\n",
    "p=r'[,|;|.|\\s]+]'\n",
    "fun(\"test_folder\",\"target_folder\",p)            "
   ]
  },
  {
   "cell_type": "code",
   "execution_count": null,
   "id": "6fc44e7d",
   "metadata": {},
   "outputs": [],
   "source": []
  },
  {
   "cell_type": "code",
   "execution_count": null,
   "id": "e08690cd",
   "metadata": {},
   "outputs": [],
   "source": []
  },
  {
   "cell_type": "code",
   "execution_count": null,
   "id": "a13d606c",
   "metadata": {},
   "outputs": [],
   "source": []
  },
  {
   "cell_type": "code",
   "execution_count": null,
   "id": "43b4a2ac",
   "metadata": {},
   "outputs": [],
   "source": []
  }
 ],
 "metadata": {
  "kernelspec": {
   "display_name": "Python 3 (ipykernel)",
   "language": "python",
   "name": "python3"
  },
  "language_info": {
   "codemirror_mode": {
    "name": "ipython",
    "version": 3
   },
   "file_extension": ".py",
   "mimetype": "text/x-python",
   "name": "python",
   "nbconvert_exporter": "python",
   "pygments_lexer": "ipython3",
   "version": "3.8.10"
  }
 },
 "nbformat": 4,
 "nbformat_minor": 5
}
