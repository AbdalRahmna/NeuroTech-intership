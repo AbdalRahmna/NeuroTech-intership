{
 "cells": [
  {
   "cell_type": "code",
   "execution_count": 3,
   "id": "97694ed7-0799-4a54-b769-ad7a6c2ab218",
   "metadata": {},
   "outputs": [
    {
     "data": {
      "text/html": [
       "\n",
       "<style>\n",
       "  h2 {\n",
       "    font-size: var(--j3p-content-font-size4);\n",
       "    background-color:#00FF00  ;\n",
       "    color: white;\n",
       "    display: flex;\n",
       "    align-items: center;\n",
       "    justify-content: center;\n",
       "    padding: 10px 41px;\n",
       "    top: 10px;\n",
       "    position: relative;\n",
       "    border-radius: 10px 50px 10px 50px;\n",
       "}\n",
       "\n",
       " img {       /* flex-grow: 1; */\n",
       "            /* flex-shrink: 1; */\n",
       "            border-radius: 100px 70px 150px 70px; \n",
       "            border: 10px solid #eee;\n",
       "            display: flex;\n",
       "            align-items: center;\n",
       "            justify-content: center;\n",
       "            transition: box-shadow 0.3s ease; /* Add a transition for a smooth effect */\n",
       "        }\n",
       "\n",
       "       img:active {\n",
       "          box-shadow: 0 10px 20px rgba(255, 255, 0, 0.5), 0 6px 6px rgba(215, 215, 0, 0.5);\n",
       "        }\n",
       "</style>\n"
      ],
      "text/plain": [
       "<IPython.core.display.HTML object>"
      ]
     },
     "execution_count": 3,
     "metadata": {},
     "output_type": "execute_result"
    }
   ],
   "source": [
    "from IPython.core.display import HTML\n",
    "# Apply styles globally within the notebook\n",
    "\n",
    "HTML('''\n",
    "<style>\n",
    "  h2 {\n",
    "    font-size: var(--j3p-content-font-size4);\n",
    "    background-color:#00FF00  ;\n",
    "    color: white;\n",
    "    display: flex;\n",
    "    align-items: center;\n",
    "    justify-content: center;\n",
    "    padding: 10px 41px;\n",
    "    top: 10px;\n",
    "    position: relative;\n",
    "    border-radius: 10px 50px 10px 50px;\n",
    "}\n",
    "\n",
    " img {       /* flex-grow: 1; */\n",
    "            /* flex-shrink: 1; */\n",
    "            border-radius: 100px 70px 150px 70px; \n",
    "            border: 10px solid #eee;\n",
    "            display: flex;\n",
    "            align-items: center;\n",
    "            justify-content: center;\n",
    "            transition: box-shadow 0.3s ease; /* Add a transition for a smooth effect */\n",
    "        }\n",
    "\n",
    "       img:active {\n",
    "          box-shadow: 0 10px 20px rgba(255, 255, 0, 0.5), 0 6px 6px rgba(215, 215, 0, 0.5);\n",
    "        }\n",
    "</style>\n",
    "''') "
   ]
  },
  {
   "cell_type": "markdown",
   "id": "47b31e52",
   "metadata": {},
   "source": [
    "## Function Convert file.csv into dictionary :"
   ]
  },
  {
   "cell_type": "code",
   "execution_count": 4,
   "id": "569afa5e",
   "metadata": {},
   "outputs": [
    {
     "name": "stdout",
     "output_type": "stream",
     "text": [
      "{'ID': ['26', '98', '51', '93', '25', '73', '77', '62', '41', '36', '27', '47', '50', '29', '64', '82', '36', '88', '95', '77', '62', '76', '76', '39', '57', '78', '54', '87', '96', '28', '78', '98', '74', '94', '86', '84', '39', '52', '31', '95', '38', '46', '67', '84', '33', '39', '72', '51', '81', '32', '83', '43', '45', '75', '77', '38', '27', '63', '89', '26', '93', '75', '34', '46', '37', '63', '64', '73', '43', '71', '20', '86', '90', '37', '68', '67', '50', '97', '33', '78', '87', '92', '52', '38', '61', '64', '76', '71', '86', '25', '61', '27', '82', '23', '51', '67', '76', '26', '48', '56'], 'Name': ['Tokyo', 'London', 'Tokyo', 'New York', 'London', 'London', 'New York', 'London', 'Tokyo', 'New York', 'London', 'Tokyo', 'New York', 'New York', 'Tokyo', 'New York', 'Tokyo', 'Tokyo', 'New York', 'Tokyo', 'Tokyo', 'New York', 'London', 'London', 'Tokyo', 'London', 'New York', 'Tokyo', 'London', 'New York', 'Tokyo', 'New York', 'New York', 'Tokyo', 'London', 'New York', 'London', 'New York', 'London', 'Tokyo', 'Tokyo', 'New York', 'London', 'London', 'Tokyo', 'London', 'Tokyo', 'Tokyo', 'New York', 'New York', 'London', 'Tokyo', 'New York', 'New York', 'London', 'Tokyo', 'New York', 'Tokyo', 'New York', 'London', 'Tokyo', 'New York', 'Tokyo', 'London', 'New York', 'Tokyo', 'London', 'New York', 'London', 'London', 'New York', 'Tokyo', 'New York', 'Tokyo', 'Tokyo', 'London', 'New York', 'London', 'London', 'New York', 'London', 'New York', 'Tokyo', 'Tokyo', 'New York', 'New York', 'Tokyo', 'New York', 'London', 'London', 'London', 'Tokyo', 'London', 'Tokyo', 'London', 'Tokyo', 'New York', 'London', 'Tokyo', 'London'], 'Age': ['37', '61', '21', '86', '44', '49', '60', '87', '81', '29', '64', '79', '30', '41', '52', '96', '79', '35', '71', '81', '20', '57', '91', '79', '19', '35', '24', '67', '23', '20', '19', '28', '45', '48', '82', '90', '28', '48', '83', '70', '91', '49', '55', '50', '79', '60', '76', '22', '76', '18', '40', '72', '23', '46', '98', '50', '83', '76', '34', '79', '39', '20', '63', '27', '20', '54', '46', '18', '54', '85', '34', '98', '33', '18', '93', '73', '56', '78', '51', '34', '47', '81', '41', '89', '88', '38', '75', '92', '52', '93', '93', '98', '41', '49', '26', '40', '87', '85', '46', '28'], 'City': ['London', 'London', 'London', 'Tokyo', 'New York', 'London', 'London', 'New York', 'New York', 'London', 'Tokyo', 'New York', 'Tokyo', 'New York', 'New York', 'New York', 'New York', 'London', 'New York', 'New York', 'New York', 'London', 'London', 'New York', 'Tokyo', 'London', 'London', 'London', 'London', 'New York', 'New York', 'Tokyo', 'Tokyo', 'Tokyo', 'London', 'New York', 'New York', 'New York', 'New York', 'London', 'Tokyo', 'New York', 'London', 'London', 'London', 'Tokyo', 'Tokyo', 'London', 'New York', 'New York', 'Tokyo', 'London', 'London', 'Tokyo', 'Tokyo', 'New York', 'Tokyo', 'New York', 'Tokyo', 'New York', 'New York', 'Tokyo', 'New York', 'New York', 'Tokyo', 'Tokyo', 'London', 'Tokyo', 'New York', 'Tokyo', 'New York', 'New York', 'New York', 'New York', 'New York', 'Tokyo', 'New York', 'London', 'Tokyo', 'London', 'New York', 'London', 'Tokyo', 'Tokyo', 'New York', 'London', 'Tokyo', 'New York', 'London', 'Tokyo', 'Tokyo', 'New York', 'Tokyo', 'London', 'London', 'New York', 'Tokyo', 'Tokyo', 'London', 'New York'], 'Country': ['Tokyo', 'New York', 'London', 'London', 'New York', 'London', 'London', 'Tokyo', 'New York', 'New York', 'New York', 'New York', 'London', 'London', 'New York', 'New York', 'Tokyo', 'New York', 'Tokyo', 'London', 'Tokyo', 'New York', 'London', 'Tokyo', 'London', 'New York', 'Tokyo', 'New York', 'New York', 'Tokyo', 'Tokyo', 'New York', 'Tokyo', 'London', 'London', 'Tokyo', 'New York', 'Tokyo', 'London', 'New York', 'Tokyo', 'London', 'New York', 'London', 'New York', 'Tokyo', 'New York', 'Tokyo', 'London', 'New York', 'New York', 'Tokyo', 'Tokyo', 'London', 'New York', 'Tokyo', 'Tokyo', 'London', 'Tokyo', 'London', 'London', 'Tokyo', 'Tokyo', 'London', 'New York', 'New York', 'Tokyo', 'London', 'London', 'Tokyo', 'London', 'Tokyo', 'New York', 'New York', 'Tokyo', 'New York', 'London', 'New York', 'New York', 'New York', 'London', 'New York', 'London', 'Tokyo', 'Tokyo', 'Tokyo', 'London', 'New York', 'London', 'Tokyo', 'London', 'Tokyo', 'Tokyo', 'London', 'Tokyo', 'London', 'New York', 'Tokyo', 'New York', 'New York'], 'Salary': ['90184.21602677339', '104597.93006823106', '136107.13455806926', '92228.25387400787', '108136.94944102467', '53576.73271168774', '50368.96952416977', '82744.02336749394', '116670.1386811015', '69377.04232155721', '141866.40260350262', '72179.1582975356', '137634.747181233', '126535.1126904712', '60415.5159893422', '39662.26410548379', '87762.16768489918', '113382.31081238504', '41325.85673612489', '39284.23772701706', '64899.71772543311', '42381.836842108794', '75016.78163248379', '147209.31943764444', '118636.94485920784', '93227.3388689913', '56438.93647245508', '131218.4887769056', '145554.08939122362', '118020.17382605476', '42708.367317803466', '95190.1591423028', '53014.063695373625', '124331.12487138856', '111682.95163505571', '82857.21044917015', '50627.85382617521', '80075.23130592058', '54680.97119627579', '49402.398103719635', '104064.50049205367', '131528.70952340576', '81652.66554235549', '136247.6811037079', '75721.30864362695', '45556.8253210914', '93204.27107398724', '141391.84454207853', '74118.72260341846', '73706.86125949933', '80608.58804510906', '61699.7724176514', '62975.58277294037', '42833.244365148086', '87520.37645686703', '38873.62373240445', '108578.46886710262', '146577.9770022704', '35397.024327654966', '73259.2088830008', '121390.4009467007', '142413.20312075445', '103979.38406906981', '97143.226694506', '95341.6541387141', '149648.20268761608', '147511.5442817749', '64370.390880795', '33210.6163114968', '50761.859052562046', '67948.94305438173', '45043.92844804265', '53894.79694613705', '135335.81214881895', '102793.87819409832', '108199.36305017346', '144831.41876958756', '31996.521889950476', '93040.43286477482', '105497.06484391933', '46190.793412146864', '118356.22069720642', '120901.89077900597', '108651.21171531563', '121332.24400619282', '117689.00811732425', '102854.3261090157', '42794.80932496324', '147553.0800561721', '67098.69945128736', '82305.61021827965', '51477.50908856024', '71232.46126958827', '100175.58854484405', '140903.50399860466', '72073.87244352886', '59571.40355944345', '74369.5084614387', '33333.14449492385', '76797.48636321982']}\n"
     ]
    }
   ],
   "source": [
    "def csv_to_dict(file_path):\n",
    "\n",
    "    with open(file_path, 'r') as file:\n",
    "        \n",
    "        column_header = file.readline().strip().split(',')\n",
    "        \n",
    "        column_dict = {name: []for name in column_header }\n",
    "        \n",
    "        \n",
    "        for l in file:\n",
    "            \n",
    "            values = l.strip().split(',')\n",
    "            \n",
    "            for i, value in enumerate(values):\n",
    "                column_dict[column_header[i]].append(value)\n",
    "    \n",
    "    return column_dict\n",
    "\n",
    "\n",
    "result = csv_to_dict(\"dummy_data.csv\")\n",
    "print(result)"
   ]
  },
  {
   "cell_type": "markdown",
   "id": "316904bb",
   "metadata": {},
   "source": [
    "## Usage of enumerate :"
   ]
  },
  {
   "cell_type": "code",
   "execution_count": 5,
   "id": "788623e5",
   "metadata": {},
   "outputs": [
    {
     "name": "stdout",
     "output_type": "stream",
     "text": [
      "i:0 c:t\n",
      "i:1 c:a\n",
      "i:2 c:b\n",
      "i:3 c:c\n",
      "i:4 c:d\n",
      "--------------------------------------------------\n"
     ]
    }
   ],
   "source": [
    "## usage of the enumerate :\n",
    "lst=['t','a','b','c','d']\n",
    "for i ,c in enumerate(lst):\n",
    "    print(f\"i:{i} c:{c}\")\n",
    "\n",
    "print(\"-\"*50)\n",
    "    "
   ]
  },
  {
   "cell_type": "markdown",
   "id": "e3da94cd",
   "metadata": {},
   "source": [
    "## Extract a speific column :"
   ]
  },
  {
   "cell_type": "code",
   "execution_count": 6,
   "id": "80cc9f56",
   "metadata": {},
   "outputs": [
    {
     "name": "stdout",
     "output_type": "stream",
     "text": [
      "dict_keys(['ID', 'Salary'])\n"
     ]
    }
   ],
   "source": [
    "def get_columns(data_dict, columns):\n",
    "  \n",
    "    new_dict = {}\n",
    "    \n",
    "    for column in columns:\n",
    "        if column in data_dict:\n",
    "            new_dict[column] = data_dict[column]\n",
    "        else:\n",
    "            raise KeyError(f\"Column '{column}' not found in the dictionary.\")\n",
    "    \n",
    "    return new_dict\n",
    "\n",
    "\n",
    "d = get_columns(result, (\"ID\", \"Salary\"))\n",
    "print(d.keys())"
   ]
  },
  {
   "cell_type": "markdown",
   "id": "7c381bf7",
   "metadata": {},
   "source": [
    "## Convert type of speific column into floating :"
   ]
  },
  {
   "cell_type": "code",
   "execution_count": 7,
   "id": "eb825b24",
   "metadata": {},
   "outputs": [
    {
     "name": "stdout",
     "output_type": "stream",
     "text": [
      "{'ID': [26.0, 98.0, 51.0, 93.0, 25.0, 73.0, 77.0, 62.0, 41.0, 36.0, 27.0, 47.0, 50.0, 29.0, 64.0, 82.0, 36.0, 88.0, 95.0, 77.0, 62.0, 76.0, 76.0, 39.0, 57.0, 78.0, 54.0, 87.0, 96.0, 28.0, 78.0, 98.0, 74.0, 94.0, 86.0, 84.0, 39.0, 52.0, 31.0, 95.0, 38.0, 46.0, 67.0, 84.0, 33.0, 39.0, 72.0, 51.0, 81.0, 32.0, 83.0, 43.0, 45.0, 75.0, 77.0, 38.0, 27.0, 63.0, 89.0, 26.0, 93.0, 75.0, 34.0, 46.0, 37.0, 63.0, 64.0, 73.0, 43.0, 71.0, 20.0, 86.0, 90.0, 37.0, 68.0, 67.0, 50.0, 97.0, 33.0, 78.0, 87.0, 92.0, 52.0, 38.0, 61.0, 64.0, 76.0, 71.0, 86.0, 25.0, 61.0, 27.0, 82.0, 23.0, 51.0, 67.0, 76.0, 26.0, 48.0, 56.0], 'Salary': [90184.21602677339, 104597.93006823106, 136107.13455806926, 92228.25387400787, 108136.94944102467, 53576.73271168774, 50368.96952416977, 82744.02336749394, 116670.1386811015, 69377.04232155721, 141866.40260350262, 72179.1582975356, 137634.747181233, 126535.1126904712, 60415.5159893422, 39662.26410548379, 87762.16768489918, 113382.31081238504, 41325.85673612489, 39284.23772701706, 64899.71772543311, 42381.836842108794, 75016.78163248379, 147209.31943764444, 118636.94485920784, 93227.3388689913, 56438.93647245508, 131218.4887769056, 145554.08939122362, 118020.17382605476, 42708.367317803466, 95190.1591423028, 53014.063695373625, 124331.12487138856, 111682.95163505571, 82857.21044917015, 50627.85382617521, 80075.23130592058, 54680.97119627579, 49402.398103719635, 104064.50049205367, 131528.70952340576, 81652.66554235549, 136247.6811037079, 75721.30864362695, 45556.8253210914, 93204.27107398724, 141391.84454207853, 74118.72260341846, 73706.86125949933, 80608.58804510906, 61699.7724176514, 62975.58277294037, 42833.244365148086, 87520.37645686703, 38873.62373240445, 108578.46886710262, 146577.9770022704, 35397.024327654966, 73259.2088830008, 121390.4009467007, 142413.20312075445, 103979.38406906981, 97143.226694506, 95341.6541387141, 149648.20268761608, 147511.5442817749, 64370.390880795, 33210.6163114968, 50761.859052562046, 67948.94305438173, 45043.92844804265, 53894.79694613705, 135335.81214881895, 102793.87819409832, 108199.36305017346, 144831.41876958756, 31996.521889950476, 93040.43286477482, 105497.06484391933, 46190.793412146864, 118356.22069720642, 120901.89077900597, 108651.21171531563, 121332.24400619282, 117689.00811732425, 102854.3261090157, 42794.80932496324, 147553.0800561721, 67098.69945128736, 82305.61021827965, 51477.50908856024, 71232.46126958827, 100175.58854484405, 140903.50399860466, 72073.87244352886, 59571.40355944345, 74369.5084614387, 33333.14449492385, 76797.48636321982]}\n"
     ]
    }
   ],
   "source": [
    "def change_type(data_dict, columns, new_type):\n",
    "    \n",
    "    dict = {}\n",
    "    \n",
    "    for key, value in data_dict.items():\n",
    "       if key in columns:\n",
    "\n",
    "            dict[key] = [new_type(item) for item in value]\n",
    "    \n",
    "    return dict\n",
    "\n",
    "d = change_type(result, [\"ID\", \"Salary\"], float)\n",
    "print(d)"
   ]
  },
  {
   "cell_type": "markdown",
   "id": "de5de44b",
   "metadata": {},
   "source": [
    "## Encoded Column :"
   ]
  },
  {
   "cell_type": "code",
   "execution_count": 8,
   "id": "7503e1c3",
   "metadata": {},
   "outputs": [],
   "source": [
    "def label_encoder(dict, keys):\n",
    "    \n",
    "    for key in keys:\n",
    "        \n",
    "        unique_values=set(dict[key])\n",
    "        values=dict()\n",
    "        \n",
    "        for i , value in enumerate(unique_values):\n",
    "            values[value]=i\n",
    "            \n",
    "        for i in range(len(dict[key])):\n",
    "            dict[key][i]=values[dict[key[i]]]          \n",
    "\n",
    "    return dict\n",
    "    "
   ]
  },
  {
   "cell_type": "markdown",
   "id": "b9cc73cc-27d0-4987-abfc-abd137855fcb",
   "metadata": {},
   "source": [
    " ## Assighment :"
   ]
  },
  {
   "cell_type": "code",
   "execution_count": null,
   "id": "54ca2eae-61d6-4f05-bb85-528dc56560e9",
   "metadata": {},
   "outputs": [],
   "source": []
  }
 ],
 "metadata": {
  "kernelspec": {
   "display_name": "Python 3 (ipykernel)",
   "language": "python",
   "name": "python3"
  },
  "language_info": {
   "codemirror_mode": {
    "name": "ipython",
    "version": 3
   },
   "file_extension": ".py",
   "mimetype": "text/x-python",
   "name": "python",
   "nbconvert_exporter": "python",
   "pygments_lexer": "ipython3",
   "version": "3.8.10"
  }
 },
 "nbformat": 4,
 "nbformat_minor": 5
}
