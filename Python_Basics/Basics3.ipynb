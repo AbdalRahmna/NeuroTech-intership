{
 "cells": [
  {
   "cell_type": "code",
   "execution_count": 1,
   "id": "27f1975e-635d-482a-a0fb-6961e83233dd",
   "metadata": {},
   "outputs": [
    {
     "data": {
      "text/html": [
       "\n",
       "<style>\n",
       "  h2 {\n",
       "    font-size: var(--j3p-content-font-size4);\n",
       "    background-color:#00FF00  ;\n",
       "    color: white;\n",
       "    display: flex;\n",
       "    align-items: center;\n",
       "    justify-content: center;\n",
       "    padding: 10px 41px;\n",
       "    top: 10px;\n",
       "    position: relative;\n",
       "    border-radius: 10px 50px 10px 50px;\n",
       "}\n",
       "\n",
       " img {       /* flex-grow: 1; */\n",
       "            /* flex-shrink: 1; */\n",
       "            border-radius: 100px 70px 150px 70px; \n",
       "            border: 10px solid #eee;\n",
       "            display: flex;\n",
       "            align-items: center;\n",
       "            justify-content: center;\n",
       "            transition: box-shadow 0.3s ease; /* Add a transition for a smooth effect */\n",
       "        }\n",
       "\n",
       "       img:active {\n",
       "          box-shadow: 0 10px 20px rgba(255, 255, 0, 0.5), 0 6px 6px rgba(215, 215, 0, 0.5);\n",
       "        }\n",
       "</style>\n"
      ],
      "text/plain": [
       "<IPython.core.display.HTML object>"
      ]
     },
     "execution_count": 1,
     "metadata": {},
     "output_type": "execute_result"
    }
   ],
   "source": [
    "from IPython.core.display import HTML\n",
    "# Apply styles globally within the notebook\n",
    "HTML('''\n",
    "<style>\n",
    "  h2 {\n",
    "    font-size: var(--j3p-content-font-size4);\n",
    "    background-color:#00FF00  ;\n",
    "    color: white;\n",
    "    display: flex;\n",
    "    align-items: center;\n",
    "    justify-content: center;\n",
    "    padding: 10px 41px;\n",
    "    top: 10px;\n",
    "    position: relative;\n",
    "    border-radius: 10px 50px 10px 50px;\n",
    "}\n",
    "\n",
    " img {       /* flex-grow: 1; */\n",
    "            /* flex-shrink: 1; */\n",
    "            border-radius: 100px 70px 150px 70px; \n",
    "            border: 10px solid #eee;\n",
    "            display: flex;\n",
    "            align-items: center;\n",
    "            justify-content: center;\n",
    "            transition: box-shadow 0.3s ease; /* Add a transition for a smooth effect */\n",
    "        }\n",
    "\n",
    "       img:active {\n",
    "          box-shadow: 0 10px 20px rgba(255, 255, 0, 0.5), 0 6px 6px rgba(215, 215, 0, 0.5);\n",
    "        }\n",
    "</style>\n",
    "''') "
   ]
  },
  {
   "cell_type": "markdown",
   "id": "f351ca73-b56b-434d-a16c-e8ba712cde45",
   "metadata": {},
   "source": [
    "## palindrome task :"
   ]
  },
  {
   "cell_type": "code",
   "execution_count": 2,
   "id": "2465ecad-f4e5-4ca6-954b-2593c965a992",
   "metadata": {},
   "outputs": [
    {
     "name": "stdout",
     "output_type": "stream",
     "text": [
      "False\n",
      "True\n",
      "--------------------------------------------------\n",
      "False\n",
      "True\n"
     ]
    }
   ],
   "source": [
    "def is_palindrome(word):\n",
    "    return (\n",
    "        True if len(word) <= 1 \n",
    "        else False if word[0] != word[-1] \n",
    "        else is_palindrome(word[1:-1])\n",
    "    )\n",
    "\n",
    "\n",
    "print(is_palindrome(\"Abdo\"))  \n",
    "print(is_palindrome(\"MOM\")) \n",
    "\n",
    "print(\"-\"*50)\n",
    "\n",
    "#------------------------------------\n",
    "\n",
    "def is_palnd(word):\n",
    "    \n",
    "    if len(word)<2:\n",
    "        return True \n",
    "    elif word[0]==word[-1]:\n",
    "         return is_palnd(word[1:-1])\n",
    "    else:\n",
    "         return False\n",
    "\n",
    "print(is_palnd(\"Ali\"))  \n",
    "print(is_palnd(\"MADAM\"))         "
   ]
  },
  {
   "cell_type": "code",
   "execution_count": 3,
   "id": "1c4b3e25-411b-4edb-a17c-d3138632a906",
   "metadata": {},
   "outputs": [],
   "source": [
    "def print_name(**args):\n",
    "    print(f\"hi my name ids {args['Name1']} & second is {args['Name2']}\")\n"
   ]
  },
  {
   "cell_type": "markdown",
   "id": "2000fc26-7b11-4ac6-b19d-f2c7f3f72fe2",
   "metadata": {},
   "source": [
    "## Recursion (Factorial , Fibonacci sequence:) :"
   ]
  },
  {
   "cell_type": "code",
   "execution_count": 4,
   "id": "e5ce20e6-bcff-4e02-8262-1d3b61352f82",
   "metadata": {},
   "outputs": [
    {
     "name": "stdout",
     "output_type": "stream",
     "text": [
      "5! = 120\n",
      "-------------------------\n",
      "10! =  3628800\n"
     ]
    }
   ],
   "source": [
    "# iterative way :\n",
    "\n",
    "def fact(n):\n",
    "    fact=1\n",
    "    for i in range(1,n+1):\n",
    "        fact*=i\n",
    "    return fact\n",
    "print(\"5! =\",fact(5))\n",
    "\n",
    "print(\"-\"*25)\n",
    "\n",
    "# Recursive way :\n",
    "\n",
    "def fact(x):\n",
    "    if x==0 or x==1 :\n",
    "        return 1\n",
    "    else:\n",
    "        return x*fact(x-1)\n",
    "print(\"10! = \",fact(10))        \n",
    "    "
   ]
  },
  {
   "cell_type": "code",
   "execution_count": 5,
   "id": "aa57654f-3df5-490f-8be5-a0b2705de149",
   "metadata": {},
   "outputs": [
    {
     "name": "stdout",
     "output_type": "stream",
     "text": [
      "out= 55\n",
      "------------------------------\n",
      "out= 13\n"
     ]
    }
   ],
   "source": [
    "def fib(n):\n",
    "    if n==0:\n",
    "        return 0\n",
    "    elif n==1:\n",
    "        return 1\n",
    "    else:\n",
    "        return fib(n-1) +fib(n-2)\n",
    "print(\"out=\",fib(10)) \n",
    "\n",
    "#---------------------------------------\n",
    "print(\"-\"*30)\n",
    "\n",
    "def fib1(x):\n",
    "    return(\n",
    "        0 if x==0 \n",
    "        else (fib(x-1)+fib(x-2))\n",
    "    )\n",
    "print(\"out=\",fib1(7))    "
   ]
  },
  {
   "cell_type": "markdown",
   "id": "8c3a7e0c-c9ca-4285-83ef-f272aa604865",
   "metadata": {},
   "source": [
    "## RegEx :(re package(search,split,sub,findall))"
   ]
  },
  {
   "cell_type": "code",
   "execution_count": 6,
   "id": "9e52d2af-8c75-4cc2-a448-7f04763fe394",
   "metadata": {},
   "outputs": [],
   "source": [
    "import re "
   ]
  },
  {
   "cell_type": "code",
   "execution_count": 48,
   "id": "f0f929e1-90d1-4198-871d-1a608dd74f64",
   "metadata": {},
   "outputs": [
    {
     "name": "stdout",
     "output_type": "stream",
     "text": [
      "Result -->>  ['Hey', 'guys', 'how', 'are', '', 'you']\n",
      "-------------------------\n",
      "['Hello']\n",
      "<re.Match object; span=(17, 20), match='are'>\n",
      "['is']\n",
      "['Hello', 'Python', 'how', 'are', 'you', '', '', 'my', 'names', 'is', 'Ali', '', '', 'im', 'come', 'from', 'Egypt.']\n"
     ]
    }
   ],
   "source": [
    "st1 = \"Hey;guys;how,are;/you\"\n",
    "result=re.split(\",|;|/\",st)\n",
    "print(\"Result -->> \",result)\n",
    "print(\"-\"*25)\n",
    "#---------------------------------\n",
    "st2=\"Hello Python,how are you:/ my names is Ali - im come from Egypt.\"\n",
    "r1=re.findall(\"Hello\",st2)\n",
    "r3=re.search(\"are\",st2)\n",
    "r4=re.findall(\"is\",st2)\n",
    "r2=re.split(\",|;|/|:|-|\\s\",st2) # \\s -->> for the space \n",
    "print(r1);print(r3);print(r4);print(r2)"
   ]
  },
  {
   "cell_type": "code",
   "execution_count": 50,
   "id": "d8abf0f9-620b-422f-9277-ff7c5c1226df",
   "metadata": {},
   "outputs": [],
   "source": [
    "# findall : find all items for the researched word :\n",
    "st2=\"Hello Python,how are you:/ my names is Ali - im come from Egypt.\"\n",
    "r1=re.findall(\"Hello\",st2)"
   ]
  },
  {
   "cell_type": "code",
   "execution_count": 52,
   "id": "fe6344f8-146c-462a-8a4e-7796fbbad3f8",
   "metadata": {},
   "outputs": [
    {
     "name": "stdout",
     "output_type": "stream",
     "text": [
      "False\n"
     ]
    }
   ],
   "source": [
    "\n",
    "r3=re.search(\"are\",st2)\n",
    "print(r3 is True)"
   ]
  },
  {
   "cell_type": "code",
   "execution_count": 49,
   "id": "7f841c08-6925-430e-bfbb-3e11038469a6",
   "metadata": {},
   "outputs": [
    {
     "name": "stdout",
     "output_type": "stream",
     "text": [
      "AbdalRhman is happy\n"
     ]
    }
   ],
   "source": [
    "## sub = replace :\n",
    "\n",
    "st3=\"Ayman is happy\"\n",
    "\n",
    "print(re.sub(\"Ayman\",\"AbdalRhman\",st3))"
   ]
  },
  {
   "cell_type": "code",
   "execution_count": 113,
   "id": "46c7d6d8-fcee-46cb-9157-0590bfbaa6b8",
   "metadata": {},
   "outputs": [
    {
     "name": "stdout",
     "output_type": "stream",
     "text": [
      "hey guys how are you\n",
      "------------------------------\n"
     ]
    },
    {
     "data": {
      "text/plain": [
       "'hey guys how  are  you'"
      ]
     },
     "execution_count": 113,
     "metadata": {},
     "output_type": "execute_result"
    }
   ],
   "source": [
    "t = \"He/y gu3ys how a-re you\"\n",
    "cleaned_t = re.sub(r'[^a-zA-Z\\s]', '', t).lower().split()\n",
    "print(' '.join(cleaned_t))\n",
    "\n",
    "cleaned=t.replace(\"/\",\"\").replace(\"gu3ys\",\"guys\").replace(\"a-re\",\"are\")\n",
    "cleaned\n",
    "\n",
    "print(\"-\"*30)\n",
    "\n",
    "text = \"He/y gu3ys how , are ;\\ you\"\n",
    "cleaned_text = re.sub(r'[^a-zA-Z\\s]', '', text).lower()\n",
    "cleaned_text"
   ]
  },
  {
   "cell_type": "code",
   "execution_count": 146,
   "id": "5c0553d9-26d6-4cfc-a799-a964bc37a635",
   "metadata": {},
   "outputs": [
    {
     "data": {
      "text/plain": [
       "'Hey are you i miss you thanks for you '"
      ]
     },
     "execution_count": 146,
     "metadata": {},
     "output_type": "execute_result"
    }
   ],
   "source": [
    "t2=\"H0e1y are you9 , i miss 0you0 , thanks8 for you 9\"\n",
    "cleaned_text =cleaned_text = re.sub(r'[0-9]', '', t2).replace(\",\",\"\")\n",
    "cleaned_text = re.sub(r'\\s+', ' ', cleaned_text)\n",
    "cleaned_text"
   ]
  },
  {
   "cell_type": "code",
   "execution_count": 151,
   "id": "4aa2d16b-109b-4ebe-a1f5-506468f21201",
   "metadata": {},
   "outputs": [
    {
     "name": "stdout",
     "output_type": "stream",
     "text": [
      "hey are you i miss you thanks for you \n"
     ]
    }
   ],
   "source": [
    "ct = re.sub(r'[^a-zA-Z\\s]', '', t2).replace(\"  \",\" \").lower()\n",
    "print(ct)"
   ]
  }
 ],
 "metadata": {
  "kernelspec": {
   "display_name": "Python 3 (ipykernel)",
   "language": "python",
   "name": "python3"
  },
  "language_info": {
   "codemirror_mode": {
    "name": "ipython",
    "version": 3
   },
   "file_extension": ".py",
   "mimetype": "text/x-python",
   "name": "python",
   "nbconvert_exporter": "python",
   "pygments_lexer": "ipython3",
   "version": "3.8.10"
  }
 },
 "nbformat": 4,
 "nbformat_minor": 5
}
