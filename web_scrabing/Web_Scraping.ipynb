{
 "cells": [
  {
   "cell_type": "code",
   "execution_count": 2,
   "metadata": {
    "colab": {
     "base_uri": "https://localhost:8080/"
    },
    "id": "pkyFpzI6R3YT",
    "outputId": "61e3f009-74f6-4b34-ee7b-6edd6b177ece"
   },
   "outputs": [
    {
     "name": "stdout",
     "output_type": "stream",
     "text": [
      "Requirement already satisfied: selenium in /usr/local/lib/python3.10/dist-packages (4.25.0)\n",
      "Requirement already satisfied: urllib3<3,>=1.26 in /usr/local/lib/python3.10/dist-packages (from urllib3[socks]<3,>=1.26->selenium) (2.2.3)\n",
      "Requirement already satisfied: trio~=0.17 in /usr/local/lib/python3.10/dist-packages (from selenium) (0.27.0)\n",
      "Requirement already satisfied: trio-websocket~=0.9 in /usr/local/lib/python3.10/dist-packages (from selenium) (0.11.1)\n",
      "Requirement already satisfied: certifi>=2021.10.8 in /usr/local/lib/python3.10/dist-packages (from selenium) (2024.8.30)\n",
      "Requirement already satisfied: typing_extensions~=4.9 in /usr/local/lib/python3.10/dist-packages (from selenium) (4.12.2)\n",
      "Requirement already satisfied: websocket-client~=1.8 in /usr/local/lib/python3.10/dist-packages (from selenium) (1.8.0)\n",
      "Requirement already satisfied: attrs>=23.2.0 in /usr/local/lib/python3.10/dist-packages (from trio~=0.17->selenium) (24.2.0)\n",
      "Requirement already satisfied: sortedcontainers in /usr/local/lib/python3.10/dist-packages (from trio~=0.17->selenium) (2.4.0)\n",
      "Requirement already satisfied: idna in /usr/local/lib/python3.10/dist-packages (from trio~=0.17->selenium) (3.10)\n",
      "Requirement already satisfied: outcome in /usr/local/lib/python3.10/dist-packages (from trio~=0.17->selenium) (1.3.0.post0)\n",
      "Requirement already satisfied: sniffio>=1.3.0 in /usr/local/lib/python3.10/dist-packages (from trio~=0.17->selenium) (1.3.1)\n",
      "Requirement already satisfied: exceptiongroup in /usr/local/lib/python3.10/dist-packages (from trio~=0.17->selenium) (1.2.2)\n",
      "Requirement already satisfied: wsproto>=0.14 in /usr/local/lib/python3.10/dist-packages (from trio-websocket~=0.9->selenium) (1.2.0)\n",
      "Requirement already satisfied: pysocks!=1.5.7,<2.0,>=1.5.6 in /usr/local/lib/python3.10/dist-packages (from urllib3[socks]<3,>=1.26->selenium) (1.7.1)\n",
      "Requirement already satisfied: h11<1,>=0.9.0 in /usr/local/lib/python3.10/dist-packages (from wsproto>=0.14->trio-websocket~=0.9->selenium) (0.14.0)\n"
     ]
    }
   ],
   "source": [
    "%pip install selenium"
   ]
  },
  {
   "cell_type": "code",
   "execution_count": 41,
   "metadata": {
    "id": "jIwZtEjmRsOh"
   },
   "outputs": [],
   "source": [
    "from selenium import webdriver\n",
    "import time"
   ]
  },
  {
   "cell_type": "code",
   "execution_count": 4,
   "metadata": {
    "id": "z_kcUjiqRy0B"
   },
   "outputs": [],
   "source": [
    "# If you have downloaded any external chrome web driver, please remove it (or hide\n",
    "# it from selenium) and let selenium automatically download the right version for you.\n",
    "\n",
    "\n",
    "chrome_options = webdriver.ChromeOptions()\n",
    "chrome_options.add_argument('--headless') # ensure GUI is off\n",
    "chrome_options.add_argument('--no-sandbox')\n",
    "chrome_options.add_argument('--disable-dev-shm-usage')\n",
    "driver = webdriver.Chrome(options = chrome_options)"
   ]
  },
  {
   "cell_type": "code",
   "execution_count": 42,
   "metadata": {
    "id": "FASNZClYR_AM"
   },
   "outputs": [],
   "source": [
    "url = '''https://portal.gdc.cancer.gov/'''"
   ]
  },
  {
   "cell_type": "code",
   "execution_count": 43,
   "metadata": {
    "id": "mNh9ACPrS6gI"
   },
   "outputs": [],
   "source": [
    "driver.get(url)"
   ]
  },
  {
   "cell_type": "code",
   "execution_count": 45,
   "metadata": {
    "id": "RBAmGjfvFVhM"
   },
   "outputs": [],
   "source": [
    "g = driver.find_element(\"id\", \"primarySiteLabels\")"
   ]
  },
  {
   "cell_type": "code",
   "execution_count": 40,
   "metadata": {
    "id": "VmGfjty8Fbmx"
   },
   "outputs": [],
   "source": [
    "from selenium.webdriver.common.by import By\n",
    "elements = g.find_elements(\"tag name\", \"text\") # Or g.find_elements(BY.TAG_NAME, \"text\")"
   ]
  },
  {
   "cell_type": "code",
   "execution_count": 37,
   "metadata": {
    "colab": {
     "base_uri": "https://localhost:8080/"
    },
    "id": "m_D__1D_Fdo6",
    "outputId": "4d07ca8c-60df-4da2-e2ac-33aab486a36a"
   },
   "outputs": [
    {
     "data": {
      "text/plain": [
       "[<selenium.webdriver.remote.webelement.WebElement (session=\"1004f89a609ec878fefa97b5736b8116\", element=\"f.57FE662EAC7B79E7EB10970326850548.d.282DC7C8F9F864F87A7714AB577FBB76.e.57\")>,\n",
       " <selenium.webdriver.remote.webelement.WebElement (session=\"1004f89a609ec878fefa97b5736b8116\", element=\"f.57FE662EAC7B79E7EB10970326850548.d.282DC7C8F9F864F87A7714AB577FBB76.e.58\")>,\n",
       " <selenium.webdriver.remote.webelement.WebElement (session=\"1004f89a609ec878fefa97b5736b8116\", element=\"f.57FE662EAC7B79E7EB10970326850548.d.282DC7C8F9F864F87A7714AB577FBB76.e.59\")>,\n",
       " <selenium.webdriver.remote.webelement.WebElement (session=\"1004f89a609ec878fefa97b5736b8116\", element=\"f.57FE662EAC7B79E7EB10970326850548.d.282DC7C8F9F864F87A7714AB577FBB76.e.60\")>,\n",
       " <selenium.webdriver.remote.webelement.WebElement (session=\"1004f89a609ec878fefa97b5736b8116\", element=\"f.57FE662EAC7B79E7EB10970326850548.d.282DC7C8F9F864F87A7714AB577FBB76.e.61\")>,\n",
       " <selenium.webdriver.remote.webelement.WebElement (session=\"1004f89a609ec878fefa97b5736b8116\", element=\"f.57FE662EAC7B79E7EB10970326850548.d.282DC7C8F9F864F87A7714AB577FBB76.e.62\")>,\n",
       " <selenium.webdriver.remote.webelement.WebElement (session=\"1004f89a609ec878fefa97b5736b8116\", element=\"f.57FE662EAC7B79E7EB10970326850548.d.282DC7C8F9F864F87A7714AB577FBB76.e.63\")>,\n",
       " <selenium.webdriver.remote.webelement.WebElement (session=\"1004f89a609ec878fefa97b5736b8116\", element=\"f.57FE662EAC7B79E7EB10970326850548.d.282DC7C8F9F864F87A7714AB577FBB76.e.64\")>,\n",
       " <selenium.webdriver.remote.webelement.WebElement (session=\"1004f89a609ec878fefa97b5736b8116\", element=\"f.57FE662EAC7B79E7EB10970326850548.d.282DC7C8F9F864F87A7714AB577FBB76.e.65\")>,\n",
       " <selenium.webdriver.remote.webelement.WebElement (session=\"1004f89a609ec878fefa97b5736b8116\", element=\"f.57FE662EAC7B79E7EB10970326850548.d.282DC7C8F9F864F87A7714AB577FBB76.e.66\")>,\n",
       " <selenium.webdriver.remote.webelement.WebElement (session=\"1004f89a609ec878fefa97b5736b8116\", element=\"f.57FE662EAC7B79E7EB10970326850548.d.282DC7C8F9F864F87A7714AB577FBB76.e.67\")>,\n",
       " <selenium.webdriver.remote.webelement.WebElement (session=\"1004f89a609ec878fefa97b5736b8116\", element=\"f.57FE662EAC7B79E7EB10970326850548.d.282DC7C8F9F864F87A7714AB577FBB76.e.68\")>,\n",
       " <selenium.webdriver.remote.webelement.WebElement (session=\"1004f89a609ec878fefa97b5736b8116\", element=\"f.57FE662EAC7B79E7EB10970326850548.d.282DC7C8F9F864F87A7714AB577FBB76.e.69\")>,\n",
       " <selenium.webdriver.remote.webelement.WebElement (session=\"1004f89a609ec878fefa97b5736b8116\", element=\"f.57FE662EAC7B79E7EB10970326850548.d.282DC7C8F9F864F87A7714AB577FBB76.e.70\")>,\n",
       " <selenium.webdriver.remote.webelement.WebElement (session=\"1004f89a609ec878fefa97b5736b8116\", element=\"f.57FE662EAC7B79E7EB10970326850548.d.282DC7C8F9F864F87A7714AB577FBB76.e.71\")>,\n",
       " <selenium.webdriver.remote.webelement.WebElement (session=\"1004f89a609ec878fefa97b5736b8116\", element=\"f.57FE662EAC7B79E7EB10970326850548.d.282DC7C8F9F864F87A7714AB577FBB76.e.72\")>,\n",
       " <selenium.webdriver.remote.webelement.WebElement (session=\"1004f89a609ec878fefa97b5736b8116\", element=\"f.57FE662EAC7B79E7EB10970326850548.d.282DC7C8F9F864F87A7714AB577FBB76.e.73\")>,\n",
       " <selenium.webdriver.remote.webelement.WebElement (session=\"1004f89a609ec878fefa97b5736b8116\", element=\"f.57FE662EAC7B79E7EB10970326850548.d.282DC7C8F9F864F87A7714AB577FBB76.e.74\")>,\n",
       " <selenium.webdriver.remote.webelement.WebElement (session=\"1004f89a609ec878fefa97b5736b8116\", element=\"f.57FE662EAC7B79E7EB10970326850548.d.282DC7C8F9F864F87A7714AB577FBB76.e.75\")>,\n",
       " <selenium.webdriver.remote.webelement.WebElement (session=\"1004f89a609ec878fefa97b5736b8116\", element=\"f.57FE662EAC7B79E7EB10970326850548.d.282DC7C8F9F864F87A7714AB577FBB76.e.76\")>,\n",
       " <selenium.webdriver.remote.webelement.WebElement (session=\"1004f89a609ec878fefa97b5736b8116\", element=\"f.57FE662EAC7B79E7EB10970326850548.d.282DC7C8F9F864F87A7714AB577FBB76.e.77\")>,\n",
       " <selenium.webdriver.remote.webelement.WebElement (session=\"1004f89a609ec878fefa97b5736b8116\", element=\"f.57FE662EAC7B79E7EB10970326850548.d.282DC7C8F9F864F87A7714AB577FBB76.e.78\")>,\n",
       " <selenium.webdriver.remote.webelement.WebElement (session=\"1004f89a609ec878fefa97b5736b8116\", element=\"f.57FE662EAC7B79E7EB10970326850548.d.282DC7C8F9F864F87A7714AB577FBB76.e.79\")>,\n",
       " <selenium.webdriver.remote.webelement.WebElement (session=\"1004f89a609ec878fefa97b5736b8116\", element=\"f.57FE662EAC7B79E7EB10970326850548.d.282DC7C8F9F864F87A7714AB577FBB76.e.80\")>,\n",
       " <selenium.webdriver.remote.webelement.WebElement (session=\"1004f89a609ec878fefa97b5736b8116\", element=\"f.57FE662EAC7B79E7EB10970326850548.d.282DC7C8F9F864F87A7714AB577FBB76.e.81\")>,\n",
       " <selenium.webdriver.remote.webelement.WebElement (session=\"1004f89a609ec878fefa97b5736b8116\", element=\"f.57FE662EAC7B79E7EB10970326850548.d.282DC7C8F9F864F87A7714AB577FBB76.e.82\")>,\n",
       " <selenium.webdriver.remote.webelement.WebElement (session=\"1004f89a609ec878fefa97b5736b8116\", element=\"f.57FE662EAC7B79E7EB10970326850548.d.282DC7C8F9F864F87A7714AB577FBB76.e.83\")>,\n",
       " <selenium.webdriver.remote.webelement.WebElement (session=\"1004f89a609ec878fefa97b5736b8116\", element=\"f.57FE662EAC7B79E7EB10970326850548.d.282DC7C8F9F864F87A7714AB577FBB76.e.84\")>]"
      ]
     },
     "execution_count": 37,
     "metadata": {},
     "output_type": "execute_result"
    }
   ],
   "source": [
    " elements"
   ]
  },
  {
   "cell_type": "code",
   "execution_count": 38,
   "metadata": {
    "colab": {
     "base_uri": "https://localhost:8080/"
    },
    "id": "Ll-bu0YfFdlg",
    "outputId": "5d604c54-1d55-44ba-b905-1b2f1259c3d8"
   },
   "outputs": [
    {
     "name": "stdout",
     "output_type": "stream",
     "text": [
      "Adrenal Gland\n",
      "Bile Duct\n",
      "Bladder\n",
      "Bone\n",
      "Bone Marrow and Blood\n",
      "Brain\n",
      "Breast\n",
      "Cervix\n",
      "Colorectal\n",
      "Esophagus\n",
      "Eye\n",
      "Head and Neck\n",
      "Kidney\n",
      "Liver\n",
      "Lung\n",
      "Lymph Nodes\n",
      "Nervous System\n",
      "Ovary\n",
      "Pancreas\n",
      "Pleura\n",
      "Prostate\n",
      "Skin\n",
      "Soft Tissue\n",
      "Stomach\n",
      "Testis\n",
      "Thymus\n",
      "Thyroid\n",
      "Uterus\n"
     ]
    }
   ],
   "source": [
    "for element in elements:\n",
    "  print(element.get_attribute(\"textContent\"))"
   ]
  },
  {
   "cell_type": "code",
   "execution_count": 33,
   "metadata": {
    "id": "4FwDasliS_LE"
   },
   "outputs": [],
   "source": [
    "xpath = '''/html/body/div/div[1]/div/main/div/div[1]/div[1]/div[2]/div[2]/div'''\n"
   ]
  },
  {
   "cell_type": "code",
   "execution_count": 34,
   "metadata": {
    "id": "IR4Rxc6GTG6U"
   },
   "outputs": [],
   "source": [
    "elements = driver.find_elements(\"xpath\", xpath)"
   ]
  },
  {
   "cell_type": "code",
   "execution_count": 23,
   "metadata": {
    "colab": {
     "base_uri": "https://localhost:8080/"
    },
    "id": "EYES_FBFJ2k4",
    "outputId": "ce856acf-2db9-4a35-f6c5-99729fb9d023"
   },
   "outputs": [
    {
     "data": {
      "text/plain": [
       "[<selenium.webdriver.remote.webelement.WebElement (session=\"1004f89a609ec878fefa97b5736b8116\", element=\"f.57FE662EAC7B79E7EB10970326850548.d.B09B52FC40F2674F2725C2E0EABC8637.e.38\")>,\n",
       " <selenium.webdriver.remote.webelement.WebElement (session=\"1004f89a609ec878fefa97b5736b8116\", element=\"f.57FE662EAC7B79E7EB10970326850548.d.B09B52FC40F2674F2725C2E0EABC8637.e.39\")>,\n",
       " <selenium.webdriver.remote.webelement.WebElement (session=\"1004f89a609ec878fefa97b5736b8116\", element=\"f.57FE662EAC7B79E7EB10970326850548.d.B09B52FC40F2674F2725C2E0EABC8637.e.40\")>,\n",
       " <selenium.webdriver.remote.webelement.WebElement (session=\"1004f89a609ec878fefa97b5736b8116\", element=\"f.57FE662EAC7B79E7EB10970326850548.d.B09B52FC40F2674F2725C2E0EABC8637.e.41\")>,\n",
       " <selenium.webdriver.remote.webelement.WebElement (session=\"1004f89a609ec878fefa97b5736b8116\", element=\"f.57FE662EAC7B79E7EB10970326850548.d.B09B52FC40F2674F2725C2E0EABC8637.e.42\")>,\n",
       " <selenium.webdriver.remote.webelement.WebElement (session=\"1004f89a609ec878fefa97b5736b8116\", element=\"f.57FE662EAC7B79E7EB10970326850548.d.B09B52FC40F2674F2725C2E0EABC8637.e.43\")>]"
      ]
     },
     "execution_count": 23,
     "metadata": {},
     "output_type": "execute_result"
    }
   ],
   "source": [
    "elements"
   ]
  },
  {
   "cell_type": "code",
   "execution_count": 19,
   "metadata": {
    "colab": {
     "base_uri": "https://localhost:8080/"
    },
    "id": "-6ZOEjFLR0HT",
    "outputId": "eb2bc665-1943-4872-a529-50b80693c360"
   },
   "outputs": [
    {
     "ename": "IndexError",
     "evalue": "list index out of range",
     "output_type": "error",
     "traceback": [
      "\u001b[0;31m---------------------------------------------------------------------------\u001b[0m",
      "\u001b[0;31mIndexError\u001b[0m                                Traceback (most recent call last)",
      "Cell \u001b[0;32mIn[19], line 1\u001b[0m\n\u001b[0;32m----> 1\u001b[0m [x\u001b[38;5;241m.\u001b[39mtag_name \u001b[38;5;28;01mfor\u001b[39;00m x \u001b[38;5;129;01min\u001b[39;00m \u001b[43melements\u001b[49m\u001b[43m[\u001b[49m\u001b[38;5;241;43m0\u001b[39;49m\u001b[43m]\u001b[49m\u001b[38;5;241m.\u001b[39mfind_elements(\u001b[38;5;124m\"\u001b[39m\u001b[38;5;124mxpath\u001b[39m\u001b[38;5;124m\"\u001b[39m, \u001b[38;5;124m\"\u001b[39m\u001b[38;5;124m.//*\u001b[39m\u001b[38;5;124m\"\u001b[39m)]\n",
      "\u001b[0;31mIndexError\u001b[0m: list index out of range"
     ]
    }
   ],
   "source": [
    "[x.tag_name for x in elements[0].find_elements(\"xpath\", \".//*\")]"
   ]
  },
  {
   "cell_type": "code",
   "execution_count": 20,
   "metadata": {
    "colab": {
     "base_uri": "https://localhost:8080/"
    },
    "id": "SgQRVd12cL3B",
    "outputId": "24c5ebd7-dd23-4b62-b469-e0a54b52d057"
   },
   "outputs": [],
   "source": [
    "# prompt: get the text inside each element. using element.text doesn't work\n",
    "\n",
    "for element in elements:\n",
    "  t = element.find_element('xpath', 'div[3]').text\n",
    "  num = element.find_element('xpath', 'div[2]').text\n",
    "  print(f\"{t}: {num}\")\n"
   ]
  },
  {
   "cell_type": "code",
   "execution_count": null,
   "metadata": {
    "id": "wA2F1XhNdKJg"
   },
   "outputs": [],
   "source": []
  }
 ],
 "metadata": {
  "colab": {
   "provenance": []
  },
  "kernelspec": {
   "display_name": "Python 3 (ipykernel)",
   "language": "python",
   "name": "python3"
  },
  "language_info": {
   "codemirror_mode": {
    "name": "ipython",
    "version": 3
   },
   "file_extension": ".py",
   "mimetype": "text/x-python",
   "name": "python",
   "nbconvert_exporter": "python",
   "pygments_lexer": "ipython3",
   "version": "3.8.10"
  }
 },
 "nbformat": 4,
 "nbformat_minor": 4
}
