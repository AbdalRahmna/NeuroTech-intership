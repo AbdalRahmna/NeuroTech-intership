{
 "cells": [
  {
   "cell_type": "code",
   "execution_count": 17,
   "id": "3a248ba3-fb37-4905-8364-d65f2a8b3051",
   "metadata": {},
   "outputs": [
    {
     "data": {
      "text/html": [
       "\n",
       "<style>\n",
       "  h2 {\n",
       "    font-size: var(--j3p-content-font-size4);\n",
       "    background-color:#00FF00  ;\n",
       "    color: white;\n",
       "    display: flex;\n",
       "    align-items: center;\n",
       "    justify-content: center;\n",
       "    padding: 10px 41px;\n",
       "    top: 10px;\n",
       "    position: relative;\n",
       "    border-radius: 10px 50px 10px 50px;\n",
       "}\n",
       "\n",
       " img {       /* flex-grow: 1; */\n",
       "            /* flex-shrink: 1; */\n",
       "            border-radius: 100px 70px 150px 70px; \n",
       "            border: 10px solid #eee;\n",
       "            display: flex;\n",
       "            align-items: center;\n",
       "            justify-content: center;\n",
       "            transition: box-shadow 0.3s ease; /* Add a transition for a smooth effect */\n",
       "        }\n",
       "\n",
       "       img:active {\n",
       "          box-shadow: 0 10px 20px rgba(255, 255, 0, 0.5), 0 6px 6px rgba(215, 215, 0, 0.5);\n",
       "        }\n",
       "</style>\n"
      ],
      "text/plain": [
       "<IPython.core.display.HTML object>"
      ]
     },
     "execution_count": 17,
     "metadata": {},
     "output_type": "execute_result"
    }
   ],
   "source": [
    "from IPython.core.display import HTML\n",
    "# Apply styles globally within the notebook\n",
    "HTML('''\n",
    "<style>\n",
    "  h2 {\n",
    "    font-size: var(--j3p-content-font-size4);\n",
    "    background-color:#00FF00  ;\n",
    "    color: white;\n",
    "    display: flex;\n",
    "    align-items: center;\n",
    "    justify-content: center;\n",
    "    padding: 10px 41px;\n",
    "    top: 10px;\n",
    "    position: relative;\n",
    "    border-radius: 10px 50px 10px 50px;\n",
    "}\n",
    "\n",
    " img {       /* flex-grow: 1; */\n",
    "            /* flex-shrink: 1; */\n",
    "            border-radius: 100px 70px 150px 70px; \n",
    "            border: 10px solid #eee;\n",
    "            display: flex;\n",
    "            align-items: center;\n",
    "            justify-content: center;\n",
    "            transition: box-shadow 0.3s ease; /* Add a transition for a smooth effect */\n",
    "        }\n",
    "\n",
    "       img:active {\n",
    "          box-shadow: 0 10px 20px rgba(255, 255, 0, 0.5), 0 6px 6px rgba(215, 215, 0, 0.5);\n",
    "        }\n",
    "</style>\n",
    "''') "
   ]
  },
  {
   "cell_type": "markdown",
   "id": "4a881239-edaa-46a6-83c8-c9daa8f9270e",
   "metadata": {},
   "source": [
    "## Intro To webscrab :\n",
    "\n",
    "->>>   to get the structure of web page : ctrl+u or by using the inspect"
   ]
  },
  {
   "cell_type": "code",
   "execution_count": 1,
   "id": "4a4c1160-43f2-4518-9140-548755fcdfb3",
   "metadata": {},
   "outputs": [
    {
     "data": {
      "text/html": [
       "<html>\n",
       "<head>\n",
       "<style>\n",
       "/* Style the element with the id \"myHeader\" */\n",
       "myHeader {\n",
       "  background-color: lightblue;\n",
       "  color: black;\n",
       "  padding: 40px;\n",
       "  text-align: center;\n",
       "}\n",
       "\n",
       "/* Style all elements with the class name \"city\" */\n",
       ".city {\n",
       "  background-color: tomato;\n",
       "  color: blue;\n",
       "  padding: 10px;\n",
       "} \n",
       ".Town{\n",
       "    \n",
       "  background-color: yellow;\n",
       "  color: blue;\n",
       "  padding: 10px;\n",
       "}\n",
       "\n",
       "</style>\n",
       "</head>\n",
       "<body>\n",
       "\n",
       "<h2>Difference Between Class and ID</h2>\n",
       "<p>A class name can be used by multiple HTML elements, while an id name must only be used by one HTML element within the page:</p>\n",
       "\n",
       "<!-- An element with a unique id -->\n",
       "<h1 id=\"myHeader\">My Cities</h1>\n",
       "\n",
       "<!-- Multiple elements with same class -->\n",
       "<h2 class=\"city\">London</h2>\n",
       "<p class=\"city\">London is the capital of England.</p>\n",
       "\n",
       "<h2 class=\"city\">Paris</h2>\n",
       "<p class=\"city\">Paris is the capital of France.</p>\n",
       "\n",
       "<h2 class=\"city\">Tokyo</h2>\n",
       "<p class=\"city\">Tokyo is the capital of Japan.</p>\n",
       "\n",
       "<h2 class=\"Town\">Cairo</h2>\n",
       "<p class=\"Town\"> Cairo is the capital of Egyp.</p>\n",
       "\n",
       "</body>\n",
       "</html>\n",
       "\n"
      ],
      "text/plain": [
       "<IPython.core.display.HTML object>"
      ]
     },
     "metadata": {},
     "output_type": "display_data"
    }
   ],
   "source": [
    "%%HTML\n",
    "<html>\n",
    "<head>\n",
    "<style>\n",
    "/* Style the element with the id \"myHeader\" */\n",
    "myHeader {\n",
    "  background-color: lightblue;\n",
    "  color: black;\n",
    "  padding: 40px;\n",
    "  text-align: center;\n",
    "}\n",
    "\n",
    "/* Style all elements with the class name \"city\" */\n",
    ".city {\n",
    "  background-color: tomato;\n",
    "  color: blue;\n",
    "  padding: 10px;\n",
    "} \n",
    ".Town{\n",
    "    \n",
    "  background-color: yellow;\n",
    "  color: blue;\n",
    "  padding: 10px;\n",
    "}\n",
    "\n",
    "</style>\n",
    "</head>\n",
    "<body>\n",
    "\n",
    "<h2>Difference Between Class and ID</h2>\n",
    "<p>A class name can be used by multiple HTML elements, while an id name must only be used by one HTML element within the page:</p>\n",
    "\n",
    "<!-- An element with a unique id -->\n",
    "<h1 id=\"myHeader\">My Cities</h1>\n",
    "\n",
    "<!-- Multiple elements with same class -->\n",
    "<h2 class=\"city\">London</h2>\n",
    "<p class=\"city\">London is the capital of England.</p>\n",
    "\n",
    "<h2 class=\"city\">Paris</h2>\n",
    "<p class=\"city\">Paris is the capital of France.</p>\n",
    "\n",
    "<h2 class=\"city\">Tokyo</h2>\n",
    "<p class=\"city\">Tokyo is the capital of Japan.</p>\n",
    "\n",
    "<h2 class=\"Town\">Cairo</h2>\n",
    "<p class=\"Town\"> Cairo is the capital of Egyp.</p>\n",
    "\n",
    "</body>\n",
    "</html>\n",
    "\n"
   ]
  },
  {
   "cell_type": "code",
   "execution_count": 21,
   "id": "714e0754-e39a-4ae2-b55c-577c532f733a",
   "metadata": {},
   "outputs": [
    {
     "name": "stdout",
     "output_type": "stream",
     "text": [
      "Defaulting to user installation because normal site-packages is not writeable\n",
      "Requirement already satisfied: selenium in /home/abdalrahman/.local/lib/python3.8/site-packages (4.25.0)\n",
      "Requirement already satisfied: urllib3<3,>=1.26 in /home/abdalrahman/.local/lib/python3.8/site-packages (from urllib3[socks]<3,>=1.26->selenium) (2.2.3)\n",
      "Requirement already satisfied: trio~=0.17 in /home/abdalrahman/.local/lib/python3.8/site-packages (from selenium) (0.27.0)\n",
      "Requirement already satisfied: trio-websocket~=0.9 in /home/abdalrahman/.local/lib/python3.8/site-packages (from selenium) (0.11.1)\n",
      "Requirement already satisfied: certifi>=2021.10.8 in /home/abdalrahman/.local/lib/python3.8/site-packages (from selenium) (2024.7.4)\n",
      "Requirement already satisfied: typing_extensions~=4.9 in /home/abdalrahman/.local/lib/python3.8/site-packages (from selenium) (4.12.2)\n",
      "Requirement already satisfied: websocket-client~=1.8 in /home/abdalrahman/.local/lib/python3.8/site-packages (from selenium) (1.8.0)\n",
      "Requirement already satisfied: attrs>=23.2.0 in /home/abdalrahman/.local/lib/python3.8/site-packages (from trio~=0.17->selenium) (23.2.0)\n",
      "Requirement already satisfied: sortedcontainers in /home/abdalrahman/.local/lib/python3.8/site-packages (from trio~=0.17->selenium) (2.4.0)\n",
      "Requirement already satisfied: idna in /usr/lib/python3/dist-packages (from trio~=0.17->selenium) (2.8)\n",
      "Requirement already satisfied: outcome in /home/abdalrahman/.local/lib/python3.8/site-packages (from trio~=0.17->selenium) (1.3.0.post0)\n",
      "Requirement already satisfied: sniffio>=1.3.0 in /home/abdalrahman/.local/lib/python3.8/site-packages (from trio~=0.17->selenium) (1.3.1)\n",
      "Requirement already satisfied: exceptiongroup in /home/abdalrahman/.local/lib/python3.8/site-packages (from trio~=0.17->selenium) (1.2.0)\n",
      "Requirement already satisfied: wsproto>=0.14 in /home/abdalrahman/.local/lib/python3.8/site-packages (from trio-websocket~=0.9->selenium) (1.2.0)\n",
      "Requirement already satisfied: pysocks!=1.5.7,<2.0,>=1.5.6 in /home/abdalrahman/.local/lib/python3.8/site-packages (from urllib3[socks]<3,>=1.26->selenium) (1.7.1)\n",
      "Requirement already satisfied: h11<1,>=0.9.0 in /home/abdalrahman/.local/lib/python3.8/site-packages (from wsproto>=0.14->trio-websocket~=0.9->selenium) (0.14.0)\n"
     ]
    }
   ],
   "source": [
    "! pip install selenium"
   ]
  },
  {
   "cell_type": "markdown",
   "id": "c933de92-bf49-4348-91fd-cab6354dac6a",
   "metadata": {},
   "source": [
    "## use copyfullxpath -->> to copy any element from the web page :"
   ]
  },
  {
   "cell_type": "markdown",
   "id": "e5e5daad-a4b9-4dfc-b372-930e8a85edb9",
   "metadata": {},
   "source": [
    "## text web scrabing :"
   ]
  },
  {
   "cell_type": "code",
   "execution_count": 21,
   "id": "1053f320-0141-4d2f-8b7a-7108fa4a3494",
   "metadata": {},
   "outputs": [],
   "source": [
    "from selenium import webdriver\n",
    "import time"
   ]
  },
  {
   "cell_type": "code",
   "execution_count": 22,
   "id": "20106388-cdb8-4fc7-b0fc-03b78633d60e",
   "metadata": {},
   "outputs": [],
   "source": [
    "# if you have downloaded any external chrome web driver , please remove it or hide it from selenium\n",
    "#let selenium automalically download the right version for you\n",
    "\n",
    "chrome_options = webdriver.ChromeOptions()\n",
    "chrome_options.add_argument('--headless') # ensure GUI is off\n",
    "chrome_options.add_argument('--no-sandbox')\n",
    "chrome_options.add_argument('--disable-dev-shm-usage')\n",
    "driver = webdriver.Chrome(options = chrome_options)"
   ]
  },
  {
   "cell_type": "code",
   "execution_count": 23,
   "id": "444a7fe4-ec74-496a-a126-4d072664b421",
   "metadata": {},
   "outputs": [],
   "source": [
    "url='''https://portal.gdc.cancer.gov/''' # link of website"
   ]
  },
  {
   "cell_type": "code",
   "execution_count": 24,
   "id": "448bcb6e-5a5c-4de4-8204-b382cef4167b",
   "metadata": {},
   "outputs": [],
   "source": [
    "x_path='''/html/body/div/div[1]/div/main/div/div[1]/div[1]/div[2]/div[2]/div'''"
   ]
  },
  {
   "cell_type": "code",
   "execution_count": 25,
   "id": "fa5efd99-909b-4def-ab36-9db5f212f6eb",
   "metadata": {},
   "outputs": [],
   "source": [
    "driver.get(url)"
   ]
  },
  {
   "cell_type": "code",
   "execution_count": 26,
   "id": "71752208-553a-4565-a048-39ba6e4aca4e",
   "metadata": {},
   "outputs": [
    {
     "data": {
      "text/plain": [
       "[<selenium.webdriver.remote.webelement.WebElement (session=\"4c8c23b5d2f8a851ffde99c76946981a\", element=\"f.A0132C20A0419911657779816BC6C2AC.d.0CC54655846E2D126C5450CF620D84B4.e.38\")>,\n",
       " <selenium.webdriver.remote.webelement.WebElement (session=\"4c8c23b5d2f8a851ffde99c76946981a\", element=\"f.A0132C20A0419911657779816BC6C2AC.d.0CC54655846E2D126C5450CF620D84B4.e.39\")>,\n",
       " <selenium.webdriver.remote.webelement.WebElement (session=\"4c8c23b5d2f8a851ffde99c76946981a\", element=\"f.A0132C20A0419911657779816BC6C2AC.d.0CC54655846E2D126C5450CF620D84B4.e.40\")>,\n",
       " <selenium.webdriver.remote.webelement.WebElement (session=\"4c8c23b5d2f8a851ffde99c76946981a\", element=\"f.A0132C20A0419911657779816BC6C2AC.d.0CC54655846E2D126C5450CF620D84B4.e.41\")>,\n",
       " <selenium.webdriver.remote.webelement.WebElement (session=\"4c8c23b5d2f8a851ffde99c76946981a\", element=\"f.A0132C20A0419911657779816BC6C2AC.d.0CC54655846E2D126C5450CF620D84B4.e.42\")>,\n",
       " <selenium.webdriver.remote.webelement.WebElement (session=\"4c8c23b5d2f8a851ffde99c76946981a\", element=\"f.A0132C20A0419911657779816BC6C2AC.d.0CC54655846E2D126C5450CF620D84B4.e.43\")>]"
      ]
     },
     "execution_count": 26,
     "metadata": {},
     "output_type": "execute_result"
    }
   ],
   "source": [
    "elements=driver.find_elements(\"xpath\",x_path)\n",
    "elements"
   ]
  },
  {
   "cell_type": "code",
   "execution_count": 27,
   "id": "6c7607d0-9649-429f-a348-32e710719b14",
   "metadata": {},
   "outputs": [
    {
     "name": "stdout",
     "output_type": "stream",
     "text": [
      "Projects:86\n",
      "Primary Sites:69\n",
      "Cases:44,736\n",
      "Files:1,027,517\n",
      "Genes:22,534\n",
      "Mutations:2,940,240\n"
     ]
    }
   ],
   "source": [
    "for element in elements :\n",
    "    t=element.find_element('xpath','div[3]').get_attribute(\"textContent\")\n",
    "    num=element.find_element('xpath','div[2]').get_attribute(\"textContent\")\n",
    "    print(f\"{t}:{num}\")"
   ]
  },
  {
   "cell_type": "code",
   "execution_count": 28,
   "id": "27e9ed72-b36d-436c-a2ec-17e16772a114",
   "metadata": {},
   "outputs": [
    {
     "data": {
      "text/plain": [
       "<selenium.webdriver.remote.webelement.WebElement (session=\"4c8c23b5d2f8a851ffde99c76946981a\", element=\"f.A0132C20A0419911657779816BC6C2AC.d.0CC54655846E2D126C5450CF620D84B4.e.56\")>"
      ]
     },
     "execution_count": 28,
     "metadata": {},
     "output_type": "execute_result"
    }
   ],
   "source": [
    "g=driver.find_element(\"id\",\"primarySiteLabels\")\n",
    "g"
   ]
  },
  {
   "cell_type": "code",
   "execution_count": 29,
   "id": "108051e1-8ad1-43f0-9c28-a68e113045af",
   "metadata": {},
   "outputs": [
    {
     "data": {
      "text/plain": [
       "[<selenium.webdriver.remote.webelement.WebElement (session=\"4c8c23b5d2f8a851ffde99c76946981a\", element=\"f.A0132C20A0419911657779816BC6C2AC.d.0CC54655846E2D126C5450CF620D84B4.e.57\")>,\n",
       " <selenium.webdriver.remote.webelement.WebElement (session=\"4c8c23b5d2f8a851ffde99c76946981a\", element=\"f.A0132C20A0419911657779816BC6C2AC.d.0CC54655846E2D126C5450CF620D84B4.e.58\")>,\n",
       " <selenium.webdriver.remote.webelement.WebElement (session=\"4c8c23b5d2f8a851ffde99c76946981a\", element=\"f.A0132C20A0419911657779816BC6C2AC.d.0CC54655846E2D126C5450CF620D84B4.e.59\")>,\n",
       " <selenium.webdriver.remote.webelement.WebElement (session=\"4c8c23b5d2f8a851ffde99c76946981a\", element=\"f.A0132C20A0419911657779816BC6C2AC.d.0CC54655846E2D126C5450CF620D84B4.e.60\")>,\n",
       " <selenium.webdriver.remote.webelement.WebElement (session=\"4c8c23b5d2f8a851ffde99c76946981a\", element=\"f.A0132C20A0419911657779816BC6C2AC.d.0CC54655846E2D126C5450CF620D84B4.e.61\")>,\n",
       " <selenium.webdriver.remote.webelement.WebElement (session=\"4c8c23b5d2f8a851ffde99c76946981a\", element=\"f.A0132C20A0419911657779816BC6C2AC.d.0CC54655846E2D126C5450CF620D84B4.e.62\")>,\n",
       " <selenium.webdriver.remote.webelement.WebElement (session=\"4c8c23b5d2f8a851ffde99c76946981a\", element=\"f.A0132C20A0419911657779816BC6C2AC.d.0CC54655846E2D126C5450CF620D84B4.e.63\")>,\n",
       " <selenium.webdriver.remote.webelement.WebElement (session=\"4c8c23b5d2f8a851ffde99c76946981a\", element=\"f.A0132C20A0419911657779816BC6C2AC.d.0CC54655846E2D126C5450CF620D84B4.e.64\")>,\n",
       " <selenium.webdriver.remote.webelement.WebElement (session=\"4c8c23b5d2f8a851ffde99c76946981a\", element=\"f.A0132C20A0419911657779816BC6C2AC.d.0CC54655846E2D126C5450CF620D84B4.e.65\")>,\n",
       " <selenium.webdriver.remote.webelement.WebElement (session=\"4c8c23b5d2f8a851ffde99c76946981a\", element=\"f.A0132C20A0419911657779816BC6C2AC.d.0CC54655846E2D126C5450CF620D84B4.e.66\")>,\n",
       " <selenium.webdriver.remote.webelement.WebElement (session=\"4c8c23b5d2f8a851ffde99c76946981a\", element=\"f.A0132C20A0419911657779816BC6C2AC.d.0CC54655846E2D126C5450CF620D84B4.e.67\")>,\n",
       " <selenium.webdriver.remote.webelement.WebElement (session=\"4c8c23b5d2f8a851ffde99c76946981a\", element=\"f.A0132C20A0419911657779816BC6C2AC.d.0CC54655846E2D126C5450CF620D84B4.e.68\")>,\n",
       " <selenium.webdriver.remote.webelement.WebElement (session=\"4c8c23b5d2f8a851ffde99c76946981a\", element=\"f.A0132C20A0419911657779816BC6C2AC.d.0CC54655846E2D126C5450CF620D84B4.e.69\")>,\n",
       " <selenium.webdriver.remote.webelement.WebElement (session=\"4c8c23b5d2f8a851ffde99c76946981a\", element=\"f.A0132C20A0419911657779816BC6C2AC.d.0CC54655846E2D126C5450CF620D84B4.e.70\")>,\n",
       " <selenium.webdriver.remote.webelement.WebElement (session=\"4c8c23b5d2f8a851ffde99c76946981a\", element=\"f.A0132C20A0419911657779816BC6C2AC.d.0CC54655846E2D126C5450CF620D84B4.e.71\")>,\n",
       " <selenium.webdriver.remote.webelement.WebElement (session=\"4c8c23b5d2f8a851ffde99c76946981a\", element=\"f.A0132C20A0419911657779816BC6C2AC.d.0CC54655846E2D126C5450CF620D84B4.e.72\")>,\n",
       " <selenium.webdriver.remote.webelement.WebElement (session=\"4c8c23b5d2f8a851ffde99c76946981a\", element=\"f.A0132C20A0419911657779816BC6C2AC.d.0CC54655846E2D126C5450CF620D84B4.e.73\")>,\n",
       " <selenium.webdriver.remote.webelement.WebElement (session=\"4c8c23b5d2f8a851ffde99c76946981a\", element=\"f.A0132C20A0419911657779816BC6C2AC.d.0CC54655846E2D126C5450CF620D84B4.e.74\")>,\n",
       " <selenium.webdriver.remote.webelement.WebElement (session=\"4c8c23b5d2f8a851ffde99c76946981a\", element=\"f.A0132C20A0419911657779816BC6C2AC.d.0CC54655846E2D126C5450CF620D84B4.e.75\")>,\n",
       " <selenium.webdriver.remote.webelement.WebElement (session=\"4c8c23b5d2f8a851ffde99c76946981a\", element=\"f.A0132C20A0419911657779816BC6C2AC.d.0CC54655846E2D126C5450CF620D84B4.e.76\")>,\n",
       " <selenium.webdriver.remote.webelement.WebElement (session=\"4c8c23b5d2f8a851ffde99c76946981a\", element=\"f.A0132C20A0419911657779816BC6C2AC.d.0CC54655846E2D126C5450CF620D84B4.e.77\")>,\n",
       " <selenium.webdriver.remote.webelement.WebElement (session=\"4c8c23b5d2f8a851ffde99c76946981a\", element=\"f.A0132C20A0419911657779816BC6C2AC.d.0CC54655846E2D126C5450CF620D84B4.e.78\")>,\n",
       " <selenium.webdriver.remote.webelement.WebElement (session=\"4c8c23b5d2f8a851ffde99c76946981a\", element=\"f.A0132C20A0419911657779816BC6C2AC.d.0CC54655846E2D126C5450CF620D84B4.e.79\")>,\n",
       " <selenium.webdriver.remote.webelement.WebElement (session=\"4c8c23b5d2f8a851ffde99c76946981a\", element=\"f.A0132C20A0419911657779816BC6C2AC.d.0CC54655846E2D126C5450CF620D84B4.e.80\")>,\n",
       " <selenium.webdriver.remote.webelement.WebElement (session=\"4c8c23b5d2f8a851ffde99c76946981a\", element=\"f.A0132C20A0419911657779816BC6C2AC.d.0CC54655846E2D126C5450CF620D84B4.e.81\")>,\n",
       " <selenium.webdriver.remote.webelement.WebElement (session=\"4c8c23b5d2f8a851ffde99c76946981a\", element=\"f.A0132C20A0419911657779816BC6C2AC.d.0CC54655846E2D126C5450CF620D84B4.e.82\")>,\n",
       " <selenium.webdriver.remote.webelement.WebElement (session=\"4c8c23b5d2f8a851ffde99c76946981a\", element=\"f.A0132C20A0419911657779816BC6C2AC.d.0CC54655846E2D126C5450CF620D84B4.e.83\")>,\n",
       " <selenium.webdriver.remote.webelement.WebElement (session=\"4c8c23b5d2f8a851ffde99c76946981a\", element=\"f.A0132C20A0419911657779816BC6C2AC.d.0CC54655846E2D126C5450CF620D84B4.e.84\")>]"
      ]
     },
     "execution_count": 29,
     "metadata": {},
     "output_type": "execute_result"
    }
   ],
   "source": [
    "from selenium.webdriver.common.by import By\n",
    "elements=g.find_elements(\"tag name\",\"text\")\n",
    "elements"
   ]
  },
  {
   "cell_type": "code",
   "execution_count": 36,
   "id": "6ce7c78a-94b6-4f99-85c9-2bbdda724b9e",
   "metadata": {},
   "outputs": [
    {
     "name": "stdout",
     "output_type": "stream",
     "text": [
      "\n",
      "\n",
      "Python Tutorial\n",
      "Python HOME\n",
      "Python Intro\n",
      "Python Get Started\n",
      "Python Syntax\n",
      "Python Comments\n",
      "Python Variables\n",
      "\n",
      "  Python Variables\n",
      "  Variable Names\n",
      "  Assign Multiple Values\n",
      "  Output Variables\n",
      "  Global Variables\n",
      "  Variable Exercises\n",
      "\n",
      "\n",
      "Python Data Types\n",
      "Python Numbers\n",
      "\n",
      "Python Casting\n",
      "Python Strings\n",
      "\n",
      "  Python Strings\n",
      "  Slicing Strings\n",
      "  Modify Strings\n",
      "  Concatenate Strings\n",
      "  Format Strings\n",
      "  Escape Characters\n",
      "  String Methods\n",
      "  String Exercises\n",
      "\n",
      "Python Booleans\n",
      "Python Operators\n",
      "Python Lists\n",
      "\n",
      "  Python Lists\n",
      "  Access List Items\n",
      "  Change List Items\n",
      "  Add List Items\n",
      "  Remove List Items\n",
      "  Loop Lists\n",
      "  List Comprehension\n",
      "  Sort Lists\n",
      "  Copy Lists\n",
      "  Join Lists\n",
      "  List Methods\n",
      "  List Exercises\n",
      "\n",
      "Python Tuples\n",
      "\n",
      "  Python Tuples\n",
      "  Access Tuples\n",
      "  Update Tuples\n",
      "  Unpack Tuples\n",
      "  Loop Tuples\n",
      "  Join Tuples\n",
      "  Tuple Methods\n",
      "  Tuple Exercises\n",
      "\n",
      "Python Sets\n",
      "\n",
      "  Python Sets\n",
      "  Access Set Items\n",
      "  Add Set Items\n",
      "  Remove Set Items\n",
      "  Loop Sets\n",
      "  Join Sets\n",
      "  Set Methods\n",
      "  Set Exercises\n",
      "\n",
      "Python Dictionaries\n",
      "\n",
      "  Python Dictionaries\n",
      "  Access Items\n",
      "  Change Items\n",
      "  Add Items\n",
      "  Remove Items\n",
      "  Loop Dictionaries\n",
      "  Copy Dictionaries\n",
      "  Nested Dictionaries\n",
      "  Dictionary Methods\n",
      "  Dictionary Exercises\n",
      "\n",
      "Python If...Else\n",
      "Python While Loops\n",
      "Python For Loops\n",
      "\n",
      "Python Functions\n",
      "Python Lambda\n",
      "Python Arrays\n",
      "Python Classes/Objects\n",
      "Python Inheritance\n",
      "Python Iterators\n",
      "Python Polymorphism\n",
      "Python Scope\n",
      "Python Modules\n",
      "Python Dates\n",
      "Python Math\n",
      "Python JSON\n",
      "Python RegEx\n",
      "Python PIP\n",
      "Python Try...Except\n",
      "Python User Input\n",
      "Python String Formatting\n",
      "\n",
      "File Handling\n",
      "Python File Handling\n",
      "Python Read Files\n",
      "Python Write/Create Files\n",
      "Python Delete Files\n",
      "\n",
      "Python Modules\n",
      "NumPy Tutorial\n",
      "Pandas Tutorial\n",
      "SciPy Tutorial\n",
      "Django Tutorial\n",
      "\n",
      "\n",
      "\n",
      "Python Matplotlib\n",
      "Matplotlib Intro\n",
      "Matplotlib Get Started\n",
      "Matplotlib Pyplot\n",
      "Matplotlib Plotting\n",
      "Matplotlib Markers\n",
      "Matplotlib Line\n",
      "Matplotlib Labels\n",
      "Matplotlib Grid\n",
      "Matplotlib Subplot\n",
      "Matplotlib Scatter\n",
      "Matplotlib Bars\n",
      "Matplotlib Histograms\n",
      "Matplotlib Pie Charts\n",
      "\n",
      "\n",
      "Machine Learning\n",
      "Getting Started\n",
      "Mean Median Mode\n",
      "Standard Deviation\n",
      "Percentile\n",
      "Data Distribution\n",
      "Normal Data Distribution\n",
      "Scatter Plot\n",
      "Linear Regression\n",
      "Polynomial Regression\n",
      "Multiple Regression\n",
      "Scale\n",
      "Train/Test\n",
      "Decision Tree\n",
      "\n",
      "Confusion Matrix\n",
      "Hierarchical Clustering\n",
      "Logistic Regression\n",
      "Grid Search\n",
      "Categorical Data\n",
      "K-means\n",
      "Bootstrap Aggregation\n",
      "Cross Validation\n",
      "AUC - ROC Curve\n",
      "K-nearest neighbors\n",
      "\n",
      "\n",
      "Python MySQL\n",
      "MySQL Get Started\n",
      "MySQL Create Database\n",
      "MySQL Create Table\n",
      "MySQL Insert\n",
      "MySQL Select\n",
      "MySQL Where\n",
      "MySQL Order By\n",
      "MySQL Delete\n",
      "MySQL Drop Table\n",
      "MySQL Update\n",
      "MySQL Limit\n",
      "MySQL Join\n",
      "\n",
      "Python MongoDB\n",
      "MongoDB Get Started\n",
      "MongoDB Create DB\n",
      "MongoDB Collection\n",
      "MongoDB Insert\n",
      "MongoDB Find\n",
      "MongoDB Query\n",
      "MongoDB Sort\n",
      "MongoDB Delete\n",
      "MongoDB Drop Collection\n",
      "MongoDB Update\n",
      "MongoDB Limit\n",
      "\n",
      "\n",
      "\n",
      "Python Reference\n",
      "Python Overview\n",
      "Python Built-in Functions\n",
      "Python String Methods\n",
      "Python List Methods\n",
      "Python Dictionary Methods\n",
      "Python Tuple Methods\n",
      "Python Set Methods\n",
      "Python File Methods\n",
      "Python Keywords\n",
      "Python Exceptions\n",
      "Python Glossary\n",
      "\n",
      "\n",
      "Module Reference\n",
      "Random Module\n",
      "Requests Module\n",
      "Statistics Module\n",
      "Math Module\n",
      "cMath Module\n",
      "\n",
      "\n",
      "Python How To\n",
      "Remove List Duplicates\n",
      "Reverse a String\n",
      "Add Two Numbers\n",
      "\n",
      "\n",
      "Python Examples\n",
      "Python Examples\n",
      "Python Compiler\n",
      "Python Exercises\n",
      "Python Quiz\n",
      "Python Server\n",
      "Python Interview Q&A\n",
      "Python Bootcamp\n",
      "Python Certificate\n",
      "\n",
      "      \n",
      "    :None\n"
     ]
    }
   ],
   "source": [
    "for element in elements :\n",
    "    t=element.get_attribute(\"textContent\") # return only text attribute\n",
    "    num=element.get_attribute(\"fill\")  # return RGpa color code \n",
    "    print(f\"{t}:{num}\")"
   ]
  },
  {
   "cell_type": "markdown",
   "id": "639db519-c25f-4593-b937-02764896d088",
   "metadata": {},
   "source": [
    "## Asighment : "
   ]
  },
  {
   "cell_type": "code",
   "execution_count": 37,
   "id": "a364398a-a348-4761-87a2-77b97b8ba90d",
   "metadata": {},
   "outputs": [],
   "source": [
    "url='''https://www.w3schools.com/python/python_datatypes.asp'''"
   ]
  },
  {
   "cell_type": "code",
   "execution_count": 38,
   "id": "da4adce4-6ac5-44eb-9851-55d8a49294af",
   "metadata": {},
   "outputs": [],
   "source": [
    "a=driver.get(url)\n",
    "a"
   ]
  },
  {
   "cell_type": "code",
   "execution_count": 39,
   "id": "926e67e2-2ad2-46f5-9368-38b263577b07",
   "metadata": {},
   "outputs": [],
   "source": [
    "x_path='''/html/body/div[4]/div/div'''"
   ]
  },
  {
   "cell_type": "code",
   "execution_count": 40,
   "id": "5c07ec81-566e-4b83-bb97-15abccf0ec32",
   "metadata": {},
   "outputs": [
    {
     "data": {
      "text/plain": [
       "[<selenium.webdriver.remote.webelement.WebElement (session=\"4c8c23b5d2f8a851ffde99c76946981a\", element=\"f.A0132C20A0419911657779816BC6C2AC.d.4773712944D01B37274A5C47445012C8.e.32\")>]"
      ]
     },
     "execution_count": 40,
     "metadata": {},
     "output_type": "execute_result"
    }
   ],
   "source": [
    "elements=driver.find_elements(\"xpath\",x_path)\n",
    "elements"
   ]
  },
  {
   "cell_type": "code",
   "execution_count": 41,
   "id": "bf1e8194-480a-4f98-a07a-322c4898fec6",
   "metadata": {},
   "outputs": [
    {
     "name": "stdout",
     "output_type": "stream",
     "text": [
      "\n",
      "\n",
      "Python Tutorial\n",
      "Python HOME\n",
      "Python Intro\n",
      "Python Get Started\n",
      "Python Syntax\n",
      "Python Comments\n",
      "Python Variables\n",
      "\n",
      "  Python Variables\n",
      "  Variable Names\n",
      "  Assign Multiple Values\n",
      "  Output Variables\n",
      "  Global Variables\n",
      "  Variable Exercises\n",
      "\n",
      "\n",
      "Python Data Types\n",
      "Python Numbers\n",
      "\n",
      "Python Casting\n",
      "Python Strings\n",
      "\n",
      "  Python Strings\n",
      "  Slicing Strings\n",
      "  Modify Strings\n",
      "  Concatenate Strings\n",
      "  Format Strings\n",
      "  Escape Characters\n",
      "  String Methods\n",
      "  String Exercises\n",
      "\n",
      "Python Booleans\n",
      "Python Operators\n",
      "Python Lists\n",
      "\n",
      "  Python Lists\n",
      "  Access List Items\n",
      "  Change List Items\n",
      "  Add List Items\n",
      "  Remove List Items\n",
      "  Loop Lists\n",
      "  List Comprehension\n",
      "  Sort Lists\n",
      "  Copy Lists\n",
      "  Join Lists\n",
      "  List Methods\n",
      "  List Exercises\n",
      "\n",
      "Python Tuples\n",
      "\n",
      "  Python Tuples\n",
      "  Access Tuples\n",
      "  Update Tuples\n",
      "  Unpack Tuples\n",
      "  Loop Tuples\n",
      "  Join Tuples\n",
      "  Tuple Methods\n",
      "  Tuple Exercises\n",
      "\n",
      "Python Sets\n",
      "\n",
      "  Python Sets\n",
      "  Access Set Items\n",
      "  Add Set Items\n",
      "  Remove Set Items\n",
      "  Loop Sets\n",
      "  Join Sets\n",
      "  Set Methods\n",
      "  Set Exercises\n",
      "\n",
      "Python Dictionaries\n",
      "\n",
      "  Python Dictionaries\n",
      "  Access Items\n",
      "  Change Items\n",
      "  Add Items\n",
      "  Remove Items\n",
      "  Loop Dictionaries\n",
      "  Copy Dictionaries\n",
      "  Nested Dictionaries\n",
      "  Dictionary Methods\n",
      "  Dictionary Exercises\n",
      "\n",
      "Python If...Else\n",
      "Python While Loops\n",
      "Python For Loops\n",
      "\n",
      "Python Functions\n",
      "Python Lambda\n",
      "Python Arrays\n",
      "Python Classes/Objects\n",
      "Python Inheritance\n",
      "Python Iterators\n",
      "Python Polymorphism\n",
      "Python Scope\n",
      "Python Modules\n",
      "Python Dates\n",
      "Python Math\n",
      "Python JSON\n",
      "Python RegEx\n",
      "Python PIP\n",
      "Python Try...Except\n",
      "Python User Input\n",
      "Python String Formatting\n",
      "\n",
      "File Handling\n",
      "Python File Handling\n",
      "Python Read Files\n",
      "Python Write/Create Files\n",
      "Python Delete Files\n",
      "\n",
      "Python Modules\n",
      "NumPy Tutorial\n",
      "Pandas Tutorial\n",
      "SciPy Tutorial\n",
      "Django Tutorial\n",
      "\n",
      "\n",
      "\n",
      "Python Matplotlib\n",
      "Matplotlib Intro\n",
      "Matplotlib Get Started\n",
      "Matplotlib Pyplot\n",
      "Matplotlib Plotting\n",
      "Matplotlib Markers\n",
      "Matplotlib Line\n",
      "Matplotlib Labels\n",
      "Matplotlib Grid\n",
      "Matplotlib Subplot\n",
      "Matplotlib Scatter\n",
      "Matplotlib Bars\n",
      "Matplotlib Histograms\n",
      "Matplotlib Pie Charts\n",
      "\n",
      "\n",
      "Machine Learning\n",
      "Getting Started\n",
      "Mean Median Mode\n",
      "Standard Deviation\n",
      "Percentile\n",
      "Data Distribution\n",
      "Normal Data Distribution\n",
      "Scatter Plot\n",
      "Linear Regression\n",
      "Polynomial Regression\n",
      "Multiple Regression\n",
      "Scale\n",
      "Train/Test\n",
      "Decision Tree\n",
      "\n",
      "Confusion Matrix\n",
      "Hierarchical Clustering\n",
      "Logistic Regression\n",
      "Grid Search\n",
      "Categorical Data\n",
      "K-means\n",
      "Bootstrap Aggregation\n",
      "Cross Validation\n",
      "AUC - ROC Curve\n",
      "K-nearest neighbors\n",
      "\n",
      "\n",
      "Python MySQL\n",
      "MySQL Get Started\n",
      "MySQL Create Database\n",
      "MySQL Create Table\n",
      "MySQL Insert\n",
      "MySQL Select\n",
      "MySQL Where\n",
      "MySQL Order By\n",
      "MySQL Delete\n",
      "MySQL Drop Table\n",
      "MySQL Update\n",
      "MySQL Limit\n",
      "MySQL Join\n",
      "\n",
      "Python MongoDB\n",
      "MongoDB Get Started\n",
      "MongoDB Create DB\n",
      "MongoDB Collection\n",
      "MongoDB Insert\n",
      "MongoDB Find\n",
      "MongoDB Query\n",
      "MongoDB Sort\n",
      "MongoDB Delete\n",
      "MongoDB Drop Collection\n",
      "MongoDB Update\n",
      "MongoDB Limit\n",
      "\n",
      "\n",
      "\n",
      "Python Reference\n",
      "Python Overview\n",
      "Python Built-in Functions\n",
      "Python String Methods\n",
      "Python List Methods\n",
      "Python Dictionary Methods\n",
      "Python Tuple Methods\n",
      "Python Set Methods\n",
      "Python File Methods\n",
      "Python Keywords\n",
      "Python Exceptions\n",
      "Python Glossary\n",
      "\n",
      "\n",
      "Module Reference\n",
      "Random Module\n",
      "Requests Module\n",
      "Statistics Module\n",
      "Math Module\n",
      "cMath Module\n",
      "\n",
      "\n",
      "Python How To\n",
      "Remove List Duplicates\n",
      "Reverse a String\n",
      "Add Two Numbers\n",
      "\n",
      "\n",
      "Python Examples\n",
      "Python Examples\n",
      "Python Compiler\n",
      "Python Exercises\n",
      "Python Quiz\n",
      "Python Server\n",
      "Python Interview Q&A\n",
      "Python Bootcamp\n",
      "Python Certificate\n",
      "\n",
      "      \n",
      "    \n"
     ]
    }
   ],
   "source": [
    "for element in elements :\n",
    "    t=element.get_attribute(\"textContent\") # return only text attribute\n",
    "    print(f\"{t}\")"
   ]
  },
  {
   "cell_type": "code",
   "execution_count": 42,
   "id": "66b8c39e-314c-444d-ae18-064532aaed4d",
   "metadata": {},
   "outputs": [],
   "source": [
    "with open(\"web_scrab.txt\",\"w\") as f :\n",
    "    f.write(t)\n",
    "f.close()    "
   ]
  },
  {
   "cell_type": "markdown",
   "id": "cd6b7096-03a6-4c07-973d-88c5f6915a8e",
   "metadata": {},
   "source": [
    "## Vedio web scrabing :"
   ]
  },
  {
   "cell_type": "code",
   "execution_count": 16,
   "id": "d447526c-5f63-4f28-aa15-30fea5d2559c",
   "metadata": {},
   "outputs": [],
   "source": [
    "import os "
   ]
  },
  {
   "cell_type": "code",
   "execution_count": 17,
   "id": "6ecc00a4-7b51-45a3-8ced-8a7d9ff3ab73",
   "metadata": {},
   "outputs": [],
   "source": [
    "os.mkdir(\"vedios\")"
   ]
  },
  {
   "cell_type": "code",
   "execution_count": 45,
   "id": "cb098712-a21a-4f55-baf8-af4b62bfb20d",
   "metadata": {},
   "outputs": [],
   "source": [
    "vedio_url=\"https://videos.pexels.com/video-files/4864929/4864929-uhd_1440_2732_25fps.mp4\""
   ]
  },
  {
   "cell_type": "code",
   "execution_count": 46,
   "id": "93495079-4c5f-4132-a13f-a6b59435c5dc",
   "metadata": {},
   "outputs": [],
   "source": [
    "import requests"
   ]
  },
  {
   "cell_type": "code",
   "execution_count": 47,
   "id": "1a049f7d-73d4-43bd-ba34-60e25a94f575",
   "metadata": {},
   "outputs": [],
   "source": [
    "vedio=requests.get(vedio_url)"
   ]
  },
  {
   "cell_type": "code",
   "execution_count": 48,
   "id": "7b103758-e709-4f2f-81e7-af02d2fb4718",
   "metadata": {},
   "outputs": [],
   "source": [
    "with open(\"vedios/Video.mp4\",\"wb\") as f:\n",
    "    f.write(vedio.content)"
   ]
  },
  {
   "cell_type": "code",
   "execution_count": 49,
   "id": "a1cdd05e-7c72-4dd8-8822-d5c0ae91df60",
   "metadata": {},
   "outputs": [],
   "source": [
    "from selenium import webdriver \n",
    "chrome_options = webdriver.ChromeOptions()\n",
    "chrome_options.add_argument('--headless') # ensure GUI is off\n",
    "chrome_options.add_argument('--no-sandbox')\n",
    "chrome_options.add_argument('--disable-dev-shm-usage')\n",
    "driver = webdriver.Chrome(options = chrome_options)"
   ]
  },
  {
   "cell_type": "code",
   "execution_count": 50,
   "id": "967f4747-9ff3-4652-90db-93827ee51ce7",
   "metadata": {},
   "outputs": [],
   "source": [
    "# %pip remove typing_extensions\n",
    "# %pip install typing_extensions==4.7.1\n",
    "# Use the above version of typing_extensions if this error appears to you:\n",
    "# ImportError: cannot import name 'deprecated' from 'typing_extensions' (c:\\Users\\taher\\anaconda3\\lib\\site-packages\\typing_extensions.py)"
   ]
  },
  {
   "cell_type": "code",
   "execution_count": 51,
   "id": "4e066d99-0511-4264-ac7d-581866090926",
   "metadata": {},
   "outputs": [
    {
     "name": "stdout",
     "output_type": "stream",
     "text": [
      "Defaulting to user installation because normal site-packages is not writeable\n",
      "Requirement already satisfied: typing_extensions==4.7.1 in /home/abdalrahman/.local/lib/python3.8/site-packages (4.7.1)\n"
     ]
    }
   ],
   "source": [
    "! pip install typing_extensions==4.7.1"
   ]
  },
  {
   "cell_type": "code",
   "execution_count": 2,
   "id": "95de653d-ae87-4d6a-a02c-ba6594ff1739",
   "metadata": {},
   "outputs": [],
   "source": [
    "from selenium import webdriver\n",
    "import time\n",
    "import requests\n",
    "driver = webdriver.Chrome()\n",
    "driver.get(\"https://elements.envato.com/stock-video\")\n",
    "time.sleep(5)"
   ]
  },
  {
   "cell_type": "code",
   "execution_count": 3,
   "id": "f4bf9251-a6e3-4133-916e-135c38b4484b",
   "metadata": {},
   "outputs": [],
   "source": [
    "video_boxes=driver.find_elements(\"class name\",\"fIgmYTL4\")\n",
    "video_boxes[0].click()"
   ]
  },
  {
   "cell_type": "code",
   "execution_count": 4,
   "id": "27637db7-cb8b-4385-a66f-1e6895698f4d",
   "metadata": {},
   "outputs": [
    {
     "data": {
      "text/plain": [
       "<selenium.webdriver.remote.webelement.WebElement (session=\"d84b6c23bc78b4f917734a97fc10e083\", element=\"f.B255245CDBDD41EDFC76F15FF4A3AE9A.d.F55EE6309814E726F909F30D1BA9A076.e.90\")>"
      ]
     },
     "execution_count": 4,
     "metadata": {},
     "output_type": "execute_result"
    }
   ],
   "source": [
    "v=driver.find_element(\"tag name\",\"video\")\n",
    "v"
   ]
  },
  {
   "cell_type": "code",
   "execution_count": 5,
   "id": "83d8cef5-8c39-480a-a06e-89d499cc1d68",
   "metadata": {},
   "outputs": [],
   "source": [
    "url=v.get_attribute(\"src\")"
   ]
  },
  {
   "cell_type": "code",
   "execution_count": 6,
   "id": "8231200f-a1e3-487b-9e70-0e011ec2bc60",
   "metadata": {},
   "outputs": [
    {
     "data": {
      "text/plain": [
       "<Response [200]>"
      ]
     },
     "execution_count": 6,
     "metadata": {},
     "output_type": "execute_result"
    }
   ],
   "source": [
    "vedios=requests.get(url)\n",
    "vedios"
   ]
  },
  {
   "cell_type": "code",
   "execution_count": 7,
   "id": "1890ebf4-4447-4d23-a103-ea4720668842",
   "metadata": {},
   "outputs": [
    {
     "name": "stdout",
     "output_type": "stream",
     "text": [
      "Downloadedvedios/video_1_0_Royalty-Free Stock Videos.mp4\n",
      "Downloadedvedios/video_1_1_Royalty-Free Stock Videos.mp4\n",
      "Downloadedvedios/video_1_2_Royalty-Free Stock Videos.mp4\n"
     ]
    },
    {
     "ename": "NoSuchWindowException",
     "evalue": "Message: no such window: target window already closed\nfrom unknown error: web view not found\n  (Session info: chrome=130.0.6723.58)\nStacktrace:\n#0 0x55b5ebb2110a <unknown>\n#1 0x55b5eb63c460 <unknown>\n#2 0x55b5eb61281f <unknown>\n#3 0x55b5eb6b534d <unknown>\n#4 0x55b5eb6cb3a9 <unknown>\n#5 0x55b5eb6acdb3 <unknown>\n#6 0x55b5eb67bc10 <unknown>\n#7 0x55b5eb67cbee <unknown>\n#8 0x55b5ebaed39b <unknown>\n#9 0x55b5ebaf1338 <unknown>\n#10 0x55b5ebadaebc <unknown>\n#11 0x55b5ebaf1eb7 <unknown>\n#12 0x55b5ebac010f <unknown>\n#13 0x55b5ebb0f828 <unknown>\n#14 0x55b5ebb0f9f0 <unknown>\n#15 0x55b5ebb1ff86 <unknown>\n#16 0x7ff79e949609 start_thread\n",
     "output_type": "error",
     "traceback": [
      "\u001b[0;31m---------------------------------------------------------------------------\u001b[0m",
      "\u001b[0;31mNoSuchWindowException\u001b[0m                     Traceback (most recent call last)",
      "Cell \u001b[0;32mIn[7], line 10\u001b[0m\n\u001b[1;32m      8\u001b[0m video_title\u001b[38;5;241m=\u001b[39mdriver\u001b[38;5;241m.\u001b[39mfind_element(\u001b[38;5;124m\"\u001b[39m\u001b[38;5;124mtag name\u001b[39m\u001b[38;5;124m\"\u001b[39m,\u001b[38;5;124m\"\u001b[39m\u001b[38;5;124mh1\u001b[39m\u001b[38;5;124m\"\u001b[39m)\u001b[38;5;241m.\u001b[39mtext\n\u001b[1;32m      9\u001b[0m driver\u001b[38;5;241m.\u001b[39mget(vedio_url)\n\u001b[0;32m---> 10\u001b[0m video_player\u001b[38;5;241m=\u001b[39m\u001b[43mdriver\u001b[49m\u001b[38;5;241;43m.\u001b[39;49m\u001b[43mfind_element\u001b[49m\u001b[43m(\u001b[49m\u001b[38;5;124;43m\"\u001b[39;49m\u001b[38;5;124;43mtag name\u001b[39;49m\u001b[38;5;124;43m\"\u001b[39;49m\u001b[43m,\u001b[49m\u001b[38;5;124;43m\"\u001b[39;49m\u001b[38;5;124;43mvideo\u001b[39;49m\u001b[38;5;124;43m\"\u001b[39;49m\u001b[43m)\u001b[49m\n\u001b[1;32m     11\u001b[0m url\u001b[38;5;241m=\u001b[39mvideo_player\u001b[38;5;241m.\u001b[39mget_attribute(\u001b[38;5;124m\"\u001b[39m\u001b[38;5;124msrc\u001b[39m\u001b[38;5;124m\"\u001b[39m)\n\u001b[1;32m     12\u001b[0m video_object\u001b[38;5;241m=\u001b[39mrequests\u001b[38;5;241m.\u001b[39mget(url)\n",
      "File \u001b[0;32m~/.local/lib/python3.8/site-packages/selenium/webdriver/remote/webdriver.py:748\u001b[0m, in \u001b[0;36mWebDriver.find_element\u001b[0;34m(self, by, value)\u001b[0m\n\u001b[1;32m    745\u001b[0m     by \u001b[38;5;241m=\u001b[39m By\u001b[38;5;241m.\u001b[39mCSS_SELECTOR\n\u001b[1;32m    746\u001b[0m     value \u001b[38;5;241m=\u001b[39m \u001b[38;5;124mf\u001b[39m\u001b[38;5;124m'\u001b[39m\u001b[38;5;124m[name=\u001b[39m\u001b[38;5;124m\"\u001b[39m\u001b[38;5;132;01m{\u001b[39;00mvalue\u001b[38;5;132;01m}\u001b[39;00m\u001b[38;5;124m\"\u001b[39m\u001b[38;5;124m]\u001b[39m\u001b[38;5;124m'\u001b[39m\n\u001b[0;32m--> 748\u001b[0m \u001b[38;5;28;01mreturn\u001b[39;00m \u001b[38;5;28;43mself\u001b[39;49m\u001b[38;5;241;43m.\u001b[39;49m\u001b[43mexecute\u001b[49m\u001b[43m(\u001b[49m\u001b[43mCommand\u001b[49m\u001b[38;5;241;43m.\u001b[39;49m\u001b[43mFIND_ELEMENT\u001b[49m\u001b[43m,\u001b[49m\u001b[43m \u001b[49m\u001b[43m{\u001b[49m\u001b[38;5;124;43m\"\u001b[39;49m\u001b[38;5;124;43musing\u001b[39;49m\u001b[38;5;124;43m\"\u001b[39;49m\u001b[43m:\u001b[49m\u001b[43m \u001b[49m\u001b[43mby\u001b[49m\u001b[43m,\u001b[49m\u001b[43m \u001b[49m\u001b[38;5;124;43m\"\u001b[39;49m\u001b[38;5;124;43mvalue\u001b[39;49m\u001b[38;5;124;43m\"\u001b[39;49m\u001b[43m:\u001b[49m\u001b[43m \u001b[49m\u001b[43mvalue\u001b[49m\u001b[43m}\u001b[49m\u001b[43m)\u001b[49m[\u001b[38;5;124m\"\u001b[39m\u001b[38;5;124mvalue\u001b[39m\u001b[38;5;124m\"\u001b[39m]\n",
      "File \u001b[0;32m~/.local/lib/python3.8/site-packages/selenium/webdriver/remote/webdriver.py:354\u001b[0m, in \u001b[0;36mWebDriver.execute\u001b[0;34m(self, driver_command, params)\u001b[0m\n\u001b[1;32m    352\u001b[0m response \u001b[38;5;241m=\u001b[39m \u001b[38;5;28mself\u001b[39m\u001b[38;5;241m.\u001b[39mcommand_executor\u001b[38;5;241m.\u001b[39mexecute(driver_command, params)\n\u001b[1;32m    353\u001b[0m \u001b[38;5;28;01mif\u001b[39;00m response:\n\u001b[0;32m--> 354\u001b[0m     \u001b[38;5;28;43mself\u001b[39;49m\u001b[38;5;241;43m.\u001b[39;49m\u001b[43merror_handler\u001b[49m\u001b[38;5;241;43m.\u001b[39;49m\u001b[43mcheck_response\u001b[49m\u001b[43m(\u001b[49m\u001b[43mresponse\u001b[49m\u001b[43m)\u001b[49m\n\u001b[1;32m    355\u001b[0m     response[\u001b[38;5;124m\"\u001b[39m\u001b[38;5;124mvalue\u001b[39m\u001b[38;5;124m\"\u001b[39m] \u001b[38;5;241m=\u001b[39m \u001b[38;5;28mself\u001b[39m\u001b[38;5;241m.\u001b[39m_unwrap_value(response\u001b[38;5;241m.\u001b[39mget(\u001b[38;5;124m\"\u001b[39m\u001b[38;5;124mvalue\u001b[39m\u001b[38;5;124m\"\u001b[39m, \u001b[38;5;28;01mNone\u001b[39;00m))\n\u001b[1;32m    356\u001b[0m     \u001b[38;5;28;01mreturn\u001b[39;00m response\n",
      "File \u001b[0;32m~/.local/lib/python3.8/site-packages/selenium/webdriver/remote/errorhandler.py:229\u001b[0m, in \u001b[0;36mErrorHandler.check_response\u001b[0;34m(self, response)\u001b[0m\n\u001b[1;32m    227\u001b[0m         alert_text \u001b[38;5;241m=\u001b[39m value[\u001b[38;5;124m\"\u001b[39m\u001b[38;5;124malert\u001b[39m\u001b[38;5;124m\"\u001b[39m]\u001b[38;5;241m.\u001b[39mget(\u001b[38;5;124m\"\u001b[39m\u001b[38;5;124mtext\u001b[39m\u001b[38;5;124m\"\u001b[39m)\n\u001b[1;32m    228\u001b[0m     \u001b[38;5;28;01mraise\u001b[39;00m exception_class(message, screen, stacktrace, alert_text)  \u001b[38;5;66;03m# type: ignore[call-arg]  # mypy is not smart enough here\u001b[39;00m\n\u001b[0;32m--> 229\u001b[0m \u001b[38;5;28;01mraise\u001b[39;00m exception_class(message, screen, stacktrace)\n",
      "\u001b[0;31mNoSuchWindowException\u001b[0m: Message: no such window: target window already closed\nfrom unknown error: web view not found\n  (Session info: chrome=130.0.6723.58)\nStacktrace:\n#0 0x55b5ebb2110a <unknown>\n#1 0x55b5eb63c460 <unknown>\n#2 0x55b5eb61281f <unknown>\n#3 0x55b5eb6b534d <unknown>\n#4 0x55b5eb6cb3a9 <unknown>\n#5 0x55b5eb6acdb3 <unknown>\n#6 0x55b5eb67bc10 <unknown>\n#7 0x55b5eb67cbee <unknown>\n#8 0x55b5ebaed39b <unknown>\n#9 0x55b5ebaf1338 <unknown>\n#10 0x55b5ebadaebc <unknown>\n#11 0x55b5ebaf1eb7 <unknown>\n#12 0x55b5ebac010f <unknown>\n#13 0x55b5ebb0f828 <unknown>\n#14 0x55b5ebb0f9f0 <unknown>\n#15 0x55b5ebb1ff86 <unknown>\n#16 0x7ff79e949609 start_thread\n"
     ]
    }
   ],
   "source": [
    "## to web scrab to more than one page of vedios :\n",
    "\n",
    "for i in range(1,4):\n",
    "    for j in range(40):\n",
    "         driver.get(f\"https://elements.envato.com/stock-video/pg-{i}\")\n",
    "         video=driver.find_elements(\"class name\",\"fIgmYTL4\")[j]\n",
    "         vedio_url=video.get_attribute(\"href\")\n",
    "         video_title=driver.find_element(\"tag name\",\"h1\").text\n",
    "         driver.get(vedio_url)\n",
    "         video_player=driver.find_element(\"tag name\",\"video\")\n",
    "         url=video_player.get_attribute(\"src\")\n",
    "         video_object=requests.get(url)\n",
    "         video_filename=f\"vedios/video_{i}_{j}_{video_title}.mp4\"\n",
    "         with open(video_filename,\"wb\") as f :\n",
    "             f.write(video_object.content)  \n",
    "         print(f\"Downloaded{video_filename}\")"
   ]
  },
  {
   "cell_type": "markdown",
   "id": "349e5957-18af-4d39-9f31-d1a881002a3d",
   "metadata": {},
   "source": [
    "## scrab Table :"
   ]
  },
  {
   "cell_type": "code",
   "execution_count": 10,
   "id": "5718c81d-f4d7-42e4-bfb4-7681e75fa9ac",
   "metadata": {},
   "outputs": [],
   "source": [
    "from bs4 import BeautifulSoup\n",
    "import requests\n",
    "import pandas as pd"
   ]
  },
  {
   "cell_type": "code",
   "execution_count": 11,
   "id": "302d115a-3412-4755-962e-9104ecbd5cb7",
   "metadata": {},
   "outputs": [
    {
     "data": {
      "text/html": [
       "<div>\n",
       "<style scoped>\n",
       "    .dataframe tbody tr th:only-of-type {\n",
       "        vertical-align: middle;\n",
       "    }\n",
       "\n",
       "    .dataframe tbody tr th {\n",
       "        vertical-align: top;\n",
       "    }\n",
       "\n",
       "    .dataframe thead th {\n",
       "        text-align: right;\n",
       "    }\n",
       "</style>\n",
       "<table border=\"1\" class=\"dataframe\">\n",
       "  <thead>\n",
       "    <tr style=\"text-align: right;\">\n",
       "      <th></th>\n",
       "      <th>Company</th>\n",
       "      <th>Contact</th>\n",
       "      <th>Country</th>\n",
       "    </tr>\n",
       "  </thead>\n",
       "  <tbody>\n",
       "    <tr>\n",
       "      <th>0</th>\n",
       "      <td>Alfreds Futterkiste</td>\n",
       "      <td>Maria Anders</td>\n",
       "      <td>Germany</td>\n",
       "    </tr>\n",
       "    <tr>\n",
       "      <th>1</th>\n",
       "      <td>Centro comercial Moctezuma</td>\n",
       "      <td>Francisco Chang</td>\n",
       "      <td>Mexico</td>\n",
       "    </tr>\n",
       "    <tr>\n",
       "      <th>2</th>\n",
       "      <td>Ernst Handel</td>\n",
       "      <td>Roland Mendel</td>\n",
       "      <td>Austria</td>\n",
       "    </tr>\n",
       "    <tr>\n",
       "      <th>3</th>\n",
       "      <td>Island Trading</td>\n",
       "      <td>Helen Bennett</td>\n",
       "      <td>UK</td>\n",
       "    </tr>\n",
       "    <tr>\n",
       "      <th>4</th>\n",
       "      <td>Laughing Bacchus Winecellars</td>\n",
       "      <td>Yoshi Tannamuri</td>\n",
       "      <td>Canada</td>\n",
       "    </tr>\n",
       "    <tr>\n",
       "      <th>5</th>\n",
       "      <td>Magazzini Alimentari Riuniti</td>\n",
       "      <td>Giovanni Rovelli</td>\n",
       "      <td>Italy</td>\n",
       "    </tr>\n",
       "  </tbody>\n",
       "</table>\n",
       "</div>"
      ],
      "text/plain": [
       "                        Company           Contact  Country\n",
       "0           Alfreds Futterkiste      Maria Anders  Germany\n",
       "1    Centro comercial Moctezuma   Francisco Chang   Mexico\n",
       "2                  Ernst Handel     Roland Mendel  Austria\n",
       "3                Island Trading     Helen Bennett       UK\n",
       "4  Laughing Bacchus Winecellars   Yoshi Tannamuri   Canada\n",
       "5  Magazzini Alimentari Riuniti  Giovanni Rovelli    Italy"
      ]
     },
     "execution_count": 11,
     "metadata": {},
     "output_type": "execute_result"
    }
   ],
   "source": [
    "data=pd.read_html(\"https://www.w3schools.com/html/html_tables.asp\")\n",
    "data[0]\n"
   ]
  },
  {
   "cell_type": "code",
   "execution_count": 12,
   "id": "3b524048-0257-4ff5-a066-31483e99ff73",
   "metadata": {},
   "outputs": [
    {
     "name": "stdout",
     "output_type": "stream",
     "text": [
      "<class 'pandas.core.frame.DataFrame'>\n",
      "(6, 3)\n"
     ]
    }
   ],
   "source": [
    "print(type(data[0]))\n",
    "print(data[0].shape)"
   ]
  },
  {
   "cell_type": "code",
   "execution_count": 16,
   "id": "8b35d3c7-2edd-4a61-9325-988110c994f6",
   "metadata": {},
   "outputs": [],
   "source": [
    "import requests"
   ]
  },
  {
   "cell_type": "code",
   "execution_count": 18,
   "id": "cdaf94f4-633d-4658-bf1a-98d50a0d9007",
   "metadata": {},
   "outputs": [],
   "source": [
    "page=requests.get(\"https://www.w3schools.com/html/html_tables.asp\")\n"
   ]
  },
  {
   "cell_type": "code",
   "execution_count": 27,
   "id": "efe16c26-55d1-4985-bdda-fd9fbc661e02",
   "metadata": {},
   "outputs": [
    {
     "name": "stdout",
     "output_type": "stream",
     "text": [
      "<class 'bs4.element.ResultSet'>\n",
      "<table class=\"ws-table-all\" id=\"customers\">\n",
      "<tr>\n",
      "<th>Company</th>\n",
      "<th>Contact</th>\n",
      "<th>Country</th>\n",
      "</tr>\n",
      "<tr>\n",
      "<td>Alfreds Futterkiste</td>\n",
      "<td>Maria Anders</td>\n",
      "<td>Germany</td>\n",
      "</tr>\n",
      "<tr>\n",
      "<td>Centro comercial Moctezuma</td>\n",
      "<td>Francisco Chang</td>\n",
      "<td>Mexico</td>\n",
      "</tr>\n",
      "<tr>\n",
      "<td>Ernst Handel</td>\n",
      "<td>Roland Mendel</td>\n",
      "<td>Austria</td>\n",
      "</tr>\n",
      "<tr>\n",
      "<td>Island Trading</td>\n",
      "<td>Helen Bennett</td>\n",
      "<td>UK</td>\n",
      "</tr>\n",
      "<tr>\n",
      "<td>Laughing Bacchus Winecellars</td>\n",
      "<td>Yoshi Tannamuri</td>\n",
      "<td>Canada</td>\n",
      "</tr>\n",
      "<tr>\n",
      "<td>Magazzini Alimentari Riuniti</td>\n",
      "<td>Giovanni Rovelli</td>\n",
      "<td>Italy</td>\n",
      "</tr>\n",
      "</table>\n"
     ]
    }
   ],
   "source": [
    "pa=BeautifulSoup(page.content,\"html.parser\")\n",
    "tables=pa.find_all(\"table\")\n",
    "print(type(tables))\n",
    "print(tables[0])"
   ]
  },
  {
   "cell_type": "code",
   "execution_count": 35,
   "id": "5408fbac-bcd9-4e16-aae5-b95eb33f8bb6",
   "metadata": {},
   "outputs": [
    {
     "data": {
      "text/html": [
       "<div>\n",
       "<style scoped>\n",
       "    .dataframe tbody tr th:only-of-type {\n",
       "        vertical-align: middle;\n",
       "    }\n",
       "\n",
       "    .dataframe tbody tr th {\n",
       "        vertical-align: top;\n",
       "    }\n",
       "\n",
       "    .dataframe thead th {\n",
       "        text-align: right;\n",
       "    }\n",
       "</style>\n",
       "<table border=\"1\" class=\"dataframe\">\n",
       "  <thead>\n",
       "    <tr style=\"text-align: right;\">\n",
       "      <th></th>\n",
       "      <th>Company</th>\n",
       "      <th>Contact</th>\n",
       "      <th>Country</th>\n",
       "    </tr>\n",
       "  </thead>\n",
       "  <tbody>\n",
       "    <tr>\n",
       "      <th>0</th>\n",
       "      <td>Alfreds Futterkiste</td>\n",
       "      <td>Maria Anders</td>\n",
       "      <td>Germany</td>\n",
       "    </tr>\n",
       "    <tr>\n",
       "      <th>1</th>\n",
       "      <td>Centro comercial Moctezuma</td>\n",
       "      <td>Francisco Chang</td>\n",
       "      <td>Mexico</td>\n",
       "    </tr>\n",
       "    <tr>\n",
       "      <th>2</th>\n",
       "      <td>Ernst Handel</td>\n",
       "      <td>Roland Mendel</td>\n",
       "      <td>Austria</td>\n",
       "    </tr>\n",
       "    <tr>\n",
       "      <th>3</th>\n",
       "      <td>Island Trading</td>\n",
       "      <td>Helen Bennett</td>\n",
       "      <td>UK</td>\n",
       "    </tr>\n",
       "    <tr>\n",
       "      <th>4</th>\n",
       "      <td>Laughing Bacchus Winecellars</td>\n",
       "      <td>Yoshi Tannamuri</td>\n",
       "      <td>Canada</td>\n",
       "    </tr>\n",
       "    <tr>\n",
       "      <th>5</th>\n",
       "      <td>Magazzini Alimentari Riuniti</td>\n",
       "      <td>Giovanni Rovelli</td>\n",
       "      <td>Italy</td>\n",
       "    </tr>\n",
       "  </tbody>\n",
       "</table>\n",
       "</div>"
      ],
      "text/plain": [
       "                        Company           Contact  Country\n",
       "0           Alfreds Futterkiste      Maria Anders  Germany\n",
       "1    Centro comercial Moctezuma   Francisco Chang   Mexico\n",
       "2                  Ernst Handel     Roland Mendel  Austria\n",
       "3                Island Trading     Helen Bennett       UK\n",
       "4  Laughing Bacchus Winecellars   Yoshi Tannamuri   Canada\n",
       "5  Magazzini Alimentari Riuniti  Giovanni Rovelli    Italy"
      ]
     },
     "execution_count": 35,
     "metadata": {},
     "output_type": "execute_result"
    }
   ],
   "source": [
    "data=pd.read_html(str(tables))[0]\n",
    "data"
   ]
  },
  {
   "cell_type": "markdown",
   "id": "712b841b-2e9e-4cac-89a7-bcdf31b34028",
   "metadata": {},
   "source": [
    "## More exercies on youtube vedios :"
   ]
  },
  {
   "cell_type": "code",
   "execution_count": 3,
   "id": "5e40b474-4b58-41ae-b21d-60602c002e4f",
   "metadata": {},
   "outputs": [],
   "source": [
    "import os \n",
    "import requests\n",
    "from selenium import webdriver\n",
    "import pandas \n",
    "from bs4 import BeautifulSoup"
   ]
  },
  {
   "cell_type": "code",
   "execution_count": 4,
   "id": "aeb6b247-bc08-4e99-b7ba-234167b2ed26",
   "metadata": {},
   "outputs": [
    {
     "ename": "FileExistsError",
     "evalue": "[Errno 17] File exists: 'youtube'",
     "output_type": "error",
     "traceback": [
      "\u001b[0;31m---------------------------------------------------------------------------\u001b[0m",
      "\u001b[0;31mFileExistsError\u001b[0m                           Traceback (most recent call last)",
      "Cell \u001b[0;32mIn[4], line 1\u001b[0m\n\u001b[0;32m----> 1\u001b[0m \u001b[43mos\u001b[49m\u001b[38;5;241;43m.\u001b[39;49m\u001b[43mmkdir\u001b[49m\u001b[43m(\u001b[49m\u001b[38;5;124;43m\"\u001b[39;49m\u001b[38;5;124;43myoutube\u001b[39;49m\u001b[38;5;124;43m\"\u001b[39;49m\u001b[43m)\u001b[49m\n",
      "\u001b[0;31mFileExistsError\u001b[0m: [Errno 17] File exists: 'youtube'"
     ]
    }
   ],
   "source": [
    "os.mkdir(\"youtube\")"
   ]
  },
  {
   "cell_type": "code",
   "execution_count": null,
   "id": "89ff2f8e-24e2-4c67-a455-929dc065d7fa",
   "metadata": {},
   "outputs": [],
   "source": [
    "driver = webdriver.Chrome()\n",
    "driver.get(\"https://www.shutterstock.com/video/search/stuck\")\n",
    "time.sleep(5)"
   ]
  },
  {
   "cell_type": "code",
   "execution_count": null,
   "id": "b764df1d-f160-4d62-b406-99eccedc40fb",
   "metadata": {},
   "outputs": [],
   "source": [
    "vedio_url=\"https://www.shutterstock.com/video/search/stuck\"\n",
    "video=requests.get(vedio_url)\n",
    "with open(\"youtube/video.mp4\",\"wb\") as v:\n",
    "    v.write(video.content)"
   ]
  },
  {
   "cell_type": "markdown",
   "id": "3fa9a59b-68fb-4aed-8506-9c86f8c89c4c",
   "metadata": {},
   "source": [
    "## if iwant to download 30 vedios from the first third pages:"
   ]
  },
  {
   "cell_type": "code",
   "execution_count": null,
   "id": "8f6e3600-c6b5-47d4-9a5e-5b2ad63df544",
   "metadata": {},
   "outputs": [],
   "source": [
    "for i in range(1,4):\n",
    "    for j in range(40):\n",
    "         driver.get(f\"https://www.shutterstock.com/video/search/stuck-{i}\")\n",
    "         video=driver.find_elements(\"class name\",\"mui-t7xql4-a-inherit-link\")[j]\n",
    "         vedio_url=video.get_attribute(\"href\")\n",
    "         video_title=driver.find_element(\"tag name\",\"h1\").text\n",
    "         driver.get(vedio_url)\n",
    "         video_player=driver.find_element(\"tag name\",\"video\")\n",
    "         url=video_player.get_attribute(\"src\")\n",
    "         video_object=requests.get(url)\n",
    "         video_filename=f\"vedios/video_{i}_{j}_{video_title}.mp4\"\n",
    "         with open(video_filename,\"wb\") as f :\n",
    "             f.write(video_object.content)  \n",
    "         print(f\"Downloaded{video_filename}\")"
   ]
  },
  {
   "cell_type": "code",
   "execution_count": null,
   "id": "b69c7b4f-9222-4442-92ee-6c5e5e21b57c",
   "metadata": {},
   "outputs": [],
   "source": [
    "data=pd.read_html(\"https://developer.mozilla.org/en-US/docs/Learn/HTML/Tables/Basics\")\n",
    "data[0]"
   ]
  },
  {
   "cell_type": "code",
   "execution_count": null,
   "id": "b9871a32-5bfe-4d58-83e4-98c569b506c7",
   "metadata": {},
   "outputs": [],
   "source": [
    "import requests\n",
    "from bs4 import BeautifulSoup\n"
   ]
  },
  {
   "cell_type": "code",
   "execution_count": 70,
   "id": "84215bd5-0d00-4a0e-955c-476947b5ee2e",
   "metadata": {},
   "outputs": [
    {
     "data": {
      "text/plain": [
       "[<table>\n",
       " <tbody>\n",
       " <tr>\n",
       " <th scope=\"row\">Prerequisites:</th>\n",
       " <td>\n",
       "         The basics of HTML (see\n",
       "         <a href=\"/en-US/docs/Learn/HTML/Introduction_to_HTML\">Introduction to HTML</a>).\n",
       "       </td>\n",
       " </tr>\n",
       " <tr>\n",
       " <th scope=\"row\">Objective:</th>\n",
       " <td>To gain basic familiarity with HTML tables.</td>\n",
       " </tr>\n",
       " </tbody>\n",
       " </table>]"
      ]
     },
     "execution_count": 70,
     "metadata": {},
     "output_type": "execute_result"
    }
   ],
   "source": [
    "page=requests.get(\"https://developer.mozilla.org/en-US/docs/Learn/HTML/Tables/Basics\")\n",
    "pa=BeautifulSoup(page.content)\n",
    "tables=pa.find_all(\"table\")\n",
    "tables"
   ]
  },
  {
   "cell_type": "code",
   "execution_count": 72,
   "id": "dc354390-26cd-43df-bbe4-1269ba061ccc",
   "metadata": {},
   "outputs": [
    {
     "data": {
      "text/html": [
       "<div>\n",
       "<style scoped>\n",
       "    .dataframe tbody tr th:only-of-type {\n",
       "        vertical-align: middle;\n",
       "    }\n",
       "\n",
       "    .dataframe tbody tr th {\n",
       "        vertical-align: top;\n",
       "    }\n",
       "\n",
       "    .dataframe thead th {\n",
       "        text-align: right;\n",
       "    }\n",
       "</style>\n",
       "<table border=\"1\" class=\"dataframe\">\n",
       "  <thead>\n",
       "    <tr style=\"text-align: right;\">\n",
       "      <th></th>\n",
       "      <th>0</th>\n",
       "      <th>1</th>\n",
       "    </tr>\n",
       "  </thead>\n",
       "  <tbody>\n",
       "    <tr>\n",
       "      <th>0</th>\n",
       "      <td>Prerequisites:</td>\n",
       "      <td>The basics of HTML (see  Introduction to HTML).</td>\n",
       "    </tr>\n",
       "    <tr>\n",
       "      <th>1</th>\n",
       "      <td>Objective:</td>\n",
       "      <td>To gain basic familiarity with HTML tables.</td>\n",
       "    </tr>\n",
       "  </tbody>\n",
       "</table>\n",
       "</div>"
      ],
      "text/plain": [
       "                0                                                1\n",
       "0  Prerequisites:  The basics of HTML (see  Introduction to HTML).\n",
       "1      Objective:      To gain basic familiarity with HTML tables."
      ]
     },
     "execution_count": 72,
     "metadata": {},
     "output_type": "execute_result"
    }
   ],
   "source": [
    "data=pd.read_html(str(tables))[0]\n",
    "data"
   ]
  },
  {
   "cell_type": "markdown",
   "id": "5318803a-2853-4ad8-921b-9e3dcde3c48c",
   "metadata": {},
   "source": [
    "## Asighment :"
   ]
  },
  {
   "cell_type": "code",
   "execution_count": 2,
   "id": "24d4de42-41c2-4764-9f9b-aa40e642f1ab",
   "metadata": {},
   "outputs": [
    {
     "ename": "NameError",
     "evalue": "name 'os' is not defined",
     "output_type": "error",
     "traceback": [
      "\u001b[0;31m---------------------------------------------------------------------------\u001b[0m",
      "\u001b[0;31mNameError\u001b[0m                                 Traceback (most recent call last)",
      "Cell \u001b[0;32mIn[2], line 1\u001b[0m\n\u001b[0;32m----> 1\u001b[0m \u001b[43mos\u001b[49m\u001b[38;5;241m.\u001b[39mmkdir(\u001b[38;5;124m\"\u001b[39m\u001b[38;5;124mimages\u001b[39m\u001b[38;5;124m\"\u001b[39m)\n",
      "\u001b[0;31mNameError\u001b[0m: name 'os' is not defined"
     ]
    }
   ],
   "source": [
    "os.mkdir(\"images\")"
   ]
  },
  {
   "cell_type": "code",
   "execution_count": 73,
   "id": "2cc80a4e-8d54-4444-9d9a-f1504d469c08",
   "metadata": {},
   "outputs": [],
   "source": [
    "driver = webdriver.Chrome()\n",
    "driver.get(\"https://www.pexels.com/search/background/\")\n",
    "time.sleep(5)"
   ]
  },
  {
   "cell_type": "code",
   "execution_count": 1,
   "id": "bf94d4e9-4089-4695-a451-49ef78d76522",
   "metadata": {},
   "outputs": [
    {
     "ename": "NameError",
     "evalue": "name 'driver' is not defined",
     "output_type": "error",
     "traceback": [
      "\u001b[0;31m---------------------------------------------------------------------------\u001b[0m",
      "\u001b[0;31mNameError\u001b[0m                                 Traceback (most recent call last)",
      "Cell \u001b[0;32mIn[1], line 3\u001b[0m\n\u001b[1;32m      1\u001b[0m \u001b[38;5;28;01mfor\u001b[39;00m i \u001b[38;5;129;01min\u001b[39;00m \u001b[38;5;28mrange\u001b[39m(\u001b[38;5;241m1\u001b[39m,\u001b[38;5;241m4\u001b[39m):\n\u001b[1;32m      2\u001b[0m     \u001b[38;5;28;01mfor\u001b[39;00m j \u001b[38;5;129;01min\u001b[39;00m \u001b[38;5;28mrange\u001b[39m(\u001b[38;5;241m40\u001b[39m):\n\u001b[0;32m----> 3\u001b[0m          \u001b[43mdriver\u001b[49m\u001b[38;5;241m.\u001b[39mget(\u001b[38;5;124mf\u001b[39m\u001b[38;5;124m\"\u001b[39m\u001b[38;5;124m-\u001b[39m\u001b[38;5;132;01m{\u001b[39;00mi\u001b[38;5;132;01m}\u001b[39;00m\u001b[38;5;124m\"\u001b[39m)\n\u001b[1;32m      4\u001b[0m          image\u001b[38;5;241m=\u001b[39mdriver\u001b[38;5;241m.\u001b[39mfind_elements(\u001b[38;5;124m\"\u001b[39m\u001b[38;5;124mclass name\u001b[39m\u001b[38;5;124m\"\u001b[39m,\u001b[38;5;124m\"\u001b[39m\u001b[38;5;124mGrid_gridContainer__mV5jm spacing_noMargin__F5u9R\u001b[39m\u001b[38;5;124m\"\u001b[39m)[j]\n\u001b[1;32m      5\u001b[0m          image_url\u001b[38;5;241m=\u001b[39mimage\u001b[38;5;241m.\u001b[39mget_attribute(\u001b[38;5;124m\"\u001b[39m\u001b[38;5;124mhref\u001b[39m\u001b[38;5;124m\"\u001b[39m)\n",
      "\u001b[0;31mNameError\u001b[0m: name 'driver' is not defined"
     ]
    }
   ],
   "source": [
    "for i in range(1,4):\n",
    "    for j in range(40):\n",
    "         driver.get(f\"-{i}\")\n",
    "         image=driver.find_elements(\"class name\",\"Grid_gridContainer__mV5jm spacing_noMargin__F5u9R\")[j]\n",
    "         image_url=image.get_attribute(\"href\")\n",
    "         image_title=driver.find_element(\"tag name\",\"h1\").text\n",
    "         driver.get(image_url)\n",
    "         image_player=driver.find_element(\"tag name\",\"img\")\n",
    "         url=image_player.get_attribute(\"src\")\n",
    "         image_object=requests.get(url)\n",
    "         image_filename=f\"images/image_{i}_{j}_{image_title}.mp4\"\n",
    "         with open(image_filename,\"wb\") as f :\n",
    "             f.write(image_object.content)  \n",
    "         print(f\"Downloaded{image_filename}\")"
   ]
  },
  {
   "cell_type": "code",
   "execution_count": 91,
   "id": "fe3a4b9a-c4db-461c-8dd3-2f1da2ab0691",
   "metadata": {},
   "outputs": [],
   "source": [
    "url='''https://www.pexels.com/search/background/'''"
   ]
  },
  {
   "cell_type": "code",
   "execution_count": 92,
   "id": "a94b1d1f-5b8b-4873-8275-8facb4310789",
   "metadata": {},
   "outputs": [
    {
     "ename": "NoSuchWindowException",
     "evalue": "Message: no such window: target window already closed\nfrom unknown error: web view not found\n  (Session info: chrome=130.0.6723.58)\nStacktrace:\n#0 0x55bd5002f10a <unknown>\n#1 0x55bd4fb4a460 <unknown>\n#2 0x55bd4fb2081f <unknown>\n#3 0x55bd4fbc334d <unknown>\n#4 0x55bd4fbd93a9 <unknown>\n#5 0x55bd4fbbadb3 <unknown>\n#6 0x55bd4fb89c10 <unknown>\n#7 0x55bd4fb8abee <unknown>\n#8 0x55bd4fffb39b <unknown>\n#9 0x55bd4ffff338 <unknown>\n#10 0x55bd4ffe8ebc <unknown>\n#11 0x55bd4ffffeb7 <unknown>\n#12 0x55bd4ffce10f <unknown>\n#13 0x55bd5001d828 <unknown>\n#14 0x55bd5001d9f0 <unknown>\n#15 0x55bd5002df86 <unknown>\n#16 0x7f0a01e17609 start_thread\n",
     "output_type": "error",
     "traceback": [
      "\u001b[0;31m---------------------------------------------------------------------------\u001b[0m",
      "\u001b[0;31mNoSuchWindowException\u001b[0m                     Traceback (most recent call last)",
      "Cell \u001b[0;32mIn[92], line 1\u001b[0m\n\u001b[0;32m----> 1\u001b[0m \u001b[43mdriver\u001b[49m\u001b[38;5;241;43m.\u001b[39;49m\u001b[43mget\u001b[49m\u001b[43m(\u001b[49m\u001b[43murl\u001b[49m\u001b[43m)\u001b[49m\n",
      "File \u001b[0;32m~/.local/lib/python3.8/site-packages/selenium/webdriver/remote/webdriver.py:363\u001b[0m, in \u001b[0;36mWebDriver.get\u001b[0;34m(self, url)\u001b[0m\n\u001b[1;32m    361\u001b[0m \u001b[38;5;28;01mdef\u001b[39;00m \u001b[38;5;21mget\u001b[39m(\u001b[38;5;28mself\u001b[39m, url: \u001b[38;5;28mstr\u001b[39m) \u001b[38;5;241m-\u001b[39m\u001b[38;5;241m>\u001b[39m \u001b[38;5;28;01mNone\u001b[39;00m:\n\u001b[1;32m    362\u001b[0m \u001b[38;5;250m    \u001b[39m\u001b[38;5;124;03m\"\"\"Loads a web page in the current browser session.\"\"\"\u001b[39;00m\n\u001b[0;32m--> 363\u001b[0m     \u001b[38;5;28;43mself\u001b[39;49m\u001b[38;5;241;43m.\u001b[39;49m\u001b[43mexecute\u001b[49m\u001b[43m(\u001b[49m\u001b[43mCommand\u001b[49m\u001b[38;5;241;43m.\u001b[39;49m\u001b[43mGET\u001b[49m\u001b[43m,\u001b[49m\u001b[43m \u001b[49m\u001b[43m{\u001b[49m\u001b[38;5;124;43m\"\u001b[39;49m\u001b[38;5;124;43murl\u001b[39;49m\u001b[38;5;124;43m\"\u001b[39;49m\u001b[43m:\u001b[49m\u001b[43m \u001b[49m\u001b[43murl\u001b[49m\u001b[43m}\u001b[49m\u001b[43m)\u001b[49m\n",
      "File \u001b[0;32m~/.local/lib/python3.8/site-packages/selenium/webdriver/remote/webdriver.py:354\u001b[0m, in \u001b[0;36mWebDriver.execute\u001b[0;34m(self, driver_command, params)\u001b[0m\n\u001b[1;32m    352\u001b[0m response \u001b[38;5;241m=\u001b[39m \u001b[38;5;28mself\u001b[39m\u001b[38;5;241m.\u001b[39mcommand_executor\u001b[38;5;241m.\u001b[39mexecute(driver_command, params)\n\u001b[1;32m    353\u001b[0m \u001b[38;5;28;01mif\u001b[39;00m response:\n\u001b[0;32m--> 354\u001b[0m     \u001b[38;5;28;43mself\u001b[39;49m\u001b[38;5;241;43m.\u001b[39;49m\u001b[43merror_handler\u001b[49m\u001b[38;5;241;43m.\u001b[39;49m\u001b[43mcheck_response\u001b[49m\u001b[43m(\u001b[49m\u001b[43mresponse\u001b[49m\u001b[43m)\u001b[49m\n\u001b[1;32m    355\u001b[0m     response[\u001b[38;5;124m\"\u001b[39m\u001b[38;5;124mvalue\u001b[39m\u001b[38;5;124m\"\u001b[39m] \u001b[38;5;241m=\u001b[39m \u001b[38;5;28mself\u001b[39m\u001b[38;5;241m.\u001b[39m_unwrap_value(response\u001b[38;5;241m.\u001b[39mget(\u001b[38;5;124m\"\u001b[39m\u001b[38;5;124mvalue\u001b[39m\u001b[38;5;124m\"\u001b[39m, \u001b[38;5;28;01mNone\u001b[39;00m))\n\u001b[1;32m    356\u001b[0m     \u001b[38;5;28;01mreturn\u001b[39;00m response\n",
      "File \u001b[0;32m~/.local/lib/python3.8/site-packages/selenium/webdriver/remote/errorhandler.py:229\u001b[0m, in \u001b[0;36mErrorHandler.check_response\u001b[0;34m(self, response)\u001b[0m\n\u001b[1;32m    227\u001b[0m         alert_text \u001b[38;5;241m=\u001b[39m value[\u001b[38;5;124m\"\u001b[39m\u001b[38;5;124malert\u001b[39m\u001b[38;5;124m\"\u001b[39m]\u001b[38;5;241m.\u001b[39mget(\u001b[38;5;124m\"\u001b[39m\u001b[38;5;124mtext\u001b[39m\u001b[38;5;124m\"\u001b[39m)\n\u001b[1;32m    228\u001b[0m     \u001b[38;5;28;01mraise\u001b[39;00m exception_class(message, screen, stacktrace, alert_text)  \u001b[38;5;66;03m# type: ignore[call-arg]  # mypy is not smart enough here\u001b[39;00m\n\u001b[0;32m--> 229\u001b[0m \u001b[38;5;28;01mraise\u001b[39;00m exception_class(message, screen, stacktrace)\n",
      "\u001b[0;31mNoSuchWindowException\u001b[0m: Message: no such window: target window already closed\nfrom unknown error: web view not found\n  (Session info: chrome=130.0.6723.58)\nStacktrace:\n#0 0x55bd5002f10a <unknown>\n#1 0x55bd4fb4a460 <unknown>\n#2 0x55bd4fb2081f <unknown>\n#3 0x55bd4fbc334d <unknown>\n#4 0x55bd4fbd93a9 <unknown>\n#5 0x55bd4fbbadb3 <unknown>\n#6 0x55bd4fb89c10 <unknown>\n#7 0x55bd4fb8abee <unknown>\n#8 0x55bd4fffb39b <unknown>\n#9 0x55bd4ffff338 <unknown>\n#10 0x55bd4ffe8ebc <unknown>\n#11 0x55bd4ffffeb7 <unknown>\n#12 0x55bd4ffce10f <unknown>\n#13 0x55bd5001d828 <unknown>\n#14 0x55bd5001d9f0 <unknown>\n#15 0x55bd5002df86 <unknown>\n#16 0x7f0a01e17609 start_thread\n"
     ]
    }
   ],
   "source": [
    "driver.get(url)\n"
   ]
  },
  {
   "cell_type": "code",
   "execution_count": 93,
   "id": "c8fa4cae-8ef0-4f11-a442-a91058c4418b",
   "metadata": {},
   "outputs": [
    {
     "ename": "NoSuchWindowException",
     "evalue": "Message: no such window: target window already closed\nfrom unknown error: web view not found\n  (Session info: chrome=130.0.6723.58)\nStacktrace:\n#0 0x55bd5002f10a <unknown>\n#1 0x55bd4fb4a460 <unknown>\n#2 0x55bd4fb2081f <unknown>\n#3 0x55bd4fbc334d <unknown>\n#4 0x55bd4fbd93a9 <unknown>\n#5 0x55bd4fbbadb3 <unknown>\n#6 0x55bd4fb89c10 <unknown>\n#7 0x55bd4fb8abee <unknown>\n#8 0x55bd4fffb39b <unknown>\n#9 0x55bd4ffff338 <unknown>\n#10 0x55bd4ffe8ebc <unknown>\n#11 0x55bd4ffffeb7 <unknown>\n#12 0x55bd4ffce10f <unknown>\n#13 0x55bd5001d828 <unknown>\n#14 0x55bd5001d9f0 <unknown>\n#15 0x55bd5002df86 <unknown>\n#16 0x7f0a01e17609 start_thread\n",
     "output_type": "error",
     "traceback": [
      "\u001b[0;31m---------------------------------------------------------------------------\u001b[0m",
      "\u001b[0;31mNoSuchWindowException\u001b[0m                     Traceback (most recent call last)",
      "Cell \u001b[0;32mIn[93], line 2\u001b[0m\n\u001b[1;32m      1\u001b[0m x_path\u001b[38;5;241m=\u001b[39m\u001b[38;5;124m'''\u001b[39m\u001b[38;5;124m/html/body/div[2]/div/main/div[1]/div\u001b[39m\u001b[38;5;124m'''\u001b[39m\n\u001b[0;32m----> 2\u001b[0m elements\u001b[38;5;241m=\u001b[39m\u001b[43mdriver\u001b[49m\u001b[38;5;241;43m.\u001b[39;49m\u001b[43mfind_elements\u001b[49m\u001b[43m(\u001b[49m\u001b[38;5;124;43m\"\u001b[39;49m\u001b[38;5;124;43mxpath\u001b[39;49m\u001b[38;5;124;43m\"\u001b[39;49m\u001b[43m,\u001b[49m\u001b[43mx_path\u001b[49m\u001b[43m)\u001b[49m\n\u001b[1;32m      3\u001b[0m elements\n",
      "File \u001b[0;32m~/.local/lib/python3.8/site-packages/selenium/webdriver/remote/webdriver.py:778\u001b[0m, in \u001b[0;36mWebDriver.find_elements\u001b[0;34m(self, by, value)\u001b[0m\n\u001b[1;32m    774\u001b[0m     value \u001b[38;5;241m=\u001b[39m \u001b[38;5;124mf\u001b[39m\u001b[38;5;124m'\u001b[39m\u001b[38;5;124m[name=\u001b[39m\u001b[38;5;124m\"\u001b[39m\u001b[38;5;132;01m{\u001b[39;00mvalue\u001b[38;5;132;01m}\u001b[39;00m\u001b[38;5;124m\"\u001b[39m\u001b[38;5;124m]\u001b[39m\u001b[38;5;124m'\u001b[39m\n\u001b[1;32m    776\u001b[0m \u001b[38;5;66;03m# Return empty list if driver returns null\u001b[39;00m\n\u001b[1;32m    777\u001b[0m \u001b[38;5;66;03m# See https://github.com/SeleniumHQ/selenium/issues/4555\u001b[39;00m\n\u001b[0;32m--> 778\u001b[0m \u001b[38;5;28;01mreturn\u001b[39;00m \u001b[38;5;28;43mself\u001b[39;49m\u001b[38;5;241;43m.\u001b[39;49m\u001b[43mexecute\u001b[49m\u001b[43m(\u001b[49m\u001b[43mCommand\u001b[49m\u001b[38;5;241;43m.\u001b[39;49m\u001b[43mFIND_ELEMENTS\u001b[49m\u001b[43m,\u001b[49m\u001b[43m \u001b[49m\u001b[43m{\u001b[49m\u001b[38;5;124;43m\"\u001b[39;49m\u001b[38;5;124;43musing\u001b[39;49m\u001b[38;5;124;43m\"\u001b[39;49m\u001b[43m:\u001b[49m\u001b[43m \u001b[49m\u001b[43mby\u001b[49m\u001b[43m,\u001b[49m\u001b[43m \u001b[49m\u001b[38;5;124;43m\"\u001b[39;49m\u001b[38;5;124;43mvalue\u001b[39;49m\u001b[38;5;124;43m\"\u001b[39;49m\u001b[43m:\u001b[49m\u001b[43m \u001b[49m\u001b[43mvalue\u001b[49m\u001b[43m}\u001b[49m\u001b[43m)\u001b[49m[\u001b[38;5;124m\"\u001b[39m\u001b[38;5;124mvalue\u001b[39m\u001b[38;5;124m\"\u001b[39m] \u001b[38;5;129;01mor\u001b[39;00m []\n",
      "File \u001b[0;32m~/.local/lib/python3.8/site-packages/selenium/webdriver/remote/webdriver.py:354\u001b[0m, in \u001b[0;36mWebDriver.execute\u001b[0;34m(self, driver_command, params)\u001b[0m\n\u001b[1;32m    352\u001b[0m response \u001b[38;5;241m=\u001b[39m \u001b[38;5;28mself\u001b[39m\u001b[38;5;241m.\u001b[39mcommand_executor\u001b[38;5;241m.\u001b[39mexecute(driver_command, params)\n\u001b[1;32m    353\u001b[0m \u001b[38;5;28;01mif\u001b[39;00m response:\n\u001b[0;32m--> 354\u001b[0m     \u001b[38;5;28;43mself\u001b[39;49m\u001b[38;5;241;43m.\u001b[39;49m\u001b[43merror_handler\u001b[49m\u001b[38;5;241;43m.\u001b[39;49m\u001b[43mcheck_response\u001b[49m\u001b[43m(\u001b[49m\u001b[43mresponse\u001b[49m\u001b[43m)\u001b[49m\n\u001b[1;32m    355\u001b[0m     response[\u001b[38;5;124m\"\u001b[39m\u001b[38;5;124mvalue\u001b[39m\u001b[38;5;124m\"\u001b[39m] \u001b[38;5;241m=\u001b[39m \u001b[38;5;28mself\u001b[39m\u001b[38;5;241m.\u001b[39m_unwrap_value(response\u001b[38;5;241m.\u001b[39mget(\u001b[38;5;124m\"\u001b[39m\u001b[38;5;124mvalue\u001b[39m\u001b[38;5;124m\"\u001b[39m, \u001b[38;5;28;01mNone\u001b[39;00m))\n\u001b[1;32m    356\u001b[0m     \u001b[38;5;28;01mreturn\u001b[39;00m response\n",
      "File \u001b[0;32m~/.local/lib/python3.8/site-packages/selenium/webdriver/remote/errorhandler.py:229\u001b[0m, in \u001b[0;36mErrorHandler.check_response\u001b[0;34m(self, response)\u001b[0m\n\u001b[1;32m    227\u001b[0m         alert_text \u001b[38;5;241m=\u001b[39m value[\u001b[38;5;124m\"\u001b[39m\u001b[38;5;124malert\u001b[39m\u001b[38;5;124m\"\u001b[39m]\u001b[38;5;241m.\u001b[39mget(\u001b[38;5;124m\"\u001b[39m\u001b[38;5;124mtext\u001b[39m\u001b[38;5;124m\"\u001b[39m)\n\u001b[1;32m    228\u001b[0m     \u001b[38;5;28;01mraise\u001b[39;00m exception_class(message, screen, stacktrace, alert_text)  \u001b[38;5;66;03m# type: ignore[call-arg]  # mypy is not smart enough here\u001b[39;00m\n\u001b[0;32m--> 229\u001b[0m \u001b[38;5;28;01mraise\u001b[39;00m exception_class(message, screen, stacktrace)\n",
      "\u001b[0;31mNoSuchWindowException\u001b[0m: Message: no such window: target window already closed\nfrom unknown error: web view not found\n  (Session info: chrome=130.0.6723.58)\nStacktrace:\n#0 0x55bd5002f10a <unknown>\n#1 0x55bd4fb4a460 <unknown>\n#2 0x55bd4fb2081f <unknown>\n#3 0x55bd4fbc334d <unknown>\n#4 0x55bd4fbd93a9 <unknown>\n#5 0x55bd4fbbadb3 <unknown>\n#6 0x55bd4fb89c10 <unknown>\n#7 0x55bd4fb8abee <unknown>\n#8 0x55bd4fffb39b <unknown>\n#9 0x55bd4ffff338 <unknown>\n#10 0x55bd4ffe8ebc <unknown>\n#11 0x55bd4ffffeb7 <unknown>\n#12 0x55bd4ffce10f <unknown>\n#13 0x55bd5001d828 <unknown>\n#14 0x55bd5001d9f0 <unknown>\n#15 0x55bd5002df86 <unknown>\n#16 0x7f0a01e17609 start_thread\n"
     ]
    }
   ],
   "source": [
    "x_path='''/html/body/div[2]/div/main/div[1]/div'''\n",
    "elements=driver.find_elements(\"xpath\",x_path)\n",
    "elements"
   ]
  },
  {
   "cell_type": "code",
   "execution_count": 10,
   "id": "f609dfd6-696f-42ad-9aaa-599fe832e964",
   "metadata": {},
   "outputs": [
    {
     "name": "stderr",
     "output_type": "stream",
     "text": [
      "There was an error managing chromedriver (error sending request for url (https://googlechromelabs.github.io/chrome-for-testing/known-good-versions-with-downloads.json)); using driver found in the cache\n"
     ]
    },
    {
     "ename": "TimeoutException",
     "evalue": "Message: \n",
     "output_type": "error",
     "traceback": [
      "\u001b[0;31m---------------------------------------------------------------------------\u001b[0m",
      "\u001b[0;31mTimeoutException\u001b[0m                          Traceback (most recent call last)",
      "Cell \u001b[0;32mIn[10], line 51\u001b[0m\n\u001b[1;32m     48\u001b[0m         driver\u001b[38;5;241m.\u001b[39mquit()\n\u001b[1;32m     50\u001b[0m url \u001b[38;5;241m=\u001b[39m \u001b[38;5;124m'\u001b[39m\u001b[38;5;124mhttps://pixabay.com/\u001b[39m\u001b[38;5;124m'\u001b[39m\n\u001b[0;32m---> 51\u001b[0m \u001b[43mscrape_images\u001b[49m\u001b[43m(\u001b[49m\u001b[43murl\u001b[49m\u001b[43m)\u001b[49m\n",
      "Cell \u001b[0;32mIn[10], line 22\u001b[0m, in \u001b[0;36mscrape_images\u001b[0;34m(url, limit)\u001b[0m\n\u001b[1;32m     19\u001b[0m driver\u001b[38;5;241m.\u001b[39mget(url)\n\u001b[1;32m     21\u001b[0m \u001b[38;5;28;01mwhile\u001b[39;00m count \u001b[38;5;241m<\u001b[39m limit:\n\u001b[0;32m---> 22\u001b[0m     \u001b[43mWebDriverWait\u001b[49m\u001b[43m(\u001b[49m\u001b[43mdriver\u001b[49m\u001b[43m,\u001b[49m\u001b[43m \u001b[49m\u001b[38;5;241;43m10\u001b[39;49m\u001b[43m)\u001b[49m\u001b[38;5;241;43m.\u001b[39;49m\u001b[43muntil\u001b[49m\u001b[43m(\u001b[49m\u001b[43mEC\u001b[49m\u001b[38;5;241;43m.\u001b[39;49m\u001b[43mpresence_of_all_elements_located\u001b[49m\u001b[43m(\u001b[49m\u001b[43m(\u001b[49m\u001b[43mBy\u001b[49m\u001b[38;5;241;43m.\u001b[39;49m\u001b[43mTAG_NAME\u001b[49m\u001b[43m,\u001b[49m\u001b[43m \u001b[49m\u001b[38;5;124;43m\"\u001b[39;49m\u001b[38;5;124;43mimg\u001b[39;49m\u001b[38;5;124;43m\"\u001b[39;49m\u001b[43m)\u001b[49m\u001b[43m)\u001b[49m\u001b[43m)\u001b[49m\n\u001b[1;32m     23\u001b[0m     images \u001b[38;5;241m=\u001b[39m driver\u001b[38;5;241m.\u001b[39mfind_elements(By\u001b[38;5;241m.\u001b[39mTAG_NAME, \u001b[38;5;124m\"\u001b[39m\u001b[38;5;124mimg\u001b[39m\u001b[38;5;124m\"\u001b[39m)\n\u001b[1;32m     25\u001b[0m     \u001b[38;5;28;01mfor\u001b[39;00m image \u001b[38;5;129;01min\u001b[39;00m images:\n",
      "File \u001b[0;32m~/.local/lib/python3.8/site-packages/selenium/webdriver/support/wait.py:105\u001b[0m, in \u001b[0;36mWebDriverWait.until\u001b[0;34m(self, method, message)\u001b[0m\n\u001b[1;32m    103\u001b[0m     \u001b[38;5;28;01mif\u001b[39;00m time\u001b[38;5;241m.\u001b[39mmonotonic() \u001b[38;5;241m>\u001b[39m end_time:\n\u001b[1;32m    104\u001b[0m         \u001b[38;5;28;01mbreak\u001b[39;00m\n\u001b[0;32m--> 105\u001b[0m \u001b[38;5;28;01mraise\u001b[39;00m TimeoutException(message, screen, stacktrace)\n",
      "\u001b[0;31mTimeoutException\u001b[0m: Message: \n"
     ]
    }
   ],
   "source": [
    "import time\n",
    "import csv\n",
    "from selenium import webdriver\n",
    "from selenium.webdriver.common.by import By\n",
    "from selenium.webdriver.support.ui import WebDriverWait\n",
    "from selenium.webdriver.support import expected_conditions as EC\n",
    "import os\n",
    "import requests\n",
    "\n",
    "def scrape_images(url, limit=200):\n",
    "\n",
    "    os.makedirs('images', exist_ok=True)\n",
    "\n",
    "    count = 0\n",
    "\n",
    "    driver = webdriver.Chrome()\n",
    "\n",
    "    try:\n",
    "        driver.get(url)\n",
    "\n",
    "        while count < limit:\n",
    "            WebDriverWait(driver, 10).until(EC.presence_of_all_elements_located((By.TAG_NAME, \"img\")))\n",
    "            images = driver.find_elements(By.TAG_NAME, \"img\")\n",
    "\n",
    "            for image in images:\n",
    "                image_url = image.get_attribute('src')\n",
    "                image_name = image_url.split('/')[-1] \n",
    "\n",
    "                image_response = requests.get(image_url, stream=True)\n",
    "                image_path = os.path.join('images', image_name+'.jpg')\n",
    "                with open(image_path, 'wb') as f:\n",
    "                    for chunk in image_response.iter_content(chunk_size=1024):\n",
    "                        if chunk:\n",
    "                            f.write(chunk)\n",
    "\n",
    "                owner = \"Unknown\" \n",
    "                likes = 0  \n",
    "\n",
    "             \n",
    "                count += 1\n",
    "\n",
    "                if count >= limit:\n",
    "                    break\n",
    "\n",
    "         \n",
    "\n",
    "    finally:\n",
    "        driver.quit()\n",
    "\n",
    "url = 'https://pixabay.com/'\n",
    "scrape_images(url)\n"
   ]
  },
  {
   "cell_type": "code",
   "execution_count": null,
   "id": "411c9bcb-1e7e-4ebe-b6c7-f2d8a4565298",
   "metadata": {},
   "outputs": [],
   "source": []
  },
  {
   "cell_type": "code",
   "execution_count": null,
   "id": "1f844c40-32e6-44d2-9772-8fc0ef2a9ea8",
   "metadata": {},
   "outputs": [],
   "source": []
  }
 ],
 "metadata": {
  "kernelspec": {
   "display_name": "Python 3 (ipykernel)",
   "language": "python",
   "name": "python3"
  },
  "language_info": {
   "codemirror_mode": {
    "name": "ipython",
    "version": 3
   },
   "file_extension": ".py",
   "mimetype": "text/x-python",
   "name": "python",
   "nbconvert_exporter": "python",
   "pygments_lexer": "ipython3",
   "version": "3.8.10"
  }
 },
 "nbformat": 4,
 "nbformat_minor": 5
}
