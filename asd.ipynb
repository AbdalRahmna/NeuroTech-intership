{
 "cells": [
  {
   "cell_type": "code",
   "execution_count": 4,
   "metadata": {},
   "outputs": [
    {
     "name": "stdout",
     "output_type": "stream",
     "text": [
      "Dummy CSV data has been generated and saved as 'dummy_data.csv'\n"
     ]
    }
   ],
   "source": [
    "import pandas as pd\n",
    "import numpy as np\n",
    "\n",
    "# Define column names and data types\n",
    "columns = [\n",
    "    ('ID', int),\n",
    "    ('Name', str),\n",
    "    ('Age', int),\n",
    "    ('City', str),\n",
    "    ('Country', str),\n",
    "    ('Salary', float),\n",
    "]\n",
    "\n",
    "# Generate random data\n",
    "data = {\n",
    "    col[0]: [np.random.randint(18, 99) if col[1] == int else np.random.choice(['New York', 'London', 'Tokyo']) if col[1] == str else np.random.uniform(30000, 150000) for _ in range(100)]\n",
    "    for col in columns\n",
    "}\n",
    "\n",
    "# Create DataFrame\n",
    "df = pd.DataFrame(data)\n",
    "\n",
    "# Set column types\n",
    "for col, dtype in columns:\n",
    "    df[col] = df[col].astype(dtype)\n",
    "\n",
    "# Export to CSV\n",
    "df.to_csv('dummy_data.csv', index=False)\n",
    "\n",
    "print(\"Dummy CSV data has been generated and saved as 'dummy_data.csv'\")\n"
   ]
  },
  {
   "cell_type": "code",
   "execution_count": 69,
   "metadata": {},
   "outputs": [],
   "source": [
    "def csv_to_dict(file_path):\n",
    "    with open(file_path, 'r') as f:\n",
    "        d = {}\n",
    "        keys = f.readline().strip().split(',')\n",
    "        \n",
    "        for key in keys:\n",
    "            d[key] = []\n",
    "        for line in f.readlines():\n",
    "            values = line.strip().split(',')\n",
    "            for key, value in zip(keys, values):\n",
    "                d[key].append(value)\n",
    "    return d\n"
   ]
  },
  {
   "cell_type": "code",
   "execution_count": 26,
   "metadata": {},
   "outputs": [],
   "source": [
    "d = csv_to_dict('dummy_data.csv')"
   ]
  },
  {
   "cell_type": "code",
   "execution_count": 28,
   "metadata": {},
   "outputs": [
    {
     "data": {
      "text/plain": [
       "['Tokyo',\n",
       " 'New York',\n",
       " 'London',\n",
       " 'London',\n",
       " 'New York',\n",
       " 'London',\n",
       " 'London',\n",
       " 'Tokyo',\n",
       " 'New York',\n",
       " 'New York',\n",
       " 'New York',\n",
       " 'New York',\n",
       " 'London',\n",
       " 'London',\n",
       " 'New York',\n",
       " 'New York',\n",
       " 'Tokyo',\n",
       " 'New York',\n",
       " 'Tokyo',\n",
       " 'London',\n",
       " 'Tokyo',\n",
       " 'New York',\n",
       " 'London',\n",
       " 'Tokyo',\n",
       " 'London',\n",
       " 'New York',\n",
       " 'Tokyo',\n",
       " 'New York',\n",
       " 'New York',\n",
       " 'Tokyo',\n",
       " 'Tokyo',\n",
       " 'New York',\n",
       " 'Tokyo',\n",
       " 'London',\n",
       " 'London',\n",
       " 'Tokyo',\n",
       " 'New York',\n",
       " 'Tokyo',\n",
       " 'London',\n",
       " 'New York',\n",
       " 'Tokyo',\n",
       " 'London',\n",
       " 'New York',\n",
       " 'London',\n",
       " 'New York',\n",
       " 'Tokyo',\n",
       " 'New York',\n",
       " 'Tokyo',\n",
       " 'London',\n",
       " 'New York',\n",
       " 'New York',\n",
       " 'Tokyo',\n",
       " 'Tokyo',\n",
       " 'London',\n",
       " 'New York',\n",
       " 'Tokyo',\n",
       " 'Tokyo',\n",
       " 'London',\n",
       " 'Tokyo',\n",
       " 'London',\n",
       " 'London',\n",
       " 'Tokyo',\n",
       " 'Tokyo',\n",
       " 'London',\n",
       " 'New York',\n",
       " 'New York',\n",
       " 'Tokyo',\n",
       " 'London',\n",
       " 'London',\n",
       " 'Tokyo',\n",
       " 'London',\n",
       " 'Tokyo',\n",
       " 'New York',\n",
       " 'New York',\n",
       " 'Tokyo',\n",
       " 'New York',\n",
       " 'London',\n",
       " 'New York',\n",
       " 'New York',\n",
       " 'New York',\n",
       " 'London',\n",
       " 'New York',\n",
       " 'London',\n",
       " 'Tokyo',\n",
       " 'Tokyo',\n",
       " 'Tokyo',\n",
       " 'London',\n",
       " 'New York',\n",
       " 'London',\n",
       " 'Tokyo',\n",
       " 'London',\n",
       " 'Tokyo',\n",
       " 'Tokyo',\n",
       " 'London',\n",
       " 'Tokyo',\n",
       " 'London',\n",
       " 'New York',\n",
       " 'Tokyo',\n",
       " 'New York',\n",
       " 'New York']"
      ]
     },
     "execution_count": 28,
     "metadata": {},
     "output_type": "execute_result"
    }
   ],
   "source": [
    "d['Country']"
   ]
  },
  {
   "cell_type": "code",
   "execution_count": null,
   "metadata": {},
   "outputs": [],
   "source": [
    "columns_dict = {name:[]}"
   ]
  },
  {
   "cell_type": "code",
   "execution_count": 13,
   "metadata": {},
   "outputs": [],
   "source": [
    "d = {\"id\": 5}"
   ]
  },
  {
   "cell_type": "code",
   "execution_count": 14,
   "metadata": {},
   "outputs": [
    {
     "data": {
      "text/plain": [
       "{'id': 5}"
      ]
     },
     "execution_count": 14,
     "metadata": {},
     "output_type": "execute_result"
    }
   ],
   "source": [
    "d"
   ]
  },
  {
   "cell_type": "code",
   "execution_count": 15,
   "metadata": {},
   "outputs": [],
   "source": [
    "d = {\"name\": 'Abdo'}"
   ]
  },
  {
   "cell_type": "code",
   "execution_count": 16,
   "metadata": {},
   "outputs": [
    {
     "data": {
      "text/plain": [
       "{'name': 'Abdo'}"
      ]
     },
     "execution_count": 16,
     "metadata": {},
     "output_type": "execute_result"
    }
   ],
   "source": [
    "d"
   ]
  },
  {
   "cell_type": "code",
   "execution_count": 32,
   "metadata": {},
   "outputs": [
    {
     "name": "stdout",
     "output_type": "stream",
     "text": [
      "initial dict: {'Salary': []}\n"
     ]
    },
    {
     "ename": "KeyError",
     "evalue": "'ID'",
     "output_type": "error",
     "traceback": [
      "\u001b[1;31m---------------------------------------------------------------------------\u001b[0m",
      "\u001b[1;31mKeyError\u001b[0m                                  Traceback (most recent call last)",
      "Cell \u001b[1;32mIn[32], line 24\u001b[0m\n\u001b[0;32m     19\u001b[0m                 columns_dict[columns_header[i]]\u001b[38;5;241m.\u001b[39mappend(value)\n\u001b[0;32m     21\u001b[0m     \u001b[38;5;28;01mreturn\u001b[39;00m columns_dict\n\u001b[1;32m---> 24\u001b[0m result \u001b[38;5;241m=\u001b[39m \u001b[43mcsv_to_dict\u001b[49m\u001b[43m(\u001b[49m\u001b[38;5;124;43m'\u001b[39;49m\u001b[38;5;124;43mdummy_data.csv\u001b[39;49m\u001b[38;5;124;43m'\u001b[39;49m\u001b[43m)\u001b[49m\n\u001b[0;32m     25\u001b[0m \u001b[38;5;28mprint\u001b[39m(result)\n",
      "Cell \u001b[1;32mIn[32], line 19\u001b[0m, in \u001b[0;36mcsv_to_dict\u001b[1;34m(file_path)\u001b[0m\n\u001b[0;32m     16\u001b[0m         values \u001b[38;5;241m=\u001b[39m l\u001b[38;5;241m.\u001b[39mstrip()\u001b[38;5;241m.\u001b[39msplit(\u001b[38;5;124m'\u001b[39m\u001b[38;5;124m,\u001b[39m\u001b[38;5;124m'\u001b[39m)\n\u001b[0;32m     18\u001b[0m         \u001b[38;5;28;01mfor\u001b[39;00m i, value \u001b[38;5;129;01min\u001b[39;00m \u001b[38;5;28menumerate\u001b[39m(values):\n\u001b[1;32m---> 19\u001b[0m             \u001b[43mcolumns_dict\u001b[49m\u001b[43m[\u001b[49m\u001b[43mcolumns_header\u001b[49m\u001b[43m[\u001b[49m\u001b[43mi\u001b[49m\u001b[43m]\u001b[49m\u001b[43m]\u001b[49m\u001b[38;5;241m.\u001b[39mappend(value)\n\u001b[0;32m     21\u001b[0m \u001b[38;5;28;01mreturn\u001b[39;00m columns_dict\n",
      "\u001b[1;31mKeyError\u001b[0m: 'ID'"
     ]
    }
   ],
   "source": [
    "def csv_to_dict(file_path):\n",
    "\n",
    "    with open(file_path, 'r') as file:\n",
    "        columns_header = file.readline().strip().split(',')\n",
    "\n",
    "        column_dict = {name: [] for name in columns_header}\n",
    "                \n",
    "        print(f\"initial dict: {columns_dict}\")\n",
    "        \n",
    "        for key in columns_header:\n",
    "            columns_dict[key] = []\n",
    "\n",
    "        for l in file:\n",
    "\n",
    "            values = l.strip().split(',')\n",
    "\n",
    "            for i, value in enumerate(values):\n",
    "                columns_dict[columns_header[i]].append(value)\n",
    "\n",
    "    return columns_dict\n",
    "\n",
    "\n",
    "result = csv_to_dict('dummy_data.csv')\n",
    "print(result)"
   ]
  },
  {
   "cell_type": "code",
   "execution_count": 24,
   "metadata": {},
   "outputs": [
    {
     "name": "stdout",
     "output_type": "stream",
     "text": [
      "c: t\n",
      "c: a\n",
      "c: h\n",
      "c: e\n",
      "c: r\n",
      "////////////////////////////\n",
      "i: 0   c: t\n",
      "i: 1   c: a\n",
      "i: 2   c: h\n",
      "i: 3   c: e\n",
      "i: 4   c: r\n",
      "////////////////////////////\n",
      "i: 0   c: t\n",
      "i: 1   c: a\n",
      "i: 2   c: h\n",
      "i: 3   c: e\n",
      "i: 4   c: r\n"
     ]
    }
   ],
   "source": [
    "lst = ['t', 'a', 'h', 'e', 'r']\n",
    "\n",
    "for c in lst:\n",
    "    print(f\"c: {c}\")\n",
    "print(\"////////////////////////////\")\n",
    "for i, c in enumerate(lst):\n",
    "    print(f\"i: {i}   c: {c}\")\n",
    "print(\"////////////////////////////\")\n",
    "for i, c in zip(range(len(lst)), lst):\n",
    "    print(f\"i: {i}   c: {c}\")"
   ]
  },
  {
   "cell_type": "code",
   "execution_count": 37,
   "metadata": {},
   "outputs": [
    {
     "data": {
      "text/plain": [
       "['90184.21602677339',\n",
       " '104597.93006823106',\n",
       " '136107.13455806926',\n",
       " '92228.25387400787',\n",
       " '108136.94944102467',\n",
       " '53576.73271168774',\n",
       " '50368.96952416977',\n",
       " '82744.02336749394',\n",
       " '116670.1386811015',\n",
       " '69377.04232155721',\n",
       " '141866.40260350262',\n",
       " '72179.1582975356',\n",
       " '137634.747181233',\n",
       " '126535.1126904712',\n",
       " '60415.5159893422',\n",
       " '39662.26410548379',\n",
       " '87762.16768489918',\n",
       " '113382.31081238504',\n",
       " '41325.85673612489',\n",
       " '39284.23772701706',\n",
       " '64899.71772543311',\n",
       " '42381.836842108794',\n",
       " '75016.78163248379',\n",
       " '147209.31943764444',\n",
       " '118636.94485920784',\n",
       " '93227.3388689913',\n",
       " '56438.93647245508',\n",
       " '131218.4887769056',\n",
       " '145554.08939122362',\n",
       " '118020.17382605476',\n",
       " '42708.367317803466',\n",
       " '95190.1591423028',\n",
       " '53014.063695373625',\n",
       " '124331.12487138856',\n",
       " '111682.95163505571',\n",
       " '82857.21044917015',\n",
       " '50627.85382617521',\n",
       " '80075.23130592058',\n",
       " '54680.97119627579',\n",
       " '49402.398103719635',\n",
       " '104064.50049205367',\n",
       " '131528.70952340576',\n",
       " '81652.66554235549',\n",
       " '136247.6811037079',\n",
       " '75721.30864362695',\n",
       " '45556.8253210914',\n",
       " '93204.27107398724',\n",
       " '141391.84454207853',\n",
       " '74118.72260341846',\n",
       " '73706.86125949933',\n",
       " '80608.58804510906',\n",
       " '61699.7724176514',\n",
       " '62975.58277294037',\n",
       " '42833.244365148086',\n",
       " '87520.37645686703',\n",
       " '38873.62373240445',\n",
       " '108578.46886710262',\n",
       " '146577.9770022704',\n",
       " '35397.024327654966',\n",
       " '73259.2088830008',\n",
       " '121390.4009467007',\n",
       " '142413.20312075445',\n",
       " '103979.38406906981',\n",
       " '97143.226694506',\n",
       " '95341.6541387141',\n",
       " '149648.20268761608',\n",
       " '147511.5442817749',\n",
       " '64370.390880795',\n",
       " '33210.6163114968',\n",
       " '50761.859052562046',\n",
       " '67948.94305438173',\n",
       " '45043.92844804265',\n",
       " '53894.79694613705',\n",
       " '135335.81214881895',\n",
       " '102793.87819409832',\n",
       " '108199.36305017346',\n",
       " '144831.41876958756',\n",
       " '31996.521889950476',\n",
       " '93040.43286477482',\n",
       " '105497.06484391933',\n",
       " '46190.793412146864',\n",
       " '118356.22069720642',\n",
       " '120901.89077900597',\n",
       " '108651.21171531563',\n",
       " '121332.24400619282',\n",
       " '117689.00811732425',\n",
       " '102854.3261090157',\n",
       " '42794.80932496324',\n",
       " '147553.0800561721',\n",
       " '67098.69945128736',\n",
       " '82305.61021827965',\n",
       " '51477.50908856024',\n",
       " '71232.46126958827',\n",
       " '100175.58854484405',\n",
       " '140903.50399860466',\n",
       " '72073.87244352886',\n",
       " '59571.40355944345',\n",
       " '74369.5084614387',\n",
       " '33333.14449492385',\n",
       " '76797.48636321982']"
      ]
     },
     "execution_count": 37,
     "metadata": {},
     "output_type": "execute_result"
    }
   ],
   "source": [
    "d['Salary']"
   ]
  },
  {
   "cell_type": "code",
   "execution_count": null,
   "metadata": {},
   "outputs": [],
   "source": [
    "d = get_columns(dict, ['ID', 'Salary'])"
   ]
  },
  {
   "cell_type": "code",
   "execution_count": null,
   "metadata": {},
   "outputs": [],
   "source": []
  },
  {
   "cell_type": "code",
   "execution_count": 38,
   "metadata": {},
   "outputs": [],
   "source": [
    "def get_columns(dict, keys):\n",
    "    new_dict = {}\n",
    "    for key in keys:\n",
    "        new_dict[key] = dict[key]\n",
    "    return new_dict"
   ]
  },
  {
   "cell_type": "code",
   "execution_count": null,
   "metadata": {},
   "outputs": [],
   "source": [
    "d = change_type(dict, ['ID', 'Salary'], float)\n",
    "    "
   ]
  },
  {
   "cell_type": "code",
   "execution_count": 39,
   "metadata": {},
   "outputs": [
    {
     "data": {
      "text/plain": [
       "'60'"
      ]
     },
     "execution_count": 39,
     "metadata": {},
     "output_type": "execute_result"
    }
   ],
   "source": [
    "int('60')"
   ]
  },
  {
   "cell_type": "code",
   "execution_count": 40,
   "metadata": {},
   "outputs": [],
   "source": [
    "def change_type(dict, keys, type):\n",
    "    for key in keys:\n",
    "        for i in range(len(dict[key])):\n",
    "            dict[key][i] = type(dict[key][i])\n",
    "    return dict"
   ]
  },
  {
   "cell_type": "code",
   "execution_count": 42,
   "metadata": {},
   "outputs": [],
   "source": [
    "d = change_type(d, ['ID', 'Salary'], float)"
   ]
  },
  {
   "cell_type": "code",
   "execution_count": 44,
   "metadata": {},
   "outputs": [
    {
     "data": {
      "text/plain": [
       "[90184.21602677339,\n",
       " 104597.93006823106,\n",
       " 136107.13455806926,\n",
       " 92228.25387400787,\n",
       " 108136.94944102467,\n",
       " 53576.73271168774,\n",
       " 50368.96952416977,\n",
       " 82744.02336749394,\n",
       " 116670.1386811015,\n",
       " 69377.04232155721,\n",
       " 141866.40260350262,\n",
       " 72179.1582975356,\n",
       " 137634.747181233,\n",
       " 126535.1126904712,\n",
       " 60415.5159893422,\n",
       " 39662.26410548379,\n",
       " 87762.16768489918,\n",
       " 113382.31081238504,\n",
       " 41325.85673612489,\n",
       " 39284.23772701706,\n",
       " 64899.71772543311,\n",
       " 42381.836842108794,\n",
       " 75016.78163248379,\n",
       " 147209.31943764444,\n",
       " 118636.94485920784,\n",
       " 93227.3388689913,\n",
       " 56438.93647245508,\n",
       " 131218.4887769056,\n",
       " 145554.08939122362,\n",
       " 118020.17382605476,\n",
       " 42708.367317803466,\n",
       " 95190.1591423028,\n",
       " 53014.063695373625,\n",
       " 124331.12487138856,\n",
       " 111682.95163505571,\n",
       " 82857.21044917015,\n",
       " 50627.85382617521,\n",
       " 80075.23130592058,\n",
       " 54680.97119627579,\n",
       " 49402.398103719635,\n",
       " 104064.50049205367,\n",
       " 131528.70952340576,\n",
       " 81652.66554235549,\n",
       " 136247.6811037079,\n",
       " 75721.30864362695,\n",
       " 45556.8253210914,\n",
       " 93204.27107398724,\n",
       " 141391.84454207853,\n",
       " 74118.72260341846,\n",
       " 73706.86125949933,\n",
       " 80608.58804510906,\n",
       " 61699.7724176514,\n",
       " 62975.58277294037,\n",
       " 42833.244365148086,\n",
       " 87520.37645686703,\n",
       " 38873.62373240445,\n",
       " 108578.46886710262,\n",
       " 146577.9770022704,\n",
       " 35397.024327654966,\n",
       " 73259.2088830008,\n",
       " 121390.4009467007,\n",
       " 142413.20312075445,\n",
       " 103979.38406906981,\n",
       " 97143.226694506,\n",
       " 95341.6541387141,\n",
       " 149648.20268761608,\n",
       " 147511.5442817749,\n",
       " 64370.390880795,\n",
       " 33210.6163114968,\n",
       " 50761.859052562046,\n",
       " 67948.94305438173,\n",
       " 45043.92844804265,\n",
       " 53894.79694613705,\n",
       " 135335.81214881895,\n",
       " 102793.87819409832,\n",
       " 108199.36305017346,\n",
       " 144831.41876958756,\n",
       " 31996.521889950476,\n",
       " 93040.43286477482,\n",
       " 105497.06484391933,\n",
       " 46190.793412146864,\n",
       " 118356.22069720642,\n",
       " 120901.89077900597,\n",
       " 108651.21171531563,\n",
       " 121332.24400619282,\n",
       " 117689.00811732425,\n",
       " 102854.3261090157,\n",
       " 42794.80932496324,\n",
       " 147553.0800561721,\n",
       " 67098.69945128736,\n",
       " 82305.61021827965,\n",
       " 51477.50908856024,\n",
       " 71232.46126958827,\n",
       " 100175.58854484405,\n",
       " 140903.50399860466,\n",
       " 72073.87244352886,\n",
       " 59571.40355944345,\n",
       " 74369.5084614387,\n",
       " 33333.14449492385,\n",
       " 76797.48636321982]"
      ]
     },
     "execution_count": 44,
     "metadata": {},
     "output_type": "execute_result"
    }
   ],
   "source": [
    "d['Salary']"
   ]
  },
  {
   "cell_type": "code",
   "execution_count": 63,
   "metadata": {},
   "outputs": [],
   "source": [
    "def label_encoder(dict, keys):\n",
    "    for key in keys:\n",
    "        unique_values = set(dict[key])\n",
    "        values = {}\n",
    "        for i, value in enumerate(unique_values):\n",
    "            values[value] = i\n",
    "        for i in range(len(dict[key])):\n",
    "            dict[key][i] = values[dict[key][i]]\n",
    "    return dict"
   ]
  },
  {
   "cell_type": "code",
   "execution_count": 64,
   "metadata": {},
   "outputs": [],
   "source": [
    "labeled_d = label_encoder(d, ['City'])"
   ]
  },
  {
   "cell_type": "code",
   "execution_count": 70,
   "metadata": {},
   "outputs": [
    {
     "data": {
      "text/plain": [
       "['London',\n",
       " 'London',\n",
       " 'London',\n",
       " 'Tokyo',\n",
       " 'New York',\n",
       " 'London',\n",
       " 'London',\n",
       " 'New York',\n",
       " 'New York',\n",
       " 'London',\n",
       " 'Tokyo',\n",
       " 'New York',\n",
       " 'Tokyo',\n",
       " 'New York',\n",
       " 'New York',\n",
       " 'New York',\n",
       " 'New York',\n",
       " 'London',\n",
       " 'New York',\n",
       " 'New York',\n",
       " 'New York',\n",
       " 'London',\n",
       " 'London',\n",
       " 'New York',\n",
       " 'Tokyo',\n",
       " 'London',\n",
       " 'London',\n",
       " 'London',\n",
       " 'London',\n",
       " 'New York',\n",
       " 'New York',\n",
       " 'Tokyo',\n",
       " 'Tokyo',\n",
       " 'Tokyo',\n",
       " 'London',\n",
       " 'New York',\n",
       " 'New York',\n",
       " 'New York',\n",
       " 'New York',\n",
       " 'London',\n",
       " 'Tokyo',\n",
       " 'New York',\n",
       " 'London',\n",
       " 'London',\n",
       " 'London',\n",
       " 'Tokyo',\n",
       " 'Tokyo',\n",
       " 'London',\n",
       " 'New York',\n",
       " 'New York',\n",
       " 'Tokyo',\n",
       " 'London',\n",
       " 'London',\n",
       " 'Tokyo',\n",
       " 'Tokyo',\n",
       " 'New York',\n",
       " 'Tokyo',\n",
       " 'New York',\n",
       " 'Tokyo',\n",
       " 'New York',\n",
       " 'New York',\n",
       " 'Tokyo',\n",
       " 'New York',\n",
       " 'New York',\n",
       " 'Tokyo',\n",
       " 'Tokyo',\n",
       " 'London',\n",
       " 'Tokyo',\n",
       " 'New York',\n",
       " 'Tokyo',\n",
       " 'New York',\n",
       " 'New York',\n",
       " 'New York',\n",
       " 'New York',\n",
       " 'New York',\n",
       " 'Tokyo',\n",
       " 'New York',\n",
       " 'London',\n",
       " 'Tokyo',\n",
       " 'London',\n",
       " 'New York',\n",
       " 'London',\n",
       " 'Tokyo',\n",
       " 'Tokyo',\n",
       " 'New York',\n",
       " 'London',\n",
       " 'Tokyo',\n",
       " 'New York',\n",
       " 'London',\n",
       " 'Tokyo',\n",
       " 'Tokyo',\n",
       " 'New York',\n",
       " 'Tokyo',\n",
       " 'London',\n",
       " 'London',\n",
       " 'New York',\n",
       " 'Tokyo',\n",
       " 'Tokyo',\n",
       " 'London',\n",
       " 'New York']"
      ]
     },
     "execution_count": 70,
     "metadata": {},
     "output_type": "execute_result"
    }
   ],
   "source": [
    "d = csv_to_dict('dummy_data.csv')\n",
    "d['City']"
   ]
  },
  {
   "cell_type": "code",
   "execution_count": 66,
   "metadata": {},
   "outputs": [
    {
     "data": {
      "text/plain": [
       "[0,\n",
       " 0,\n",
       " 0,\n",
       " 2,\n",
       " 1,\n",
       " 0,\n",
       " 0,\n",
       " 1,\n",
       " 1,\n",
       " 0,\n",
       " 2,\n",
       " 1,\n",
       " 2,\n",
       " 1,\n",
       " 1,\n",
       " 1,\n",
       " 1,\n",
       " 0,\n",
       " 1,\n",
       " 1,\n",
       " 1,\n",
       " 0,\n",
       " 0,\n",
       " 1,\n",
       " 2,\n",
       " 0,\n",
       " 0,\n",
       " 0,\n",
       " 0,\n",
       " 1,\n",
       " 1,\n",
       " 2,\n",
       " 2,\n",
       " 2,\n",
       " 0,\n",
       " 1,\n",
       " 1,\n",
       " 1,\n",
       " 1,\n",
       " 0,\n",
       " 2,\n",
       " 1,\n",
       " 0,\n",
       " 0,\n",
       " 0,\n",
       " 2,\n",
       " 2,\n",
       " 0,\n",
       " 1,\n",
       " 1,\n",
       " 2,\n",
       " 0,\n",
       " 0,\n",
       " 2,\n",
       " 2,\n",
       " 1,\n",
       " 2,\n",
       " 1,\n",
       " 2,\n",
       " 1,\n",
       " 1,\n",
       " 2,\n",
       " 1,\n",
       " 1,\n",
       " 2,\n",
       " 2,\n",
       " 0,\n",
       " 2,\n",
       " 1,\n",
       " 2,\n",
       " 1,\n",
       " 1,\n",
       " 1,\n",
       " 1,\n",
       " 1,\n",
       " 2,\n",
       " 1,\n",
       " 0,\n",
       " 2,\n",
       " 0,\n",
       " 1,\n",
       " 0,\n",
       " 2,\n",
       " 2,\n",
       " 1,\n",
       " 0,\n",
       " 2,\n",
       " 1,\n",
       " 0,\n",
       " 2,\n",
       " 2,\n",
       " 1,\n",
       " 2,\n",
       " 0,\n",
       " 0,\n",
       " 1,\n",
       " 2,\n",
       " 2,\n",
       " 0,\n",
       " 1]"
      ]
     },
     "execution_count": 66,
     "metadata": {},
     "output_type": "execute_result"
    }
   ],
   "source": [
    "labeled_d['City']"
   ]
  },
  {
   "cell_type": "code",
   "execution_count": null,
   "metadata": {},
   "outputs": [],
   "source": [
    "London = 1 0 0 \n",
    "Tokyo = 0 1 0\n",
    "New York = 0 0 1"
   ]
  },
  {
   "cell_type": "code",
   "execution_count": 48,
   "metadata": {},
   "outputs": [
    {
     "data": {
      "text/plain": [
       "{'London', 'New York', 'Tokyo'}"
      ]
     },
     "execution_count": 48,
     "metadata": {},
     "output_type": "execute_result"
    }
   ],
   "source": [
    "u = set(d['City'])\n",
    "u"
   ]
  },
  {
   "cell_type": "code",
   "execution_count": 49,
   "metadata": {},
   "outputs": [
    {
     "data": {
      "text/plain": [
       "{'London': 0, 'New York': 1, 'Tokyo': 2}"
      ]
     },
     "execution_count": 49,
     "metadata": {},
     "output_type": "execute_result"
    }
   ],
   "source": [
    "encodings = dict()\n",
    "for i, value in enumerate(u):\n",
    "    encodings[value] = i\n",
    "encodings"
   ]
  },
  {
   "cell_type": "code",
   "execution_count": 54,
   "metadata": {},
   "outputs": [
    {
     "data": {
      "text/plain": [
       "2"
      ]
     },
     "execution_count": 54,
     "metadata": {},
     "output_type": "execute_result"
    }
   ],
   "source": [
    "encodings['Tokyo']"
   ]
  },
  {
   "cell_type": "code",
   "execution_count": 59,
   "metadata": {},
   "outputs": [
    {
     "data": {
      "text/plain": [
       "1"
      ]
     },
     "execution_count": 59,
     "metadata": {},
     "output_type": "execute_result"
    }
   ],
   "source": [
    "encodings[d['City'][4]]"
   ]
  },
  {
   "cell_type": "code",
   "execution_count": 57,
   "metadata": {},
   "outputs": [
    {
     "data": {
      "text/plain": [
       "'New York'"
      ]
     },
     "execution_count": 57,
     "metadata": {},
     "output_type": "execute_result"
    }
   ],
   "source": [
    "d['City'][4]"
   ]
  },
  {
   "cell_type": "code",
   "execution_count": 60,
   "metadata": {},
   "outputs": [
    {
     "name": "stdout",
     "output_type": "stream",
     "text": [
      "0\n",
      "0\n",
      "0\n",
      "2\n",
      "1\n",
      "0\n",
      "0\n",
      "1\n",
      "1\n",
      "0\n",
      "2\n",
      "1\n",
      "2\n",
      "1\n",
      "1\n",
      "1\n",
      "1\n",
      "0\n",
      "1\n",
      "1\n",
      "1\n",
      "0\n",
      "0\n",
      "1\n",
      "2\n",
      "0\n",
      "0\n",
      "0\n",
      "0\n",
      "1\n",
      "1\n",
      "2\n",
      "2\n",
      "2\n",
      "0\n",
      "1\n",
      "1\n",
      "1\n",
      "1\n",
      "0\n",
      "2\n",
      "1\n",
      "0\n",
      "0\n",
      "0\n",
      "2\n",
      "2\n",
      "0\n",
      "1\n",
      "1\n",
      "2\n",
      "0\n",
      "0\n",
      "2\n",
      "2\n",
      "1\n",
      "2\n",
      "1\n",
      "2\n",
      "1\n",
      "1\n",
      "2\n",
      "1\n",
      "1\n",
      "2\n",
      "2\n",
      "0\n",
      "2\n",
      "1\n",
      "2\n",
      "1\n",
      "1\n",
      "1\n",
      "1\n",
      "1\n",
      "2\n",
      "1\n",
      "0\n",
      "2\n",
      "0\n",
      "1\n",
      "0\n",
      "2\n",
      "2\n",
      "1\n",
      "0\n",
      "2\n",
      "1\n",
      "0\n",
      "2\n",
      "2\n",
      "1\n",
      "2\n",
      "0\n",
      "0\n",
      "1\n",
      "2\n",
      "2\n",
      "0\n",
      "1\n"
     ]
    }
   ],
   "source": [
    "for i in range(len(d['City'])):\n",
    "    print(encodings[d['City'][i]])"
   ]
  },
  {
   "cell_type": "code",
   "execution_count": 71,
   "metadata": {},
   "outputs": [],
   "source": [
    "import pandas as pd"
   ]
  },
  {
   "cell_type": "code",
   "execution_count": 73,
   "metadata": {},
   "outputs": [],
   "source": [
    "data = pd.read_csv(\"dummy_data.csv\")"
   ]
  },
  {
   "cell_type": "code",
   "execution_count": 78,
   "metadata": {},
   "outputs": [
    {
     "data": {
      "text/html": [
       "<div>\n",
       "<style scoped>\n",
       "    .dataframe tbody tr th:only-of-type {\n",
       "        vertical-align: middle;\n",
       "    }\n",
       "\n",
       "    .dataframe tbody tr th {\n",
       "        vertical-align: top;\n",
       "    }\n",
       "\n",
       "    .dataframe thead th {\n",
       "        text-align: right;\n",
       "    }\n",
       "</style>\n",
       "<table border=\"1\" class=\"dataframe\">\n",
       "  <thead>\n",
       "    <tr style=\"text-align: right;\">\n",
       "      <th></th>\n",
       "      <th>City</th>\n",
       "      <th>ID</th>\n",
       "    </tr>\n",
       "  </thead>\n",
       "  <tbody>\n",
       "    <tr>\n",
       "      <th>90</th>\n",
       "      <td>Tokyo</td>\n",
       "      <td>61</td>\n",
       "    </tr>\n",
       "    <tr>\n",
       "      <th>91</th>\n",
       "      <td>New York</td>\n",
       "      <td>27</td>\n",
       "    </tr>\n",
       "    <tr>\n",
       "      <th>92</th>\n",
       "      <td>Tokyo</td>\n",
       "      <td>82</td>\n",
       "    </tr>\n",
       "    <tr>\n",
       "      <th>93</th>\n",
       "      <td>London</td>\n",
       "      <td>23</td>\n",
       "    </tr>\n",
       "    <tr>\n",
       "      <th>94</th>\n",
       "      <td>London</td>\n",
       "      <td>51</td>\n",
       "    </tr>\n",
       "    <tr>\n",
       "      <th>95</th>\n",
       "      <td>New York</td>\n",
       "      <td>67</td>\n",
       "    </tr>\n",
       "    <tr>\n",
       "      <th>96</th>\n",
       "      <td>Tokyo</td>\n",
       "      <td>76</td>\n",
       "    </tr>\n",
       "    <tr>\n",
       "      <th>97</th>\n",
       "      <td>Tokyo</td>\n",
       "      <td>26</td>\n",
       "    </tr>\n",
       "    <tr>\n",
       "      <th>98</th>\n",
       "      <td>London</td>\n",
       "      <td>48</td>\n",
       "    </tr>\n",
       "    <tr>\n",
       "      <th>99</th>\n",
       "      <td>New York</td>\n",
       "      <td>56</td>\n",
       "    </tr>\n",
       "  </tbody>\n",
       "</table>\n",
       "</div>"
      ],
      "text/plain": [
       "        City  ID\n",
       "90     Tokyo  61\n",
       "91  New York  27\n",
       "92     Tokyo  82\n",
       "93    London  23\n",
       "94    London  51\n",
       "95  New York  67\n",
       "96     Tokyo  76\n",
       "97     Tokyo  26\n",
       "98    London  48\n",
       "99  New York  56"
      ]
     },
     "execution_count": 78,
     "metadata": {},
     "output_type": "execute_result"
    }
   ],
   "source": [
    "data[['City', 'ID']].tail(10)"
   ]
  },
  {
   "cell_type": "code",
   "execution_count": 79,
   "metadata": {},
   "outputs": [
    {
     "data": {
      "text/html": [
       "<div>\n",
       "<style scoped>\n",
       "    .dataframe tbody tr th:only-of-type {\n",
       "        vertical-align: middle;\n",
       "    }\n",
       "\n",
       "    .dataframe tbody tr th {\n",
       "        vertical-align: top;\n",
       "    }\n",
       "\n",
       "    .dataframe thead th {\n",
       "        text-align: right;\n",
       "    }\n",
       "</style>\n",
       "<table border=\"1\" class=\"dataframe\">\n",
       "  <thead>\n",
       "    <tr style=\"text-align: right;\">\n",
       "      <th></th>\n",
       "      <th>ID</th>\n",
       "      <th>Name</th>\n",
       "      <th>Age</th>\n",
       "      <th>City</th>\n",
       "      <th>Country</th>\n",
       "      <th>Salary</th>\n",
       "    </tr>\n",
       "  </thead>\n",
       "  <tbody>\n",
       "    <tr>\n",
       "      <th>0</th>\n",
       "      <td>26</td>\n",
       "      <td>Tokyo</td>\n",
       "      <td>37</td>\n",
       "      <td>London</td>\n",
       "      <td>Tokyo</td>\n",
       "      <td>90184.216027</td>\n",
       "    </tr>\n",
       "    <tr>\n",
       "      <th>1</th>\n",
       "      <td>98</td>\n",
       "      <td>London</td>\n",
       "      <td>61</td>\n",
       "      <td>London</td>\n",
       "      <td>New York</td>\n",
       "      <td>104597.930068</td>\n",
       "    </tr>\n",
       "    <tr>\n",
       "      <th>2</th>\n",
       "      <td>51</td>\n",
       "      <td>Tokyo</td>\n",
       "      <td>21</td>\n",
       "      <td>London</td>\n",
       "      <td>London</td>\n",
       "      <td>136107.134558</td>\n",
       "    </tr>\n",
       "    <tr>\n",
       "      <th>5</th>\n",
       "      <td>73</td>\n",
       "      <td>London</td>\n",
       "      <td>49</td>\n",
       "      <td>London</td>\n",
       "      <td>London</td>\n",
       "      <td>53576.732712</td>\n",
       "    </tr>\n",
       "    <tr>\n",
       "      <th>6</th>\n",
       "      <td>77</td>\n",
       "      <td>New York</td>\n",
       "      <td>60</td>\n",
       "      <td>London</td>\n",
       "      <td>London</td>\n",
       "      <td>50368.969524</td>\n",
       "    </tr>\n",
       "    <tr>\n",
       "      <th>9</th>\n",
       "      <td>36</td>\n",
       "      <td>New York</td>\n",
       "      <td>29</td>\n",
       "      <td>London</td>\n",
       "      <td>New York</td>\n",
       "      <td>69377.042322</td>\n",
       "    </tr>\n",
       "    <tr>\n",
       "      <th>17</th>\n",
       "      <td>88</td>\n",
       "      <td>Tokyo</td>\n",
       "      <td>35</td>\n",
       "      <td>London</td>\n",
       "      <td>New York</td>\n",
       "      <td>113382.310812</td>\n",
       "    </tr>\n",
       "    <tr>\n",
       "      <th>21</th>\n",
       "      <td>76</td>\n",
       "      <td>New York</td>\n",
       "      <td>57</td>\n",
       "      <td>London</td>\n",
       "      <td>New York</td>\n",
       "      <td>42381.836842</td>\n",
       "    </tr>\n",
       "    <tr>\n",
       "      <th>22</th>\n",
       "      <td>76</td>\n",
       "      <td>London</td>\n",
       "      <td>91</td>\n",
       "      <td>London</td>\n",
       "      <td>London</td>\n",
       "      <td>75016.781632</td>\n",
       "    </tr>\n",
       "    <tr>\n",
       "      <th>25</th>\n",
       "      <td>78</td>\n",
       "      <td>London</td>\n",
       "      <td>35</td>\n",
       "      <td>London</td>\n",
       "      <td>New York</td>\n",
       "      <td>93227.338869</td>\n",
       "    </tr>\n",
       "    <tr>\n",
       "      <th>26</th>\n",
       "      <td>54</td>\n",
       "      <td>New York</td>\n",
       "      <td>24</td>\n",
       "      <td>London</td>\n",
       "      <td>Tokyo</td>\n",
       "      <td>56438.936472</td>\n",
       "    </tr>\n",
       "    <tr>\n",
       "      <th>27</th>\n",
       "      <td>87</td>\n",
       "      <td>Tokyo</td>\n",
       "      <td>67</td>\n",
       "      <td>London</td>\n",
       "      <td>New York</td>\n",
       "      <td>131218.488777</td>\n",
       "    </tr>\n",
       "    <tr>\n",
       "      <th>28</th>\n",
       "      <td>96</td>\n",
       "      <td>London</td>\n",
       "      <td>23</td>\n",
       "      <td>London</td>\n",
       "      <td>New York</td>\n",
       "      <td>145554.089391</td>\n",
       "    </tr>\n",
       "    <tr>\n",
       "      <th>34</th>\n",
       "      <td>86</td>\n",
       "      <td>London</td>\n",
       "      <td>82</td>\n",
       "      <td>London</td>\n",
       "      <td>London</td>\n",
       "      <td>111682.951635</td>\n",
       "    </tr>\n",
       "    <tr>\n",
       "      <th>39</th>\n",
       "      <td>95</td>\n",
       "      <td>Tokyo</td>\n",
       "      <td>70</td>\n",
       "      <td>London</td>\n",
       "      <td>New York</td>\n",
       "      <td>49402.398104</td>\n",
       "    </tr>\n",
       "    <tr>\n",
       "      <th>42</th>\n",
       "      <td>67</td>\n",
       "      <td>London</td>\n",
       "      <td>55</td>\n",
       "      <td>London</td>\n",
       "      <td>New York</td>\n",
       "      <td>81652.665542</td>\n",
       "    </tr>\n",
       "    <tr>\n",
       "      <th>43</th>\n",
       "      <td>84</td>\n",
       "      <td>London</td>\n",
       "      <td>50</td>\n",
       "      <td>London</td>\n",
       "      <td>London</td>\n",
       "      <td>136247.681104</td>\n",
       "    </tr>\n",
       "    <tr>\n",
       "      <th>44</th>\n",
       "      <td>33</td>\n",
       "      <td>Tokyo</td>\n",
       "      <td>79</td>\n",
       "      <td>London</td>\n",
       "      <td>New York</td>\n",
       "      <td>75721.308644</td>\n",
       "    </tr>\n",
       "    <tr>\n",
       "      <th>47</th>\n",
       "      <td>51</td>\n",
       "      <td>Tokyo</td>\n",
       "      <td>22</td>\n",
       "      <td>London</td>\n",
       "      <td>Tokyo</td>\n",
       "      <td>141391.844542</td>\n",
       "    </tr>\n",
       "    <tr>\n",
       "      <th>51</th>\n",
       "      <td>43</td>\n",
       "      <td>Tokyo</td>\n",
       "      <td>72</td>\n",
       "      <td>London</td>\n",
       "      <td>Tokyo</td>\n",
       "      <td>61699.772418</td>\n",
       "    </tr>\n",
       "    <tr>\n",
       "      <th>52</th>\n",
       "      <td>45</td>\n",
       "      <td>New York</td>\n",
       "      <td>23</td>\n",
       "      <td>London</td>\n",
       "      <td>Tokyo</td>\n",
       "      <td>62975.582773</td>\n",
       "    </tr>\n",
       "    <tr>\n",
       "      <th>66</th>\n",
       "      <td>64</td>\n",
       "      <td>London</td>\n",
       "      <td>46</td>\n",
       "      <td>London</td>\n",
       "      <td>Tokyo</td>\n",
       "      <td>147511.544282</td>\n",
       "    </tr>\n",
       "    <tr>\n",
       "      <th>77</th>\n",
       "      <td>97</td>\n",
       "      <td>London</td>\n",
       "      <td>78</td>\n",
       "      <td>London</td>\n",
       "      <td>New York</td>\n",
       "      <td>31996.521890</td>\n",
       "    </tr>\n",
       "    <tr>\n",
       "      <th>79</th>\n",
       "      <td>78</td>\n",
       "      <td>New York</td>\n",
       "      <td>34</td>\n",
       "      <td>London</td>\n",
       "      <td>New York</td>\n",
       "      <td>105497.064844</td>\n",
       "    </tr>\n",
       "    <tr>\n",
       "      <th>81</th>\n",
       "      <td>92</td>\n",
       "      <td>New York</td>\n",
       "      <td>81</td>\n",
       "      <td>London</td>\n",
       "      <td>New York</td>\n",
       "      <td>118356.220697</td>\n",
       "    </tr>\n",
       "    <tr>\n",
       "      <th>85</th>\n",
       "      <td>64</td>\n",
       "      <td>New York</td>\n",
       "      <td>38</td>\n",
       "      <td>London</td>\n",
       "      <td>Tokyo</td>\n",
       "      <td>117689.008117</td>\n",
       "    </tr>\n",
       "    <tr>\n",
       "      <th>88</th>\n",
       "      <td>86</td>\n",
       "      <td>London</td>\n",
       "      <td>52</td>\n",
       "      <td>London</td>\n",
       "      <td>London</td>\n",
       "      <td>147553.080056</td>\n",
       "    </tr>\n",
       "    <tr>\n",
       "      <th>93</th>\n",
       "      <td>23</td>\n",
       "      <td>Tokyo</td>\n",
       "      <td>49</td>\n",
       "      <td>London</td>\n",
       "      <td>London</td>\n",
       "      <td>100175.588545</td>\n",
       "    </tr>\n",
       "    <tr>\n",
       "      <th>94</th>\n",
       "      <td>51</td>\n",
       "      <td>London</td>\n",
       "      <td>26</td>\n",
       "      <td>London</td>\n",
       "      <td>Tokyo</td>\n",
       "      <td>140903.503999</td>\n",
       "    </tr>\n",
       "    <tr>\n",
       "      <th>98</th>\n",
       "      <td>48</td>\n",
       "      <td>Tokyo</td>\n",
       "      <td>46</td>\n",
       "      <td>London</td>\n",
       "      <td>New York</td>\n",
       "      <td>33333.144495</td>\n",
       "    </tr>\n",
       "  </tbody>\n",
       "</table>\n",
       "</div>"
      ],
      "text/plain": [
       "    ID      Name  Age    City   Country         Salary\n",
       "0   26     Tokyo   37  London     Tokyo   90184.216027\n",
       "1   98    London   61  London  New York  104597.930068\n",
       "2   51     Tokyo   21  London    London  136107.134558\n",
       "5   73    London   49  London    London   53576.732712\n",
       "6   77  New York   60  London    London   50368.969524\n",
       "9   36  New York   29  London  New York   69377.042322\n",
       "17  88     Tokyo   35  London  New York  113382.310812\n",
       "21  76  New York   57  London  New York   42381.836842\n",
       "22  76    London   91  London    London   75016.781632\n",
       "25  78    London   35  London  New York   93227.338869\n",
       "26  54  New York   24  London     Tokyo   56438.936472\n",
       "27  87     Tokyo   67  London  New York  131218.488777\n",
       "28  96    London   23  London  New York  145554.089391\n",
       "34  86    London   82  London    London  111682.951635\n",
       "39  95     Tokyo   70  London  New York   49402.398104\n",
       "42  67    London   55  London  New York   81652.665542\n",
       "43  84    London   50  London    London  136247.681104\n",
       "44  33     Tokyo   79  London  New York   75721.308644\n",
       "47  51     Tokyo   22  London     Tokyo  141391.844542\n",
       "51  43     Tokyo   72  London     Tokyo   61699.772418\n",
       "52  45  New York   23  London     Tokyo   62975.582773\n",
       "66  64    London   46  London     Tokyo  147511.544282\n",
       "77  97    London   78  London  New York   31996.521890\n",
       "79  78  New York   34  London  New York  105497.064844\n",
       "81  92  New York   81  London  New York  118356.220697\n",
       "85  64  New York   38  London     Tokyo  117689.008117\n",
       "88  86    London   52  London    London  147553.080056\n",
       "93  23     Tokyo   49  London    London  100175.588545\n",
       "94  51    London   26  London     Tokyo  140903.503999\n",
       "98  48     Tokyo   46  London  New York   33333.144495"
      ]
     },
     "execution_count": 79,
     "metadata": {},
     "output_type": "execute_result"
    }
   ],
   "source": [
    "data[data['City'] == 'London']"
   ]
  },
  {
   "cell_type": "code",
   "execution_count": 80,
   "metadata": {},
   "outputs": [],
   "source": [
    "import re\n",
    "class ArabicNameError(Exception):\n",
    "    def __init__(self, name):\n",
    "        self.name = name\n",
    "    def __str__(self):\n",
    "        return f\"Name {self.name} is not in English\"\n",
    "    \n",
    "\n",
    "def english_to_arabic(name):\n",
    "    if name == \"Ahmed\":\n",
    "        return \"أحمد\"\n",
    "    else:\n",
    "        raise ArabicNameError(name)\n",
    "    "
   ]
  },
  {
   "cell_type": "code",
   "execution_count": 82,
   "metadata": {},
   "outputs": [
    {
     "ename": "ArabicNameError",
     "evalue": "Name أحمد is not in English",
     "output_type": "error",
     "traceback": [
      "\u001b[1;31m---------------------------------------------------------------------------\u001b[0m",
      "\u001b[1;31mArabicNameError\u001b[0m                           Traceback (most recent call last)",
      "Cell \u001b[1;32mIn[82], line 1\u001b[0m\n\u001b[1;32m----> 1\u001b[0m \u001b[43menglish_to_arabic\u001b[49m\u001b[43m(\u001b[49m\u001b[38;5;124;43m\"\u001b[39;49m\u001b[38;5;124;43mأحمد\u001b[39;49m\u001b[38;5;124;43m\"\u001b[39;49m\u001b[43m)\u001b[49m\n",
      "Cell \u001b[1;32mIn[80], line 13\u001b[0m, in \u001b[0;36menglish_to_arabic\u001b[1;34m(name)\u001b[0m\n\u001b[0;32m     11\u001b[0m     \u001b[38;5;28;01mreturn\u001b[39;00m \u001b[38;5;124m\"\u001b[39m\u001b[38;5;124mأحمد\u001b[39m\u001b[38;5;124m\"\u001b[39m\n\u001b[0;32m     12\u001b[0m \u001b[38;5;28;01melse\u001b[39;00m:\n\u001b[1;32m---> 13\u001b[0m     \u001b[38;5;28;01mraise\u001b[39;00m ArabicNameError(name)\n",
      "\u001b[1;31mArabicNameError\u001b[0m: Name أحمد is not in English"
     ]
    }
   ],
   "source": [
    "english_to_arabic(\"أحمد\")"
   ]
  },
  {
   "cell_type": "code",
   "execution_count": 85,
   "metadata": {},
   "outputs": [
    {
     "name": "stdout",
     "output_type": "stream",
     "text": [
      "Name أحمد is not in English\n"
     ]
    }
   ],
   "source": [
    "name = \"أحمد\"\n",
    "try:\n",
    "    arabic_name = english_to_arabic(name)\n",
    "except ArabicNameError as e:\n",
    "    print(e)\n",
    "    arabic_name = english_to_arabic(\"Ahmed\")"
   ]
  },
  {
   "cell_type": "code",
   "execution_count": 86,
   "metadata": {},
   "outputs": [
    {
     "data": {
      "text/plain": [
       "'أحمد'"
      ]
     },
     "execution_count": 86,
     "metadata": {},
     "output_type": "execute_result"
    }
   ],
   "source": [
    "arabic_name"
   ]
  },
  {
   "cell_type": "code",
   "execution_count": null,
   "metadata": {},
   "outputs": [],
   "source": [
    "__sub__ = -\n",
    "__mul__ = *\n",
    "__truediv__ = /\n",
    "__floordiv__ = //\n",
    "__mod__ = %\n",
    "__pow__ = **\n",
    "__add__ = +"
   ]
  },
  {
   "cell_type": "code",
   "execution_count": 107,
   "metadata": {},
   "outputs": [],
   "source": [
    "class person:\n",
    "    def __init__(self, name, age):\n",
    "        self.name = name\n",
    "        self.age = age\n",
    "        self.last_name = None\n",
    "        \n",
    "    def __mul__(self, other):\n",
    "        result = \"\"\n",
    "        for i in range(other):\n",
    "            result += self.name + ' '\n",
    "        return person(result, other)\n",
    "    \n",
    "    @staticmethod\n",
    "    def get_one_with_last_name(name, last_name, age):\n",
    "        p = person(name, age)\n",
    "        p.last_name = last_name\n",
    "        return p"
   ]
  },
  {
   "cell_type": "code",
   "execution_count": 113,
   "metadata": {},
   "outputs": [],
   "source": [
    "mark2 = person.get_one_with_last_name(\"mark\", \"smith\", 30)"
   ]
  },
  {
   "cell_type": "code",
   "execution_count": 111,
   "metadata": {},
   "outputs": [],
   "source": [
    "mark.last_name"
   ]
  },
  {
   "cell_type": "code",
   "execution_count": 114,
   "metadata": {},
   "outputs": [
    {
     "data": {
      "text/plain": [
       "'smith'"
      ]
     },
     "execution_count": 114,
     "metadata": {},
     "output_type": "execute_result"
    }
   ],
   "source": [
    "mark2.last_name"
   ]
  },
  {
   "cell_type": "code",
   "execution_count": null,
   "metadata": {},
   "outputs": [],
   "source": []
  },
  {
   "cell_type": "code",
   "execution_count": null,
   "metadata": {},
   "outputs": [],
   "source": []
  },
  {
   "cell_type": "code",
   "execution_count": null,
   "metadata": {},
   "outputs": [],
   "source": []
  },
  {
   "cell_type": "code",
   "execution_count": 106,
   "metadata": {},
   "outputs": [],
   "source": [
    "p = person(\"Ahmed\", 20)\n",
    "new_p = p * 3\n",
    "# p.name =  \"Ahmed Ahmed Ahmed\""
   ]
  },
  {
   "cell_type": "code",
   "execution_count": 102,
   "metadata": {},
   "outputs": [
    {
     "data": {
      "text/plain": [
       "'Ahmed'"
      ]
     },
     "execution_count": 102,
     "metadata": {},
     "output_type": "execute_result"
    }
   ],
   "source": [
    "p.name"
   ]
  },
  {
   "cell_type": "code",
   "execution_count": 103,
   "metadata": {},
   "outputs": [
    {
     "data": {
      "text/plain": [
       "'Ahmed Ahmed Ahmed '"
      ]
     },
     "execution_count": 103,
     "metadata": {},
     "output_type": "execute_result"
    }
   ],
   "source": [
    "new_p.name"
   ]
  },
  {
   "cell_type": "code",
   "execution_count": 104,
   "metadata": {},
   "outputs": [
    {
     "data": {
      "text/plain": [
       "3"
      ]
     },
     "execution_count": 104,
     "metadata": {},
     "output_type": "execute_result"
    }
   ],
   "source": [
    "new_p.age"
   ]
  },
  {
   "cell_type": "code",
   "execution_count": null,
   "metadata": {},
   "outputs": [],
   "source": []
  },
  {
   "cell_type": "code",
   "execution_count": null,
   "metadata": {},
   "outputs": [],
   "source": [
    "d = data.csv_to_dict('data.csv')\n",
    "print(d.columns(['City', 'ID']))"
   ]
  }
 ],
 "metadata": {
  "kernelspec": {
   "display_name": "base",
   "language": "python",
   "name": "python3"
  },
  "language_info": {
   "codemirror_mode": {
    "name": "ipython",
    "version": 3
   },
   "file_extension": ".py",
   "mimetype": "text/x-python",
   "name": "python",
   "nbconvert_exporter": "python",
   "pygments_lexer": "ipython3",
   "version": "3.10.9"
  }
 },
 "nbformat": 4,
 "nbformat_minor": 2
}
