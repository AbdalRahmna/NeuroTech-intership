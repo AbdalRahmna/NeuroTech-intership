{
 "cells": [
  {
   "cell_type": "code",
   "execution_count": 1,
   "id": "26771aaa-8ff2-4fe5-81c9-7c6c53bb6bd0",
   "metadata": {},
   "outputs": [
    {
     "data": {
      "text/html": [
       "\n",
       "<style>\n",
       "  h2 {\n",
       "    font-size: var(--j3p-content-font-size4);\n",
       "    background-color:#00FF00  ;\n",
       "    color: white;\n",
       "    display: flex;\n",
       "    align-items: center;\n",
       "    justify-content: center;\n",
       "    padding: 10px 41px;\n",
       "    top: 10px;\n",
       "    position: relative;\n",
       "    border-radius: 10px 50px 10px 50px;\n",
       "}\n",
       "\n",
       " img {       /* flex-grow: 1; */\n",
       "            /* flex-shrink: 1; */\n",
       "            border-radius: 100px 70px 150px 70px; \n",
       "            border: 10px solid #eee;\n",
       "            display: flex;\n",
       "            align-items: center;\n",
       "            justify-content: center;\n",
       "            transition: box-shadow 0.3s ease; /* Add a transition for a smooth effect */\n",
       "        }\n",
       "\n",
       "       img:active {\n",
       "          box-shadow: 0 10px 20px rgba(255, 255, 0, 0.5), 0 6px 6px rgba(215, 215, 0, 0.5);\n",
       "        }\n",
       "</style>\n"
      ],
      "text/plain": [
       "<IPython.core.display.HTML object>"
      ]
     },
     "execution_count": 1,
     "metadata": {},
     "output_type": "execute_result"
    }
   ],
   "source": [
    "from IPython.core.display import HTML\n",
    "\n",
    "# Apply styles globally within the notebook\n",
    "\n",
    "HTML('''\n",
    "<style>\n",
    "  h2 {\n",
    "    font-size: var(--j3p-content-font-size4);\n",
    "    background-color:#00FF00  ;\n",
    "    color: white;\n",
    "    display: flex;\n",
    "    align-items: center;\n",
    "    justify-content: center;\n",
    "    padding: 10px 41px;\n",
    "    top: 10px;\n",
    "    position: relative;\n",
    "    border-radius: 10px 50px 10px 50px;\n",
    "}\n",
    "\n",
    " img {       /* flex-grow: 1; */\n",
    "            /* flex-shrink: 1; */\n",
    "            border-radius: 100px 70px 150px 70px; \n",
    "            border: 10px solid #eee;\n",
    "            display: flex;\n",
    "            align-items: center;\n",
    "            justify-content: center;\n",
    "            transition: box-shadow 0.3s ease; /* Add a transition for a smooth effect */\n",
    "        }\n",
    "\n",
    "       img:active {\n",
    "          box-shadow: 0 10px 20px rgba(255, 255, 0, 0.5), 0 6px 6px rgba(215, 215, 0, 0.5);\n",
    "        }\n",
    "</style>\n",
    "''') "
   ]
  },
  {
   "cell_type": "markdown",
   "id": "97580dab-d050-4ec3-98b6-62fe669801c3",
   "metadata": {},
   "source": [
    "## MultiThreading : "
   ]
  },
  {
   "cell_type": "markdown",
   "id": "211e0cd5-4eb8-4ac9-81c2-999ac0c41e7e",
   "metadata": {},
   "source": [
    "-> is a method that use to Make a code run with fastest way :"
   ]
  },
  {
   "cell_type": "code",
   "execution_count": 1,
   "id": "db228886-abeb-4ccb-8fb5-3621782a3ff9",
   "metadata": {},
   "outputs": [],
   "source": [
    "import time "
   ]
  },
  {
   "cell_type": "code",
   "execution_count": 2,
   "id": "c62b5c15-094d-408f-984f-32c04b58ef7f",
   "metadata": {},
   "outputs": [
    {
     "name": "stdout",
     "output_type": "stream",
     "text": [
      "started walking .\n",
      "im walking ..............................\n",
      "Finish the walking \n",
      "i am setting ->>\n",
      "Finishing setting ->>>>>>>>>>>>>>>>>> \n",
      "started sleeping\n",
      "finish sleeping\n"
     ]
    }
   ],
   "source": [
    "def walking ():\n",
    "    print(\"started walking .\")\n",
    "    time.sleep(2)\n",
    "    print(\"im walking ..............................\")\n",
    "    time.sleep(1)\n",
    "    print(\"Finish the walking \")\n",
    "\n",
    "\n",
    "def setting():\n",
    "     print(\"i am setting ->>\")\n",
    "     time.sleep(3)\n",
    "     print(\"Finishing setting ->>>>>>>>>>>>>>>>>> \")\n",
    " \n",
    "\n",
    "def sleeping():\n",
    "    print(\"started sleeping\")\n",
    "    time.sleep(5)\n",
    "    print(\"finish sleeping\")\n",
    "\n",
    "walking()\n",
    "setting()\n",
    "sleeping()"
   ]
  },
  {
   "cell_type": "markdown",
   "id": "41a3f8dd-1f6d-4faa-8113-d8cf69605962",
   "metadata": {},
   "source": [
    "## Make a thread for every function :"
   ]
  },
  {
   "cell_type": "code",
   "execution_count": 3,
   "id": "c5c40a84-f575-4d75-91b2-260f83ea6491",
   "metadata": {},
   "outputs": [
    {
     "name": "stdout",
     "output_type": "stream",
     "text": [
      "started walking .\n",
      "i am setting ->>\n",
      "started sleeping\n"
     ]
    },
    {
     "name": "stdout",
     "output_type": "stream",
     "text": [
      "im walking ..............................\n",
      "Finish the walking \n",
      "Finishing setting ->>>>>>>>>>>>>>>>>> \n",
      "finish sleeping\n"
     ]
    }
   ],
   "source": [
    "import threading \n",
    "\n",
    "f1=threading.Thread(target=walking)\n",
    "f2=threading.Thread(target=setting)\n",
    "f3=threading.Thread(target=sleeping)\n",
    "\n",
    "f1.start()\n",
    "f2.start()\n",
    "f3.start()"
   ]
  },
  {
   "cell_type": "code",
   "execution_count": 4,
   "id": "6faa5ea5-1f0c-4116-b460-47f2fdf34699",
   "metadata": {},
   "outputs": [
    {
     "name": "stdout",
     "output_type": "stream",
     "text": [
      "1 - Copy (6).txt not found\n",
      "1.txt not found\n",
      "1 - Copy.txt not found\n",
      "1 - Copy (5).txt not found\n",
      ".ipynb_checkpoints not found\n",
      "1 - Copy (4).txt not found\n",
      "1 - Copy (3).txt not found\n",
      "1 - Copy (2).txt not found\n"
     ]
    }
   ],
   "source": [
    "import os  \n",
    "try :\n",
    "    files=os.listdir(\"test_folder\")\n",
    "    for file in files :\n",
    "        try :\n",
    "            with open(r\"test_folder/{file}\",\"r\") as f :\n",
    "                print(f.read())\n",
    "        except :\n",
    "            print(f\"{file} not found\")\n",
    "except OSError as e :\n",
    "    print(f\"failed to list content of directory :{e}\")\n",
    "        \n",
    "        "
   ]
  },
  {
   "cell_type": "code",
   "execution_count": 22,
   "id": "b4b38a2e-0495-4a74-b187-3dad77ab3107",
   "metadata": {},
   "outputs": [
    {
     "name": "stdout",
     "output_type": "stream",
     "text": [
      "f1.......\n",
      "f2........\n",
      "f3...........\n",
      "f4...........\n",
      "Execution time 10.00965690612793\n"
     ]
    }
   ],
   "source": [
    "def f1():\n",
    "     time .sleep(1)\n",
    "     print(\"f1.......\")\n",
    "def f2():\n",
    "    time.sleep(2)\n",
    "    print(\"f2........\")\n",
    "def f3():\n",
    "    time.sleep(3)\n",
    "    print(\"f3...........\")\n",
    "def f4():\n",
    "    time.sleep(4)\n",
    "    print(\"f4...........\")\n",
    "start=time.time()\n",
    "f1()\n",
    "f2()\n",
    "f3()\n",
    "f4()\n",
    "end=time.time()\n",
    "print(f\"Execution time {end-start}\")"
   ]
  },
  {
   "cell_type": "code",
   "execution_count": 24,
   "id": "fec709c4-5dc2-4542-9aa2-65c78e71415b",
   "metadata": {},
   "outputs": [
    {
     "name": "stdout",
     "output_type": "stream",
     "text": [
      "f1.......\n",
      "f2........\n",
      "0.0008306503295898438\n"
     ]
    },
    {
     "name": "stdout",
     "output_type": "stream",
     "text": [
      "f3...........\n",
      "f4...........\n"
     ]
    }
   ],
   "source": [
    "start=time.time()\n",
    "th1=threading.Thread(target=f1)\n",
    "th2=threading.Thread(target=f2)\n",
    "th3=threading.Thread(target=f3)\n",
    "th4=threading.Thread(target=f4)\n",
    "\n",
    "th2.start()\n",
    "th1.start()\n",
    "th3.start()\n",
    "th4.start()\n",
    "\n",
    "end=time.time()\n",
    "th1.join() # this mean that main thread cant operate untill run the code  before it\n",
    "th2.join()\n",
    "print(end-start)"
   ]
  },
  {
   "cell_type": "code",
   "execution_count": 2,
   "id": "c7fb12ee-49b9-4fac-9371-e392f150b080",
   "metadata": {},
   "outputs": [
    {
     "ename": "NameError",
     "evalue": "name 'seconds' is not defined",
     "output_type": "error",
     "traceback": [
      "\u001b[0;31m---------------------------------------------------------------------------\u001b[0m",
      "\u001b[0;31mNameError\u001b[0m                                 Traceback (most recent call last)",
      "Cell \u001b[0;32mIn[2], line 17\u001b[0m\n\u001b[1;32m     14\u001b[0m ths\u001b[38;5;241m=\u001b[39m[]\n\u001b[1;32m     15\u001b[0m \u001b[38;5;28;01mfor\u001b[39;00m i \u001b[38;5;129;01min\u001b[39;00m \u001b[38;5;28mrange\u001b[39m(\u001b[38;5;241m5\u001b[39m):\n\u001b[0;32m---> 17\u001b[0m      th\u001b[38;5;241m=\u001b[39mthreading\u001b[38;5;241m.\u001b[39mThread(target\u001b[38;5;241m=\u001b[39mtrain_model,args\u001b[38;5;241m=\u001b[39m(i,\u001b[43mseconds\u001b[49m))\n\u001b[1;32m     18\u001b[0m      th\u001b[38;5;241m.\u001b[39mstart()\n\u001b[1;32m     19\u001b[0m      ths\u001b[38;5;241m.\u001b[39mappend(th)\n",
      "\u001b[0;31mNameError\u001b[0m: name 'seconds' is not defined"
     ]
    }
   ],
   "source": [
    "import random\n",
    "import threading\n",
    "import time\n",
    "\n",
    "def train_model(index,seconds):\n",
    "    seconds=random.randint(1,5)\n",
    "    print(f\"model{index}sarted\")\n",
    "    time.sleep(seconds)\n",
    "    print(f\"model {index} ended after {seconds} secinds\")\n",
    "\n",
    "\n",
    "\n",
    "start=time.time()\n",
    "ths=[]\n",
    "for i in range(5):\n",
    "     \n",
    "     th=threading.Thread(target=train_model,args=(i,seconds))\n",
    "     th.start()\n",
    "     ths.append(th)\n",
    "\n",
    "for i in range(2) :\n",
    "     \n",
    "     print(f\"Waiting for thread {i} to finish\")\n",
    "     ths[i].join()     \n",
    "\n",
    "print(\"Training is done\")\n",
    "end=time.time()\n",
    "print(f\"Execution time => {end-start} seconds\")     "
   ]
  },
  {
   "cell_type": "code",
   "execution_count": 25,
   "id": "0621bb9d-80c4-40b4-abf8-a15ff3246066",
   "metadata": {},
   "outputs": [
    {
     "ename": "NameError",
     "evalue": "name 'print_file' is not defined",
     "output_type": "error",
     "traceback": [
      "\u001b[0;31m---------------------------------------------------------------------------\u001b[0m",
      "\u001b[0;31mNameError\u001b[0m                                 Traceback (most recent call last)",
      "Cell \u001b[0;32mIn[25], line 6\u001b[0m\n\u001b[1;32m      4\u001b[0m counter \u001b[38;5;241m=\u001b[39m\u001b[38;5;241m1\u001b[39m\n\u001b[1;32m      5\u001b[0m \u001b[38;5;28;01mfor\u001b[39;00m d \u001b[38;5;129;01min\u001b[39;00m dirs :\n\u001b[0;32m----> 6\u001b[0m     th\u001b[38;5;241m=\u001b[39mthreading\u001b[38;5;241m.\u001b[39mThread(target\u001b[38;5;241m=\u001b[39m\u001b[43mprint_file\u001b[49m,args\u001b[38;5;241m=\u001b[39m(counter,\u001b[38;5;124mf\u001b[39m\u001b[38;5;124m\"\u001b[39m\u001b[38;5;124mtest_folder/\u001b[39m\u001b[38;5;132;01m{\u001b[39;00md\u001b[38;5;132;01m}\u001b[39;00m\u001b[38;5;124m\"\u001b[39m))\n\u001b[1;32m      8\u001b[0m     th\u001b[38;5;241m.\u001b[39mstart()\n\u001b[1;32m      9\u001b[0m     ths\u001b[38;5;241m.\u001b[39mappend(th)\n",
      "\u001b[0;31mNameError\u001b[0m: name 'print_file' is not defined"
     ]
    }
   ],
   "source": [
    "import os \n",
    "ths=[]\n",
    "dirs=os.listdir(\"test_folder\")\n",
    "counter =1\n",
    "for d in dirs :\n",
    "    th=threading.Thread(target=print_file,args=(counter,f\"test_folder/{d}\"))\n",
    "    \n",
    "    th.start()\n",
    "    ths.append(th)\n",
    "    counter+=1\n",
    "for i in ths:\n",
    "    th.join()\n",
    "\n",
    "print(\"All the files are processed\")\n",
    "       "
   ]
  },
  {
   "cell_type": "code",
   "execution_count": 28,
   "id": "817f15fa",
   "metadata": {},
   "outputs": [
    {
     "name": "stdout",
     "output_type": "stream",
     "text": [
      "Execution_time:0.00016355514526367188seconds\n"
     ]
    }
   ],
   "source": [
    "start=time.time()\n",
    "for i in range(1000):\n",
    "    pass\n",
    "end=time.time()\n",
    "print(f\"Execution_time:{end-start}seconds\")"
   ]
  },
  {
   "cell_type": "code",
   "execution_count": 33,
   "id": "7676ff01",
   "metadata": {},
   "outputs": [
    {
     "data": {
      "text/plain": [
       "['1 - Copy (6).txt',\n",
       " '1.txt',\n",
       " '1 - Copy.txt',\n",
       " '1 - Copy (5).txt',\n",
       " '.ipynb_checkpoints',\n",
       " '1 - Copy (4).txt',\n",
       " '1 - Copy (3).txt',\n",
       " '1 - Copy (2).txt']"
      ]
     },
     "execution_count": 33,
     "metadata": {},
     "output_type": "execute_result"
    }
   ],
   "source": [
    "os.listdir(\"test_folder\")"
   ]
  },
  {
   "cell_type": "code",
   "execution_count": null,
   "id": "db03892a",
   "metadata": {},
   "outputs": [],
   "source": []
  }
 ],
 "metadata": {
  "kernelspec": {
   "display_name": "Python 3 (ipykernel)",
   "language": "python",
   "name": "python3"
  },
  "language_info": {
   "codemirror_mode": {
    "name": "ipython",
    "version": 3
   },
   "file_extension": ".py",
   "mimetype": "text/x-python",
   "name": "python",
   "nbconvert_exporter": "python",
   "pygments_lexer": "ipython3",
   "version": "3.8.10"
  }
 },
 "nbformat": 4,
 "nbformat_minor": 5
}
